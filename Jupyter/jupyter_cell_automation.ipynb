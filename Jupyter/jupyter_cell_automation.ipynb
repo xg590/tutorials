{
 "cells": [
  {
   "cell_type": "code",
   "execution_count": null,
   "metadata": {},
   "outputs": [],
   "source": [
    "'''\n",
    "1. Set up a bar function to execute cells below setInterval()\n",
    "2. Set up a timer setInterval() and put its reference in an array.\n",
    "3. Why array? In case several timers are set accidentally\n",
    "4. We have to clean all of them. \n",
    "'''\n",
    "from IPython.core.display import HTML \n",
    "import datetime, time \n",
    "HTML('''\n",
    "<script> \n",
    "    foo = require('base/js/namespace')\n",
    "    function bar() {  \n",
    "      foo.actions.call('jupyter-notebook:interrupt-kernel'); \n",
    "      foo.actions.call('jupyter-notebook:run-all-cells-below'); \n",
    "    } \n",
    "    var timers = []\n",
    "</script>\n",
    "''')"
   ]
  },
  {
   "cell_type": "code",
   "execution_count": null,
   "metadata": {},
   "outputs": [],
   "source": [
    "# Run this cell to clean all timers\n",
    "HTML('''\n",
    "<script>   \n",
    "    for (var i = 0; i < timers.length; i++) {\n",
    "        clearInterval(timers[i])\n",
    "    } \n",
    "    timers.splice(0, timers.length)\n",
    "</script>\n",
    "''')"
   ]
  },
  {
   "cell_type": "code",
   "execution_count": null,
   "metadata": {},
   "outputs": [],
   "source": [
    "# Run this cell to set up a timer\n",
    "HTML('''\n",
    "<script>   \n",
    "    timers.push(setInterval(bar, 6000)) \n",
    "</script>\n",
    "''')"
   ]
  },
  {
   "cell_type": "code",
   "execution_count": null,
   "metadata": {},
   "outputs": [],
   "source": [
    "# This cell is behind the timer cell. It is run periodically.\n",
    "print(datetime.datetime.now().strftime('%m/%Y/%d %H:%M:%S')) "
   ]
  }
 ],
 "metadata": {
  "kernelspec": {
   "display_name": "Python 3",
   "language": "python",
   "name": "python3"
  },
  "language_info": {
   "codemirror_mode": {
    "name": "ipython",
    "version": 3
   },
   "file_extension": ".py",
   "mimetype": "text/x-python",
   "name": "python",
   "nbconvert_exporter": "python",
   "pygments_lexer": "ipython3",
   "version": "3.8.5"
  }
 },
 "nbformat": 4,
 "nbformat_minor": 4
}
