{
 "cells": [
  {
   "cell_type": "code",
   "execution_count": null,
   "id": "9209015f",
   "metadata": {
    "ExecuteTime": {
     "end_time": "2023-12-13T22:57:05.907101Z",
     "start_time": "2023-12-13T22:57:05.752939Z"
    }
   },
   "outputs": [],
   "source": [
    "# pip install openpyxl rdkit\n",
    "import pandas \n",
    "from rdkit import Chem \n",
    "from rdkit.Chem import PandasTools \n",
    "PandasTools.RenderImagesInAllDataFrames(images=True) \n",
    "pandas.set_option('display.max_columns', None)\n",
    "pandas.set_option('display.max_rows', None)"
   ]
  },
  {
   "cell_type": "code",
   "execution_count": null,
   "id": "b3157ed2",
   "metadata": {
    "ExecuteTime": {
     "end_time": "2023-12-13T22:57:05.910969Z",
     "start_time": "2023-12-13T22:57:05.908098Z"
    }
   },
   "outputs": [],
   "source": [
    "Bi_ = Chem.MolFromSmarts('[Bi]')\n",
    "Pb_ = Chem.MolFromSmarts('[Pb]')\n",
    "Rh_ = Chem.MolFromSmarts('[Rh]')\n",
    "\n",
    "def getSubstrate(row): \n",
    "    Core_ = Chem.MolFromSmiles('[Pb]=[Bi]')\n",
    "    \n",
    "    FG_ = row['FG in substrate']\n",
    "    Core_ = Chem.ReplaceSubstructs(FG_, Rh_, Core_, \n",
    "                replacementConnectionPoint=Core_.GetSubstructMatch(Bi_)[0])[0]\n",
    "    \n",
    "    RL_ = row['RL']\n",
    "    Core_ = Chem.ReplaceSubstructs(RL_, Rh_, Core_, \n",
    "                replacementConnectionPoint=Core_.GetSubstructMatch(Pb_)[0])[0]\n",
    "    \n",
    "    RS_ = row['RS'] \n",
    "    Core_ = Chem.ReplaceSubstructs(RS_, Rh_, Core_, \n",
    "                replacementConnectionPoint=Core_.GetSubstructMatch(Pb_)[0])[0] \n",
    "    \n",
    "    Core_ = Chem.ReplaceSubstructs(Core_, Chem.MolFromSmarts('[Pb]'), Chem.MolFromSmiles('C'))[0]\n",
    "    Core_ = Chem.ReplaceSubstructs(Core_, Chem.MolFromSmarts('[Bi]'), Chem.MolFromSmiles('N'))[0]\n",
    "    \n",
    "    return Chem.RemoveAllHs(Core_)"
   ]
  },
  {
   "cell_type": "code",
   "execution_count": null,
   "id": "586af69d",
   "metadata": {
    "ExecuteTime": {
     "end_time": "2023-12-13T22:57:07.966743Z",
     "start_time": "2023-12-13T22:57:05.911495Z"
    },
    "scrolled": false
   },
   "outputs": [],
   "source": [
    "df = pandas.read_excel('LiuQ_20231130.xlsx', skiprows=1) \n",
    "df['FG in substrate'] = df.apply(lambda x: Chem.MolFromSmiles(x['SMILES 1']), axis=1)  \n",
    "df['RL'             ] = df.apply(lambda x: Chem.MolFromSmiles(x['SMILES 2']), axis=1)\n",
    "df['RS'             ] = df.apply(lambda x: Chem.MolFromSmiles(x['SMILES 3']), axis=1)\n",
    "df['catalyst'       ] = df.apply(lambda x: Chem.MolFromSmiles(x['SMILES 4']), axis=1)\n",
    "df['Ar'             ] = df.apply(lambda x: Chem.MolFromSmiles(x['SMILES 5']), axis=1)\n",
    "df['base cation'    ] = df.apply(lambda x: Chem.MolFromSmiles(x['SMILES 6']), axis=1)\n",
    "df['base anion'     ] = df.apply(lambda x: Chem.MolFromSmiles(x['SMILES 7']), axis=1)\n",
    "df['solvent 1 '     ] = df.apply(lambda x: Chem.MolFromSmiles(x['SMILES 8']), axis=1)\n",
    "df['substrate'      ] = df.apply(getSubstrate, axis=1)\n",
    "\n",
    "df.head(1)\n",
    "df[ ['FG in substrate','RL' ,'RS' ,'substrate' ] ]"
   ]
  },
  {
   "cell_type": "code",
   "execution_count": null,
   "id": "08b7fac2",
   "metadata": {
    "ExecuteTime": {
     "end_time": "2023-12-13T22:57:07.969033Z",
     "start_time": "2023-12-13T22:57:07.967537Z"
    }
   },
   "outputs": [],
   "source": [
    "# df[ ['FG in substrate','RL' ,'RS' ,'catalyst' ,'Ar' ,'base cation' ,'base anion' ,'solvent 1 ' ] ]"
   ]
  }
 ],
 "metadata": {
  "kernelspec": {
   "display_name": "Python 3 (ipykernel)",
   "language": "python",
   "name": "python3"
  },
  "language_info": {
   "codemirror_mode": {
    "name": "ipython",
    "version": 3
   },
   "file_extension": ".py",
   "mimetype": "text/x-python",
   "name": "python",
   "nbconvert_exporter": "python",
   "pygments_lexer": "ipython3",
   "version": "3.10.12"
  }
 },
 "nbformat": 4,
 "nbformat_minor": 5
}
