{
 "cells": [
  {
   "cell_type": "code",
   "execution_count": 1,
   "id": "special-precipitation",
   "metadata": {
    "ExecuteTime": {
     "end_time": "2022-10-03T03:55:57.863480Z",
     "start_time": "2022-10-03T03:55:57.430380Z"
    }
   },
   "outputs": [
    {
     "name": "stdout",
     "output_type": "stream",
     "text": [
      "/tmp/xg590/font/ARIALN.TTF\n",
      "/tmp/xg590/font/ARIALNB.TTF\n",
      "/tmp/xg590/font/ARIALNBI.TTF\n",
      "/tmp/xg590/font/ARIALNI.TTF\n",
      "/tmp/xg590/font/arial.ttf\n",
      "/tmp/xg590/font/arialbd.ttf\n",
      "/tmp/xg590/font/arialbi.ttf\n",
      "/tmp/xg590/font/ariali.ttf\n",
      "/tmp/xg590/font/ariblk.ttf\n",
      "/tmp/xg590/font/cour.ttf\n",
      "/tmp/xg590/font/courbd.ttf\n",
      "/tmp/xg590/font/courbi.ttf\n",
      "/tmp/xg590/font/couri.ttf\n",
      "/tmp/xg590/font/times.ttf\n",
      "/tmp/xg590/font/timesbd.ttf\n",
      "/tmp/xg590/font/timesbi.ttf\n",
      "/tmp/xg590/font/timesi.ttf\n"
     ]
    },
    {
     "data": {
      "text/plain": [
       "{'Arial', 'Courier New', 'Times New Roman'}"
      ]
     },
     "execution_count": 1,
     "metadata": {},
     "output_type": "execute_result"
    }
   ],
   "source": [
    "import matplotlib.pyplot as plt, numpy as np\n",
    "from matplotlib import font_manager \n",
    "\n",
    "old_font = set([f.name for f in font_manager.fontManager.ttflist])\n",
    "\n",
    "font_files = font_manager.findSystemFonts(fontpaths=['font/'])\n",
    "[print(i) for i in sorted(font_files)]\n",
    "\n",
    "for font_file in font_files:    \n",
    "    font_manager.fontManager.addfont(font_file)\n",
    "\n",
    "new_font = set([f.name for f in font_manager.fontManager.ttflist])\n",
    "\n",
    "new_font.difference(old_font)"
   ]
  },
  {
   "cell_type": "code",
   "execution_count": 2,
   "id": "legal-variety",
   "metadata": {
    "ExecuteTime": {
     "end_time": "2022-10-03T03:55:57.951630Z",
     "start_time": "2022-10-03T03:55:57.866320Z"
    }
   },
   "outputs": [
    {
     "data": {
      "image/png": "[encoded data removed]",
      "text/plain": [
       "<Figure size 216x144 with 1 Axes>"
      ]
     },
     "metadata": {
      "needs_background": "light"
     },
     "output_type": "display_data"
    }
   ],
   "source": [
    "fig = plt.figure(figsize=(3,2), layout=\"constrained\") \n",
    "ax1 = fig.add_subplot(111)  \n",
    "ax1.set_title(\"Time New Roman\", fontdict={'fontsize': 24, 'fontweight': 'medium','family':\"Times New Roman\"}) \n",
    "plt.show()"
   ]
  }
 ],
 "metadata": {
  "kernelspec": {
   "display_name": "Python 3",
   "language": "python",
   "name": "python3"
  },
  "language_info": {
   "codemirror_mode": {
    "name": "ipython",
    "version": 3
   },
   "file_extension": ".py",
   "mimetype": "text/x-python",
   "name": "python",
   "nbconvert_exporter": "python",
   "pygments_lexer": "ipython3",
   "version": "3.7.10"
  }
 },
 "nbformat": 4,
 "nbformat_minor": 5
}
