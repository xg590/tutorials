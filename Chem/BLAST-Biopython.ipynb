{
 "cells": [
  {
   "cell_type": "code",
   "execution_count": 1,
   "metadata": {
    "ExecuteTime": {
     "end_time": "2021-04-30T08:04:34.439352Z",
     "start_time": "2021-04-30T08:04:34.426441Z"
    }
   },
   "outputs": [],
   "source": [
    "from IPython.display import clear_output"
   ]
  },
  {
   "cell_type": "markdown",
   "metadata": {},
   "source": [
    "### Preparation\n",
    "1. Prepare the sequence database in fasta format and put it in an empty folder\n",
    "2. Go to FTP server of NCBI BLAST+ program @ https://ftp.ncbi.nlm.nih.gov/blast/executables/blast+/LATEST/\n",
    "3. Download and unzip ncbi-blast-2.11.0+-x64-linux.tar.gz\n",
    "4. Install Biopython, Flask, "
   ]
  },
  {
   "cell_type": "markdown",
   "metadata": {},
   "source": [
    "##### What is in sequence database"
   ]
  },
  {
   "cell_type": "code",
   "execution_count": 2,
   "metadata": {
    "ExecuteTime": {
     "end_time": "2021-04-30T08:04:34.467825Z",
     "start_time": "2021-04-30T08:04:34.453836Z"
    }
   },
   "outputs": [],
   "source": [
    "_='''\n",
    ">sp|P31947|1433S_HUMAN 14-3-3 protein sigma OS=Homo sapiens OX=9606 GN=SFN PE=1 SV=1 \n",
    "MERASLIQKAKLAEQAERYEDMAAFMKGAVEKGEELSCEERNLLSVAYKNVVGGQRAAWR\n",
    "VLSSIEQKSNEEGSEEKGPEVREYREKVETELQGVCDTVLGLLDSHLIKEAGDAESRVFY \n",
    "LKMKGDYYRYLAEVATGDDKKRIIDSARSAYQEAMDISKKEMPPTNPIRLGLALNFSVFH \n",
    "YEIANSPEEAISLAKTTFDEAMADLHTLSEDSYKDSTLIMQLLRDNLTLWTADNAGEEGG \n",
    "EAPQEPQS \n",
    ">sp|P63104|1433Z_HUMAN 14-3-3 protein zeta/delta OS=Homo sapiens OX=9606 GN=YWHAZ PE=1 SV=1 \n",
    "MDKNELVQKAKLAEQAERYDDMAACMKSVTEQGAELSNEERNLLSVAYKNVVGARRSSWR \n",
    "VVSSIEQKTEGAEKKQQMAREYREKIETELRDICNDVLSLLEKFLIPNASQAESKVFYLK \n",
    "MKGDYYRYLAEVAAGDDKKGIVDQSQQAYQEAFEISKKEMQPTHPIRLGLALNFSVFYYE \n",
    "ILNSPEKACSLAKTAFDEAIAELDTLSEESYKDSTLIMQLLRDNLTLWTSDTQGDEAEAG \n",
    "EGGEN\n",
    "'''"
   ]
  },
  {
   "cell_type": "code",
   "execution_count": 3,
   "metadata": {
    "ExecuteTime": {
     "end_time": "2021-04-30T08:04:51.869878Z",
     "start_time": "2021-04-30T08:04:34.476220Z"
    }
   },
   "outputs": [],
   "source": [
    "!mkdir /tmp/myblastdb\n",
    "!wget http://127.0.0.1/software/pdbcov.fasta -O /tmp/myblastdb/pdbcov.fasta \n",
    "!wget http://127.0.0.1/software/ncbi-blast-2.11.0+-x64-linux.tar.gz\n",
    "!tar zxvf ncbi-blast-2.11.0+-x64-linux.tar.gz -C /tmp\n",
    "!pip3 install Bio flask flask_cors\n",
    "clear_output()"
   ]
  },
  {
   "cell_type": "markdown",
   "metadata": {},
   "source": [
    "### Build the blast database"
   ]
  },
  {
   "cell_type": "code",
   "execution_count": 4,
   "metadata": {
    "ExecuteTime": {
     "end_time": "2021-04-30T08:04:52.428438Z",
     "start_time": "2021-04-30T08:04:51.881971Z"
    }
   },
   "outputs": [
    {
     "name": "stdout",
     "output_type": "stream",
     "text": [
      "\n",
      "\n",
      "Building a new DB, current time: 04/30/2021 04:04:52\n",
      "New DB name:   /tmp/myblastdb/mydbname\n",
      "New DB title:  mydbtitle\n",
      "Sequence type: Protein\n",
      "Deleted existing Protein BLAST database named /tmp/myblastdb/mydbname\n",
      "Keep MBits: T\n",
      "Maximum file size: 1000000000B\n",
      "Adding sequences from FASTA; added 912 sequences in 0.0955598 seconds.\n",
      "\n",
      "\n",
      "\n"
     ]
    }
   ],
   "source": [
    "from Bio.Blast.Applications import * # https://biopython.org/docs/1.75/api/Bio.Blast.Applications.html\n",
    "\n",
    "print(NcbimakeblastdbCommandline(cmd='/tmp/ncbi-blast-2.11.0+/bin/makeblastdb',\n",
    "                                 input_file='/tmp/myblastdb/pdbcov.fasta',\n",
    "                                 out='mydbname',\n",
    "                                 parse_seqids=True,\n",
    "                                 title='mydbtitle',\n",
    "                                 dbtype=\"prot\")(cwd='/tmp/myblastdb')[0])"
   ]
  },
  {
   "cell_type": "markdown",
   "metadata": {},
   "source": [
    "### Run a test BLAST"
   ]
  },
  {
   "cell_type": "code",
   "execution_count": 5,
   "metadata": {
    "ExecuteTime": {
     "end_time": "2021-04-30T08:04:52.457932Z",
     "start_time": "2021-04-30T08:04:52.442841Z"
    }
   },
   "outputs": [],
   "source": [
    "blastp = NcbiblastpCommandline(cmd='/tmp/ncbi-blast-2.11.0+/bin/blastp',\n",
    "                               db=\"/tmp/myblastdb/mydbname\", \n",
    "                               evalue=0.001,\n",
    "                               word_size=3,\n",
    "                               matrix='BLOSUM62',\n",
    "                               threshold=11,\n",
    "                               outfmt=5) # see Table C3 @ https://www.ncbi.nlm.nih.gov/books/NBK279684/ "
   ]
  },
  {
   "cell_type": "code",
   "execution_count": 6,
   "metadata": {
    "ExecuteTime": {
     "end_time": "2021-04-30T08:04:52.960587Z",
     "start_time": "2021-04-30T08:04:52.473285Z"
    },
    "scrolled": false
   },
   "outputs": [],
   "source": [
    "query_seq = '''>Name\n",
    "ADLPAPDDTGLQAVLHTALSQGAPGAMVRVDDNGTIHQLSEGVADRATGRAITTTDRFRVGSVTKSFSAV\n",
    "VLLQLVDEGKLDLDASVNTYLPGLLPDDRITVRQVMSHRSGLYDYTNDMFAQTVPGFESVRNKVFSYQDL\n",
    "ITLSLKHGVTNAPGAAYSYSNTNFVVAGMLIEKLTGHSVATEYQNRIFTPLNLTDTFYVHPDTVIPGTHA\n",
    "NGYLTPDEAGGALVDSTEQTVSWAQSAGAVISSTQDLDTFFSALMSGQLMSAAQLAQMQQWTTVNSTQGY\n",
    "GLGLRRRDLSCGISVYGHTGTVQGYYTYAFASKDGKRSVTALANTSNNVNVLNTMARTLESAFCGKPTT\n",
    "'''\n",
    "stdout, stderr = blastp(stdin=query_seq) "
   ]
  },
  {
   "cell_type": "markdown",
   "metadata": {},
   "source": [
    "### Analysis"
   ]
  },
  {
   "cell_type": "code",
   "execution_count": 7,
   "metadata": {
    "ExecuteTime": {
     "end_time": "2021-04-30T08:04:53.523040Z",
     "start_time": "2021-04-30T08:04:52.968044Z"
    }
   },
   "outputs": [
    {
     "name": "stdout",
     "output_type": "stream",
     "text": [
      "****Alignment****\n",
      "seq title: sp|P15555|DAC_STRSR...\n",
      "sim-score: 1856.0\n",
      "e-value: 0.0\n",
      "ADLPAPDDTGLQAVLHTALSQGAPGAMVRVDDNGTIHQLSEGVADRATGRAITTTDRFRVGSVTKSFSAVVLLQL...\n",
      "ADLPAPDDTGLQAVLHTALSQGAPGAMVRVDDNGTIHQLSEGVADRATGRAITTTDRFRVGSVTKSFSAVVLLQL...\n",
      "ADLPAPDDTGLQAVLHTALSQGAPGAMVRVDDNGTIHQLSEGVADRATGRAITTTDRFRVGSVTKSFSAVVLLQL...\n",
      "*****************\n",
      "\n",
      "\n",
      "\n",
      "****Alignment****\n",
      "seq title: tr|K4HQE7|K4HQE7_9B...\n",
      "sim-score: 168.0\n",
      "e-value: 2.34784e-14\n",
      "PGAMVRVDDNG-TIHQLSEGVADRATGRAITTTDRFRVGSVTKSFSAVVLLQLVDEGKLDLDASVNTYLPGLL--...\n",
      "PGA++ +  NG T +  S G+ D  T   +T    FR+ S++K  + V  + LV+EGKL LD  V+ Y+P     ...\n",
      "PGAVMMIKRNGETAYFSSFGLRDPDTKEPMTAETIFRIYSMSKPITTVAAMMLVEEGKLQLDEPVSKYIPSFANV...\n",
      "*****************\n",
      "\n",
      "\n",
      "\n"
     ]
    }
   ],
   "source": [
    "import io\n",
    "from Bio.Blast import NCBIXML \n",
    "blast_record = NCBIXML.read(io.StringIO(stdout)) # https://biopython.org/docs/1.75/api/Bio.Blast.NCBIXML.html\n",
    "\n",
    "E_VALUE_THRESH = 5e-14\n",
    "for alignment in blast_record.alignments:\n",
    "    for hsp in alignment.hsps:\n",
    "        if hsp.expect < E_VALUE_THRESH:\n",
    "            print(\"****Alignment****\")\n",
    "            print(\"seq title:\", alignment.title[:19] + \"...\") \n",
    "            print(\"sim-score:\", hsp.score)\n",
    "            print(\"e-value:\", hsp.expect)\n",
    "            print(hsp.query[0:75] + \"...\")\n",
    "            print(hsp.match[0:75] + \"...\")\n",
    "            print(hsp.sbjct[0:75] + \"...\") \n",
    "            print(\"*****************\\n\\n\\n\")"
   ]
  }
 ],
 "metadata": {
  "kernelspec": {
   "display_name": "Python 3",
   "language": "python",
   "name": "python3"
  },
  "language_info": {
   "codemirror_mode": {
    "name": "ipython",
    "version": 3
   },
   "file_extension": ".py",
   "mimetype": "text/x-python",
   "name": "python",
   "nbconvert_exporter": "python",
   "pygments_lexer": "ipython3",
   "version": "3.8.5"
  }
 },
 "nbformat": 4,
 "nbformat_minor": 4
}
