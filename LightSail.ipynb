{
 "cells": [
  {
   "cell_type": "code",
   "execution_count": null,
   "metadata": {},
   "outputs": [],
   "source": [
    "# pip install boto3\n",
    "import boto3, time # see https://boto3.amazonaws.com/v1/documentation/api/latest/reference/services/lightsail.html "
   ]
  },
  {
   "cell_type": "markdown",
   "metadata": {},
   "source": [
    "# You input is necessary"
   ]
  },
  {
   "cell_type": "markdown",
   "metadata": {},
   "source": [
    "* Choose region_name\n",
    "* paste aws id, aws key and domainName\n",
    "* Change domain registration according to the name servers listed in the end"
   ]
  },
  {
   "cell_type": "code",
   "execution_count": null,
   "metadata": {},
   "outputs": [],
   "source": [
    "region_name='us-east-1' \n",
    "# us-east-2 @ Ohio\n",
    "# us-east-1 @ N. Virginia\n",
    "# us-west-2 @ Oregon\n",
    "# ap-south-1 @ Mumbai\n",
    "# ap-northeast-2 @ Seoul\n",
    "# ap-southeast-1 @ Singapore\n",
    "# ap-southeast-2 @ Sydney\n",
    "# ap-northeast-1 @ Tokyo\n",
    "# ca-central-1 @ Central\n",
    "# eu-central-1 @ Frankfurt\n",
    "# eu-west-1 @ Ireland\n",
    "# eu-west-2 @ London\n",
    "# eu-west-3 @ Paris"
   ]
  },
  {
   "cell_type": "code",
   "execution_count": null,
   "metadata": {},
   "outputs": [],
   "source": [
    "##### Learn how to get these info\n",
    "##### https://docs.aws.amazon.com/powershell/latest/userguide/pstools-appendix-sign-up.html\n",
    "aws_access_key_id='AKIAMMLKFNWRZDLRJ' \n",
    "aws_secret_access_key='97i8FNOUEIBw3b1/VEUb9w31/014rQ3egBJN' "
   ]
  },
  {
   "cell_type": "code",
   "execution_count": null,
   "metadata": {},
   "outputs": [],
   "source": [
    "domainName = 'your.domain.name'"
   ]
  },
  {
   "cell_type": "markdown",
   "metadata": {},
   "source": [
    "# Operations"
   ]
  },
  {
   "cell_type": "markdown",
   "metadata": {},
   "source": [
    "### Setup Client for the region of N. Virginia"
   ]
  },
  {
   "cell_type": "code",
   "execution_count": null,
   "metadata": {},
   "outputs": [],
   "source": [
    "client = boto3.client('lightsail', region_name=region_name, use_ssl=True, \n",
    "                      aws_access_key_id=aws_access_key_id, \n",
    "                      aws_secret_access_key=aws_secret_access_key)"
   ]
  },
  {
   "cell_type": "markdown",
   "metadata": {},
   "source": [
    "### Create Instance in N. Virginia"
   ]
  },
  {
   "cell_type": "code",
   "execution_count": null,
   "metadata": {},
   "outputs": [],
   "source": [
    "response = client.create_instances(\n",
    "    instanceNames=['created_from_python',],\n",
    "    availabilityZone=region_name+'a',\n",
    "    blueprintId='ubuntu_18_04',\n",
    "    bundleId='nano_2_0', #  micro_2_0\n",
    "    userData='echo \"success\">/home/ubuntu/test.log', # Initialization shellscript\n",
    ") \n",
    "\n",
    "while 1:\n",
    "    response = client.get_instance_state(instanceName='created_from_python')\n",
    "    if response['state']['name'] == 'running': \n",
    "        print('New Instance is ready~')\n",
    "        break\n",
    "    time.sleep(5)"
   ]
  },
  {
   "cell_type": "markdown",
   "metadata": {},
   "source": [
    "### Allocate static ip"
   ]
  },
  {
   "cell_type": "code",
   "execution_count": null,
   "metadata": {},
   "outputs": [],
   "source": [
    "response = client.allocate_static_ip(staticIpName='static_ip_from_python')"
   ]
  },
  {
   "cell_type": "markdown",
   "metadata": {},
   "source": [
    "### Attach static ip to instance"
   ]
  },
  {
   "cell_type": "code",
   "execution_count": null,
   "metadata": {},
   "outputs": [],
   "source": [
    "response = client.attach_static_ip(\n",
    "    staticIpName='static_ip_from_python',\n",
    "    instanceName='created_from_python'\n",
    ")"
   ]
  },
  {
   "cell_type": "markdown",
   "metadata": {},
   "source": [
    "##### Get Static ip"
   ]
  },
  {
   "cell_type": "code",
   "execution_count": null,
   "metadata": {},
   "outputs": [],
   "source": [
    "response = client.get_static_ip(\n",
    "    staticIpName = 'static_ip_from_python'\n",
    ")\n",
    "static_ip = response['staticIp']['ipAddress']\n",
    "print(static_ip)"
   ]
  },
  {
   "cell_type": "markdown",
   "metadata": {},
   "source": [
    "### Open port on Firewall "
   ]
  },
  {
   "cell_type": "code",
   "execution_count": null,
   "metadata": {},
   "outputs": [],
   "source": [
    "response = client.open_instance_public_ports(\n",
    "    portInfo={\n",
    "        'fromPort': 443,\n",
    "        'toPort': 443,\n",
    "        'protocol': 'tcp',\n",
    "        'cidrs': [ \"0.0.0.0/0\", ],\n",
    "    },\n",
    "    instanceName='created_from_python'\n",
    ")"
   ]
  },
  {
   "cell_type": "markdown",
   "metadata": {},
   "source": [
    "##### Get 'A' DNS record"
   ]
  },
  {
   "cell_type": "code",
   "execution_count": null,
   "metadata": {},
   "outputs": [],
   "source": [
    "A_id = [i['id'] for i in client.get_domain( domainName=domainName)['domain']['domainEntries'] if i['type'] == 'A'][0]"
   ]
  },
  {
   "cell_type": "markdown",
   "metadata": {},
   "source": [
    "### Change DNS recordset"
   ]
  },
  {
   "cell_type": "code",
   "execution_count": null,
   "metadata": {},
   "outputs": [],
   "source": [
    "response = client.update_domain_entry(\n",
    "    domainName=domainName,\n",
    "    domainEntry={\n",
    "        'id': A_id,\n",
    "        'name': domainName,\n",
    "        'target': static_ip, \n",
    "        'type': 'A', \n",
    "    }\n",
    ")"
   ]
  },
  {
   "cell_type": "markdown",
   "metadata": {},
   "source": [
    "### Delete Instance"
   ]
  },
  {
   "cell_type": "code",
   "execution_count": null,
   "metadata": {},
   "outputs": [],
   "source": [
    "response = client.delete_instance(\n",
    "    instanceName='created_from_python', \n",
    ")"
   ]
  },
  {
   "cell_type": "markdown",
   "metadata": {},
   "source": [
    "### Delete static ip"
   ]
  },
  {
   "cell_type": "code",
   "execution_count": null,
   "metadata": {},
   "outputs": [],
   "source": [
    "response = client.release_static_ip(\n",
    "    staticIpName='static_ip_from_python'\n",
    ")"
   ]
  },
  {
   "cell_type": "markdown",
   "metadata": {},
   "source": [
    "### Create attachable disk"
   ]
  },
  {
   "cell_type": "code",
   "execution_count": null,
   "metadata": {},
   "outputs": [],
   "source": [
    "response = client.create_disk(\n",
    "    diskName='create_disk_from_python',\n",
    "    availabilityZone=region_name+'a',\n",
    "    sizeInGb=8, \n",
    ")"
   ]
  },
  {
   "cell_type": "markdown",
   "metadata": {},
   "source": [
    "### Attach it"
   ]
  },
  {
   "cell_type": "code",
   "execution_count": null,
   "metadata": {},
   "outputs": [],
   "source": [
    "response = client.attach_disk(\n",
    "    diskName='create_disk_from_python',\n",
    "    instanceName='created_from_python',\n",
    "    diskPath='/dev/xvdx'\n",
    ")"
   ]
  },
  {
   "cell_type": "markdown",
   "metadata": {},
   "source": [
    "### Partition and Formatting"
   ]
  },
  {
   "cell_type": "code",
   "execution_count": null,
   "metadata": {},
   "outputs": [],
   "source": [
    "sudo parted /dev/xvdx mklabel gpt mkpart part_label_1 ext4 1MiB 7.99GiB\n",
    "sudo mkfs.ext4 /dev/xvdx1"
   ]
  },
  {
   "cell_type": "markdown",
   "metadata": {},
   "source": [
    "### Start instance"
   ]
  },
  {
   "cell_type": "code",
   "execution_count": null,
   "metadata": {},
   "outputs": [],
   "source": [
    "response = client.start_instance(\n",
    "    instanceName='created_from_python'\n",
    ")\n",
    "\n",
    "while 1:\n",
    "    response = client.get_instance_state(instanceName='created_from_python')\n",
    "    if response['state']['name'] == 'running': \n",
    "        print('New Instance is ready~')\n",
    "        break\n",
    "    time.sleep(5)"
   ]
  },
  {
   "cell_type": "markdown",
   "metadata": {},
   "source": [
    "### Stop instance"
   ]
  },
  {
   "cell_type": "code",
   "execution_count": null,
   "metadata": {},
   "outputs": [],
   "source": [
    "response = client.stop_instance(\n",
    "    instanceName='created_from_python'\n",
    ")\n",
    "\n",
    "while 1:\n",
    "    response = client.get_instance_state(instanceName='created_from_python')\n",
    "    if response['state']['name'] == 'stopped': \n",
    "        print('Instance stopped~')\n",
    "        break\n",
    "    time.sleep(5)"
   ]
  }
 ],
 "metadata": {
  "kernelspec": {
   "display_name": "Python 3",
   "language": "python",
   "name": "python3"
  },
  "language_info": {
   "codemirror_mode": {
    "name": "ipython",
    "version": 3
   },
   "file_extension": ".py",
   "mimetype": "text/x-python",
   "name": "python",
   "nbconvert_exporter": "python",
   "pygments_lexer": "ipython3",
   "version": "3.8.2"
  }
 },
 "nbformat": 4,
 "nbformat_minor": 4
}
