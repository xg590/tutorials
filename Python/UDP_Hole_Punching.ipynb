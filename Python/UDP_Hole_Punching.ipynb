{
 "cells": [
  {
   "cell_type": "markdown",
   "id": "fleet-guide",
   "metadata": {},
   "source": [
    "### Run on the Intermediate Server"
   ]
  },
  {
   "cell_type": "code",
   "execution_count": null,
   "id": "binary-quality",
   "metadata": {
    "ExecuteTime": {
     "start_time": "2022-12-17T15:20:08.686Z"
    }
   },
   "outputs": [],
   "source": [
    "import socket, threading\n",
    "s = socket.socket(family=socket.AF_INET, type=socket.SOCK_DGRAM) \n",
    "s.bind((\"0.0.0.0\", 54321))\n",
    "addr_pair = []\n",
    "while(True):\n",
    "    msg, addr = s.recvfrom(1024)  \n",
    "    print(msg, addr)\n",
    "    addr_pair.append(addr)\n",
    "    if len(addr_pair)==2:\n",
    "        print(addr_pair)\n",
    "        ip_1, port_1 = addr_pair.pop()\n",
    "        ip_2, port_2 = addr_pair.pop()\n",
    "        s.sendto(f'{ip_2},{port_2}'.encode(), (ip_1, port_1))\n",
    "        s.sendto(f'{ip_1},{port_1}'.encode(), (ip_2, port_2)) "
   ]
  },
  {
   "cell_type": "markdown",
   "id": "hidden-skating",
   "metadata": {},
   "source": [
    "### Run the First Client"
   ]
  },
  {
   "cell_type": "code",
   "execution_count": null,
   "id": "forward-criminal",
   "metadata": {
    "ExecuteTime": {
     "start_time": "2022-12-17T15:20:08.686Z"
    }
   },
   "outputs": [],
   "source": [
    "import socket, threading\n",
    "def Peer_1():\n",
    "    s = socket.socket(family=socket.AF_INET, type=socket.SOCK_DGRAM) \n",
    "    s.sendto(b\"Peer_1\", (socket.gethostbyname('guoxiaokang.com'),54321)) \n",
    "    msg, addr = s.recvfrom(1024)\n",
    "    ip_peer, port_peer = msg.decode().split(',') \n",
    "    print('[Peer_1]', ip_peer, port_peer)\n",
    "    s.sendto(b\"Punched_1?\", (ip_peer, int(port_peer)))  \n",
    "    s.sendto(b\"Punched_2?\", (ip_peer, int(port_peer)))  \n",
    "    s.sendto(b\"Punched_3?\", (ip_peer, int(port_peer))) \n",
    "    msg, addr = s.recvfrom(1024)\n",
    "    print('[Peer_1]', msg)\n",
    "    msg, addr = s.recvfrom(1024)\n",
    "    print('[Peer_1]', msg)\n",
    "    msg, addr = s.recvfrom(1024)\n",
    "    print('[Peer_1]', msg)\n",
    "\n",
    "threading.Thread(target=Peer_1).start()"
   ]
  },
  {
   "cell_type": "markdown",
   "id": "mysterious-stanley",
   "metadata": {},
   "source": [
    "### Run the Second Client"
   ]
  },
  {
   "cell_type": "code",
   "execution_count": null,
   "id": "minimal-mandate",
   "metadata": {
    "ExecuteTime": {
     "start_time": "2022-12-17T15:20:08.686Z"
    }
   },
   "outputs": [],
   "source": [
    "import socket, threading\n",
    "def Peer_2():\n",
    "    s = socket.socket(family=socket.AF_INET, type=socket.SOCK_DGRAM) \n",
    "    s.sendto(b\"Peer_2\", (socket.gethostbyname('guoxiaokang.com'),54321)) \n",
    "    msg, addr = s.recvfrom(1024)\n",
    "    ip_peer, port_peer = msg.decode().split(',') \n",
    "    print('[Peer_2]', ip_peer, port_peer)\n",
    "    s.sendto(b\"I think so~1\", (ip_peer, int(port_peer)))  \n",
    "    s.sendto(b\"I think so~2\", (ip_peer, int(port_peer)))  \n",
    "    s.sendto(b\"I think so~3\", (ip_peer, int(port_peer))) \n",
    "    msg, addr = s.recvfrom(1024)\n",
    "    print('[Peer_2]', msg)\n",
    "    msg, addr = s.recvfrom(1024)\n",
    "    print('[Peer_2]', msg)\n",
    "    msg, addr = s.recvfrom(1024)\n",
    "    print('[Peer_2]', msg)\n",
    "\n",
    "threading.Thread(target=Peer_2).start()"
   ]
  }
 ],
 "metadata": {
  "kernelspec": {
   "display_name": "Python 3",
   "language": "python",
   "name": "python3"
  },
  "language_info": {
   "codemirror_mode": {
    "name": "ipython",
    "version": 3
   },
   "file_extension": ".py",
   "mimetype": "text/x-python",
   "name": "python",
   "nbconvert_exporter": "python",
   "pygments_lexer": "ipython3",
   "version": "3.7.10"
  }
 },
 "nbformat": 4,
 "nbformat_minor": 5
}
