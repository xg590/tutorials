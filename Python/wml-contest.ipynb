{
 "cells": [
  {
   "cell_type": "code",
   "execution_count": null,
   "id": "leading-running",
   "metadata": {
    "ExecuteTime": {
     "end_time": "2023-01-02T18:50:48.648346Z",
     "start_time": "2023-01-02T18:50:48.637797Z"
    }
   },
   "outputs": [],
   "source": [
    "#pip install openpyxl # you need this package to read xlsx"
   ]
  },
  {
   "cell_type": "code",
   "execution_count": null,
   "id": "grand-excitement",
   "metadata": {
    "ExecuteTime": {
     "end_time": "2023-01-02T18:50:57.524039Z",
     "start_time": "2023-01-02T18:50:48.680521Z"
    }
   },
   "outputs": [],
   "source": [
    "import pandas, re\n",
    "# pandas.set_option('max_rows', None) \n",
    "# delete head() if you want to process all rows\n",
    "df = pandas.read_excel('Desktop/data.xlsx', engine='openpyxl')#.head() \n",
    "collector = []\n",
    "df[df['parameter'].notna()].apply(lambda x: collector.append(x.parameter), axis=1) \n",
    "new_columns = set([j.split(':')[0] for i in collector for j in re.split(re.compile('\\|\\|'), i)])\n",
    "print(new_columns)"
   ]
  },
  {
   "cell_type": "code",
   "execution_count": null,
   "id": "renewable-enhancement",
   "metadata": {
    "ExecuteTime": {
     "end_time": "2023-01-02T18:50:57.653845Z",
     "start_time": "2023-01-02T18:50:57.528613Z"
    }
   },
   "outputs": [],
   "source": [
    "# fill na because we need \n",
    "df = df.fillna(value={'discount':'10折', 'parameter':''})\n",
    "# add new columns\n",
    "df = df.assign(**{i:'' for i in new_columns}) \n",
    "df "
   ]
  },
  {
   "cell_type": "code",
   "execution_count": null,
   "id": "impressive-delaware",
   "metadata": {
    "ExecuteTime": {
     "end_time": "2023-01-02T18:50:59.367612Z",
     "start_time": "2023-01-02T18:50:57.658541Z"
    }
   },
   "outputs": [],
   "source": [
    "# extract discount and normalise it\n",
    "df['discount'] = df.apply(lambda x: float(re.search(re.compile('\\d*\\.*\\d*'), x.discount).group())/10, axis=1) "
   ]
  },
  {
   "cell_type": "code",
   "execution_count": null,
   "id": "owned-thickness",
   "metadata": {
    "ExecuteTime": {
     "end_time": "2023-01-02T19:09:21.480718Z",
     "start_time": "2023-01-02T18:50:59.372582Z"
    }
   },
   "outputs": [],
   "source": [
    "# fill new columns\n",
    "count = 0\n",
    "re_sep = re.compile('\\|\\|')\n",
    "for idx, row in df.iterrows():\n",
    "    count += 1\n",
    "    if count % 1000 == 0: print(count)\n",
    "    if not row['parameter']: continue \n",
    "    for i in re.split(re_sep, row['parameter']): \n",
    "        j,k = i.split(':') \n",
    "        df.loc[idx, j]=k"
   ]
  },
  {
   "cell_type": "code",
   "execution_count": null,
   "id": "changed-topic",
   "metadata": {
    "ExecuteTime": {
     "end_time": "2023-01-02T19:09:21.701695Z",
     "start_time": "2023-01-02T19:09:21.487916Z"
    }
   },
   "outputs": [],
   "source": [
    "df"
   ]
  },
  {
   "cell_type": "code",
   "execution_count": null,
   "id": "postal-details",
   "metadata": {
    "ExecuteTime": {
     "end_time": "2023-01-02T21:26:31.457759Z",
     "start_time": "2023-01-02T21:26:30.231310Z"
    }
   },
   "outputs": [],
   "source": [
    "df.to_csv('wml_contest.csv')"
   ]
  }
 ],
 "metadata": {
  "kernelspec": {
   "display_name": "Python 3",
   "language": "python",
   "name": "python3"
  },
  "language_info": {
   "codemirror_mode": {
    "name": "ipython",
    "version": 3
   },
   "file_extension": ".py",
   "mimetype": "text/x-python",
   "name": "python",
   "nbconvert_exporter": "python",
   "pygments_lexer": "ipython3",
   "version": "3.7.10"
  }
 },
 "nbformat": 4,
 "nbformat_minor": 5
}
