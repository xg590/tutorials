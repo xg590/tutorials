{
 "cells": [
  {
   "cell_type": "code",
   "execution_count": 1,
   "metadata": {},
   "outputs": [
    {
     "name": "stdout",
     "output_type": "stream",
     "text": [
      "Finished in 5 seconds\n"
     ]
    }
   ],
   "source": [
    "import signal, time\n",
    "\n",
    "def handler(signum, frame): \n",
    "    raise TimeoutError\n",
    "\n",
    "def test(timeout=5): \n",
    "    signal.signal(signal.SIGALRM, handler)\n",
    "    timestamp = time.time()         # setup timer\n",
    "    signal.alarm(timeout)  \n",
    "    try:\n",
    "        time.sleep(10)              # timer is trigger at T+5s\n",
    "        print('I am invisible !~')\n",
    "    except TimeoutError: \n",
    "        pass\n",
    "    signal.alarm(0)                 # Disable the alarm \n",
    "    print('Finished in', int(time.time()-timestamp), 'seconds')\n",
    "test()"
   ]
  }
 ],
 "metadata": {
  "kernelspec": {
   "display_name": "Python 3",
   "language": "python",
   "name": "python3"
  },
  "language_info": {
   "codemirror_mode": {
    "name": "ipython",
    "version": 3
   },
   "file_extension": ".py",
   "mimetype": "text/x-python",
   "name": "python",
   "nbconvert_exporter": "python",
   "pygments_lexer": "ipython3",
   "version": "3.7.3"
  }
 },
 "nbformat": 4,
 "nbformat_minor": 2
}
