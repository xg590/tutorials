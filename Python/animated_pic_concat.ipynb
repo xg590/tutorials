{
 "cells": [
  {
   "cell_type": "code",
   "execution_count": null,
   "metadata": {},
   "outputs": [],
   "source": [
    "import sqlite3, pandas as pd, numpy as np\n",
    "from PIL import Image\n",
    "import matplotlib.pyplot as plt \n",
    "from io import BytesIO \n",
    "import cv2 as cv"
   ]
  },
  {
   "cell_type": "code",
   "execution_count": null,
   "metadata": {},
   "outputs": [],
   "source": [
    "con = sqlite3.connect(\"扫描图.SVD\")\n",
    "cur = con.cursor()\n",
    "#cur.execute(\"SELECT name FROM sqlite_master WHERE type='table';\")\n",
    "#cur.fetchall()\n",
    "#ax = pd.read_sql_query(\"SELECT x_min, y_min FROM tile_raw_info;\", con).plot.scatter(x='x_min', y='y_min') "
   ]
  },
  {
   "cell_type": "code",
   "execution_count": null,
   "metadata": {},
   "outputs": [],
   "source": [
    "cur.execute('''SELECT img0 FROM tile_raw_blob LIMIT 1;''') \n",
    "(img0,) = cur.fetchone()  \n",
    "img_tile = np.asarray(bytearray(img0))  \n",
    "img_tile = cv.imdecode(img_tile, cv.IMREAD_GRAYSCALE) \n",
    "h_tile, w_tile = img_tile.shape  \n",
    "param = pd.read_sql_query(\"SELECT key, value FROM param;\", con).to_dict('split')['data']\n",
    "param = dict(param)  \n",
    "h_cmbd, w_cmbd = int(param['height']), int(param['width'])\n",
    "h_cmbd_new = (h_cmbd // h_tile + 1) * h_tile\n",
    "w_cmbd_new = (w_cmbd // w_tile + 1) * w_tile\n",
    "#print(h_tile, w_tile, h_cmbd_new, w_cmbd_new)\n"
   ]
  },
  {
   "cell_type": "code",
   "execution_count": null,
   "metadata": {},
   "outputs": [],
   "source": [
    "#img_G = np.zeros((h_cmbd_new, w_cmbd_new)).astype(np.uint8)\n",
    "#img_B = np.zeros((h_cmbd_new, w_cmbd_new)).astype(np.uint8) \n",
    "#img_R = np.zeros((h_cmbd_new, w_cmbd_new)).astype(np.uint8) \n",
    "img_G = np.ones((8200, 10000)).astype(np.uint8)\n",
    "img_B = np.ones((8200, 10000)).astype(np.uint8) \n",
    "img_R = np.ones((8200, 10000)).astype(np.uint8) \n",
    "img_G[:] = 255\n",
    "img_B[:] = 255\n",
    "img_R[:] = 255\n",
    "x = []\n",
    "x_low_limit  = 14000\n",
    "#x_high_limit = 18800\n",
    "x_high_limit = 22800\n",
    "y_low_limit  = 14000\n",
    "y_high_limit = 20000\n",
    "#y_high_limit = 18000\n",
    "\n",
    "IMG_CMBD_COLLECTOR = []\n",
    "\n",
    "for _, x_min, y_min, img0 in con.execute('''SELECT tile_raw_blob.id as blob_id, x_min, y_min, img0 \n",
    "                     FROM tile_raw_info\n",
    "                     JOIN tile_raw_blob ON tile_raw_info.blob_id = tile_raw_blob.id \n",
    "                     WHERE ch=0;'''): \n",
    "    if x_min < x_low_limit or x_min > x_high_limit or y_min < y_low_limit or y_min > y_high_limit: continue \n",
    "    x_min -= x_low_limit\n",
    "    y_min -= y_low_limit\n",
    "    x.append([x_min+w_tile, y_min+h_tile]) \n",
    "    img_tile = np.asarray(bytearray(img0))  \n",
    "    img_tile = cv.imdecode(img_tile, cv.IMREAD_GRAYSCALE)   \n",
    "    img_G[y_min:y_min+h_tile, x_min:x_min+w_tile] = img_tile \n",
    "    img_cmbd = np.stack((img_B, img_G, img_R),axis=2)\n",
    "    imS = cv.resize(img_cmbd, (1600, 1600))[:,:,::-1] \n",
    "    IMG_CMBD_COLLECTOR.append(imS)\n",
    "\n",
    "for _, x_min, y_min, img0 in con.execute('''SELECT tile_raw_blob.id as blob_id, x_min, y_min, img0 \n",
    "                     FROM tile_raw_info\n",
    "                     JOIN tile_raw_blob ON tile_raw_info.blob_id = tile_raw_blob.id \n",
    "                     WHERE ch=1;'''): \n",
    "    if x_min < x_low_limit or x_min > x_high_limit or y_min < y_low_limit or y_min > y_high_limit: continue\n",
    "    x_min -=x_low_limit\n",
    "    y_min -=y_low_limit\n",
    "    img_tile = np.asarray(bytearray(img0))  \n",
    "    img_tile = cv.imdecode(img_tile, cv.IMREAD_GRAYSCALE)  \n",
    "    img_B[y_min:y_min+h_tile, x_min:x_min+w_tile] = img_tile\n",
    "    img_cmbd = np.stack((img_B, img_G, img_R),axis=2)\n",
    "    imS = cv.resize(img_cmbd, (1600, 1600))[:,:,::-1] \n",
    "    IMG_CMBD_COLLECTOR.append(imS)\n",
    "\n",
    "for _, x_min, y_min, img0 in con.execute('''SELECT tile_raw_blob.id as blob_id, x_min, y_min, img0 \n",
    "                     FROM tile_raw_info\n",
    "                     JOIN tile_raw_blob ON tile_raw_info.blob_id = tile_raw_blob.id \n",
    "                     WHERE ch=2;'''): \n",
    "    if x_min < x_low_limit or x_min > x_high_limit or y_min < y_low_limit or y_min > y_high_limit: continue\n",
    "    x_min -=x_low_limit\n",
    "    y_min -=y_low_limit\n",
    "    img_tile = np.asarray(bytearray(img0))  \n",
    "    img_tile = cv.imdecode(img_tile, cv.IMREAD_GRAYSCALE)  \n",
    "    img_R[y_min:y_min+h_tile, x_min:x_min+w_tile] = img_tile\n",
    "    img_cmbd = np.stack((img_B, img_G, img_R),axis=2)\n",
    "    imS = cv.resize(img_cmbd, (1600, 1600))[:,:,::-1] \n",
    "    IMG_CMBD_COLLECTOR.append(imS)"
   ]
  },
  {
   "cell_type": "code",
   "execution_count": null,
   "metadata": {},
   "outputs": [],
   "source": [
    "import pickle\n",
    "with open('a.pkl', 'wb') as fw:\n",
    "    pickle.dump(IMG_CMBD_COLLECTOR, fw) "
   ]
  },
  {
   "cell_type": "code",
   "execution_count": 1,
   "metadata": {},
   "outputs": [],
   "source": [
    "import sqlite3, pandas as pd, numpy as np\n",
    "from PIL import Image\n",
    "import matplotlib.pyplot as plt \n",
    "from io import BytesIO \n",
    "import cv2 as cv\n",
    "import pickle\n",
    "with open('a.pkl', 'rb') as fr:\n",
    "    IMG_CMBD_COLLECTOR = pickle.load(fr)"
   ]
  },
  {
   "cell_type": "code",
   "execution_count": null,
   "metadata": {},
   "outputs": [],
   "source": [
    "%matplotlib inline \n",
    "plt.imshow(IMG_CMBD_COLLECTOR[89])\n",
    "plt.show()"
   ]
  },
  {
   "cell_type": "code",
   "execution_count": 2,
   "metadata": {},
   "outputs": [
    {
     "name": "stdout",
     "output_type": "stream",
     "text": [
      "Moviepy - Building video 123.mp4.\n",
      "Moviepy - Writing video 123.mp4\n",
      "\n"
     ]
    },
    {
     "name": "stderr",
     "output_type": "stream",
     "text": [
      "                                                                                  \r"
     ]
    },
    {
     "name": "stdout",
     "output_type": "stream",
     "text": [
      "Moviepy - Done !\n",
      "Moviepy - video ready 123.mp4\n"
     ]
    }
   ],
   "source": [
    "#pip install moviepy pygame  \n",
    "#https://zulko.github.io/moviepy/getting_started/quick_presentation.html\n",
    "from moviepy.editor import VideoClip, AudioFileClip, VideoFileClip \n",
    "\n",
    "def make_frame(_time): # run for every frame  \n",
    "    return IMG_CMBD_COLLECTOR[int(_time)]\n",
    " \n",
    "videoClip = VideoClip(make_frame, duration=len(IMG_CMBD_COLLECTOR)) \n",
    "#videoClip.ipython_display(fps=10, loop=True, autoplay=True)\n",
    "videoClip.write_videofile(f'123.mp4', fps=30)  "
   ]
  },
  {
   "cell_type": "code",
   "execution_count": null,
   "metadata": {},
   "outputs": [],
   "source": [
    "ffmpeg -i 123.mp4 -r 30 -filter:v \"setpts=0.1*PTS\" 123_10x.mp4"
   ]
  }
 ],
 "metadata": {
  "kernelspec": {
   "display_name": "Python 3 (ipykernel)",
   "language": "python",
   "name": "python3"
  },
  "language_info": {
   "codemirror_mode": {
    "name": "ipython",
    "version": 3
   },
   "file_extension": ".py",
   "mimetype": "text/x-python",
   "name": "python",
   "nbconvert_exporter": "python",
   "pygments_lexer": "ipython3",
   "version": "3.10.12"
  }
 },
 "nbformat": 4,
 "nbformat_minor": 2
}
