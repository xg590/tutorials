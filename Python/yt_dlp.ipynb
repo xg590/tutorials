{
 "cells": [
  {
   "cell_type": "code",
   "execution_count": 2,
   "id": "6a68b6c6",
   "metadata": {},
   "outputs": [
    {
     "name": "stdout",
     "output_type": "stream",
     "text": [
      "[youtube] Extracting URL: https://youtu.be/kCc8FmEb1nY\n",
      "[youtube] kCc8FmEb1nY: Downloading webpage\n",
      "[youtube] kCc8FmEb1nY: Downloading android player API JSON\n",
      "[info] kCc8FmEb1nY: Downloading 1 format(s): 313+251\n",
      "[download] Destination: /home/a/ChatGPT.f313.webm\n",
      "[download] 100% of    3.09GiB in 00:06:35 at 7.99MiB/s      \n",
      "[download] Destination: /home/a/ChatGPT.f251.webm\n",
      "[download] 100% of   81.80MiB in 00:00:09 at 8.54MiB/s     \n",
      "[Merger] Merging formats into \"/home/a/ChatGPT.webm\"\n",
      "Deleting original file /home/a/ChatGPT.f251.webm (pass -k to keep)\n",
      "Deleting original file /home/a/ChatGPT.f313.webm (pass -k to keep)\n"
     ]
    }
   ],
   "source": [
    "import yt_dlp, os \n",
    "\n",
    "def format_selector(ctx):\n",
    "    \"\"\" Select the best video and the best audio that won't result in an mkv.\n",
    "    NOTE: This is just an example and does not handle all cases \"\"\"\n",
    "\n",
    "    # formats are already sorted worst to best\n",
    "    formats = ctx.get('formats')[::-1]\n",
    "\n",
    "    # acodec='none' means there is no audio\n",
    "    best_video = next(f for f in formats\n",
    "                      if f['vcodec'] != 'none' and f['acodec'] == 'none')\n",
    "\n",
    "    # find compatible audio extension\n",
    "    audio_ext = {'mp4': 'm4a', 'webm': 'webm'}[best_video['ext']]\n",
    "    # vcodec='none' means there is no video\n",
    "    best_audio = next(f for f in formats if (\n",
    "        f['acodec'] != 'none' and f['vcodec'] == 'none' and f['ext'] == audio_ext))\n",
    "\n",
    "    # These are the minimum required fields for a merged format\n",
    "    yield {\n",
    "        'format_id': f'{best_video[\"format_id\"]}+{best_audio[\"format_id\"]}',\n",
    "        'ext': best_video['ext'],\n",
    "        'requested_formats': [best_video, best_audio],\n",
    "        # Must be + separated list of protocols\n",
    "        'protocol': f'{best_video[\"protocol\"]}+{best_audio[\"protocol\"]}'\n",
    "    }\n",
    "\n",
    "for i in [1]:\n",
    "    fname='ChatGPT'\n",
    "    url='https://youtu.be/kCc8FmEb1nY'\n",
    "    ydl_opts = {\n",
    "        'format': format_selector,\n",
    "        'ffmpeg_location': os.getenv('HOME')+'/software/ffmpeg-5.1.1-amd64-static/ffmpeg',\n",
    "        'outtmpl': os.getenv('HOME')+f'/{fname}.%(ext)s'\n",
    "    }\n",
    "    with yt_dlp.YoutubeDL(ydl_opts) as ydl:\n",
    "        ydl.download([url])\n",
    "    break"
   ]
  }
 ],
 "metadata": {
  "kernelspec": {
   "display_name": "Python 3 (ipykernel)",
   "language": "python",
   "name": "python3"
  },
  "language_info": {
   "codemirror_mode": {
    "name": "ipython",
    "version": 3
   },
   "file_extension": ".py",
   "mimetype": "text/x-python",
   "name": "python",
   "nbconvert_exporter": "python",
   "pygments_lexer": "ipython3",
   "version": "3.10.6"
  }
 },
 "nbformat": 4,
 "nbformat_minor": 5
}
