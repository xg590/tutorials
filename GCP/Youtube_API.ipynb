{
 "cells": [
  {
   "cell_type": "markdown",
   "metadata": {},
   "source": [
    "* You should run Google_OAuth2_Save_Credentials.ipynb and save user's credentials ('oauth2_user_credentials.json') first\n",
    "### Docs\n",
    "* https://developers.google.com/youtube/v3/docs"
   ]
  },
  {
   "cell_type": "code",
   "execution_count": null,
   "metadata": {
    "ExecuteTime": {
     "end_time": "2021-05-24T11:55:03.875951Z",
     "start_time": "2021-05-24T11:55:03.861174Z"
    }
   },
   "outputs": [],
   "source": [
    "# -*- coding: utf-8 -*-\n",
    "\n",
    "from IPython.core.display import display, HTML\n",
    "display(HTML(\"<style>.container { width:100% !important; }</style>\"))  \n",
    "\n",
    "import os, json, flask, requests\n",
    "\n",
    "import google.oauth2.credentials\n",
    "import google_auth_oauthlib.flow\n",
    "import googleapiclient.discovery\n",
    "from googleapiclient.http import MediaFileUpload\n",
    "\n",
    "def revoke_credentials(): \n",
    "    revoke = requests.post('https://oauth2.googleapis.com/revoke',\n",
    "        params={'token': credentials.token},\n",
    "        headers = {'content-type': 'application/x-www-form-urlencoded'})\n",
    "\n",
    "    status_code = getattr(revoke, 'status_code')\n",
    "    if status_code == 200:\n",
    "        return('Credentials successfully revoked.')\n",
    "    else:\n",
    "        return('An error occurred.') "
   ]
  },
  {
   "cell_type": "code",
   "execution_count": null,
   "metadata": {},
   "outputs": [],
   "source": [
    "API_SERVICE_NAME = 'youtube'\n",
    "API_VERSION = 'v3'\n",
    "with open('oauth2_user_credentials.json') as fr:\n",
    "    credentials = google.oauth2.credentials.Credentials(**json.load(fp=fr))\n",
    "youtube = googleapiclient.discovery.build(API_SERVICE_NAME, API_VERSION, credentials=credentials)"
   ]
  },
  {
   "cell_type": "markdown",
   "metadata": {},
   "source": [
    "#### List playlists in my youtube channel"
   ]
  },
  {
   "cell_type": "code",
   "execution_count": null,
   "metadata": {},
   "outputs": [],
   "source": [
    "playlists = youtube.playlists().list(part='snippet', mine=True).execute()\n",
    "[{'playlistId':i['id'], 'title':i['snippet']['title']} for i in playlists['items']]"
   ]
  },
  {
   "cell_type": "markdown",
   "metadata": {},
   "source": [
    "#### Another way to list my playlists"
   ]
  },
  {
   "cell_type": "code",
   "execution_count": null,
   "metadata": {},
   "outputs": [],
   "source": [
    "channel   = youtube.channels().list(mine=True, part='id').execute() \n",
    "channelId = channel['items'][0]['id']\n",
    "print('My channel id:', channelId)\n",
    "\n",
    "playlists = youtube.playlists().list(part='snippet',channelId=channelId).execute()\n",
    "print([{'playlistId':i['id'], 'title':i['snippet']['title']} for i in playlists['items']])\n",
    "'''\n",
    "My channel id: UCAA_xxxxxgS05YLF-xxxx-Q\n",
    "[{'playlistId': 'PLxxxxxxxek07', 'title': 'test'},\n",
    " {'playlistId': 'PLxxxxxxxmViZ', 'title': '123'},\n",
    " {'playlistId': 'PLxxxxxxxmTwd', 'title': '456'}]\n",
    "'''"
   ]
  },
  {
   "cell_type": "markdown",
   "metadata": {},
   "source": [
    "#### What is in one playlist"
   ]
  },
  {
   "cell_type": "code",
   "execution_count": null,
   "metadata": {},
   "outputs": [],
   "source": [
    "playlistItems = youtube.playlistItems().list(\n",
    "    playlistId='PLxxxxxxxmViZ',\n",
    "    part='snippet',\n",
    "    maxResults=5\n",
    "  ).execute() \n",
    "[{'title':i['snippet']['title'], 'videoId':i['snippet']['resourceId']['videoId']} for i in playlistItems['items']]"
   ]
  },
  {
   "cell_type": "markdown",
   "metadata": {},
   "source": [
    "#### Upload a video"
   ]
  },
  {
   "cell_type": "code",
   "execution_count": null,
   "metadata": {},
   "outputs": [],
   "source": [
    "body={\n",
    "    'snippet':{\n",
    "        'title':'Test The Upload API',\n",
    "        'description':'More words for this video',\n",
    "        'tags':['a','b'],\n",
    "        'categoryId':'22' # https://developers.google.com/youtube/v3/docs/videoCategories/list\n",
    "    },\n",
    "    'status':{\n",
    "        'privacyStatus':'unlisted', # ['private','public','unlisted']\n",
    "        'selfDeclaredMadeForKids':False\n",
    "    }\n",
    "}\n",
    "uploadedVideo = youtube.videos().insert(\n",
    "    part=','.join(body.keys()),\n",
    "    body=body, \n",
    "    media_body=MediaFileUpload('test.mkv', chunksize=-1, resumable=False)\n",
    ").execute()\n",
    "videoId   = uploadedVideo['id']\n",
    "print(videoId)"
   ]
  },
  {
   "cell_type": "markdown",
   "metadata": {},
   "source": [
    "#### Add video to a playlist"
   ]
  },
  {
   "cell_type": "code",
   "execution_count": null,
   "metadata": {},
   "outputs": [],
   "source": [
    "body = {'snippet':{\n",
    "    \"playlistId\": playlistId,\n",
    "    #\"position\": 0,\n",
    "    \"resourceId\": {\n",
    "      \"kind\": \"youtube#video\",\n",
    "      \"videoId\": videoId\n",
    "    }\n",
    "}}\n",
    "resource = youtube.playlistItems().insert(part='snippet', body=body).execute()"
   ]
  },
  {
   "cell_type": "markdown",
   "metadata": {},
   "source": [
    "#### Help"
   ]
  },
  {
   "cell_type": "code",
   "execution_count": null,
   "metadata": {},
   "outputs": [],
   "source": [
    "_ = youtube.playlistItems()\n",
    "?_.insert"
   ]
  }
 ],
 "metadata": {
  "kernelspec": {
   "display_name": "Python 3 (ipykernel)",
   "language": "python",
   "name": "python3"
  },
  "language_info": {
   "codemirror_mode": {
    "name": "ipython",
    "version": 3
   },
   "file_extension": ".py",
   "mimetype": "text/x-python",
   "name": "python",
   "nbconvert_exporter": "python",
   "pygments_lexer": "ipython3",
   "version": "3.8.10"
  }
 },
 "nbformat": 4,
 "nbformat_minor": 4
}
