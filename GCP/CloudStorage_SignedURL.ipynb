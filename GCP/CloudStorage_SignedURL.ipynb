{
 "cells": [
  {
   "cell_type": "markdown",
   "metadata": {},
   "source": [
    "## V4 signing process with your own program \n",
    "### GCP Docs @ https://cloud.google.com/storage/docs/access-control/signing-urls-manually"
   ]
  },
  {
   "cell_type": "markdown",
   "metadata": {},
   "source": [
    "#### Prerequisite. \n",
    "##### 1. Create a service account for cloud storage and create key for it. \n",
    "##### 2. Go to api ref @ https://cloud.google.com/python/docs/reference, @ https://googleapis.dev/python/storage/latest/client.html, and @ https://cloud.google.com/storage/docs/access-control/signing-urls-with-helpers"
   ]
  },
  {
   "cell_type": "code",
   "execution_count": null,
   "metadata": {},
   "outputs": [],
   "source": [
    "# pip install google-cloud-storage"
   ]
  },
  {
   "cell_type": "code",
   "execution_count": null,
   "metadata": {},
   "outputs": [],
   "source": [
    "import datetime \n",
    "from google.oauth2 import service_account\n",
    "from google.cloud import storage \n",
    "credentials = service_account.Credentials.from_service_account_file('projectname-1111111-a1a1a1a1a1.json')\n",
    "\n",
    "storage_client = storage.Client(credentials=credentials)"
   ]
  },
  {
   "cell_type": "markdown",
   "metadata": {},
   "source": [
    "#### What is in bucket"
   ]
  },
  {
   "cell_type": "code",
   "execution_count": null,
   "metadata": {},
   "outputs": [],
   "source": [
    "blobs = storage_client.bucket( \"my_private_bucket\").list_blobs()\n",
    "[i.name for i in blobs]"
   ]
  },
  {
   "cell_type": "markdown",
   "metadata": {},
   "source": [
    "#### Give the signed url to anyone who you want them to download the existed object in your bucket"
   ]
  },
  {
   "cell_type": "code",
   "execution_count": null,
   "metadata": {},
   "outputs": [],
   "source": [
    "getSignedURL = lambda bucket_name, blob_name: storage_client.bucket(bucket_name).blob(blob_name).generate_signed_url(\n",
    "    version=\"v4\", \n",
    "    expiration=datetime.timedelta(weeks=1), \n",
    "    method=\"GET\",\n",
    ") \n",
    "\n",
    "getSignedURL(bucket_name = 'my_private_bucket', blob_name = 'upload.png')"
   ]
  },
  {
   "cell_type": "markdown",
   "metadata": {},
   "source": [
    "#### Give the signed url to anyone who you want them to upload an object to your bucket"
   ]
  },
  {
   "cell_type": "code",
   "execution_count": null,
   "metadata": {},
   "outputs": [],
   "source": [
    "putSignedURL = lambda bucket_name, blob_name: storage_client.bucket(bucket_name).blob(blob_name).generate_signed_url(\n",
    "    version=\"v4\", \n",
    "    expiration=datetime.timedelta(days=3), \n",
    "    method=\"PUT\",\n",
    "    content_type=\"image/png\",\n",
    ")  \n",
    "\n",
    "url = putSignedURL(bucket_name = 'my_private_bucket', blob_name = 'upload.png') "
   ]
  },
  {
   "cell_type": "markdown",
   "metadata": {},
   "source": [
    "#### Test signed upload link"
   ]
  },
  {
   "cell_type": "code",
   "execution_count": null,
   "metadata": {},
   "outputs": [],
   "source": [
    "import requests\n",
    "with open('/path/to/upload.png','rb') as fr:\n",
    "    requests.put(url = url, data=fr, headers={'Content-Type': 'image/png'}) # headers must match with above"
   ]
  }
 ],
 "metadata": {
  "kernelspec": {
   "display_name": "Rover",
   "language": "python",
   "name": "rover"
  },
  "language_info": {
   "codemirror_mode": {
    "name": "ipython",
    "version": 3
   },
   "file_extension": ".py",
   "mimetype": "text/x-python",
   "name": "python",
   "nbconvert_exporter": "python",
   "pygments_lexer": "ipython3",
   "version": "3.8.5"
  }
 },
 "nbformat": 4,
 "nbformat_minor": 4
}
