{
 "cells": [
  {
   "cell_type": "markdown",
   "metadata": {},
   "source": [
    "### Docs\n",
    "* https://developers.google.com/youtube/v3/docs"
   ]
  },
  {
   "cell_type": "code",
   "execution_count": 1,
   "metadata": {
    "ExecuteTime": {
     "end_time": "2023-03-25T05:11:43.076620Z",
     "start_time": "2023-03-25T05:11:42.401965Z"
    }
   },
   "outputs": [],
   "source": [
    "# -*- coding: utf-8 -*-\n",
    "import os, json, flask, requests, pandas as pd\n",
    "\n",
    "import google.oauth2.credentials\n",
    "import google_auth_oauthlib.flow\n",
    "import googleapiclient.discovery\n",
    "import google.auth.transport.requests  \n",
    "from googleapiclient.http import MediaFileUpload "
   ]
  },
  {
   "cell_type": "code",
   "execution_count": 2,
   "metadata": {
    "ExecuteTime": {
     "end_time": "2023-03-25T05:11:44.575093Z",
     "start_time": "2023-03-25T05:11:44.562846Z"
    }
   },
   "outputs": [],
   "source": [
    "def run_me_to_refresh_the_access_token(): \n",
    "    with open('oauth2_user_credentials.json') as fr:\n",
    "        credentials = google.oauth2.credentials.Credentials(**json.load(fp=fr)) \n",
    "        \n",
    "    # The old access token is still vaild even you got a new valid access token. \n",
    "        \n",
    "    with open('oauth2_user_credentials.json', 'w') as fw:\n",
    "        credentials.refresh(google.auth.transport.requests.Request())\n",
    "        creden_js = credentials.to_json()\n",
    "        refreshed_credentials = json.loads(credentials.to_json())\n",
    "        # we shall discard expiry before save. Try and see the consequence if you shall not.\n",
    "        refreshed_credentials.pop('expiry') \n",
    "        json.dump(refreshed_credentials, fp=fw)"
   ]
  },
  {
   "cell_type": "code",
   "execution_count": 3,
   "metadata": {
    "ExecuteTime": {
     "end_time": "2023-03-25T05:11:45.018945Z",
     "start_time": "2023-03-25T05:11:45.006266Z"
    }
   },
   "outputs": [],
   "source": [
    "API_SERVICE_NAME = 'youtube'\n",
    "API_VERSION = 'v3'\n",
    "with open('oauth2_user_credentials.json') as fr:\n",
    "    credentials = google.oauth2.credentials.Credentials(**json.load(fp=fr))\n",
    "    \n",
    "youtube = googleapiclient.discovery.build(API_SERVICE_NAME, \n",
    "                                          API_VERSION, \n",
    "                                          credentials=credentials)"
   ]
  },
  {
   "cell_type": "markdown",
   "metadata": {},
   "source": [
    "### Get channel id from username (the problem is you can hardly find one's username)\n",
    "* A more practical way to find channelId is to search 'channelId' in the source code of one's youtube homepage.\n",
    "  * For example, visit https://www.youtube.com/@mu_li\n",
    "  * Right click the blank part of the page and search 'channelId' in the source code\n",
    "  * We can find '\\<meta itemprop=\"channelId\" content=\"UC8WCW6C3BWLKSZ5cMzD8Gyw\"\\>' or '\"channelId\":\"UC8WCW6C3BWLKSZ5cMzD8Gyw\"'"
   ]
  },
  {
   "cell_type": "code",
   "execution_count": 4,
   "metadata": {
    "ExecuteTime": {
     "end_time": "2023-03-25T05:12:25.544634Z",
     "start_time": "2023-03-25T05:12:24.960668Z"
    }
   },
   "outputs": [
    {
     "data": {
      "text/plain": [
       "'UCfjTOrCPnAblTngWAzpnlMA'"
      ]
     },
     "execution_count": 4,
     "metadata": {},
     "output_type": "execute_result"
    }
   ],
   "source": [
    "channels = youtube.channels().list(part='id', forUsername='klauskkpm').execute()\n",
    "channelId = channels['items'][0]['id']\n",
    "channelId"
   ]
  },
  {
   "cell_type": "markdown",
   "metadata": {},
   "source": [
    "### List one's playlist if you know the channel id"
   ]
  },
  {
   "cell_type": "code",
   "execution_count": 5,
   "metadata": {
    "ExecuteTime": {
     "end_time": "2023-03-25T05:12:27.668723Z",
     "start_time": "2023-03-25T05:12:27.539412Z"
    }
   },
   "outputs": [
    {
     "name": "stdout",
     "output_type": "stream",
     "text": [
      "[{'playlistId': 'PLFXJ6jwg0qW-7UM8iUTj3qKqdhbQULP5I', 'title': '论文精读'}]\n"
     ]
    }
   ],
   "source": [
    "channelId='UC8WCW6C3BWLKSZ5cMzD8Gyw' # Mu Li's Machine Learning Video\n",
    "playlists = youtube.playlists().list(part='snippet',channelId=channelId).execute()\n",
    "print([{'playlistId':i['id'], 'title':i['snippet']['title']} for i in playlists['items']])"
   ]
  },
  {
   "cell_type": "markdown",
   "metadata": {},
   "source": [
    "### List all videos in one playlist"
   ]
  },
  {
   "cell_type": "code",
   "execution_count": 6,
   "metadata": {
    "ExecuteTime": {
     "end_time": "2023-03-25T05:12:44.464587Z",
     "start_time": "2023-03-25T05:12:44.160143Z"
    },
    "scrolled": false
   },
   "outputs": [
    {
     "data": {
      "text/plain": [
       "[('txjl_Q4jCyQ', '如何读论文'),\n",
       " ('wYmlILPsLlY', '9年后重读深度学习奠基作之一：AlexNet【论文精读】'),\n",
       " ('zjnxu8KUYKA', 'AlexNet论文逐段精读')]"
      ]
     },
     "execution_count": 6,
     "metadata": {},
     "output_type": "execute_result"
    }
   ],
   "source": [
    "# I am going to upload my video to this playlist \"PLUenxxxx_xxxxfrNm92hxxxxQdvukmViZ\"\n",
    "playlistId = 'PLFXJ6jwg0qW-7UM8iUTj3qKqdhbQULP5I'\n",
    "videos_ids, response = [], {}\n",
    "while True:\n",
    "    response = youtube.playlistItems().list(\n",
    "        playlistId=playlistId,\n",
    "        part='snippet',\n",
    "        maxResults=50,\n",
    "        pageToken=response.get('nextPageToken', '')\n",
    "    ).execute()  \n",
    "    # Print information about each video. \n",
    "    for playlist_item in response['items']:\n",
    "        title = playlist_item['snippet']['title']\n",
    "        video_id = playlist_item['snippet']['resourceId']['videoId']\n",
    "        videos_ids.append((video_id, title))   \n",
    "    if not response.get('nextPageToken', ''): \n",
    "        break # no next page then break \n",
    "\n",
    "videos_ids[:3]"
   ]
  },
  {
   "cell_type": "code",
   "execution_count": 7,
   "metadata": {
    "ExecuteTime": {
     "end_time": "2023-03-25T05:12:54.119163Z",
     "start_time": "2023-03-25T05:12:53.610299Z"
    }
   },
   "outputs": [
    {
     "data": {
      "text/plain": [
       "[('PL8mG-RkN2uTxUd9RC2bsL1W8Ov-3wAHxv', 'AMD Ultimate Tech Upgrade'),\n",
       " ('PL8mG-RkN2uTyl1uSu_3EGkjF12eJZPfPr', 'xQc Collabs'),\n",
       " ('PL8mG-RkN2uTy8lNzJ2QeqGNXp-HBZXsdd', 'Windows Videos')]"
      ]
     },
     "execution_count": 7,
     "metadata": {},
     "output_type": "execute_result"
    }
   ],
   "source": [
    "channelId = 'UCXuqSBlHAE6Xw-yeJA0Tunw' # Linus Tech Tips\n",
    "playlists, response = [], {}\n",
    "while True:\n",
    "    response = youtube.playlists().list(\n",
    "        channelId=channelId,\n",
    "        part='snippet',\n",
    "        maxResults=50,\n",
    "        pageToken=response.get('nextPageToken', '')\n",
    "    ).execute()  \n",
    "    # Print information about each video. \n",
    "    for playlist in response['items']:\n",
    "        _id = playlist['id']\n",
    "        title = playlist['snippet']['title']\n",
    "        playlists.append((_id, title)) \n",
    "    if not response.get('nextPageToken', ''): \n",
    "        break # no next page then break \n",
    "        \n",
    "playlists[:3]"
   ]
  }
 ],
 "metadata": {
  "kernelspec": {
   "display_name": "Python 3 (ipykernel)",
   "language": "python",
   "name": "python3"
  },
  "language_info": {
   "codemirror_mode": {
    "name": "ipython",
    "version": 3
   },
   "file_extension": ".py",
   "mimetype": "text/x-python",
   "name": "python",
   "nbconvert_exporter": "python",
   "pygments_lexer": "ipython3",
   "version": "3.11.2"
  }
 },
 "nbformat": 4,
 "nbformat_minor": 4
}
