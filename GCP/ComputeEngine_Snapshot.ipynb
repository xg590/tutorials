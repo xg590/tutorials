{
 "cells": [
  {
   "cell_type": "markdown",
   "metadata": {},
   "source": [
    "### Use Service account to automate disk snapshot\n",
    "* Create a role with 'compute.instances.list' permission [*](https://cloud.google.com/iam/docs/overview#:~:text=permissions%20are%20grouped%20into%20roles)\n",
    "  * 6 assigned permissions\n",
    "    * compute.disks.createSnapshot\n",
    "    * compute.disks.list\n",
    "    * compute.instances.list\n",
    "    * compute.snapshots.create\n",
    "    * compute.snapshots.get\n",
    "    * compute.snapshots.list\n",
    "* Create a new service account (aka. principal)\n",
    "* In IAM, give the role to a principal [*](https://cloud.google.com/iam/docs/overview#:~:text=roles%20are%20granted%20to%20authenticated%20principals) \n",
    "* Download service account's credential.\n",
    "* compute_v1 [API](https://github.com/googleapis/google-api-python-client/blob/main/docs/dyn/index.md)"
   ]
  },
  {
   "cell_type": "code",
   "execution_count": null,
   "metadata": {},
   "outputs": [],
   "source": [
    "project, zone='xxx-research-1eb0', 'us-central1-f'"
   ]
  },
  {
   "cell_type": "code",
   "execution_count": null,
   "metadata": {},
   "outputs": [],
   "source": [
    "# pip install --upgrade google-api-python-client google-auth google-auth-oauthlib google-auth-httplib2 requests"
   ]
  },
  {
   "cell_type": "code",
   "execution_count": null,
   "metadata": {},
   "outputs": [],
   "source": [
    "from google.oauth2 import service_account\n",
    "import googleapiclient.discovery  \n",
    "credentials = service_account.Credentials.from_service_account_file('credential_file_of_service_account.json') \n",
    "compute = googleapiclient.discovery.build('compute', 'v1', credentials=credentials)\n",
    "\n",
    "current_snapshots = compute.snapshots().list(project=project).execute() \n",
    "print('Current snapshots:', [i['name'] for i in current_snapshots['items']])\n",
    "\n",
    "current_disks = compute.disks().list(project=project, zone=zone).execute()  \n",
    "print('Current disks:', [i['name'] for i in current_disks['items']])\n",
    "\n",
    "create_snapshot_result = compute.disks().createSnapshot(project=project, zone=zone, \n",
    "                                                        disk=current_disks['items'][1]['name'],\n",
    "                                                        body={'name':'test-python-api'}).execute() "
   ]
  }
 ],
 "metadata": {
  "kernelspec": {
   "display_name": "Python 3",
   "language": "python",
   "name": "python3"
  },
  "language_info": {
   "codemirror_mode": {
    "name": "ipython",
    "version": 3
   },
   "file_extension": ".py",
   "mimetype": "text/x-python",
   "name": "python",
   "nbconvert_exporter": "python",
   "pygments_lexer": "ipython3",
   "version": "3.8.5"
  }
 },
 "nbformat": 4,
 "nbformat_minor": 4
}
