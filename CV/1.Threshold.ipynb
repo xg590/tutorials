{
 "cells": [
  {
   "cell_type": "raw",
   "id": "ebf030e0",
   "metadata": {},
   "source": [
    "pip install matplotlib opencv-python-headless"
   ]
  },
  {
   "cell_type": "code",
   "execution_count": 1,
   "id": "ee18bb87",
   "metadata": {
    "ExecuteTime": {
     "end_time": "2023-05-27T08:56:10.542231Z",
     "start_time": "2023-05-27T08:56:10.057008Z"
    }
   },
   "outputs": [
    {
     "name": "stdout",
     "output_type": "stream",
     "text": [
      "4.7.0 https://docs.opencv.org/4.7.0/d7/d4d/tutorial_py_thresholding.html\n"
     ]
    }
   ],
   "source": [
    "%matplotlib inline \n",
    "from IPython.display import clear_output, display  \n",
    "import cv2 as cv, numpy as np, matplotlib.pyplot as plt, ipywidgets as widgets \n",
    "print(cv.__version__, 'https://docs.opencv.org/4.7.0/d7/d4d/tutorial_py_thresholding.html') "
   ]
  },
  {
   "cell_type": "code",
   "execution_count": 2,
   "id": "acce966a",
   "metadata": {
    "ExecuteTime": {
     "end_time": "2023-05-27T08:56:10.546859Z",
     "start_time": "2023-05-27T08:56:10.543517Z"
    }
   },
   "outputs": [],
   "source": [
    "black_image = np.ones((100,100))*0\n",
    "grayscale_image = np.ones((255,1))+np.arange(255)\n",
    "white_image = np.ones((100,100))*255"
   ]
  },
  {
   "cell_type": "code",
   "execution_count": 3,
   "id": "66f200c0",
   "metadata": {
    "ExecuteTime": {
     "end_time": "2023-05-27T08:56:10.625880Z",
     "start_time": "2023-05-27T08:56:10.548266Z"
    }
   },
   "outputs": [
    {
     "data": {
      "text/plain": [
       "<matplotlib.image.AxesImage at 0xffff729e9cd0>"
      ]
     },
     "execution_count": 3,
     "metadata": {},
     "output_type": "execute_result"
    },
    {
     "data": {
      "image/png": "[encoded data removed]",
      "text/plain": [
       "<Figure size 400x200 with 3 Axes>"
      ]
     },
     "metadata": {},
     "output_type": "display_data"
    }
   ],
   "source": [
    "px = 1/plt.rcParams['figure.dpi']  # pixel in inches \n",
    "fig, axes = plt.subplots(1, 3, figsize=(400*px, 200*px)) \n",
    "axes[0].axis('off')    \n",
    "axes[1].axis('off')     \n",
    "axes[2].axis('off')     \n",
    "plt.tight_layout()#h_pad=4\n",
    "\n",
    "axes[0].set_title(f'Black') \n",
    "axes[0].imshow(black_image, cmap='gray', vmin=0, vmax=255)\n",
    "axes[1].set_title(f'grayscale') \n",
    "axes[1].imshow(grayscale_image, cmap='gray', vmin=0, vmax=255) \n",
    "axes[2].set_title(f'White') \n",
    "axes[2].imshow(white_image, cmap='gray', vmin=0, vmax=255)"
   ]
  },
  {
   "cell_type": "code",
   "execution_count": 4,
   "id": "7177332d",
   "metadata": {
    "ExecuteTime": {
     "end_time": "2023-05-27T08:56:10.780763Z",
     "start_time": "2023-05-27T08:56:10.626692Z"
    }
   },
   "outputs": [
    {
     "data": {
      "text/plain": [
       "<matplotlib.image.AxesImage at 0xffff707cacd0>"
      ]
     },
     "execution_count": 4,
     "metadata": {},
     "output_type": "execute_result"
    },
    {
     "data": {
      "image/png": "[encoded data removed]",
      "text/plain": [
       "<Figure size 800x500 with 6 Axes>"
      ]
     },
     "metadata": {},
     "output_type": "display_data"
    }
   ],
   "source": [
    "px = 1/plt.rcParams['figure.dpi']  # pixel in inches \n",
    "fig, axes = plt.subplots(2, 3, figsize=(800*px, 500*px)) \n",
    "axes[0, 0].axis('off')    \n",
    "axes[0, 1].axis('off')     \n",
    "axes[0, 2].axis('off')     \n",
    "axes[1, 0].axis('off')    \n",
    "axes[1, 1].axis('off')     \n",
    "axes[1, 2].axis('off')      \n",
    "\n",
    "axes[0, 0].set_title(f'Grayscale') \n",
    "axes[0, 0].imshow(grayscale_image, cmap='gray', vmin=0, vmax=255)\n",
    " \n",
    "axes[0, 1].set_title(f'>Thresh =MaxVal') # Greater than not \"greater or equal\"\n",
    "ret, img_bin = cv.threshold(grayscale_image, 100, 200, cv.THRESH_BINARY) \n",
    "axes[0, 1].imshow(img_bin, cmap='gray', vmin=0, vmax=255) \n",
    "\n",
    "axes[0, 2].set_title(f'<Thresh =MaxVal') \n",
    "ret, img_bin = cv.threshold(grayscale_image, 100, 200, cv.THRESH_BINARY_INV)  \n",
    "axes[0, 2].imshow(img_bin, cmap='gray', vmin=0, vmax=255)\n",
    "\n",
    "axes[1, 0].set_title(f'>Thresh to Thresh') \n",
    "ret, img_bin = cv.threshold(grayscale_image, 100, -1, cv.THRESH_TRUNC) \n",
    "axes[1, 0].imshow(img_bin, cmap='gray', vmin=0, vmax=255)\n",
    " \n",
    "axes[1, 1].set_title(f'<Thresh to Zero') \n",
    "ret, img_bin = cv.threshold(grayscale_image, 100, -1, cv.THRESH_TOZERO) \n",
    "axes[1, 1].imshow(img_bin, cmap='gray', vmin=0, vmax=255) \n",
    "\n",
    "axes[1, 2].set_title(f'>Thresh to Zero') \n",
    "ret, img_bin = cv.threshold(grayscale_image, 100, -1, cv.THRESH_TOZERO_INV) \n",
    "axes[1, 2].imshow(img_bin, cmap='gray', vmin=0, vmax=255)"
   ]
  }
 ],
 "metadata": {
  "kernelspec": {
   "display_name": "Python 3 (ipykernel)",
   "language": "python",
   "name": "python3"
  },
  "language_info": {
   "codemirror_mode": {
    "name": "ipython",
    "version": 3
   },
   "file_extension": ".py",
   "mimetype": "text/x-python",
   "name": "python",
   "nbconvert_exporter": "python",
   "pygments_lexer": "ipython3",
   "version": "3.11.3"
  }
 },
 "nbformat": 4,
 "nbformat_minor": 5
}
