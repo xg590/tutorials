{
 "cells": [
  {
   "cell_type": "raw",
   "id": "ebf030e0",
   "metadata": {},
   "source": [
    "pip install matplotlib opencv-python-headless"
   ]
  },
  {
   "cell_type": "code",
   "execution_count": 1,
   "id": "e43ffb88",
   "metadata": {
    "ExecuteTime": {
     "end_time": "2023-05-28T00:59:17.192959Z",
     "start_time": "2023-05-28T00:59:16.604168Z"
    }
   },
   "outputs": [
    {
     "name": "stdout",
     "output_type": "stream",
     "text": [
      "4.7.0 https://docs.opencv.org/4.7.0/d7/d4d/tutorial_py_thresholding.html\n"
     ]
    }
   ],
   "source": [
    "%matplotlib inline   \n",
    "#ipympl \n",
    "from IPython.display import clear_output, display  \n",
    "import cv2 as cv, numpy as np, matplotlib.pyplot as plt, ipywidgets as widgets \n",
    "print(cv.__version__, 'https://docs.opencv.org/4.7.0/d7/d4d/tutorial_py_thresholding.html') "
   ]
  },
  {
   "cell_type": "code",
   "execution_count": 2,
   "id": "eb7fcc59",
   "metadata": {
    "ExecuteTime": {
     "end_time": "2023-05-28T00:59:17.559294Z",
     "start_time": "2023-05-28T00:59:17.303933Z"
    }
   },
   "outputs": [
    {
     "data": {
      "text/plain": [
       "<matplotlib.image.AxesImage at 0xffff5354ad10>"
      ]
     },
     "execution_count": 2,
     "metadata": {},
     "output_type": "execute_result"
    },
    {
     "data": {
      "image/png": "[encoded data removed]",
      "text/plain": [
       "<Figure size 1200x400 with 12 Axes>"
      ]
     },
     "metadata": {},
     "output_type": "display_data"
    }
   ],
   "source": [
    "px = 1/plt.rcParams['figure.dpi']  # pixel in inches \n",
    "fig, axes = plt.subplots(2, 6, figsize=(1200*px, 400*px)) \n",
    "axes[0, 0].axis('off')    \n",
    "axes[0, 1].axis('off')    \n",
    "axes[0, 2].axis('off')      \n",
    "axes[0, 3].axis('off')    \n",
    "axes[0, 4].axis('off')    \n",
    "axes[0, 5].axis('off')   \n",
    "axes[1, 0].axis('off')    \n",
    "axes[1, 1].axis('off')    \n",
    "axes[1, 2].axis('off')      \n",
    "axes[1, 3].axis('off')    \n",
    "axes[1, 4].axis('off')    \n",
    "axes[1, 5].axis('off')       \n",
    "\n",
    "mask = np.ones((256, 256))*0 \n",
    "cv.rectangle(mask, (25,25), (200, 200), 255, -1) \n",
    "grayscale = np.zeros((256,1))+np.arange(256)   \n",
    "bitwise_or  = cv.bitwise_or (grayscale.copy(), mask.copy())  \n",
    "bitwise_xor = cv.bitwise_xor(grayscale.copy(), mask.copy()) \n",
    "bitwise_and = cv.bitwise_and(grayscale.copy(), mask.copy()) \n",
    "bitwise_not = cv.bitwise_not(grayscale.copy(), mask.copy())  \n",
    "\n",
    "axes[0, 0].set_title(f'Mask') \n",
    "axes[0, 0].imshow(mask, cmap='gray', vmin=0, vmax=255) \n",
    "axes[0, 1].set_title(f'Grayscale') # Greater than not \"greater or equal\" \n",
    "axes[0, 1].imshow(grayscale, cmap='gray', vmin=0, vmax=255)  \n",
    "axes[0, 2].set_title(f'Bitwise_OR')  \n",
    "axes[0, 2].imshow(bitwise_or, cmap='gray', vmin=0, vmax=255) \n",
    "axes[0, 3].set_title(f'Bitwise_XOR')  \n",
    "axes[0, 3].imshow(bitwise_xor, cmap='gray', vmin=0, vmax=255)   \n",
    "axes[0, 4].set_title(f'Bitwise_AND')  \n",
    "axes[0, 4].imshow(bitwise_and, cmap='gray', vmin=0, vmax=255) \n",
    "axes[0, 5].set_title(f'Bitwise_NOT')  \n",
    "axes[0, 5].imshow(bitwise_not, cmap='gray', vmin=0, vmax=255)  \n",
    "\n",
    "mask = np.ones((256, 256))*255 \n",
    "cv.rectangle(mask, (25,25), (200, 200), 0, -1) \n",
    "grayscale = np.zeros((256,1))+np.arange(256)   \n",
    "bitwise_or  = cv.bitwise_or (grayscale.copy(), mask.copy())  \n",
    "bitwise_xor = cv.bitwise_xor(grayscale.copy(), mask.copy()) \n",
    "bitwise_and = cv.bitwise_and(grayscale.copy(), mask.copy()) \n",
    "bitwise_not = cv.bitwise_not(grayscale.copy(), mask.copy())  \n",
    "\n",
    "axes[1, 0].imshow(mask, cmap='gray', vmin=0, vmax=255)  \n",
    "axes[1, 1].imshow(grayscale, cmap='gray', vmin=0, vmax=255)   \n",
    "axes[1, 2].imshow(bitwise_or, cmap='gray', vmin=0, vmax=255)  \n",
    "axes[1, 3].imshow(bitwise_xor, cmap='gray', vmin=0, vmax=255)  \n",
    "axes[1, 4].imshow(bitwise_and, cmap='gray', vmin=0, vmax=255)  \n",
    "axes[1, 5].imshow(bitwise_not, cmap='gray', vmin=0, vmax=255)  "
   ]
  }
 ],
 "metadata": {
  "kernelspec": {
   "display_name": "Python 3 (ipykernel)",
   "language": "python",
   "name": "python3"
  },
  "language_info": {
   "codemirror_mode": {
    "name": "ipython",
    "version": 3
   },
   "file_extension": ".py",
   "mimetype": "text/x-python",
   "name": "python",
   "nbconvert_exporter": "python",
   "pygments_lexer": "ipython3",
   "version": "3.11.3"
  }
 },
 "nbformat": 4,
 "nbformat_minor": 5
}
