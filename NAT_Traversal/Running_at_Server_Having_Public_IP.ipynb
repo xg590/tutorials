{
 "cells": [
  {
   "cell_type": "code",
   "execution_count": null,
   "metadata": {},
   "outputs": [],
   "source": [
    "import socket \n",
    "sock = socket.socket(socket.AF_INET,     # Internet Address Family for Internet Connection \n",
    "                     socket.SOCK_DGRAM)  # user DataGRAM protocol (UDP)\n",
    " \n",
    "port=50007                               # Arbitrary non-privileged port\n",
    "sock.bind(('0.0.0.0', port))\n", 
    "\n",
    "namePool, ipPool, portPool = [], [], []\n",
    "while True: \n",
    "    who, (ip, port) = sock.recvfrom(1024) \n",
    "    who = who.decode('utf-8')\n",
    "    print(\"Incoming Connection From Client {0}@{1}:{2}\".format(who, ip, port))\n",
    "    namePool.append(who) \n",
    "    ipPool.append(ip)\n",
    "    portPool.append(port)\n",
    "    if len(namePool) >= 2:  \n",
    "        name0 , name1 = namePool \n",
    "        ip0   , ip1   = ipPool \n",
    "        port0 , port1 = portPool\n",
    "        sock.sendto(','.join([name1,ip1,str(port1)]).encode('utf-8'), (ip0, port0)) \n",
    "        print(\"Inform Client {0} the Address of Client {1}\".format(name0, name1)) \n",
    "        sock.sendto(','.join([name0,ip0,str(port0)]).encode('utf-8'), (ip1, port1))  \n",
    "        print(\"Inform Client {0} the Address of Client {1}\".format(name1, name0)) \n",
    "        namePool, ipPool, portPool = [], [], []"
   ]
  }
 ],
 "metadata": {
  "kernelspec": {
   "display_name": "Python 3",
   "language": "python",
   "name": "python3"
  },
  "language_info": {
   "codemirror_mode": {
    "name": "ipython",
    "version": 3
   },
   "file_extension": ".py",
   "mimetype": "text/x-python",
   "name": "python",
   "nbconvert_exporter": "python",
   "pygments_lexer": "ipython3",
   "version": "3.6.6"
  }
 },
 "nbformat": 4,
 "nbformat_minor": 2
}
