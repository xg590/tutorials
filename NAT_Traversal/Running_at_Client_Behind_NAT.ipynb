{
 "cells": [
  {
   "cell_type": "code",
   "execution_count": null,
   "metadata": {},
   "outputs": [],
   "source": [
    "import socket\n",
    "sock = socket.socket(socket.AF_INET, socket.SOCK_DGRAM) \n",
    "\n",
    "serverIP='ipOfServer'                   \n",
    "port=50007 \n",
    "who = socket.gethostname().encode('utf-8')    # Tell server who I am and server will tell it to another client\n",
    "sock.sendto(who, (serverIP, port))            # It notifies the server this Client wants to participate the P2P network\n",
    "# sock.recvfrom() will block the main thread until it get a response from server\n",
    "infoOfAnotherClient, _ = sock.recvfrom(1024)  # This client will get response from server which \n",
    "                                              # specify where another client is when it's ready \n",
    "name, ip, port = infoOfAnotherClient.decode('utf-8').strip().split(',') # Here we know Where another client is \n",
    "print('Client {0} can be reach at {1}:{2}'.format(name, ip, port))         # From now on, the server can be shut down\n",
    "\n",
    "import time\n",
    "while 1: # This client will blandly send Greeting to another client no matter what it can get as the response\n",
    "    sock.sendto('Greeting From Client {0}'.format(who.decode()).encode('utf-8'), (ip, int(port)))\n",
    "    msgFromAnotherClient, addr = sock.recvfrom(1024)  # If Hold Punching success, \n",
    "                                                      # we will get msg directly from Another Client!\n",
    "    print('A Message from Client at {0}:{1} \\n{2}'.format(addr[0], addr[1], msgFromAnotherClient))\n",
    "    time.sleep(10)"
   ]
  }
 ],
 "metadata": {
  "kernelspec": {
   "display_name": "Python 3",
   "language": "python",
   "name": "python3"
  },
  "language_info": {
   "codemirror_mode": {
    "name": "ipython",
    "version": 3
   },
   "file_extension": ".py",
   "mimetype": "text/x-python",
   "name": "python",
   "nbconvert_exporter": "python",
   "pygments_lexer": "ipython3",
   "version": "3.6.5"
  }
 },
 "nbformat": 4,
 "nbformat_minor": 2
}
