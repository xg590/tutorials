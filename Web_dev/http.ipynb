{
 "cells": [
  {
   "cell_type": "code",
   "execution_count": null,
   "metadata": {
    "ExecuteTime": {
     "end_time": "2020-10-28T18:27:30.222166Z",
     "start_time": "2020-10-28T18:27:28.595775Z"
    }
   },
   "outputs": [],
   "source": [
    "import socket\n",
    "s = socket.socket(socket.AF_INET, socket.SOCK_STREAM)\n",
    "s.setsockopt(socket.SOL_SOCKET, socket.SO_REUSEADDR, 1)\n",
    "s.bind(('0.0.0.0', 5000))\n",
    "s.listen(0)"
   ]
  },
  {
   "cell_type": "code",
   "execution_count": null,
   "metadata": {
    "ExecuteTime": {
     "end_time": "2020-10-28T18:27:30.222166Z",
     "start_time": "2020-10-28T18:27:28.595775Z"
    }
   },
   "outputs": [],
   "source": [
    "response = f'''HTTP/1.1 200 OK \n",
    "Content-Length: 196\n",
    "Content-Type: text/html; charset=UTF-8\n",
    "\n",
    "<!DOCTYPE html>\n",
    "<html>\n",
    "  <head>\n",
    "    <title>This is a title!</title>\n",
    "  </head>\n",
    "  <body>\n",
    "    This is a body!</br>\n",
    "    Let's show a <b style=\"color:blue\">red and bold</b> sentence.\n",
    "  </body>\n",
    "</html>\n",
    "'''\n",
    "\n",
    "while 1:\n",
    "    c, a = s.accept()\n",
    "    print('[Conn from] {}:{}'.format(*a))\n",
    "    request = c.recv(1024)\n",
    "    c.send(response.encode()) "
   ]
  },
  {
   "cell_type": "code",
   "execution_count": null,
   "metadata": {
    "ExecuteTime": {
     "end_time": "2020-10-28T18:27:30.222166Z",
     "start_time": "2020-10-28T18:27:28.595775Z"
    }
   },
   "outputs": [],
   "source": [
    "response = '''<!DOCTYPE html>\n",
    "<html>\n",
    "  <body>\n",
    "    have 11165656111 fun~\n",
    "  </body>\n",
    "</html>'''\n",
    "\n",
    "while True:\n",
    "    c, a = s.accept()\n",
    "    print('[Conn from] {}:{}'.format(*a))\n",
    "    request = c.recv(1024)\n",
    "    res = f'''HTTP/1.1 200 OK \n",
    "Content-Length: {len(response)}\n",
    "Content-Type: text/html; charset=UTF-8\\n\\n''' + response \n",
    "\n",
    "    c.send(res.encode()) "
   ]
  },
  {
   "cell_type": "code",
   "execution_count": null,
   "metadata": {
    "ExecuteTime": {
     "end_time": "2020-10-28T18:27:30.222166Z",
     "start_time": "2020-10-28T18:27:28.595775Z"
    }
   },
   "outputs": [],
   "source": [
    "response = f'''HTTP/1.1 301 Moved Permanently\n",
    "Location: https://www.163.com/\n",
    "Content-Length: 0\n",
    "Connection: close\n",
    "\n",
    "'''\n",
    "\n",
    "while 1:\n",
    "    c, a = s.accept()\n",
    "    print('[Conn from] {}:{}'.format(*a))\n",
    "    request = c.recv(1024)\n",
    "    c.send(response.encode()) "
   ]
  },
  {
   "cell_type": "code",
   "execution_count": null,
   "metadata": {
    "ExecuteTime": {
     "end_time": "2020-10-28T18:27:30.222166Z",
     "start_time": "2020-10-28T18:27:28.595775Z"
    }
   },
   "outputs": [],
   "source": [
    "response = '''<!DOCTYPE html>\n",
    "<html>\n",
    "    <head>\n",
    "        <meta http-equiv=\"refresh\" content=\"0; url=https://www.sohu.com\" />\n",
    "    </head>\n",
    "</html>'''\n",
    "\n",
    "while True:\n",
    "    c, a = s.accept()\n",
    "    print('[Conn from] {}:{}'.format(*a))\n",
    "    request = c.recv(1024)\n",
    "    res = f'''HTTP/1.1 200 OK \n",
    "Content-Length: {len(response)}\n",
    "Content-Type: text/html; charset=UTF-8\\n\\n''' + response \n",
    "\n",
    "    c.send(res.encode()) "
   ]
  }
 ],
 "metadata": {
  "kernelspec": {
   "display_name": "Python 3 (ipykernel)",
   "language": "python",
   "name": "python3"
  },
  "language_info": {
   "codemirror_mode": {
    "name": "ipython",
    "version": 3
   },
   "file_extension": ".py",
   "mimetype": "text/x-python",
   "name": "python",
   "nbconvert_exporter": "python",
   "pygments_lexer": "ipython3",
   "version": "3.12.6"
  }
 },
 "nbformat": 4,
 "nbformat_minor": 4
}
