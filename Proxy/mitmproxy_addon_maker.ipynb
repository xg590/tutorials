{
 "cells": [
  {
   "cell_type": "code",
   "execution_count": null,
   "id": "eab31500",
   "metadata": {},
   "outputs": [],
   "source": [
    "class ModifyResponseHeader:  \n",
    "    def request(self, flow):\n",
    "        flow.request.headers[\"foo\"] = \"bar\"\n",
    "        \n",
    "    def response(self, flow): \n",
    "        flow.response.headers[\"bar\"] = \"foo\" \n",
    "\n",
    "addons = [ ModifyResponseHeader() ] "
   ]
  },
  {
   "cell_type": "code",
   "execution_count": null,
   "id": "b7e03f47",
   "metadata": {},
   "outputs": [],
   "source": [
    "if __name__ == \"__main__\":\n",
    "    !jupyter nbconvert mitmproxy_addon_maker.ipynb --to script --stdout > addon.py\n",
    "    # https://docs.mitmproxy.org/stable/concepts-options/\n",
    "    !mitmdump -s addon.py --listen-host 0.0.0.0 --listen-port 8080 -w mitm.flow "
   ]
  },
  {
   "cell_type": "code",
   "execution_count": null,
   "id": "44896a90",
   "metadata": {},
   "outputs": [],
   "source": [
    "if __name__ == \"__main__\":\n",
    "    from mitmproxy import io, http\n",
    "    from mitmproxy.exceptions import FlowReadException \n",
    "\n",
    "    with open(\"mitm.flow\", \"rb\") as logfile:\n",
    "        freader = io.FlowReader(logfile) \n",
    "        try:\n",
    "            for f in freader.stream(): \n",
    "                if not isinstance(f, http.HTTPFlow): continue\n",
    "                print(\"[URL]\", f.request.url)\n",
    "                #if f.response.headers.get(b'Content-Type') in ['image/png', 'image/jpeg']: continue\n",
    "        except FlowReadException as e:\n",
    "            print(f\"Flow file corrupted: {e}\") "
   ]
  }
 ],
 "metadata": {
  "kernelspec": {
   "display_name": "Python 3 (ipykernel)",
   "language": "python",
   "name": "python3"
  },
  "language_info": {
   "codemirror_mode": {
    "name": "ipython",
    "version": 3
   },
   "file_extension": ".py",
   "mimetype": "text/x-python",
   "name": "python",
   "nbconvert_exporter": "python",
   "pygments_lexer": "ipython3",
   "version": "3.9.2"
  }
 },
 "nbformat": 4,
 "nbformat_minor": 5
}
