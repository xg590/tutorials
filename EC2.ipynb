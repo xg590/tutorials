{
 "cells": [
  {
   "cell_type": "markdown",
   "metadata": {
    "code_folding": []
   },
   "source": [
    "### Retrieves all regions that work with EC2"
   ]
  },
  {
   "cell_type": "code",
   "execution_count": null,
   "metadata": {},
   "outputs": [],
   "source": [
    "# pip install boto3\n",
    "import boto3, time # see https://boto3.amazonaws.com/v1/documentation/api/latest/reference/services/ec2.html\n",
    "print('Regions:', boto3.Session().get_available_regions('ec2')) "
   ]
  },
  {
   "cell_type": "markdown",
   "metadata": {},
   "source": [
    "us-east-1       @  N. Virginia     \n",
    "us-east-2       @  Ohio            \n",
    "us-west-1       @  N. California   \n",
    "us-west-2       @  Oregon          \n",
    "af-south-1      @  Cape Town       \n",
    "ap-east-1       @  Hong Kong       \n",
    "ap-south-1      @  Mumbai          \n",
    "ap-northeast-2  @  Seoul           \n",
    "ap-southeast-1  @  Singapore       \n",
    "ap-southeast-2  @  Sydney          \n",
    "ap-northeast-1  @  Tokyo           \n",
    "ca-central-1    @  Central Canada         \n",
    "eu-central-1    @  Frankfurt       \n",
    "eu-west-1       @  Ireland         \n",
    "eu-west-2       @  London          \n",
    "eu-south-1      @  Milan           \n",
    "eu-west-3       @  Paris           \n",
    "eu-north-1      @  Stockholm       \n",
    "me-south-1      @  Bahrain         \n",
    "sa-east-1       @  São Paulo   "
   ]
  },
  {
   "cell_type": "markdown",
   "metadata": {},
   "source": [
    "### Create a session and play at Oregon (us-west-2)"
   ]
  },
  {
   "cell_type": "code",
   "execution_count": null,
   "metadata": {},
   "outputs": [],
   "source": [
    "import secret # my personal variables \n",
    "aws_access_key_id     = secret.aws_access_key_id\n",
    "aws_secret_access_key = secret.aws_secret_access_key  \n",
    "\n",
    "region_name = 'us-west-2'\n",
    "session = boto3.Session(region_name           = region_name          , \n",
    "                        aws_access_key_id     = aws_access_key_id    , \n",
    "                        aws_secret_access_key = aws_secret_access_key)"
   ]
  },
  {
   "cell_type": "markdown",
   "metadata": {},
   "source": [
    "### Create a client "
   ]
  },
  {
   "cell_type": "code",
   "execution_count": null,
   "metadata": {},
   "outputs": [],
   "source": [
    "client = session.client('ec2')"
   ]
  },
  {
   "cell_type": "markdown",
   "metadata": {},
   "source": [
    "### Create a resource  "
   ]
  },
  {
   "cell_type": "code",
   "execution_count": null,
   "metadata": {},
   "outputs": [],
   "source": [
    "resource = session.resource('ec2')"
   ]
  },
  {
   "cell_type": "markdown",
   "metadata": {},
   "source": [
    "### Create a ssh key pair for the region of Oregon"
   ]
  },
  {
   "cell_type": "code",
   "execution_count": null,
   "metadata": {},
   "outputs": [],
   "source": [
    "myKeyPair = resource.create_key_pair(KeyName='my_keypair_at_Oregon')"
   ]
  },
  {
   "cell_type": "markdown",
   "metadata": {},
   "source": [
    "### Change firewall rule to allow inbound ssh connection"
   ]
  },
  {
   "cell_type": "code",
   "execution_count": null,
   "metadata": {},
   "outputs": [],
   "source": [
    "VpcId = client.describe_vpcs(\n",
    "    Filters=[{'Name': 'isDefault', 'Values': ['true']}] \n",
    ")['Vpcs'][0]['VpcId']\n",
    "\n",
    "GroupId = client.describe_security_groups(\n",
    "    Filters=[{'Name': 'vpc-id', 'Values': [VpcId]}, {'Name': 'group-name', 'Values': ['default']}]\n",
    ")['SecurityGroups'][0]['GroupId']\n",
    "\n",
    "sg = resource.SecurityGroup(GroupId)\n",
    "_ = sg.revoke_ingress(IpPermissions=sg.ip_permissions) # delete default permission  \n",
    "_ = sg.authorize_ingress(IpPermissions=[               # create new one\n",
    "                         {'IpProtocol': 'tcp',\n",
    "                          'FromPort': 22,\n",
    "                          'ToPort': 22,\n",
    "                          'IpRanges': [{'CidrIp': '0.0.0.0/0'}]}\n",
    "]) "
   ]
  },
  {
   "cell_type": "markdown",
   "metadata": {},
   "source": [
    "### Get the latest image of Ubuntu 20.04"
   ]
  },
  {
   "cell_type": "code",
   "execution_count": null,
   "metadata": {},
   "outputs": [],
   "source": [
    "ubuntu_20_04_images = client.describe_images(    \n",
    "    Filters=[\n",
    "        { 'Name': 'architecture', 'Values': [ 'x86_64', ] },\n",
    "        { 'Name': 'image-type', 'Values': [ 'machine', ] },\n",
    "        { 'Name': 'state', 'Values': [ 'available', ] }, \n",
    "        { 'Name': 'name', 'Values': [ 'ubuntu/images/hvm-ssd/ubuntu-focal-20.04-amd64-server-????????', ] },]\n",
    ")['Images'] \n",
    "from operator import itemgetter \n",
    "image_id_of_latest_ubuntu_20_04 = sorted(ubuntu_20_04_images, key=itemgetter('CreationDate'), reverse=True)[0]['ImageId']"
   ]
  },
  {
   "cell_type": "markdown",
   "metadata": {},
   "source": [
    "### Run the instance"
   ]
  },
  {
   "cell_type": "code",
   "execution_count": null,
   "metadata": {
    "code_folding": []
   },
   "outputs": [],
   "source": [
    "instanceInfo = resource.create_instances( \n",
    "    KeyName=myKeyPair.key_name,              # ssh key\n",
    "    ImageId=image_id_of_latest_ubuntu_20_04,  \n",
    "    InstanceType='t2.micro',\n",
    "    MaxCount=1,\n",
    "    MinCount=1,\n",
    "    EbsOptimized=False,   \n",
    "    NetworkInterfaces=[\n",
    "        {    \n",
    "            'AssociatePublicIpAddress': True,\n",
    "            'DeleteOnTermination': True, \n",
    "            'DeviceIndex': 0,\n",
    "        }, \n",
    "    ] \n",
    ")"
   ]
  },
  {
   "cell_type": "markdown",
   "metadata": {},
   "source": [
    "### IP and private key for SSH connection"
   ]
  },
  {
   "cell_type": "code",
   "execution_count": null,
   "metadata": {},
   "outputs": [],
   "source": [
    "myInstance = resource.Instance(instanceInfo[0].instance_id)\n",
    "myInstance.wait_until_running()\n",
    "print('Public IP:', myInstance.public_ip_address)\n",
    "print(myKeyPair.key_material)"
   ]
  },
  {
   "cell_type": "markdown",
   "metadata": {},
   "source": [
    "# Delete the instance !!!"
   ]
  },
  {
   "cell_type": "code",
   "execution_count": null,
   "metadata": {},
   "outputs": [],
   "source": [
    "myInstance.terminate()"
   ]
  }
 ],
 "metadata": {
  "kernelspec": {
   "display_name": "Python 3",
   "language": "python",
   "name": "python3"
  },
  "language_info": {
   "codemirror_mode": {
    "name": "ipython",
    "version": 3
   },
   "file_extension": ".py",
   "mimetype": "text/x-python",
   "name": "python",
   "nbconvert_exporter": "python",
   "pygments_lexer": "ipython3",
   "version": "3.8.2"
  }
 },
 "nbformat": 4,
 "nbformat_minor": 4
}
