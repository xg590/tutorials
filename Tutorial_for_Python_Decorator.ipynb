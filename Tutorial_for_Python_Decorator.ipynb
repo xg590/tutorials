{
 "cells": [
  {
   "cell_type": "markdown",
   "metadata": {},
   "source": [
    "# Author: Geir Arne Hjelle \n",
    "* https://realpython.com/primer-on-python-decorators/#classes-as-decorators\n",
    "* Adaptation by xg590@nyu.edu"
   ]
  },
  {
   "cell_type": "markdown",
   "metadata": {},
   "source": [
    "### Function is object. Pass it into another function."
   ]
  },
  {
   "cell_type": "code",
   "execution_count": 1,
   "metadata": {},
   "outputs": [
    {
     "name": "stdout",
     "output_type": "stream",
     "text": [
      "Hello Bob\n"
     ]
    }
   ],
   "source": [
    "def inner_function(name):\n",
    "    print(f\"Hello {name}\") \n",
    "\n",
    "def outer_function(foo):\n",
    "    foo(\"Bob\") \n",
    "\n",
    "outer_function(inner_function)"
   ]
  },
  {
   "cell_type": "markdown",
   "metadata": {},
   "source": [
    "### Object can be returned."
   ]
  },
  {
   "cell_type": "code",
   "execution_count": 2,
   "metadata": {},
   "outputs": [
    {
     "name": "stdout",
     "output_type": "stream",
     "text": [
      "Hello Bob\n"
     ]
    }
   ],
   "source": [
    "def func(): \n",
    "    return print \n",
    "    \n",
    "inner = func()\n",
    "inner(\"Hello Bob\")"
   ]
  },
  {
   "cell_type": "markdown",
   "metadata": {},
   "source": [
    "### We can time the function say_whee like this."
   ]
  },
  {
   "cell_type": "code",
   "execution_count": 3,
   "metadata": {},
   "outputs": [
    {
     "name": "stdout",
     "output_type": "stream",
     "text": [
      "Whee!\n",
      "Function say_whee finishs in 0.008 seconds!\n"
     ]
    }
   ],
   "source": [
    "import time\n",
    "def wrapper_in_decorator(): # This function will be returned\n",
    "    start_time = time.time()\n",
    "    \n",
    "    def say_whee():\n",
    "        print(\"Whee!\")\n",
    "    \n",
    "    say_whee()\n",
    "    \n",
    "    print('Function ' + say_whee.__name__ + ' finishs in ' + str(round(time.time()-start_time, 3)) + ' seconds!') \n",
    "\n",
    "wrapper_in_decorator()"
   ]
  },
  {
   "cell_type": "markdown",
   "metadata": {},
   "source": [
    "### We can also time it like this"
   ]
  },
  {
   "cell_type": "code",
   "execution_count": 4,
   "metadata": {
    "code_folding": []
   },
   "outputs": [
    {
     "name": "stdout",
     "output_type": "stream",
     "text": [
      "Whee!\n",
      "Function say_whee finishs in 0.002 seconds!\n"
     ]
    }
   ],
   "source": [
    "def timer(foo): \n",
    "    def wrapper_in_decorator(): # This function will be returned\n",
    "        start_time = time.time()\n",
    "        \n",
    "        foo() # foo == say_whee\n",
    "        \n",
    "        print('Function ' + foo.__name__ + ' finishs in ' + str(round(time.time()-start_time, 3)) + ' seconds!') \n",
    "    \n",
    "    return wrapper_in_decorator\n",
    "\n",
    "def say_whee():\n",
    "    print(\"Whee!\")\n",
    "\n",
    "say_whee = timer(say_whee) # say_whee == wrapper_in_decorator\n",
    "say_whee()"
   ]
  },
  {
   "cell_type": "markdown",
   "metadata": {},
   "source": [
    "### Time say_whee in a decorative way"
   ]
  },
  {
   "cell_type": "code",
   "execution_count": 5,
   "metadata": {},
   "outputs": [
    {
     "name": "stdout",
     "output_type": "stream",
     "text": [
      "Whee!\n",
      "Function say_whee finishs in 0.006 seconds!\n"
     ]
    }
   ],
   "source": [
    "@timer\n",
    "def say_whee():\n",
    "    print(\"Whee!\") \n",
    "\n",
    "say_whee()"
   ]
  },
  {
   "cell_type": "markdown",
   "metadata": {},
   "source": [
    "### Time a function that takes argument "
   ]
  },
  {
   "cell_type": "code",
   "execution_count": 6,
   "metadata": {
    "code_folding": []
   },
   "outputs": [
    {
     "name": "stdout",
     "output_type": "stream",
     "text": [
      "Whee!\n",
      "Function say_whee finishs in 0.008 seconds!\n"
     ]
    },
    {
     "data": {
      "text/plain": [
       "'This is the return of say_whee'"
      ]
     },
     "execution_count": 6,
     "metadata": {},
     "output_type": "execute_result"
    }
   ],
   "source": [
    "def timer(foo): \n",
    "    def wrapper_in_decorator(*args, **kwargs): # This function will be returned, so it must takes arguments\n",
    "        start_time = time.time()\n",
    "        r = foo(*args, **kwargs)\n",
    "        print('Function ' + foo.__name__ + ' finishs in ' + str(round(time.time()-start_time, 3)) + ' seconds!')\n",
    "        return r \n",
    "    \n",
    "    return wrapper_in_decorator\n",
    "\n",
    "@timer\n",
    "def say_whee(The_argument_would_be_Whee):\n",
    "    print(The_argument_would_be_Whee) \n",
    "    return \"This is the return of say_whee\"\n",
    " \n",
    "say_whee(\"Whee!\")"
   ]
  },
  {
   "cell_type": "markdown",
   "metadata": {},
   "source": [
    "### Timer function takes argument, which is useless."
   ]
  },
  {
   "cell_type": "code",
   "execution_count": 7,
   "metadata": {},
   "outputs": [
    {
     "name": "stdout",
     "output_type": "stream",
     "text": [
      "something\n",
      "special\n"
     ]
    }
   ],
   "source": [
    "def repeater(argument_of_repeater):\n",
    "    print(argument_of_repeater) \n",
    "    def func(foo): \n",
    "        return foo\n",
    "    return func \n",
    "\n",
    "@repeater(\"something\")\n",
    "def printer(anything):\n",
    "    print(anything)\n",
    "\n",
    "printer(\"special\")"
   ]
  },
  {
   "cell_type": "markdown",
   "metadata": {},
   "source": [
    "### Something interesting"
   ]
  },
  {
   "cell_type": "code",
   "execution_count": 8,
   "metadata": {},
   "outputs": [
    {
     "name": "stdout",
     "output_type": "stream",
     "text": [
      "anything\n",
      "anything\n",
      "anything\n",
      "anything\n"
     ]
    }
   ],
   "source": [
    "def repeater(i): \n",
    "    def wrapper_in_repeater(foo):\n",
    "        def bar(*arg, **kwarg):\n",
    "            for j in range(i):\n",
    "                foo(*arg, **kwarg) \n",
    "        return bar\n",
    "    return wrapper_in_repeater \n",
    " \n",
    "wrapper = repeater(4) # wrapper_in_repeater\n",
    " \n",
    "def printer(something):\n",
    "    print(something)\n",
    "\n",
    "bar = wrapper(printer)\n",
    "bar(\"anything\")"
   ]
  },
  {
   "cell_type": "markdown",
   "metadata": {},
   "source": [
    "### Something useful"
   ]
  },
  {
   "cell_type": "code",
   "execution_count": 9,
   "metadata": {},
   "outputs": [
    {
     "name": "stdout",
     "output_type": "stream",
     "text": [
      "anything\n",
      "anything\n",
      "anything\n",
      "anything\n"
     ]
    }
   ],
   "source": [
    "def repeater(i): \n",
    "    def wrapper_in_repeater(foo):\n",
    "        def bar(*arg, **kwarg):\n",
    "            for j in range(i):\n",
    "                foo(*arg, **kwarg) \n",
    "        return bar\n",
    "    return wrapper_in_repeater \n",
    "\n",
    "@repeater(4)\n",
    "def printer(something):\n",
    "    print(something)\n",
    "\n",
    "printer(\"anything\")"
   ]
  },
  {
   "cell_type": "markdown",
   "metadata": {},
   "source": [
    "### Decorate fuction with class -- without using syntax sugar"
   ]
  },
  {
   "cell_type": "code",
   "execution_count": 10,
   "metadata": {},
   "outputs": [],
   "source": [
    "class count_when_called:\n",
    "    def __init__(self, func): \n",
    "        self.func = func\n",
    "        self.num_calls = 0\n",
    "\n",
    "    def __call__(self, *args, **kwargs):\n",
    "        self.num_calls += 1\n",
    "        print('function __call__ is working!')\n",
    "        print(f\"Call {self.num_calls} of {self.func.__name__!r}\")\n",
    "        return self.func(*args, **kwargs)\n",
    "    def proof(self):\n",
    "        print('This is a class!')\n",
    "\n",
    "@repeater(4)\n",
    "def say_whee():\n",
    "    print(\"Whee!\")   \n",
    "    \n",
    "say_whee = count_when_called(say_whee)"
   ]
  },
  {
   "cell_type": "code",
   "execution_count": 11,
   "metadata": {},
   "outputs": [
    {
     "name": "stdout",
     "output_type": "stream",
     "text": [
      "function __call__ is working!\n",
      "Call 1 of 'bar'\n",
      "Whee!\n",
      "Whee!\n",
      "Whee!\n",
      "Whee!\n"
     ]
    }
   ],
   "source": [
    "say_whee() "
   ]
  },
  {
   "cell_type": "code",
   "execution_count": 12,
   "metadata": {},
   "outputs": [
    {
     "name": "stdout",
     "output_type": "stream",
     "text": [
      "This is a class!\n"
     ]
    }
   ],
   "source": [
    "say_whee.proof()"
   ]
  },
  {
   "cell_type": "markdown",
   "metadata": {},
   "source": [
    "### With syntax sugar"
   ]
  },
  {
   "cell_type": "code",
   "execution_count": 13,
   "metadata": {},
   "outputs": [
    {
     "name": "stdout",
     "output_type": "stream",
     "text": [
      "function __call__ is working!\n",
      "Call 1 of 'say_hello'\n",
      "hello！\n"
     ]
    }
   ],
   "source": [
    "@count_when_called\n",
    "def say_hello():\n",
    "    print(\"hello！\")   \n",
    "    \n",
    "say_hello()"
   ]
  },
  {
   "cell_type": "code",
   "execution_count": 14,
   "metadata": {},
   "outputs": [
    {
     "name": "stdout",
     "output_type": "stream",
     "text": [
      "This is a class!\n"
     ]
    }
   ],
   "source": [
    "say_hello.proof()"
   ]
  }
 ],
 "metadata": {
  "kernelspec": {
   "display_name": "Python 3",
   "language": "python",
   "name": "python3"
  },
  "language_info": {
   "codemirror_mode": {
    "name": "ipython",
    "version": 3
   },
   "file_extension": ".py",
   "mimetype": "text/x-python",
   "name": "python",
   "nbconvert_exporter": "python",
   "pygments_lexer": "ipython3",
   "version": "3.6.7"
  }
 },
 "nbformat": 4,
 "nbformat_minor": 2
}
