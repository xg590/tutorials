{
 "cells": [
  {
   "cell_type": "code",
   "execution_count": null,
   "id": "c0817533",
   "metadata": {},
   "outputs": [],
   "source": [
    "# pip install flask==2.0.1 flask_socketio==5.1.1 gevent gevent-websocket"
   ]
  },
  {
   "cell_type": "code",
   "execution_count": null,
   "id": "8ab411ea",
   "metadata": {},
   "outputs": [],
   "source": [
    "from flask import Flask, render_template_string\n",
    "from flask_socketio import SocketIO, emit\n",
    "\n",
    "app = Flask(__name__)\n",
    "socketio = SocketIO(app)\n",
    "\n",
    "@app.route('/')\n",
    "def index():\n",
    "    return render_template_string(\"\"\"\n",
    "    <!DOCTYPE html>\n",
    "    <html lang=\"en\">\n",
    "       <head>\n",
    "          <meta charset=\"UTF-8\"> \n",
    "          <script src=\"https://cdn.socket.io/4.1.2/socket.io.min.js\" integrity=\"sha384-toS6mmwu70G0fw54EGlWWeA4z3dyJ+dlXBtSURSKN4vyRFOcxd3Bzjj/AoOwY+Rg\" crossorigin=\"anonymous\"> </script>\n",
    "       </head>\n",
    "       <body>  \n",
    "        <span id=\"log\"></span>\n",
    "        <script type=\"text/javascript\"> \n",
    "          var socket = io.connect('http://localhost:5000'); \n",
    "          socket.on('foo', function(msg) {  \n",
    "              document.getElementById(\"log\").innerHTML = msg.data;    \n",
    "          });\n",
    "        </script>\n",
    "       </body>\n",
    "    </html> \n",
    "    \"\"\")\n",
    "\n",
    "@socketio.on('connect')\n",
    "def test_connect():\n",
    "    emit('foo',  {'data':'Hello World'})\n",
    "\n",
    "if __name__ == '__main__':\n",
    "    socketio.run(app, host=\"0.0.0.0\", port=5000)"
   ]
  }
 ],
 "metadata": {
  "kernelspec": {
   "display_name": "Python 3 (ipykernel)",
   "language": "python",
   "name": "python3"
  },
  "language_info": {
   "codemirror_mode": {
    "name": "ipython",
    "version": 3
   },
   "file_extension": ".py",
   "mimetype": "text/x-python",
   "name": "python",
   "nbconvert_exporter": "python",
   "pygments_lexer": "ipython3",
   "version": "3.8.10"
  }
 },
 "nbformat": 4,
 "nbformat_minor": 5
}
