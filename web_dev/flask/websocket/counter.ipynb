{
 "cells": [
  {
   "cell_type": "code",
   "execution_count": null,
   "id": "71971a2d",
   "metadata": {},
   "outputs": [],
   "source": [
    "# pip install flask flask-socketio"
   ]
  },
  {
   "cell_type": "markdown",
   "id": "52eb37ea",
   "metadata": {},
   "source": [
    "### How many times does button get clicked"
   ]
  },
  {
   "cell_type": "code",
   "execution_count": null,
   "id": "1e54c4a1",
   "metadata": {
    "code_folding": [
     28
    ]
   },
   "outputs": [],
   "source": [
    "from flask import Flask, render_template_string\n",
    "from flask_socketio import SocketIO, send, emit\n",
    "\n",
    "app = Flask(__name__) \n",
    "socketio = SocketIO(app, logger=True, engineio_logger=True)\n",
    " \n",
    "count = 0\n",
    "@app.route(\"/\")\n",
    "def hello():\n",
    "    global count\n",
    "    return render_template_string('''\n",
    "<!DOCTYPE html>\n",
    "<html>\n",
    "<head>\n",
    "    <title> counter </title>\n",
    "    <script src=\"https://cdnjs.cloudflare.com/ajax/libs/socket.io/4.0.1/socket.io.js\" \n",
    "            integrity=\"sha512-q/dWJ3kcmjBLU4Qc47E4A9kTB4m3wuTY7vkFJDTZKjTs8jhyGQnaUrxa0Ytd0ssMZhbNua9hE+E7Qv1j+DyZwA==\" \n",
    "            crossorigin=\"anonymous\">\n",
    "    </script> \n",
    "</head>\n",
    "<body>\n",
    " \n",
    "<script type=\"text/javascript\" charset=\"utf-8\">\n",
    "    var socket = io.connect('http://localhost:5000');  \n",
    "    socket.on('response', function (count) {\n",
    "        document.getElementById('counter').innerHTML = count;\n",
    "    });\n",
    "    function myClick() {\n",
    "        socket.emit(\"bar\"); \n",
    "    } \n",
    "</script>\n",
    "\n",
    "<div>\n",
    "    <span>Counter:</span> \n",
    "    <span id=\"counter\">{{count}}</span> <br/>\n",
    "    <button onclick=\"myClick()\">Click Me!</button> \n",
    "</div>\n",
    "\n",
    "</body>\n",
    "</html>\n",
    "''', count=count)  \n",
    "\n",
    "@socketio.on('bar')\n",
    "def handle_it(): \n",
    "    global count\n",
    "    count += 1 \n",
    "    emit('response', count)\n",
    "    \n",
    "if __name__ == '__main__':\n",
    "    socketio.run(app, host=\"127.0.0.1\", port=5000) "
   ]
  }
 ],
 "metadata": {
  "kernelspec": {
   "display_name": "Python 3 (ipykernel)",
   "language": "python",
   "name": "python3"
  },
  "language_info": {
   "codemirror_mode": {
    "name": "ipython",
    "version": 3
   },
   "file_extension": ".py",
   "mimetype": "text/x-python",
   "name": "python",
   "nbconvert_exporter": "python",
   "pygments_lexer": "ipython3",
   "version": "3.8.10"
  }
 },
 "nbformat": 4,
 "nbformat_minor": 5
}
