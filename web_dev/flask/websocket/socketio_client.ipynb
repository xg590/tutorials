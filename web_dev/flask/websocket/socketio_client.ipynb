{
 "cells": [
  {
   "cell_type": "code",
   "execution_count": null,
   "id": "31a71bdb",
   "metadata": {},
   "outputs": [],
   "source": [
    "# pip install python-socketio requests"
   ]
  },
  {
   "cell_type": "code",
   "execution_count": null,
   "id": "77150453",
   "metadata": {},
   "outputs": [],
   "source": [
    "import socketio\n",
    "\n",
    "sio = socketio.Client()\n",
    "\n",
    "@sio.event\n",
    "def connect():\n",
    "    print('connection established')\n",
    "    #sio.emit('login', {'token': 'token'})\n",
    "\n",
    "@sio.event\n",
    "def my_message(data):\n",
    "    print('message received with ', data)\n",
    "\n",
    "@sio.event\n",
    "def disconnect():\n",
    "    print('disconnected from server')\n",
    "    \n",
    "@sio.on('my message')\n",
    "def on_message(data):\n",
    "    print('I received a message!')\n",
    "\n",
    "sio.connect('http://xg590.xyz:5000')\n",
    "print('my sid is', sio.sid) \n",
    "sio.emit('joystick', {'foo': 'bar'})  \n",
    "\n",
    "sio.emit('joystick', {'foo': 'bar'})  \n",
    "sio.await()"
   ]
  }
 ],
 "metadata": {
  "kernelspec": {
   "display_name": "Python 3 (ipykernel)",
   "language": "python",
   "name": "python3"
  },
  "language_info": {
   "codemirror_mode": {
    "name": "ipython",
    "version": 3
   },
   "file_extension": ".py",
   "mimetype": "text/x-python",
   "name": "python",
   "nbconvert_exporter": "python",
   "pygments_lexer": "ipython3",
   "version": "3.7.3"
  }
 },
 "nbformat": 4,
 "nbformat_minor": 5
}
