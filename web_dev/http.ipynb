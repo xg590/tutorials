{
 "cells": [
  {
   "cell_type": "code",
   "execution_count": 1,
   "metadata": {
    "ExecuteTime": {
     "end_time": "2020-10-28T18:27:30.222166Z",
     "start_time": "2020-10-28T18:27:28.595775Z"
    }
   },
   "outputs": [
    {
     "name": "stdout",
     "output_type": "stream",
     "text": [
      "GET / HTTP/1.1\r\n",
      "Host: 127.0.0.1:12345\r\n",
      "User-Agent: python-requests/2.22.0\r\n",
      "Accept-Encoding: gzip, deflate\r\n",
      "Accept: */*\r\n",
      "Connection: keep-alive\r\n",
      "\r\n",
      "\n"
     ]
    }
   ],
   "source": [
    "import socket\n",
    "s = socket.socket(socket.AF_INET, socket.SOCK_STREAM)\n",
    "s.bind(('127.0.0.1', 12345))\n",
    "s.listen(0)\n",
    "\n",
    "c, a = s.accept()\n",
    "request = c.recv(1024) \n",
    "print(request.decode())"
   ]
  },
  {
   "cell_type": "code",
   "execution_count": 2,
   "metadata": {
    "ExecuteTime": {
     "end_time": "2020-10-28T18:27:30.337515Z",
     "start_time": "2020-10-28T18:27:30.226374Z"
    }
   },
   "outputs": [
    {
     "data": {
      "text/plain": [
       "201"
      ]
     },
     "execution_count": 2,
     "metadata": {},
     "output_type": "execute_result"
    }
   ],
   "source": [
    "response = '''HTTP/1.1 200 OK \n",
    "Content-Length: 124\n",
    "Content-Type: text/html; charset=UTF-8\n",
    "\n",
    "<!DOCTYPE html>\n",
    "<html>\n",
    "  <head>\n",
    "    <title>This is a title!</title>\n",
    "  </head>\n",
    "  <body>\n",
    "    This is a body!\n",
    "  </body>\n",
    "</html>'''\n",
    "c.send(response.encode()) "
   ]
  }
 ],
 "metadata": {
  "kernelspec": {
   "display_name": "Python 3",
   "language": "python",
   "name": "python3"
  },
  "language_info": {
   "codemirror_mode": {
    "name": "ipython",
    "version": 3
   },
   "file_extension": ".py",
   "mimetype": "text/x-python",
   "name": "python",
   "nbconvert_exporter": "python",
   "pygments_lexer": "ipython3",
   "version": "3.8.2"
  }
 },
 "nbformat": 4,
 "nbformat_minor": 4
}
