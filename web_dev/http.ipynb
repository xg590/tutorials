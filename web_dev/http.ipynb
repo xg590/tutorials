{
 "cells": [
  {
   "cell_type": "code",
   "execution_count": 1,
   "metadata": {
    "ExecuteTime": {
     "end_time": "2020-10-28T17:31:25.563533Z",
     "start_time": "2020-10-28T17:31:20.517943Z"
    }
   },
   "outputs": [
    {
     "name": "stdout",
     "output_type": "stream",
     "text": [
      "GET / HTTP/1.1\r\n",
      "Host: localhost:12345\r\n",
      "Connection: keep-alive\r\n",
      "Upgrade-Insecure-Requests: 1\r\n",
      "User-Agent: Mozilla/5.0 (Windows NT 10.0; Win64; x64) AppleWebKit/537.36 (KHTML, like Gecko) Chrome/86.0.4240.111 Safari/537.36\r\n",
      "Accept: text/html,application/xhtml+xml,application/xml;q=0.9,image/avif,image/webp,image/apng,*/*;q=0.8,application/signed-exchange;v=b3;q=0.9\r\n",
      "Sec-Fetch-Site: none\r\n",
      "Sec-Fetch-Mode: navigate\r\n",
      "Sec-Fetch-Dest: document\r\n",
      "Accept-Encoding: gzip, deflate, br\r\n",
      "Accept-Language: en-US,en;q=0.9\r\n",
      "\r\n",
      "\n"
     ]
    }
   ],
   "source": [
    "import socket\n",
    "s = socket.socket(socket.AF_INET, socket.SOCK_STREAM)\n",
    "s.bind(('127.0.0.1', 12345))\n",
    "s.listen(0)\n",
    "\n",
    "c, a = s.accept()\n",
    "request = c.recv(1024) \n",
    "print(request.decode())"
   ]
  },
  {
   "cell_type": "code",
   "execution_count": 2,
   "metadata": {
    "ExecuteTime": {
     "end_time": "2020-10-28T17:31:25.814169Z",
     "start_time": "2020-10-28T17:31:25.569458Z"
    }
   },
   "outputs": [
    {
     "data": {
      "text/plain": [
       "201"
      ]
     },
     "execution_count": 2,
     "metadata": {},
     "output_type": "execute_result"
    }
   ],
   "source": [
    "response = '''HTTP/1.1 200 OK \n",
    "Content-Length: 124\n",
    "Content-Type: text/html; charset=UTF-8\n",
    "\n",
    "<!DOCTYPE html>\n",
    "<html>\n",
    "  <head>\n",
    "    <title>This is a title!</title>\n",
    "  </head>\n",
    "  <body>\n",
    "    This is a body!\n",
    "  </body>\n",
    "</html>'''\n",
    "c.send(response.encode()) "
   ]
  }
 ],
 "metadata": {
  "kernelspec": {
   "display_name": "Python 3",
   "language": "python",
   "name": "python3"
  },
  "language_info": {
   "codemirror_mode": {
    "name": "ipython",
    "version": 3
   },
   "file_extension": ".py",
   "mimetype": "text/x-python",
   "name": "python",
   "nbconvert_exporter": "python",
   "pygments_lexer": "ipython3",
   "version": "3.8.2"
  }
 },
 "nbformat": 4,
 "nbformat_minor": 4
}
