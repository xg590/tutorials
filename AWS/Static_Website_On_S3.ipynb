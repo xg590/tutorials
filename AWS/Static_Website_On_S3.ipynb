{
 "cells": [
  {
   "cell_type": "code",
   "execution_count": 1,
   "metadata": {
    "ExecuteTime": {
     "end_time": "2020-09-22T12:03:40.595556Z",
     "start_time": "2020-09-22T12:03:40.282477Z"
    }
   },
   "outputs": [],
   "source": [
    "# pip install boto3 \n",
    "import secret, time, boto3 # https://boto3.amazonaws.com/v1/documentation/api/latest/reference/services/s3.html\n",
    "\n",
    "def AWS_Session(region_name): \n",
    "    aws_access_key_id     = secret.aws_access_key_id\n",
    "    aws_secret_access_key = secret.aws_secret_access_key   \n",
    "    session = boto3.Session(region_name           = region_name          , \n",
    "                            aws_access_key_id     = aws_access_key_id    , \n",
    "                            aws_secret_access_key = aws_secret_access_key)    \n",
    "    return session\n",
    "\n",
    "session = AWS_Session(region_name='us-east-1')    \n",
    "\n",
    "class S3:\n",
    "    def __init__(self):  \n",
    "        self.client = session.client('s3')\n",
    "        self.Buckets = {}\n",
    "        \n",
    "    def add_new_bucket(self, bucket_name):\n",
    "        bucket = session.resource('s3').Bucket(bucket_name)\n",
    "        self.Buckets.update({bucket_name:bucket}) \n",
    "        return True\n",
    "\n",
    "s3 = S3()"
   ]
  },
  {
   "cell_type": "markdown",
   "metadata": {},
   "source": [
    "### Create a publically accessible bucket"
   ]
  },
  {
   "cell_type": "code",
   "execution_count": 2,
   "metadata": {
    "ExecuteTime": {
     "end_time": "2020-09-22T12:03:41.538206Z",
     "start_time": "2020-09-22T12:03:41.533876Z"
    }
   },
   "outputs": [],
   "source": [
    "myBucketName = 'some1unused1name' # Only Alphanumericals \n",
    "region_name  = 'ap-northeast-2'"
   ]
  },
  {
   "cell_type": "code",
   "execution_count": 3,
   "metadata": {
    "ExecuteTime": {
     "end_time": "2020-09-22T12:03:46.295379Z",
     "start_time": "2020-09-22T12:03:41.791635Z"
    }
   },
   "outputs": [],
   "source": [
    "response = s3.client.create_bucket( \n",
    "    Bucket=myBucketName,\n",
    "    CreateBucketConfiguration={\n",
    "        'LocationConstraint': region_name\n",
    "    },\n",
    ") "
   ]
  },
  {
   "cell_type": "code",
   "execution_count": 4,
   "metadata": {
    "ExecuteTime": {
     "end_time": "2020-09-22T12:03:46.387936Z",
     "start_time": "2020-09-22T12:03:46.299805Z"
    }
   },
   "outputs": [
    {
     "data": {
      "text/plain": [
       "True"
      ]
     },
     "execution_count": 4,
     "metadata": {},
     "output_type": "execute_result"
    }
   ],
   "source": [
    "s3.add_new_bucket(myBucketName) "
   ]
  },
  {
   "cell_type": "markdown",
   "metadata": {},
   "source": [
    "### Upload a file"
   ]
  },
  {
   "cell_type": "code",
   "execution_count": 5,
   "metadata": {
    "ExecuteTime": {
     "end_time": "2020-09-22T12:03:46.396794Z",
     "start_time": "2020-09-22T12:03:46.391954Z"
    }
   },
   "outputs": [],
   "source": [
    "file_content = b'''<html xmlns=\"http://www.w3.org/1999/xhtml\" >\n",
    "<head>\n",
    "    <title>My Website Home Page</title>\n",
    "</head>\n",
    "<body>\n",
    "  <h1>Welcome to my website</h1>\n",
    "  <p>Now hosted on Amazon S3!</p>\n",
    "</body>\n",
    "</html>'''"
   ]
  },
  {
   "cell_type": "code",
   "execution_count": 6,
   "metadata": {
    "ExecuteTime": {
     "end_time": "2020-09-22T12:03:46.419688Z",
     "start_time": "2020-09-22T12:03:46.402266Z"
    }
   },
   "outputs": [],
   "source": [
    "import hashlib, base64   \n",
    "md5=lambda x: base64.b64encode(hashlib.md5(x).digest()).decode()   "
   ]
  },
  {
   "cell_type": "code",
   "execution_count": 7,
   "metadata": {
    "ExecuteTime": {
     "end_time": "2020-09-22T12:03:47.117775Z",
     "start_time": "2020-09-22T12:03:46.424874Z"
    }
   },
   "outputs": [],
   "source": [
    "response = s3.client.put_object(\n",
    "    ACL          = 'public-read',\n",
    "    Body         = file_content,\n",
    "    Bucket       = myBucketName, \n",
    "    ContentMD5   = md5(file_content), \n",
    "    ContentType  = 'text/html',\n",
    "    Key          = 'index.html',\n",
    "    StorageClass = 'STANDARD'\n",
    ")"
   ]
  },
  {
   "cell_type": "markdown",
   "metadata": {},
   "source": [
    "### Confirm we have uploaded an object"
   ]
  },
  {
   "cell_type": "code",
   "execution_count": 8,
   "metadata": {
    "ExecuteTime": {
     "end_time": "2020-09-22T12:03:50.231772Z",
     "start_time": "2020-09-22T12:03:47.120799Z"
    }
   },
   "outputs": [
    {
     "name": "stdout",
     "output_type": "stream",
     "text": [
      "List of files in our bucket:\n",
      "   index.html\n"
     ]
    }
   ],
   "source": [
    "print('List of files in our bucket:')\n",
    "for obj in s3.Buckets[myBucketName].objects.all():\n",
    "    print('  ',obj.key)"
   ]
  },
  {
   "cell_type": "markdown",
   "metadata": {},
   "source": [
    "### Enable the static websute hosting"
   ]
  },
  {
   "cell_type": "code",
   "execution_count": 9,
   "metadata": {
    "ExecuteTime": {
     "end_time": "2020-09-22T12:03:51.084490Z",
     "start_time": "2020-09-22T12:03:50.239198Z"
    }
   },
   "outputs": [],
   "source": [
    "response = s3.client.put_bucket_website(\n",
    "    Bucket=myBucketName,\n",
    "    WebsiteConfiguration={  \n",
    "        'IndexDocument': {\n",
    "            'Suffix': 'index.html'\n",
    "        }\n",
    "    }\n",
    ")"
   ]
  },
  {
   "cell_type": "markdown",
   "metadata": {},
   "source": [
    "### Visit out new website"
   ]
  },
  {
   "cell_type": "code",
   "execution_count": 10,
   "metadata": {
    "ExecuteTime": {
     "end_time": "2020-09-22T12:03:51.094850Z",
     "start_time": "2020-09-22T12:03:51.088608Z"
    }
   },
   "outputs": [
    {
     "name": "stdout",
     "output_type": "stream",
     "text": [
      "http://some1unused1name.s3-website.ap-northeast-2.amazonaws.com/\n"
     ]
    }
   ],
   "source": [
    "print(f'http://{myBucketName}.s3-website.{region_name}.amazonaws.com/')"
   ]
  },
  {
   "cell_type": "markdown",
   "metadata": {},
   "source": [
    "### Disable static website hosting"
   ]
  },
  {
   "cell_type": "code",
   "execution_count": null,
   "metadata": {
    "ExecuteTime": {
     "end_time": "2020-09-22T12:03:24.179621Z",
     "start_time": "2020-09-22T12:03:22.719791Z"
    }
   },
   "outputs": [],
   "source": [
    "_ = s3.client.delete_bucket_website(Bucket=myBucketName)"
   ]
  },
  {
   "cell_type": "markdown",
   "metadata": {},
   "source": [
    "### Empty the bucket"
   ]
  },
  {
   "cell_type": "code",
   "execution_count": null,
   "metadata": {
    "ExecuteTime": {
     "end_time": "2020-09-22T12:03:27.451327Z",
     "start_time": "2020-09-22T12:03:25.529190Z"
    }
   },
   "outputs": [],
   "source": [
    "_ = s3.Buckets[myBucketName].objects.all().delete()"
   ]
  },
  {
   "cell_type": "markdown",
   "metadata": {},
   "source": [
    "### Delete the bucket"
   ]
  },
  {
   "cell_type": "code",
   "execution_count": null,
   "metadata": {
    "ExecuteTime": {
     "end_time": "2020-09-22T12:03:29.296566Z",
     "start_time": "2020-09-22T12:03:28.574549Z"
    }
   },
   "outputs": [],
   "source": [
    "_ = s3.client.delete_bucket(Bucket=myBucketName) "
   ]
  }
 ],
 "metadata": {
  "kernelspec": {
   "display_name": "Python 3",
   "language": "python",
   "name": "python3"
  },
  "language_info": {
   "codemirror_mode": {
    "name": "ipython",
    "version": 3
   },
   "file_extension": ".py",
   "mimetype": "text/x-python",
   "name": "python",
   "nbconvert_exporter": "python",
   "pygments_lexer": "ipython3",
   "version": "3.8.2"
  }
 },
 "nbformat": 4,
 "nbformat_minor": 4
}
