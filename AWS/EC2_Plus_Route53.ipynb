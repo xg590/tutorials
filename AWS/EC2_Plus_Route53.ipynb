{
 "cells": [
  {
   "cell_type": "markdown",
   "metadata": {},
   "source": [
    "## Play with Route 53\n",
    "* Create an ec2 instance \n",
    "* Create a hosted zone\n",
    "* Create an A record\n",
    "* Print the name servers \n",
    "* Change name servers at domain registrar website "
   ]
  },
  {
   "cell_type": "code",
   "execution_count": 1,
   "metadata": {},
   "outputs": [],
   "source": [
    "# pip install boto3 \n",
    "import secret, time, boto3 # see https://boto3.amazonaws.com/v1/documentation/api/latest/reference/services/route53.html \n",
    "\n",
    "def AWS_Session(region_name): \n",
    "    aws_access_key_id     = secret.aws_access_key_id\n",
    "    aws_secret_access_key = secret.aws_secret_access_key   \n",
    "    session = boto3.Session(region_name           = region_name          , \n",
    "                            aws_access_key_id     = aws_access_key_id    , \n",
    "                            aws_secret_access_key = aws_secret_access_key)    \n",
    "    return session\n",
    "\n",
    "session = AWS_Session(region_name='us-east-1')    "
   ]
  },
  {
   "cell_type": "code",
   "execution_count": 2,
   "metadata": {
    "code_folding": []
   },
   "outputs": [],
   "source": [
    "from operator import itemgetter \n",
    "class EC2:\n",
    "    def __init__(self, region_name): \n",
    "        self.client   = session.client('ec2')\n",
    "        self.resource = session.resource('ec2')\n",
    "        self.availability_zone = ''\n",
    "    \n",
    "    def choose_first_availability_zone(self):\n",
    "        self.availability_zone = [i['ZoneName'] for i in self.client.describe_availability_zones()['AvailabilityZones']][0]\n",
    "        \n",
    "    def create_key_pair(self, KeyName): # ssh key pair\n",
    "        self.resource.create_key_pair(KeyName=KeyName)\n",
    "        \n",
    "    def get_image_id_of_latest_ubuntu_20_04(self):\n",
    "        ubuntu_20_04_images = self.client.describe_images(    \n",
    "            Filters=[\n",
    "                { 'Name': 'architecture', 'Values': [ 'x86_64', ] },\n",
    "                { 'Name': 'image-type', 'Values': [ 'machine', ] },\n",
    "                { 'Name': 'state', 'Values': [ 'available', ] }, \n",
    "                { 'Name': 'name', 'Values': [ 'ubuntu/images/hvm-ssd/ubuntu-focal-20.04-amd64-server-????????', ] },]\n",
    "        )['Images']\n",
    "        return sorted(ubuntu_20_04_images, key=itemgetter('CreationDate'), reverse=True)[0]['ImageId']\n",
    "\n",
    "ec2 = EC2(region_name='us-east-1')\n",
    "ec2.choose_first_availability_zone()"
   ]
  },
  {
   "cell_type": "code",
   "execution_count": 3,
   "metadata": {
    "code_folding": []
   },
   "outputs": [],
   "source": [
    "class Route53:\n",
    "    def __init__(self):  \n",
    "        self.client = session.client('route53')  \n",
    "\n",
    "route53 = Route53()"
   ]
  },
  {
   "cell_type": "markdown",
   "metadata": {},
   "source": [
    "### Create an instance for test"
   ]
  },
  {
   "cell_type": "code",
   "execution_count": 4,
   "metadata": {},
   "outputs": [
    {
     "name": "stdout",
     "output_type": "stream",
     "text": [
      "Public IP: 54.88.58.71\n"
     ]
    }
   ],
   "source": [
    "KeyName = 'ec2-us-east-1'\n",
    "ImageId = ec2.get_image_id_of_latest_ubuntu_20_04() \n",
    "myInstances = ec2.resource.create_instances(  \n",
    "    UserData='''#!/bin/bash\n",
    "uptime > /tmp/uptime\n",
    "cat << EOF >> /root/hehe.sh\n",
    "date > /tmp/test\n",
    "EOF\n",
    "(crontab -l 2>/dev/null; echo \"@reboot date > /tmp/date\") | crontab -''', # The UserData is a script executed only once by root at launching\n",
    "    KeyName=KeyName,              # ssh key\n",
    "    ImageId=ImageId,  \n",
    "    InstanceType='t2.micro', # Free tier\n",
    "    MaxCount=1, MinCount=1,\n",
    "    EbsOptimized=False,   \n",
    "    NetworkInterfaces=[\n",
    "        {\n",
    "            'AssociatePublicIpAddress': True,\n",
    "            'DeleteOnTermination': True, \n",
    "            'DeviceIndex': 0,   \n",
    "        }, \n",
    "    ] \n",
    ")\n",
    "myInstance = myInstances[0]\n",
    "\n",
    "myInstance.wait_until_running() \n",
    "myInstance.reload() # update public ip\n",
    "print('Public IP:', myInstance.public_ip_address)  "
   ]
  },
  {
   "cell_type": "markdown",
   "metadata": {},
   "source": [
    "### Create a hosted/DNS zone"
   ]
  },
  {
   "cell_type": "markdown",
   "metadata": {},
   "source": [
    "#### Domain name yzlab.group bought @ Google Domain"
   ]
  },
  {
   "cell_type": "code",
   "execution_count": 5,
   "metadata": {},
   "outputs": [],
   "source": [
    "\n",
    "myDomainName = 'yzlab.group'\n"
   ]
  },
  {
   "cell_type": "code",
   "execution_count": 6,
   "metadata": {},
   "outputs": [],
   "source": [
    "response = route53.client.create_hosted_zone(\n",
    "    Name=myDomainName, # Domain name \n",
    "    CallerReference='uniqueString',\n",
    "    HostedZoneConfig={\n",
    "        'Comment': 'crazySheet',\n",
    "        'PrivateZone': False\n",
    "    }\n",
    ")\n",
    "myHostedZoneId = response['HostedZone']['Id']"
   ]
  },
  {
   "cell_type": "markdown",
   "metadata": {},
   "source": [
    "### An A type record"
   ]
  },
  {
   "cell_type": "code",
   "execution_count": 7,
   "metadata": {},
   "outputs": [],
   "source": [
    "response = route53.client.change_resource_record_sets(\n",
    "    HostedZoneId=myHostedZoneId, # \n",
    "    ChangeBatch= {'Comment': 'add an A type record',\n",
    "                  'Changes': [{\n",
    "                       'Action': 'UPSERT',\n",
    "                       'ResourceRecordSet': {\n",
    "                           'Name': myDomainName,\n",
    "                           'ResourceRecords': [{'Value': myInstance.public_ip_address}], # \n",
    "                           'Type': 'A',\n",
    "                           'TTL': 300,\n",
    "}}]})"
   ]
  },
  {
   "cell_type": "markdown",
   "metadata": {},
   "source": [
    "### The printed nameservers are for Google Domains DNS tab"
   ]
  },
  {
   "cell_type": "code",
   "execution_count": 8,
   "metadata": {
    "scrolled": true
   },
   "outputs": [
    {
     "name": "stdout",
     "output_type": "stream",
     "text": [
      "ns-97.awsdns-12.com.\n",
      "ns-897.awsdns-48.net.\n",
      "ns-1709.awsdns-21.co.uk.\n",
      "ns-1270.awsdns-30.org.\n"
     ]
    }
   ],
   "source": [
    "paginator = route53.client.get_paginator('list_resource_record_sets')\n",
    " \n",
    "for record_set in paginator.paginate(HostedZoneId=myHostedZoneId): \n",
    "    for record in record_set['ResourceRecordSets']: \n",
    "        if record['Type'] == 'NS':\n",
    "            for nameserver in record['ResourceRecords']:\n",
    "                print(nameserver['Value']) "
   ]
  },
  {
   "cell_type": "markdown",
   "metadata": {},
   "source": [
    "### Change DNS settings @ [Google](https://support.google.com/domains/answer/3290309) and wait several minites before it takes effect.\n",
    "![Structure](https://github.com/xg590/tutorials/blob/master/AWS/GoogleDomainDNS.png?raw=true)"
   ]
  }
 ],
 "metadata": {
  "kernelspec": {
   "display_name": "Python 3",
   "language": "python",
   "name": "python3"
  },
  "language_info": {
   "codemirror_mode": {
    "name": "ipython",
    "version": 3
   },
   "file_extension": ".py",
   "mimetype": "text/x-python",
   "name": "python",
   "nbconvert_exporter": "python",
   "pygments_lexer": "ipython3",
   "version": "3.8.2"
  }
 },
 "nbformat": 4,
 "nbformat_minor": 4
}
