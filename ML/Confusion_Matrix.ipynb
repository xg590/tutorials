{
 "cells": [
  {
   "cell_type": "code",
   "execution_count": 1,
   "id": "86b69085",
   "metadata": {
    "ExecuteTime": {
     "end_time": "2022-03-14T11:42:58.251045Z",
     "start_time": "2022-03-14T11:42:57.531523Z"
    }
   },
   "outputs": [],
   "source": [
    "import numpy as np\n",
    "import matplotlib.pyplot as plt\n",
    "\n",
    "from sklearn import svm, datasets\n",
    "from sklearn.model_selection import train_test_split\n",
    "from sklearn.metrics import ConfusionMatrixDisplay\n",
    "\n",
    "# import some data to play with\n",
    "iris = datasets.load_iris()\n",
    "X = iris.data\n",
    "y = iris.target\n",
    "class_names = iris.target_names\n",
    "\n",
    "# Split the data into a training set and a test set\n",
    "X_train, X_test, y_train, y_test = train_test_split(X, y, random_state=0)\n",
    "\n",
    "# Run classifier, using a model that is too regularized (C too low) to see\n",
    "# the impact on the results\n",
    "classifier = svm.SVC(kernel=\"linear\", C=0.01).fit(X_train, y_train)"
   ]
  },
  {
   "cell_type": "markdown",
   "id": "d8b12d2a",
   "metadata": {},
   "source": [
    "### Caculate Confusion Matrix without sklearn"
   ]
  },
  {
   "cell_type": "code",
   "execution_count": 2,
   "id": "8528bb4f",
   "metadata": {
    "ExecuteTime": {
     "end_time": "2022-03-14T11:42:58.258068Z",
     "start_time": "2022-03-14T11:42:58.252364Z"
    }
   },
   "outputs": [
    {
     "data": {
      "text/plain": [
       "array([[13.,  0.,  0.],\n",
       "       [ 0., 10.,  6.],\n",
       "       [ 0.,  0.,  9.]])"
      ]
     },
     "execution_count": 2,
     "metadata": {},
     "output_type": "execute_result"
    }
   ],
   "source": [
    "y_score = classifier.decision_function(X_test) \n",
    "y_score = [np.argmax(i) for i in y_score]\n",
    "\n",
    "conf_mtx = np.zeros((3,3))\n",
    "\n",
    "for i in range(len(iris.target_names)):  \n",
    "    for l in [y_score[j] for j, k in enumerate(y_test) if k==i]:\n",
    "        conf_mtx[i][l]+=1 \n",
    "        \n",
    "conf_mtx"
   ]
  },
  {
   "cell_type": "markdown",
   "id": "6f2e0fa8",
   "metadata": {},
   "source": [
    "### Stock function and plot"
   ]
  },
  {
   "cell_type": "code",
   "execution_count": 3,
   "id": "3b94fe53",
   "metadata": {
    "ExecuteTime": {
     "end_time": "2022-03-14T11:42:58.458582Z",
     "start_time": "2022-03-14T11:42:58.259123Z"
    }
   },
   "outputs": [
    {
     "data": {
      "image/png": "[encoded data removed]",
      "text/plain": [
       "<Figure size 432x288 with 2 Axes>"
      ]
     },
     "metadata": {
      "needs_background": "light"
     },
     "output_type": "display_data"
    }
   ],
   "source": [
    "np.set_printoptions(precision=2)\n",
    "\n",
    "disp = ConfusionMatrixDisplay.from_estimator(\n",
    "    classifier,\n",
    "    X_test,\n",
    "    y_test,\n",
    "    display_labels=class_names,\n",
    "    cmap=plt.cm.Blues,\n",
    "    normalize=None,\n",
    ") "
   ]
  }
 ],
 "metadata": {
  "kernelspec": {
   "display_name": "Python 3 (ipykernel)",
   "language": "python",
   "name": "python3"
  },
  "language_info": {
   "codemirror_mode": {
    "name": "ipython",
    "version": 3
   },
   "file_extension": ".py",
   "mimetype": "text/x-python",
   "name": "python",
   "nbconvert_exporter": "python",
   "pygments_lexer": "ipython3",
   "version": "3.8.12"
  }
 },
 "nbformat": 4,
 "nbformat_minor": 5
}
