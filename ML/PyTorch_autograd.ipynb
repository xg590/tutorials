{
 "cells": [
  {
   "cell_type": "markdown",
   "metadata": {
    "ExecuteTime": {
     "end_time": "2022-03-25T14:52:38.682301Z",
     "start_time": "2022-03-25T14:52:38.677151Z"
    }
   },
   "source": [
    "* We assign tensors and function"
   ]
  },
  {
   "cell_type": "markdown",
   "metadata": {},
   "source": [
    "### Autograd\n",
    "* We will use gradient descent method to find a weight $w$, which would make this equation true: $3 = w * 1$\n",
    "* Obviously, $w$ should be 3."
   ]
  },
  {
   "cell_type": "code",
   "execution_count": 1,
   "metadata": {
    "ExecuteTime": {
     "end_time": "2022-03-25T15:48:57.076742Z",
     "start_time": "2022-03-25T15:48:56.695070Z"
    }
   },
   "outputs": [],
   "source": [
    "import torch\n",
    "\n",
    "x = torch.tensor(1.)          # input tensor\n",
    "y = torch.tensor(3.)          # expected output\n",
    "lossFunc = torch.nn.MSELoss() # Error Estimation Function"
   ]
  },
  {
   "cell_type": "markdown",
   "metadata": {
    "ExecuteTime": {
     "end_time": "2022-03-25T14:53:45.206694Z",
     "start_time": "2022-03-25T14:53:45.198578Z"
    }
   },
   "source": [
    "* We draw a directed acyclic graph (DAG)"
   ]
  },
  {
   "cell_type": "code",
   "execution_count": 2,
   "metadata": {
    "ExecuteTime": {
     "end_time": "2022-03-25T15:48:57.082028Z",
     "start_time": "2022-03-25T15:48:57.078206Z"
    }
   },
   "outputs": [],
   "source": [
    "w = torch.tensor(1., requires_grad=True) \n",
    "z = x*w\n",
    "loss = lossFunc(y, z)"
   ]
  },
  {
   "cell_type": "markdown",
   "metadata": {
    "ExecuteTime": {
     "end_time": "2022-03-25T14:51:28.330592Z",
     "start_time": "2022-03-25T14:51:28.323723Z"
    }
   },
   "source": [
    "* Upon running loss.backward(), DAG is traced backward and a differentiation is done to w <br>\n",
    "$loss|_{\\mathrm{x}=1,\\mathrm{y}=3} = (z - y)^2 = (x*w-y)^2 = (w-3)^2$<br>\n",
    "$\\frac{d\\mathrm{loss}}{d\\mathrm{w}}|_{\\mathrm{w}=1} = 2w-6 = -4$<br> "
   ]
  },
  {
   "cell_type": "code",
   "execution_count": 3,
   "metadata": {
    "ExecuteTime": {
     "end_time": "2022-03-25T15:48:57.143512Z",
     "start_time": "2022-03-25T15:48:57.083119Z"
    }
   },
   "outputs": [
    {
     "name": "stdout",
     "output_type": "stream",
     "text": [
      "Before backpropagation: None\n",
      "Before backpropagation: tensor(-4.)\n"
     ]
    }
   ],
   "source": [
    "print('Before backpropagation:', w.grad)\n",
    "loss.backward()\n",
    "print('Before backpropagation:', w.grad)"
   ]
  },
  {
   "cell_type": "markdown",
   "metadata": {
    "ExecuteTime": {
     "end_time": "2022-03-25T14:53:45.206694Z",
     "start_time": "2022-03-25T14:53:45.198578Z"
    }
   },
   "source": [
    "* Manually update $w$"
   ]
  },
  {
   "cell_type": "code",
   "execution_count": 4,
   "metadata": {
    "ExecuteTime": {
     "end_time": "2022-03-25T15:48:57.212165Z",
     "start_time": "2022-03-25T15:48:57.145253Z"
    }
   },
   "outputs": [
    {
     "data": {
      "text/plain": [
       "tensor(0.)"
      ]
     },
     "execution_count": 4,
     "metadata": {},
     "output_type": "execute_result"
    }
   ],
   "source": [
    "w.data.sub_(w.grad*0.01)\n",
    "w.grad.data.zero_()"
   ]
  },
  {
   "cell_type": "markdown",
   "metadata": {
    "ExecuteTime": {
     "end_time": "2022-03-25T14:53:45.206694Z",
     "start_time": "2022-03-25T14:53:45.198578Z"
    }
   },
   "source": [
    "* How much is w after one update"
   ]
  },
  {
   "cell_type": "code",
   "execution_count": 5,
   "metadata": {
    "ExecuteTime": {
     "end_time": "2022-03-25T15:48:57.275573Z",
     "start_time": "2022-03-25T15:48:57.213571Z"
    }
   },
   "outputs": [
    {
     "data": {
      "text/plain": [
       "tensor(1.0400)"
      ]
     },
     "execution_count": 5,
     "metadata": {},
     "output_type": "execute_result"
    }
   ],
   "source": [
    "w.data"
   ]
  },
  {
   "cell_type": "markdown",
   "metadata": {
    "ExecuteTime": {
     "end_time": "2022-03-25T14:53:45.206694Z",
     "start_time": "2022-03-25T14:53:45.198578Z"
    }
   },
   "source": [
    "* Do 10000 update cycles"
   ]
  },
  {
   "cell_type": "code",
   "execution_count": 6,
   "metadata": {
    "ExecuteTime": {
     "end_time": "2022-03-25T15:49:03.942374Z",
     "start_time": "2022-03-25T15:48:57.279984Z"
    }
   },
   "outputs": [],
   "source": [
    "for i in range(100000):\n",
    "    z = x*w\n",
    "    loss = lossFunc(y, z) \n",
    "    loss.backward() \n",
    "    w.data.sub_(w.grad*0.01)\n",
    "    w.grad.data.zero_()  "
   ]
  },
  {
   "cell_type": "markdown",
   "metadata": {
    "ExecuteTime": {
     "end_time": "2022-03-25T14:53:45.206694Z",
     "start_time": "2022-03-25T14:53:45.198578Z"
    }
   },
   "source": [
    "* How much is w after 100001 updates"
   ]
  },
  {
   "cell_type": "code",
   "execution_count": 7,
   "metadata": {
    "ExecuteTime": {
     "end_time": "2022-03-25T15:49:03.946809Z",
     "start_time": "2022-03-25T15:49:03.943563Z"
    }
   },
   "outputs": [
    {
     "data": {
      "text/plain": [
       "tensor(3.0000)"
      ]
     },
     "execution_count": 7,
     "metadata": {},
     "output_type": "execute_result"
    }
   ],
   "source": [
    "w.data # we have got what we want"
   ]
  },
  {
   "cell_type": "markdown",
   "metadata": {
    "ExecuteTime": {
     "end_time": "2022-03-25T14:53:45.206694Z",
     "start_time": "2022-03-25T14:53:45.198578Z"
    }
   },
   "source": [
    "* What if we don't draw DAG"
   ]
  },
  {
   "cell_type": "code",
   "execution_count": 8,
   "metadata": {
    "ExecuteTime": {
     "end_time": "2022-03-25T15:49:04.004448Z",
     "start_time": "2022-03-25T15:49:03.947974Z"
    }
   },
   "outputs": [
    {
     "name": "stdout",
     "output_type": "stream",
     "text": [
      "We turned off DAG drawing when we define loss_has_no_grad, so we cannot do a differentiation.\n",
      "We don't draw DAG if we are not training the network. However, \n"
     ]
    }
   ],
   "source": [
    "with torch.no_grad():  \n",
    "    loss_has_no_grad = lossFunc(z, y)\n",
    "try:\n",
    "    loss_has_no_grad.backward()\n",
    "except:\n",
    "    print('We turned off DAG drawing when we define loss_has_no_grad, so we cannot do a differentiation.')\n",
    "    print(\"We don't draw DAG if we are not training the network. However, \")"
   ]
  },
  {
   "cell_type": "markdown",
   "metadata": {
    "ExecuteTime": {
     "end_time": "2022-03-25T15:27:42.118485Z",
     "start_time": "2022-03-25T15:27:42.032855Z"
    }
   },
   "source": [
    "### More about DAG\n",
    "* z    is dependent on w an b so len(   z.grad_fn.next_functions) == 2 \n",
    "* loss is dependent on z      so len(loss.grad_fn.next_functions) == 1"
   ]
  },
  {
   "cell_type": "code",
   "execution_count": 9,
   "metadata": {
    "ExecuteTime": {
     "end_time": "2022-03-25T15:49:04.077335Z",
     "start_time": "2022-03-25T15:49:04.005724Z"
    }
   },
   "outputs": [
    {
     "name": "stdout",
     "output_type": "stream",
     "text": [
      "   z \thas a ((<SqueezeBackward3 object at 0x7f403b65dbe0>, 0), (<AccumulateGrad object at 0x7f403b65dc40>, 0))\n",
      "loss \thas a ((<AddBackward0 object at 0x7f403b65dbb0>, 0), (None, 0))\n"
     ]
    }
   ],
   "source": [
    "import torch\n",
    "\n",
    "x = torch.ones(5)  # input tensor\n",
    "y = torch.zeros(3)  # expected output\n",
    "w = torch.randn(5, 3, requires_grad=True)\n",
    "b = torch.randn(3, requires_grad=True)\n",
    "z = torch.matmul(x, w)+b\n",
    "loss = torch.nn.functional.binary_cross_entropy_with_logits(z, y)\n",
    "\n",
    "for i in ['x','y','w','b','z','loss']:\n",
    "    j = globals()[i] \n",
    "    if j.grad_fn: \n",
    "        print(f\"{i.rjust(4)} \\thas a {j.grad_fn.next_functions}\") "
   ]
  }
 ],
 "metadata": {
  "kernelspec": {
   "display_name": "Python 3 (ipykernel)",
   "language": "python",
   "name": "python3"
  },
  "language_info": {
   "codemirror_mode": {
    "name": "ipython",
    "version": 3
   },
   "file_extension": ".py",
   "mimetype": "text/x-python",
   "name": "python",
   "nbconvert_exporter": "python",
   "pygments_lexer": "ipython3",
   "version": "3.8.12"
  }
 },
 "nbformat": 4,
 "nbformat_minor": 1
}
