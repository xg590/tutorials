{
 "cells": [
  {
   "cell_type": "markdown",
   "id": "58aecc23",
   "metadata": {},
   "source": [
    "## Let's draw a Receiver Operating Characteristic (ROC) curve and calculate Area Under Curve (AUC) without the help of sklearn\n",
    "* We better to write our own code to plot ROC curve, and caculate AUC. \n",
    "1. First, we do a simulation and get a series of predicted values (discrete floats).\n",
    "2. Compare predicted values against a self-specified threshold so we know the True or False result.\n",
    "3. We can plot a curve along the varying threshold value. "
   ]
  },
  {
   "cell_type": "markdown",
   "id": "565fed88",
   "metadata": {},
   "source": [
    "### Prepare a dataset"
   ]
  },
  {
   "cell_type": "code",
   "execution_count": 1,
   "id": "f926d1fb",
   "metadata": {
    "ExecuteTime": {
     "end_time": "2022-03-14T09:04:41.324825Z",
     "start_time": "2022-03-14T09:04:41.045230Z"
    }
   },
   "outputs": [],
   "source": [
    "import numpy as np\n",
    "from sklearn.datasets import load_iris\n",
    "from sklearn.model_selection import train_test_split\n",
    "\n",
    "X, y = load_iris(return_X_y=True)\n",
    "\n",
    "# Add noisy features\n",
    "random_state = np.random.RandomState(0)\n",
    "n_samples, n_features = X.shape\n",
    "X = np.concatenate([X, random_state.randn(n_samples, 200 * n_features)], axis=1)\n",
    "\n",
    "# Limit to the two first classes, and split into training and test\n",
    "X_train, X_test, y_train, y_test = train_test_split(\n",
    "    X[y < 2], y[y < 2], test_size=0.5, random_state=random_state\n",
    ")"
   ]
  },
  {
   "cell_type": "markdown",
   "id": "28586abf",
   "metadata": {},
   "source": [
    "### Train a model "
   ]
  },
  {
   "cell_type": "code",
   "execution_count": 2,
   "id": "7fd02ec9",
   "metadata": {
    "ExecuteTime": {
     "end_time": "2022-03-14T09:04:41.350810Z",
     "start_time": "2022-03-14T09:04:41.326264Z"
    }
   },
   "outputs": [
    {
     "data": {
      "text/plain": [
       "Pipeline(steps=[('standardscaler', StandardScaler()),\n",
       "                ('linearsvc',\n",
       "                 LinearSVC(random_state=RandomState(MT19937) at 0x7FD3BB06B640))])"
      ]
     },
     "execution_count": 2,
     "metadata": {},
     "output_type": "execute_result"
    }
   ],
   "source": [
    "from sklearn.pipeline import make_pipeline\n",
    "from sklearn.preprocessing import StandardScaler\n",
    "from sklearn.svm import LinearSVC\n",
    "\n",
    "classifier = make_pipeline(StandardScaler(), LinearSVC(random_state=random_state))\n",
    "classifier.fit(X_train, y_train)"
   ]
  },
  {
   "cell_type": "markdown",
   "id": "4111b0c4",
   "metadata": {},
   "source": [
    "### Do a prediction on test data"
   ]
  },
  {
   "cell_type": "code",
   "execution_count": 3,
   "id": "2116cc0a",
   "metadata": {
    "ExecuteTime": {
     "end_time": "2022-03-14T09:04:41.447390Z",
     "start_time": "2022-03-14T09:04:41.351941Z"
    }
   },
   "outputs": [],
   "source": [
    "y_score = classifier.decision_function(X_test)"
   ]
  },
  {
   "cell_type": "markdown",
   "id": "a383a2d5",
   "metadata": {
    "ExecuteTime": {
     "end_time": "2022-03-14T04:49:46.838294Z",
     "start_time": "2022-03-14T04:49:46.283858Z"
    }
   },
   "source": [
    "### See what the predicted values on test data are and what the target values are"
   ]
  },
  {
   "cell_type": "code",
   "execution_count": 4,
   "id": "0ebbe99e",
   "metadata": {
    "ExecuteTime": {
     "end_time": "2022-03-14T09:04:41.503166Z",
     "start_time": "2022-03-14T09:04:41.451915Z"
    }
   },
   "outputs": [
    {
     "name": "stdout",
     "output_type": "stream",
     "text": [
      "Predicted values: [-0.21736253  0.28300038  0.13879677  0.25557895  0.32631246 -0.2198405\n",
      " -0.22550512 -0.32917314  0.1449939  -0.35314629 -0.11165123 -0.2114602\n",
      " -0.23500545  0.06758177  0.14505398 -0.23934034  0.10577297  0.02331338\n",
      " -0.09398889 -0.36296952  0.30076248 -0.25183848 -0.5935314   0.28837567\n",
      "  0.03077492 -0.129376    0.4713946   0.39266782 -0.63225961 -0.49417368\n",
      " -0.1533131   0.01370612 -0.49182613  0.26367214 -0.15586916  0.08190372\n",
      " -0.08637947 -0.25401514 -0.09055313 -0.43912955  0.0590284   0.04677897\n",
      " -0.04442745  0.46748089 -0.40801764  0.29314473  0.22743277 -0.06617729\n",
      " -0.00353831  0.00895841]\n",
      "Target values: [1 1 1 1 1 0 1 0 1 0 0 1 0 0 1 0 0 0 1 0 1 0 0 1 1 1 1 1 0 0 0 1 0 1 0 1 0\n",
      " 0 0 0 1 1 1 1 0 1 1 0 1 0]\n"
     ]
    }
   ],
   "source": [
    "print('Predicted values:', y_score)\n",
    "print('Target values:', y_test)"
   ]
  },
  {
   "cell_type": "markdown",
   "id": "6e5a833a",
   "metadata": {},
   "source": [
    "### OK, let's see what TPR and FPR are if the threshold is 0.1"
   ]
  },
  {
   "cell_type": "code",
   "execution_count": 5,
   "id": "38185841",
   "metadata": {
    "ExecuteTime": {
     "end_time": "2022-03-14T09:04:41.569736Z",
     "start_time": "2022-03-14T09:04:41.505604Z"
    }
   },
   "outputs": [
    {
     "name": "stdout",
     "output_type": "stream",
     "text": [
      "{ \"TPR\":0.538, \"FPR\":0.042 }\n"
     ]
    }
   ],
   "source": [
    "# TPR is True positive rate = Tpos over the sum of Tpos and Fneg \n",
    "# Both true positive and false negative indicates true cases.\n",
    "# FPR is False positive rate = Fpos over the sum of Fpos and Tneg\n",
    "# Both false positive and true negative indicates false cases.\n",
    "thres = 0.1\n",
    "predicted = [1 if i >= thres else 0 for i in y_score]    \n",
    "\n",
    "Tp = [ 1 if i==1 and j==1 else 0 for i, j in zip(y_test, predicted)] \n",
    "Fp = [ 1 if i==0 and j==1 else 0 for i, j in zip(y_test, predicted)] \n",
    "Tn = [ 1 if i==0 and j==0 else 0 for i, j in zip(y_test, predicted)] \n",
    "Fn = [ 1 if i==1 and j==0 else 0 for i, j in zip(y_test, predicted)] \n",
    "#print(Tp)\n",
    "TPR = sum(Tp) / (sum(Tp) + sum(Fn))\n",
    "FPR = sum(Fp) / (sum(Fp) + sum(Tn))\n",
    "print(f'{{ \"TPR\":{TPR:.3f}, \"FPR\":{FPR:.3f} }}')"
   ]
  },
  {
   "cell_type": "markdown",
   "id": "db915ee7",
   "metadata": {},
   "source": [
    "### Let's vary the threshold between maximum and minimum y_score and plot the curve"
   ]
  },
  {
   "cell_type": "code",
   "execution_count": 6,
   "id": "6e3a87ae",
   "metadata": {
    "ExecuteTime": {
     "end_time": "2022-03-14T09:04:42.224731Z",
     "start_time": "2022-03-14T09:04:41.571138Z"
    }
   },
   "outputs": [
    {
     "name": "stdout",
     "output_type": "stream",
     "text": [
      "AUC: 0.90\n"
     ]
    },
    {
     "data": {
      "text/plain": [
       "[<matplotlib.lines.Line2D at 0x7fd3b6ce8790>]"
      ]
     },
     "execution_count": 6,
     "metadata": {},
     "output_type": "execute_result"
    },
    {
     "data": {
      "image/png": "[encoded data removed]",
      "text/plain": [
       "<Figure size 432x288 with 1 Axes>"
      ]
     },
     "metadata": {
      "needs_background": "light"
     },
     "output_type": "display_data"
    }
   ],
   "source": [
    "import matplotlib.pyplot as plt\n",
    "x = []\n",
    "y = [] \n",
    "pts = 1000 # We want 1000 point in the curve\n",
    "step = (max(y_score)-min(y_score))/pts\n",
    "mini = min(y_score)\n",
    "for i in range(pts):\n",
    "    thres = mini + step * i  \n",
    "    predicted = [1 if i >= thres else 0 for i in y_score]  \n",
    "    #print(predicted)\n",
    "    #print(y_test)\n",
    "    Tp = [ 1 if i==1 and j==1 else 0 for i, j in zip(y_test, predicted)] \n",
    "    Fp = [ 1 if i==0 and j==1 else 0 for i, j in zip(y_test, predicted)] \n",
    "    Tn = [ 1 if i==0 and j==0 else 0 for i, j in zip(y_test, predicted)] \n",
    "    Fn = [ 1 if i==1 and j==0 else 0 for i, j in zip(y_test, predicted)] \n",
    "    #print(Tp)\n",
    "    TPR = sum(Tp) / (sum(Tp) + sum(Fn))\n",
    "    y.append(TPR)\n",
    "    FPR = sum(Fp) / (sum(Fp) + sum(Tn)) \n",
    "    x.append(FPR)\n",
    "#plt.ylim(0.67, 1.03)\n",
    "auc = sum( [ (y[i]+y[i+1])*(x[i]-x[i+1])/2 for i in range(len(y)-1) ] )\n",
    "print(f'AUC: {auc:.2f}')\n",
    "plt.plot(x,y)"
   ]
  },
  {
   "cell_type": "markdown",
   "id": "77543c2b",
   "metadata": {},
   "source": [
    "### See what if we use stock function"
   ]
  },
  {
   "cell_type": "code",
   "execution_count": 7,
   "id": "9c242181",
   "metadata": {
    "ExecuteTime": {
     "end_time": "2022-03-14T09:04:42.310308Z",
     "start_time": "2022-03-14T09:04:42.225747Z"
    }
   },
   "outputs": [
    {
     "data": {
      "image/png": "[encoded data removed]",
      "text/plain": [
       "<Figure size 432x288 with 1 Axes>"
      ]
     },
     "metadata": {
      "needs_background": "light"
     },
     "output_type": "display_data"
    }
   ],
   "source": [
    "from sklearn.metrics import RocCurveDisplay\n",
    "svc_disp = RocCurveDisplay.from_estimator(classifier,X_test, y_test)\n",
    "plt.show() "
   ]
  }
 ],
 "metadata": {
  "kernelspec": {
   "display_name": "Python 3 (ipykernel)",
   "language": "python",
   "name": "python3"
  },
  "language_info": {
   "codemirror_mode": {
    "name": "ipython",
    "version": 3
   },
   "file_extension": ".py",
   "mimetype": "text/x-python",
   "name": "python",
   "nbconvert_exporter": "python",
   "pygments_lexer": "ipython3",
   "version": "3.8.12"
  }
 },
 "nbformat": 4,
 "nbformat_minor": 5
}
