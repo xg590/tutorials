{
 "cells": [
  {
   "cell_type": "raw",
   "id": "ec873105",
   "metadata": {},
   "source": [
    "!pip install transformers"
   ]
  },
  {
   "cell_type": "markdown",
   "id": "60e90431",
   "metadata": {},
   "source": [
    "### This notebook is based on the [course](https://huggingface.co/course/en/chapter2/1)  from hugging face."
   ]
  },
  {
   "cell_type": "code",
   "execution_count": 1,
   "id": "c560bdcb",
   "metadata": {},
   "outputs": [],
   "source": [
    "import torch\n",
    "from transformers import pipeline, AutoModel, AutoTokenizer, AutoModelForSequenceClassification"
   ]
  },
  {
   "cell_type": "markdown",
   "id": "e726daa9",
   "metadata": {},
   "source": [
    "### Model to be used, task, and raw input"
   ]
  },
  {
   "cell_type": "code",
   "execution_count": 2,
   "id": "604cf068",
   "metadata": {},
   "outputs": [],
   "source": [
    "__model__ = \"distilbert-base-uncased-finetuned-sst-2-english\" # Uncased: english == English \n",
    "task = \"sentiment-analysis\"\n",
    "raw_inputs = [\n",
    "    \"I've been waiting for a HuggingFace course my whole life.\",\n",
    "    \"I hate this so much!\",\n",
    "]"
   ]
  },
  {
   "cell_type": "markdown",
   "id": "69fc597b",
   "metadata": {},
   "source": [
    "<img src=\"https://huggingface.co/datasets/huggingface-course/documentation-images/resolve/main/en/chapter2/transformer_and_head.svg\"></img> "
   ]
  },
  {
   "cell_type": "markdown",
   "id": "654b93a9",
   "metadata": {},
   "source": [
    "### Step by step to do a sentiment analysis to the raw inputs.  \n",
    "1. Tokenization: Raw Input to Tokens\n",
    "2. Encoding: Tokens to Model Input\n",
    "3. Embedding and further"
   ]
  },
  {
   "cell_type": "code",
   "execution_count": 3,
   "id": "957db7ea",
   "metadata": {},
   "outputs": [],
   "source": [
    "tokenizer = AutoTokenizer.from_pretrained(__model__)\n",
    "model = AutoModelForSequenceClassification.from_pretrained(__model__)"
   ]
  },
  {
   "cell_type": "markdown",
   "id": "6d6980e2",
   "metadata": {},
   "source": [
    "* Tokenization"
   ]
  },
  {
   "cell_type": "code",
   "execution_count": 4,
   "id": "825c72dd",
   "metadata": {},
   "outputs": [
    {
     "name": "stdout",
     "output_type": "stream",
     "text": [
      "[['i', \"'\", 've', 'been', 'waiting', 'for', 'a', 'hugging', '##face', 'course', 'my', 'whole', 'life', '.'], ['i', 'hate', 'this', 'so', 'much', '!']]\n"
     ]
    }
   ],
   "source": [
    "tokens = [tokenizer.tokenize(i) for i in raw_inputs]\n",
    "print(tokens)"
   ]
  },
  {
   "cell_type": "markdown",
   "id": "ef1308b3",
   "metadata": {},
   "source": [
    "* Encoding"
   ]
  },
  {
   "cell_type": "code",
   "execution_count": 5,
   "id": "da03c1f4",
   "metadata": {},
   "outputs": [
    {
     "name": "stdout",
     "output_type": "stream",
     "text": [
      "[[1045, 1005, 2310, 2042, 3403, 2005, 1037, 17662, 12172, 2607, 2026, 2878, 2166, 1012], [1045, 5223, 2023, 2061, 2172, 999]]\n"
     ]
    }
   ],
   "source": [
    "_model_input = [tokenizer.convert_tokens_to_ids(i) for i in tokens] \n",
    "print(_model_input)"
   ]
  },
  {
   "cell_type": "markdown",
   "id": "456e9651",
   "metadata": {},
   "source": [
    "* We can do tokenization and encoding in one step"
   ]
  },
  {
   "cell_type": "code",
   "execution_count": 6,
   "id": "e9b43fd2",
   "metadata": {},
   "outputs": [
    {
     "name": "stdout",
     "output_type": "stream",
     "text": [
      "[[101, 1045, 1005, 2310, 2042, 3403, 2005, 1037, 17662, 12172, 2607, 2026, 2878, 2166, 1012, 102], [101, 1045, 5223, 2023, 2061, 2172, 999, 102, 0, 0, 0, 0, 0, 0, 0, 0]]\n"
     ]
    }
   ],
   "source": [
    "model_input = tokenizer(raw_inputs, padding=True, truncation=True, return_tensors=\"pt\") \n",
    "print(model_input.input_ids.tolist())"
   ]
  },
  {
   "cell_type": "markdown",
   "id": "5c7acb0e",
   "metadata": {},
   "source": [
    "* Run the model (the model has an embedding layer)"
   ]
  },
  {
   "cell_type": "code",
   "execution_count": 7,
   "id": "91bd5212",
   "metadata": {},
   "outputs": [],
   "source": [
    "outputs = model(**model_input) "
   ]
  },
  {
   "cell_type": "code",
   "execution_count": 8,
   "id": "57bf9836",
   "metadata": {},
   "outputs": [],
   "source": [
    "logits = torch.nn.Softmax(dim=1)(outputs.logits) \n",
    "scores, indices = torch.max(logits, dim=1)"
   ]
  },
  {
   "cell_type": "code",
   "execution_count": 9,
   "id": "341377b2",
   "metadata": {},
   "outputs": [
    {
     "name": "stdout",
     "output_type": "stream",
     "text": [
      "POSITIVE 0.9598050713539124\n",
      "NEGATIVE 0.9994558691978455\n"
     ]
    }
   ],
   "source": [
    "for idx, score in zip(indices.tolist(), scores.tolist()):\n",
    "    print(model.config.id2label[idx], score)"
   ]
  },
  {
   "cell_type": "markdown",
   "id": "f3293dbf",
   "metadata": {},
   "source": [
    "### All in one"
   ]
  },
  {
   "cell_type": "code",
   "execution_count": 10,
   "id": "98cc2b2a",
   "metadata": {
    "scrolled": false
   },
   "outputs": [
    {
     "data": {
      "text/plain": [
       "[{'label': 'POSITIVE', 'score': 0.9598049521446228},\n",
       " {'label': 'NEGATIVE', 'score': 0.9994558691978455}]"
      ]
     },
     "execution_count": 10,
     "metadata": {},
     "output_type": "execute_result"
    }
   ],
   "source": [
    "pipeline(task, model=__model__)(raw_inputs)"
   ]
  },
  {
   "cell_type": "markdown",
   "id": "3aa6983c",
   "metadata": {},
   "source": [
    "#### tokenizer add special tokens\n",
    "* [CLS] Indicates this is a classification task\n",
    "* [SEP] Separator \n",
    "* [PAD] Padding"
   ]
  },
  {
   "cell_type": "code",
   "execution_count": 11,
   "id": "e391d2f3",
   "metadata": {},
   "outputs": [
    {
     "data": {
      "text/plain": [
       "[\"[CLS] i've been waiting for a huggingface course my whole life. [SEP]\",\n",
       " '[CLS] i hate this so much! [SEP] [PAD] [PAD] [PAD] [PAD] [PAD] [PAD] [PAD] [PAD]']"
      ]
     },
     "execution_count": 11,
     "metadata": {},
     "output_type": "execute_result"
    }
   ],
   "source": [
    "tokenizer.batch_decode(tokenizer(raw_inputs, \n",
    "                                 padding=True,  \n",
    "                                 return_tensors=\"pt\").input_ids, \n",
    "                       skip_special_tokens=False)"
   ]
  },
  {
   "cell_type": "markdown",
   "id": "d98b445d",
   "metadata": {},
   "source": [
    "#### Let's play with tokenizer"
   ]
  },
  {
   "cell_type": "code",
   "execution_count": 12,
   "id": "a5673b29",
   "metadata": {
    "code_folding": []
   },
   "outputs": [],
   "source": [
    "_ = tokenizer(\"a \" * 1234 + \"a.\",  # 1235 words in one sentence\n",
    "              padding=True,        # if the raw input is too short. Padding is needed.\n",
    "              truncation=True,     # if the raw input is too long (1235-word sentence), no truncation leads to error.\n",
    "              return_tensors=\"pt\", # not pytorch, then a list is return.\n",
    "              max_length=6, \n",
    "             )"
   ]
  }
 ],
 "metadata": {
  "kernelspec": {
   "display_name": "Python 3 (ipykernel)",
   "language": "python",
   "name": "python3"
  },
  "language_info": {
   "codemirror_mode": {
    "name": "ipython",
    "version": 3
   },
   "file_extension": ".py",
   "mimetype": "text/x-python",
   "name": "python",
   "nbconvert_exporter": "python",
   "pygments_lexer": "ipython3",
   "version": "3.10.10"
  },
  "varInspector": {
   "cols": {
    "lenName": 16,
    "lenType": 16,
    "lenVar": 40
   },
   "kernels_config": {
    "python": {
     "delete_cmd_postfix": "",
     "delete_cmd_prefix": "del ",
     "library": "var_list.py",
     "varRefreshCmd": "print(var_dic_list())"
    },
    "r": {
     "delete_cmd_postfix": ") ",
     "delete_cmd_prefix": "rm(",
     "library": "var_list.r",
     "varRefreshCmd": "cat(var_dic_list()) "
    }
   },
   "types_to_exclude": [
    "module",
    "function",
    "builtin_function_or_method",
    "instance",
    "_Feature"
   ],
   "window_display": false
  }
 },
 "nbformat": 4,
 "nbformat_minor": 5
}
