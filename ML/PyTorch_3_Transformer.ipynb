{
 "cells": [
  {
   "cell_type": "markdown",
   "id": "5d18e183",
   "metadata": {
    "ExecuteTime": {
     "end_time": "2022-03-14T05:40:38.968183Z",
     "start_time": "2022-03-14T05:40:38.962899Z"
    }
   },
   "source": [
    "### Refs\n",
    "* https://towardsdatascience.com/how-to-use-torchtext-for-neural-machine-translation-plus-hack-to-make-it-5x-faster-77f3884d95\n",
    "* https://towardsdatascience.com/how-to-code-the-transformer-in-pytorch-24db27c8f9ec\n",
    "* https://github.com/SamLynnEvans/Transformer"
   ]
  },
  {
   "cell_type": "code",
   "execution_count": null,
   "id": "0a5915ae",
   "metadata": {
    "ExecuteTime": {
     "end_time": "2022-03-24T06:31:20.817823Z",
     "start_time": "2022-03-24T06:30:57.322637Z"
    }
   },
   "outputs": [],
   "source": [
    "pip install spacy torchtext pandas"
   ]
  },
  {
   "cell_type": "code",
   "execution_count": null,
   "id": "61227b71",
   "metadata": {
    "ExecuteTime": {
     "end_time": "2022-03-24T12:49:54.259754Z",
     "start_time": "2022-03-24T12:49:54.254395Z"
    }
   },
   "outputs": [],
   "source": [
    "import torchtext\n",
    "torchtext.__version__"
   ]
  },
  {
   "cell_type": "markdown",
   "id": "4061d04e",
   "metadata": {},
   "source": [
    "###  Download the European Parliament Proceedings Parallel Corpus 1996–2011"
   ]
  },
  {
   "cell_type": "code",
   "execution_count": null,
   "id": "535dbb0e",
   "metadata": {
    "ExecuteTime": {
     "end_time": "2022-03-19T21:11:45.393361Z",
     "start_time": "2022-03-19T21:10:57.121792Z"
    }
   },
   "outputs": [],
   "source": [
    "!wget https://www.statmt.org/europarl/v7/fr-en.tgz"
   ]
  },
  {
   "cell_type": "code",
   "execution_count": null,
   "id": "e37ddcb7",
   "metadata": {
    "ExecuteTime": {
     "end_time": "2022-03-19T21:11:48.871210Z",
     "start_time": "2022-03-19T21:11:45.399702Z"
    }
   },
   "outputs": [],
   "source": [
    "!tar zxvf fr-en.tgz"
   ]
  },
  {
   "cell_type": "code",
   "execution_count": null,
   "id": "1f14a34b",
   "metadata": {
    "ExecuteTime": {
     "end_time": "2022-03-24T21:55:28.704600Z",
     "start_time": "2022-03-24T21:55:21.335881Z"
    }
   },
   "outputs": [],
   "source": [
    "!spacy download  en_core_web_sm # https://spacy.io/models/en\n",
    "!spacy download fr_core_news_sm"
   ]
  },
  {
   "cell_type": "markdown",
   "id": "e490ff59",
   "metadata": {},
   "source": [
    "### Prepare datasets"
   ]
  },
  {
   "cell_type": "code",
   "execution_count": null,
   "id": "0c82b19b",
   "metadata": {
    "ExecuteTime": {
     "end_time": "2022-03-24T06:07:55.793826Z",
     "start_time": "2022-03-24T06:07:52.036695Z"
    }
   },
   "outputs": [],
   "source": [
    "europarl_en = open('europarl-v7.fr-en.en', encoding='utf-8').read().split('\\n')\n",
    "europarl_fr = open('europarl-v7.fr-en.fr', encoding='utf-8').read().split('\\n')"
   ]
  },
  {
   "cell_type": "code",
   "execution_count": null,
   "id": "658be933",
   "metadata": {
    "ExecuteTime": {
     "end_time": "2022-03-24T06:08:03.577316Z",
     "start_time": "2022-03-24T06:07:55.795223Z"
    }
   },
   "outputs": [],
   "source": [
    "import pandas as pd\n",
    "raw_data = {'English' : [line for line in europarl_en], 'French': [line for line in europarl_fr]}\n",
    "df = pd.DataFrame(raw_data, columns=[\"English\", \"French\"])\n",
    "# remove very long sentences and sentences where translations are \n",
    "# not of roughly equal length\n",
    "df['eng_len'] = df['English'].str.count(' ')\n",
    "df['fr_len'] = df['French'].str.count(' ')\n",
    "df = df.query('fr_len < 80 & eng_len < 80')\n",
    "df = df.query('fr_len < eng_len * 1.5 & fr_len * 1.5 > eng_len')\n",
    "df"
   ]
  },
  {
   "cell_type": "code",
   "execution_count": null,
   "id": "fc46c235",
   "metadata": {
    "ExecuteTime": {
     "end_time": "2022-03-24T06:08:18.451687Z",
     "start_time": "2022-03-24T06:08:03.578397Z"
    }
   },
   "outputs": [],
   "source": [
    "from sklearn.model_selection import train_test_split\n",
    "# create train and validation set \n",
    "train, val = train_test_split(df, test_size=0.1)\n",
    "train.to_csv(\"train.csv\", index=False)\n",
    "val.to_csv(\"val.csv\", index=False)"
   ]
  },
  {
   "cell_type": "markdown",
   "id": "a0070624",
   "metadata": {},
   "source": [
    "### Showcase the construction of a custom Dataset "
   ]
  },
  {
   "cell_type": "code",
   "execution_count": null,
   "id": "d7d8b612",
   "metadata": {
    "ExecuteTime": {
     "end_time": "2022-03-24T11:30:31.446526Z",
     "start_time": "2022-03-24T11:30:31.095834Z"
    }
   },
   "outputs": [],
   "source": [
    "from torch.utils.data import IterableDataset, DataLoader\n",
    "class MyIterableDataset(IterableDataset):  \n",
    "    def __iter__(self):  \n",
    "        return iter([(j,str(i)) for i,j in enumerate('abcdefghij')]) \n",
    "\n",
    "print(list(DataLoader(MyIterableDataset(), batch_size=4)))"
   ]
  },
  {
   "cell_type": "markdown",
   "id": "3a2589d4",
   "metadata": {},
   "source": [
    "### Tokenization"
   ]
  },
  {
   "cell_type": "code",
   "execution_count": null,
   "id": "f2759b2b",
   "metadata": {
    "ExecuteTime": {
     "end_time": "2022-03-24T22:34:19.740589Z",
     "start_time": "2022-03-24T22:34:19.545817Z"
    }
   },
   "outputs": [],
   "source": [
    "import pandas as pd\n",
    "\n",
    "df_train = pd.read_csv(\"train.csv\", nrows=200, usecols=['English','French']) \n",
    "df_val   = pd.read_csv(\"val.csv\", nrows=100, usecols=['English','French']) \n",
    "display(df_train) "
   ]
  },
  {
   "cell_type": "code",
   "execution_count": null,
   "id": "a35efaba",
   "metadata": {
    "ExecuteTime": {
     "end_time": "2022-03-24T22:34:24.861765Z",
     "start_time": "2022-03-24T22:34:20.488769Z"
    }
   },
   "outputs": [],
   "source": [
    "import spacy # a language-aware tokenizer library\n",
    "\n",
    "en = spacy.load('en_core_web_sm') # https://spacy.io/models/en      initialize an english tokenizer \n",
    "fr = spacy.load('fr_core_news_sm')\n",
    "\n",
    "def tokenizer_en(sentence):\n",
    "    return [tok.text for tok in en.tokenizer(sentence)]\n",
    "def tokenizer_fr(sentence):\n",
    "    return [tok.text for tok in fr.tokenizer(sentence)]"
   ]
  },
  {
   "cell_type": "code",
   "execution_count": null,
   "id": "f372e751",
   "metadata": {
    "ExecuteTime": {
     "end_time": "2022-03-24T22:34:25.166576Z",
     "start_time": "2022-03-24T22:34:24.863093Z"
    }
   },
   "outputs": [],
   "source": [
    "from collections import Counter\n",
    "from torchtext.vocab import vocab, Vocab\n",
    "\n",
    "coll_en = []\n",
    "coll_fr = [] \n",
    "for sentence_en, sentence_fr in df_train.to_dict('split')['data'] + df_val.to_dict('split')['data']:\n",
    "    coll_en.extend(tokenizer_en(sentence_en))\n",
    "    coll_fr.extend(tokenizer_fr(sentence_fr))\n",
    "\n",
    "vocab_en = vocab(Counter(coll_en), specials=('<unk>', '<BOS>', '<EOS>', '<PAD>'))\n",
    "vocab_fr = vocab(Counter(coll_fr), specials=('<unk>', '<BOS>', '<EOS>', '<PAD>'))"
   ]
  },
  {
   "cell_type": "code",
   "execution_count": null,
   "id": "5adafb91",
   "metadata": {
    "ExecuteTime": {
     "end_time": "2022-03-24T22:34:25.588768Z",
     "start_time": "2022-03-24T22:34:25.582183Z"
    }
   },
   "outputs": [],
   "source": [
    "text_transform_en = lambda x: [vocab_en['<BOS>']] + [vocab_en[token] for token in tokenizer_en(x)] + [vocab_en['<EOS>']] \n",
    "text_transform_fr = lambda x: [vocab_fr['<BOS>']] + [vocab_fr[token] for token in tokenizer_fr(x)] + [vocab_fr['<EOS>']] \n",
    "\n",
    "# Print out the output of text_transform_en\n",
    "print(\"input to the text_transform_en:\", \"here is an example\")\n",
    "print(\"output of the text_transform_en:\", text_transform_en(\"here is an example\"))\n",
    "\n",
    "# Print out the output of text_transform_en\n",
    "print(\"input to the text_transform_fr:\", 'Merci beaucoup, Monsieur de Silguy.')\n",
    "print(\"output of the text_transform_fr:\", text_transform_fr('Merci beaucoup, Monsieur de Silguy.'))"
   ]
  },
  {
   "cell_type": "code",
   "execution_count": null,
   "id": "d3176131",
   "metadata": {
    "ExecuteTime": {
     "end_time": "2022-03-24T22:34:26.615952Z",
     "start_time": "2022-03-24T22:34:26.603704Z"
    }
   },
   "outputs": [],
   "source": [
    "import torch \n",
    "from torch.utils.data import IterableDataset, DataLoader\n",
    "\n",
    "class train(IterableDataset):\n",
    "    def __iter__(self):  \n",
    "        return iter(df_train.to_dict('split')['data']) \n",
    "    \n",
    "class val(IterableDataset):\n",
    "    def __iter__(self):  \n",
    "        return iter(df_val.to_dict('split')['data']) \n",
    "\n",
    "from torch.nn.utils.rnn import pad_sequence\n",
    "\n",
    "def collate_batch(batch):\n",
    "    coll_en, coll_fr = [], []\n",
    "    for sentence_en, sentence_fr in batch: \n",
    "        coll_en.append(torch.tensor(text_transform_en(sentence_en))) \n",
    "        coll_fr.append(torch.tensor(text_transform_fr(sentence_fr)))   \n",
    "    coll_en = pad_sequence(coll_en) # \n",
    "    coll_fr = pad_sequence(coll_fr) # \n",
    "    return coll_en, coll_fr\n",
    " \n",
    "train_dl = DataLoader(train(), batch_size=8, collate_fn=collate_batch) \n",
    "\n",
    "next(iter(train_dl))"
   ]
  },
  {
   "cell_type": "code",
   "execution_count": null,
   "id": "eccfc325",
   "metadata": {
    "ExecuteTime": {
     "end_time": "2022-03-20T08:12:57.360725Z",
     "start_time": "2022-03-20T08:12:57.221277Z"
    }
   },
   "outputs": [],
   "source": [
    "for sentence in batch.English.T: \n",
    "    print(' '.join([EN_TEXT.vocab.itos[word_index] for word_index in sentence if word_index!=1])) "
   ]
  },
  {
   "cell_type": "markdown",
   "id": "bff9d72c",
   "metadata": {},
   "source": [
    "<img title=\"a title\" alt=\"Alt text\" src=\"https://miro.medium.com/max/380/1*2vyKzFlzIHfSmOU_lnQE4A.png\">"
   ]
  },
  {
   "cell_type": "code",
   "execution_count": null,
   "id": "e9be17e5",
   "metadata": {},
   "outputs": [],
   "source": [
    "### Embedding"
   ]
  },
  {
   "cell_type": "code",
   "execution_count": null,
   "id": "d6430dd9",
   "metadata": {},
   "outputs": [],
   "source": [
    "class Embedder(nn.Module):\n",
    "    def __init__(self, vocab_size, d_model):\n",
    "        super().__init__()\n",
    "        self.embed = nn.Embedding(vocab_size, d_model)\n",
    "    def forward(self, x):\n",
    "        return self.embed(x)"
   ]
  }
 ],
 "metadata": {
  "kernelspec": {
   "display_name": "Python 3 (ipykernel)",
   "language": "python",
   "name": "python3"
  },
  "language_info": {
   "codemirror_mode": {
    "name": "ipython",
    "version": 3
   },
   "file_extension": ".py",
   "mimetype": "text/x-python",
   "name": "python",
   "nbconvert_exporter": "python",
   "pygments_lexer": "ipython3",
   "version": "3.8.12"
  }
 },
 "nbformat": 4,
 "nbformat_minor": 5
}
