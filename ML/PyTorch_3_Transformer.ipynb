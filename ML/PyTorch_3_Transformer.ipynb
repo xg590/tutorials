{
 "cells": [
  {
   "cell_type": "markdown",
   "id": "5d18e183",
   "metadata": {
    "ExecuteTime": {
     "end_time": "2022-03-14T05:40:38.968183Z",
     "start_time": "2022-03-14T05:40:38.962899Z"
    }
   },
   "source": [
    "### Refs\n",
    "* https://towardsdatascience.com/how-to-use-torchtext-for-neural-machine-translation-plus-hack-to-make-it-5x-faster-77f3884d95\n",
    "* https://towardsdatascience.com/how-to-code-the-transformer-in-pytorch-24db27c8f9ec\n",
    "* https://github.com/SamLynnEvans/Transformer"
   ]
  },
  {
   "cell_type": "markdown",
   "id": "09df6944",
   "metadata": {},
   "source": [
    "#### Necessary Library"
   ]
  },
  {
   "cell_type": "markdown",
   "id": "0556efd1",
   "metadata": {
    "ExecuteTime": {
     "end_time": "2022-03-24T06:31:20.817823Z",
     "start_time": "2022-03-24T06:30:57.322637Z"
    }
   },
   "source": [
    "pip install spacy torchtext pandas"
   ]
  },
  {
   "cell_type": "code",
   "execution_count": null,
   "id": "0f15c771",
   "metadata": {
    "ExecuteTime": {
     "end_time": "2022-03-24T21:55:28.704600Z",
     "start_time": "2022-03-24T21:55:21.335881Z"
    }
   },
   "outputs": [],
   "source": [
    "!spacy download en_core_web_sm  # https://spacy.io/models/en\n",
    "!spacy download fr_core_news_sm"
   ]
  },
  {
   "cell_type": "code",
   "execution_count": null,
   "id": "189854cf",
   "metadata": {
    "ExecuteTime": {
     "end_time": "2022-03-24T12:49:54.259754Z",
     "start_time": "2022-03-24T12:49:54.254395Z"
    }
   },
   "outputs": [],
   "source": [
    "import torchtext\n",
    "torchtext.__version__"
   ]
  },
  {
   "cell_type": "markdown",
   "id": "4061d04e",
   "metadata": {},
   "source": [
    "####  Download the [European Parliament Proceedings Parallel Corpus 1996–2011](https://www.statmt.org/europarl/) "
   ]
  },
  {
   "cell_type": "code",
   "execution_count": null,
   "id": "6c4bc138",
   "metadata": {
    "ExecuteTime": {
     "end_time": "2022-03-19T21:11:45.393361Z",
     "start_time": "2022-03-19T21:10:57.121792Z"
    }
   },
   "outputs": [],
   "source": [
    "!wget https://www.statmt.org/europarl/v7/fr-en.tgz"
   ]
  },
  {
   "cell_type": "code",
   "execution_count": null,
   "id": "eb47df73",
   "metadata": {
    "ExecuteTime": {
     "end_time": "2022-03-19T21:11:48.871210Z",
     "start_time": "2022-03-19T21:11:45.399702Z"
    }
   },
   "outputs": [],
   "source": [
    "!tar zxvf fr-en.tgz"
   ]
  },
  {
   "cell_type": "markdown",
   "id": "e490ff59",
   "metadata": {},
   "source": [
    "#### Prepare datasets"
   ]
  },
  {
   "cell_type": "code",
   "execution_count": null,
   "id": "8b0464a4",
   "metadata": {
    "ExecuteTime": {
     "end_time": "2022-03-24T06:07:55.793826Z",
     "start_time": "2022-03-24T06:07:52.036695Z"
    }
   },
   "outputs": [],
   "source": [
    "europarl_en = open('europarl-v7.fr-en.en', encoding='utf-8').read().split('\\n')\n",
    "europarl_fr = open('europarl-v7.fr-en.fr', encoding='utf-8').read().split('\\n')\n",
    "\n",
    "import pandas as pd\n",
    "raw_data = {'English' : [line for line in europarl_en], 'French': [line for line in europarl_fr]}\n",
    "df = pd.DataFrame(raw_data, columns=[\"English\", \"French\"])\n",
    "# remove very long sentences and sentences where translations are \n",
    "# not of roughly equal length\n",
    "df['eng_len'] = df['English'].str.count(' ')\n",
    "df['fr_len' ] = df['French' ].str.count(' ')\n",
    "df = df.query('fr_len < 80 & eng_len < 80')\n",
    "df = df.query('fr_len < eng_len * 1.5 & fr_len * 1.5 > eng_len')\n",
    "df.head()"
   ]
  },
  {
   "cell_type": "code",
   "execution_count": null,
   "id": "f31062ff",
   "metadata": {
    "ExecuteTime": {
     "end_time": "2022-03-24T06:08:18.451687Z",
     "start_time": "2022-03-24T06:08:03.578397Z"
    }
   },
   "outputs": [],
   "source": [
    "from sklearn.model_selection import train_test_split\n",
    "# create train and validation set\n",
    "train, vali = train_test_split(df, test_size=0.1)\n",
    "train.to_csv(\"train.csv\", index=False)\n",
    "vali.to_csv(\"vali.csv\", index=False)"
   ]
  },
  {
   "cell_type": "markdown",
   "id": "22190a64",
   "metadata": {},
   "source": [
    "### Flow of data\n",
    "0.  Data\n",
    "1.  Input Batch Generator\n",
    "2.  Input Embedding\n",
    "3.  Positional Encoding Tensor Generation\n",
    "4.  Multi-Head Attention\n",
    "5.  Residual Connection (Add) and Normalization\n",
    "6.  Feed Forward\n",
    "7.  Residual Connection (Add) and Normalization \n",
    "8.  Output Batch Generator\n",
    "9.  Output Embedding\n",
    "10. Positional Encoding Tensor Generation \n",
    "11. Masked Multi-Head Attention\n",
    "12. Residual Connection (Add) and Normalization\n",
    "13. Multi-Head Attention\n",
    "14. Residual Connection (Add) and Normalization\n",
    "15. Feed Forward\n",
    "16. Residual Connection (Add) and Normalization \n",
    "17. Linear Connection\n",
    "18. Loss Calculation\n",
    "19. Training"
   ]
  },
  {
   "cell_type": "markdown",
   "id": "3a2589d4",
   "metadata": {},
   "source": [
    "0.  Data"
   ]
  },
  {
   "cell_type": "code",
   "execution_count": 1,
   "id": "93bef0c2",
   "metadata": {
    "ExecuteTime": {
     "end_time": "2022-03-30T14:23:07.797798Z",
     "start_time": "2022-03-30T14:22:57.295794Z"
    },
    "code_folding": [
     20
    ]
   },
   "outputs": [
    {
     "data": {
      "text/html": [
       "<div>\n",
       "<style scoped>\n",
       "    .dataframe tbody tr th:only-of-type {\n",
       "        vertical-align: middle;\n",
       "    }\n",
       "\n",
       "    .dataframe tbody tr th {\n",
       "        vertical-align: top;\n",
       "    }\n",
       "\n",
       "    .dataframe thead th {\n",
       "        text-align: right;\n",
       "    }\n",
       "</style>\n",
       "<table border=\"1\" class=\"dataframe\">\n",
       "  <thead>\n",
       "    <tr style=\"text-align: right;\">\n",
       "      <th></th>\n",
       "      <th>English</th>\n",
       "      <th>French</th>\n",
       "    </tr>\n",
       "  </thead>\n",
       "  <tbody>\n",
       "    <tr>\n",
       "      <th>0</th>\n",
       "      <td>That is not something we can prevent, and we s...</td>\n",
       "      <td>Nous ne pouvons l'empêcher et nous tenons à re...</td>\n",
       "    </tr>\n",
       "    <tr>\n",
       "      <th>1</th>\n",
       "      <td>Thank you, Mr de Silguy.</td>\n",
       "      <td>Merci beaucoup, Monsieur de Silguy.</td>\n",
       "    </tr>\n",
       "    <tr>\n",
       "      <th>2</th>\n",
       "      <td>A mere trifle like leaving out the digits '19'...</td>\n",
       "      <td>Le seul fait d'avoir omis les chiffres «19» du...</td>\n",
       "    </tr>\n",
       "    <tr>\n",
       "      <th>3</th>\n",
       "      <td>As parliamentarians, we should be reimbursed t...</td>\n",
       "      <td>Les députés doivent toucher des indemnités qui...</td>\n",
       "    </tr>\n",
       "    <tr>\n",
       "      <th>4</th>\n",
       "      <td>Since the EU was enlarged just over a year ago...</td>\n",
       "      <td>L’importance de notre puissant voisin de l’Est...</td>\n",
       "    </tr>\n",
       "    <tr>\n",
       "      <th>5</th>\n",
       "      <td>Today I would like to say here that if the Com...</td>\n",
       "      <td>Aujourd'hui, j'aimerais indiquer que si la Com...</td>\n",
       "    </tr>\n",
       "    <tr>\n",
       "      <th>6</th>\n",
       "      <td>IDABC supports, initiates and manages the deli...</td>\n",
       "      <td>Le programme IDABC soutient, lance et gère la ...</td>\n",
       "    </tr>\n",
       "    <tr>\n",
       "      <th>7</th>\n",
       "      <td>What I am describing here is the situation now...</td>\n",
       "      <td>Je vous décris là la situation actuelle et non...</td>\n",
       "    </tr>\n",
       "  </tbody>\n",
       "</table>\n",
       "</div>"
      ],
      "text/plain": [
       "                                             English  \\\n",
       "0  That is not something we can prevent, and we s...   \n",
       "1                           Thank you, Mr de Silguy.   \n",
       "2  A mere trifle like leaving out the digits '19'...   \n",
       "3  As parliamentarians, we should be reimbursed t...   \n",
       "4  Since the EU was enlarged just over a year ago...   \n",
       "5  Today I would like to say here that if the Com...   \n",
       "6  IDABC supports, initiates and manages the deli...   \n",
       "7  What I am describing here is the situation now...   \n",
       "\n",
       "                                              French  \n",
       "0  Nous ne pouvons l'empêcher et nous tenons à re...  \n",
       "1                Merci beaucoup, Monsieur de Silguy.  \n",
       "2  Le seul fait d'avoir omis les chiffres «19» du...  \n",
       "3  Les députés doivent toucher des indemnités qui...  \n",
       "4  L’importance de notre puissant voisin de l’Est...  \n",
       "5  Aujourd'hui, j'aimerais indiquer que si la Com...  \n",
       "6  Le programme IDABC soutient, lance et gère la ...  \n",
       "7  Je vous décris là la situation actuelle et non...  "
      ]
     },
     "metadata": {},
     "output_type": "display_data"
    }
   ],
   "source": [
    "import pandas as pd, pdb\n",
    "\n",
    "df_train = pd.read_csv(\"train.csv\", usecols=['English','French'])# , nrows=200) \n",
    "df_vali  = pd.read_csv( \"vali.csv\", usecols=['English','French'])# , nrows=100) \n",
    "display(df_train.head(8)) # df_train['fr_len'].max()\n",
    "\n",
    "import spacy # a language-aware tokenizer library\n",
    "\n",
    "spacy_en = spacy.load('en_core_web_sm') # https://spacy.io/models/en      initialize an english tokenizer \n",
    "spacy_fr = spacy.load('fr_core_news_sm')\n",
    "\n",
    "def tokenizer_en(sentence):\n",
    "    return [tok.text for tok in spacy_en.tokenizer(sentence)]\n",
    "def tokenizer_fr(sentence):\n",
    "    return [tok.text for tok in spacy_fr.tokenizer(sentence)]\n",
    "\n",
    "from torchtext.vocab import vocab\n",
    "import torch\n",
    "torch.set_printoptions(threshold=100_000)\n",
    "\n",
    "if 0: # Building vocabulary\n",
    "    from collections import Counter\n",
    "    coll_en = []\n",
    "    coll_fr = [] \n",
    "    for sentence_en, sentence_fr in df_train.to_dict('split')['data'] + df_vali.to_dict('split')['data']:\n",
    "        coll_en.extend(tokenizer_en(sentence_en))\n",
    "        coll_fr.extend(tokenizer_fr(sentence_fr))\n",
    "    \n",
    "    vocab_en = vocab(Counter(coll_en), specials=('<UNK>', '<BOS>', '<EOS>', '<PAD>'))\n",
    "    vocab_fr = vocab(Counter(coll_fr), specials=('<UNK>', '<BOS>', '<EOS>', '<PAD>'))\n",
    "    vocab_en.set_default_index(0)\n",
    "    vocab_fr.set_default_index(0)\n",
    "    torch.save(vocab_en, 'vocab_en.pth')\n",
    "    torch.save(vocab_fr, 'vocab_fr.pth')\n",
    "    \n",
    "    vocab_obj = torch.load('vocab_en.pth')\n",
    "    print(vocab_obj.get_stoi())"
   ]
  },
  {
   "cell_type": "code",
   "execution_count": 2,
   "id": "f2759b2b",
   "metadata": {
    "ExecuteTime": {
     "end_time": "2022-03-30T14:23:07.990551Z",
     "start_time": "2022-03-30T14:23:07.799131Z"
    },
    "code_folding": [
     6
    ]
   },
   "outputs": [],
   "source": [
    "vocab_en = torch.load('vocab_en.pth')\n",
    "vocab_fr = torch.load('vocab_fr.pth') \n",
    "\n",
    "text_transform_en = lambda x: [vocab_en[token] for token in tokenizer_en(x)] \n",
    "text_transform_fr = lambda x: [vocab_fr['<BOS>']] + [vocab_fr[token] for token in tokenizer_fr(x)] + [vocab_fr['<EOS>']] \n",
    "\n",
    "if 0:\n",
    "    # Print out the output of text_transform_en\n",
    "    print(\"input to the text_transform_en:      \", \"here is an example\")\n",
    "    print(\"output of the text_transform_en:     \", text_transform_en(\"here is an example aaa bbb.\"))\n",
    "    print(\"original text:                       \", ' '.join([vocab_en.lookup_token(word_index) for word_index in text_transform_en(\"here is an example aaa bbb.\")]))\n",
    "    # Print out the output of text_transform_en\n",
    "    print(\"output of the text_transform_fr:     \", text_transform_fr('Merci beaucoup, Monsieur de Silguy ccc ddd.'))\n",
    "    print(\"input to the text_transform_fr:      \", 'Merci beaucoup, Monsieur de Silguy.')"
   ]
  },
  {
   "cell_type": "markdown",
   "id": "3560b1a3",
   "metadata": {},
   "source": [
    "1.  Input Batch Generator"
   ]
  },
  {
   "cell_type": "code",
   "execution_count": 3,
   "id": "d3176131",
   "metadata": {
    "ExecuteTime": {
     "end_time": "2022-03-30T14:23:10.702694Z",
     "start_time": "2022-03-30T14:23:07.991833Z"
    },
    "code_folding": [
     3,
     4,
     7,
     13
    ]
   },
   "outputs": [],
   "source": [
    "import torch \n",
    "from torch.utils.data import IterableDataset, DataLoader\n",
    "\n",
    "class train(IterableDataset):\n",
    "    def __iter__(self):  \n",
    "        return iter(df_train.to_dict('split')['data']) \n",
    "    \n",
    "class vali(IterableDataset):\n",
    "    def __iter__(self):  \n",
    "        return iter(df_vali.to_dict('split')['data']) \n",
    "\n",
    "from torch.nn.utils.rnn import pad_sequence\n",
    "\n",
    "def collate_batch(batch):\n",
    "    coll_en, coll_fr = [], []\n",
    "    for sentence_en, sentence_fr in batch: \n",
    "        coll_en.append(torch.tensor(text_transform_en(sentence_en))) \n",
    "        coll_fr.append(torch.tensor(text_transform_fr(sentence_fr)))   \n",
    "    coll_en = pad_sequence(coll_en, padding_value=3) # \n",
    "    coll_fr = pad_sequence(coll_fr, padding_value=3) # \n",
    "    return coll_en, coll_fr\n",
    " \n",
    "train_dl = DataLoader(train(), batch_size=8, collate_fn=collate_batch) \n",
    "vali_dl  = DataLoader( vali(), batch_size=8, collate_fn=collate_batch) \n",
    "\n",
    "input_en, output_fr = next(iter(train_dl))\n",
    "if 0:\n",
    "    print(input_en.shape)\n",
    "    print(input_en)"
   ]
  },
  {
   "cell_type": "markdown",
   "id": "9f34d450",
   "metadata": {},
   "source": [
    "2.  Input Embedding"
   ]
  },
  {
   "cell_type": "code",
   "execution_count": 4,
   "id": "bec23d5b",
   "metadata": {
    "ExecuteTime": {
     "end_time": "2022-03-30T14:23:10.706169Z",
     "start_time": "2022-03-30T14:23:10.704183Z"
    },
    "code_folding": []
   },
   "outputs": [],
   "source": [
    "from torch import nn"
   ]
  },
  {
   "cell_type": "code",
   "execution_count": 5,
   "id": "eff98a5d",
   "metadata": {
    "ExecuteTime": {
     "end_time": "2022-03-30T14:23:10.750561Z",
     "start_time": "2022-03-30T14:23:10.707373Z"
    },
    "code_folding": [
     2
    ]
   },
   "outputs": [],
   "source": [
    "class Embedder(nn.Module):   \n",
    "    # num_embeddings (int) – size of the dictionary of embeddings \n",
    "    # embedding_dim  (int) – the size of each embedding vector \n",
    "    def __init__(self, vocab_size, embedding_dim): # d_model = dimension of model\n",
    "        super().__init__()\n",
    "        self.embed = nn.Embedding(num_embeddings=vocab_size, embedding_dim=embedding_dim)\n",
    "        \n",
    "    def forward(self, x):\n",
    "        return self.embed(x) "
   ]
  },
  {
   "cell_type": "code",
   "execution_count": 6,
   "id": "3d571c71",
   "metadata": {
    "ExecuteTime": {
     "end_time": "2022-03-30T14:23:10.839554Z",
     "start_time": "2022-03-30T14:23:10.751746Z"
    },
    "code_folding": []
   },
   "outputs": [],
   "source": [
    "embedding_dim  = 512 # length of embedding vector\n",
    "vocab_size_en  = len(vocab_en)\n",
    "vocab_size_fr  = len(vocab_fr)"
   ]
  },
  {
   "cell_type": "code",
   "execution_count": 7,
   "id": "ac2808e9",
   "metadata": {
    "ExecuteTime": {
     "end_time": "2022-03-30T14:23:11.225772Z",
     "start_time": "2022-03-30T14:23:10.844109Z"
    },
    "code_folding": [
     6
    ]
   },
   "outputs": [
    {
     "name": "stdout",
     "output_type": "stream",
     "text": [
      "torch.Size([34, 8, 512]) torch.Size([34, 8, 512]) torch.Size([109946, 512])\n",
      "True\n"
     ]
    }
   ],
   "source": [
    "input_embedder = Embedder(vocab_size_en, embedding_dim)\n",
    "\n",
    "input_after_embedding = input_embedder(input_en)\n",
    "\n",
    "if 1:\n",
    "    print(input_after_embedding.shape, input_after_embedding.shape, next(input_embedder.parameters()).shape)\n",
    "    # prove each token has a uniq embedding vector\n",
    "    # next(input_embedder.parameters()) is a mapping table between input_en and input_after_embedding\n",
    "    print(torch.equal(next(input_embedder.parameters())[input_en[23,4]], input_after_embedding[23,4]) )"
   ]
  },
  {
   "cell_type": "markdown",
   "id": "c16776d2",
   "metadata": {
    "ExecuteTime": {
     "end_time": "2022-03-25T10:39:11.171677Z",
     "start_time": "2022-03-25T10:39:11.169999Z"
    }
   },
   "source": [
    "3.  Positional Encoding Tensor Generation"
   ]
  },
  {
   "cell_type": "code",
   "execution_count": 8,
   "id": "25ec7a04",
   "metadata": {
    "ExecuteTime": {
     "end_time": "2022-03-30T14:23:11.390267Z",
     "start_time": "2022-03-30T14:23:11.226870Z"
    },
    "code_folding": [
     1
    ]
   },
   "outputs": [],
   "source": [
    "import math\n",
    "class PositionalEncoder(nn.Module):\n",
    "    # max_seq_len means each sentence has at most 80 words\n",
    "    # max_seq_len means 80 position to encode\n",
    "    def __init__(self, embedding_dim, max_seq_len = 80): \n",
    "        super().__init__()\n",
    "        self.embedding_dim = embedding_dim\n",
    "\n",
    "        # create constant 'pe' matrix with values dependant on pos and i\n",
    "        pe = torch.zeros(max_seq_len, embedding_dim, requires_grad=False)\n",
    "        for pos in range(max_seq_len):\n",
    "            for i in range(0, embedding_dim, 2):\n",
    "                pe[pos, i    ] = math.sin(pos / (10000 ** ((2 *  i     )/embedding_dim)))\n",
    "                pe[pos, i + 1] = math.cos(pos / (10000 ** ((2 * (i + 1))/embedding_dim))) \n",
    "                \n",
    "        # we prepare a positional 80 x 1 x 512 encoding matrix\n",
    "        # It will at most encode a 80-word sentence.\n",
    "        # we choose 1 because the positional encoding is the same to every sentence.\n",
    "        self.pe = pe.unsqueeze(1) \n",
    "\n",
    "    def forward(self, x):\n",
    "        # make embeddings relatively larger\n",
    "        x = x * math.sqrt(self.embedding_dim)\n",
    "         \n",
    "        # add constant to embedding\n",
    "        # x.shape = [34, 8, 512]\n",
    "        \n",
    "        #     self.pe.            shape = [80, 1, 512]\n",
    "        #     self.pe[:x.size(0)].shape = [34, 1, 512]\n",
    "        # x + self.pe[:x.size(0)] = [34, 1, 512]\n",
    "        x = x + self.pe[:x.size(0)]  \n",
    "        \n",
    "        return x\n",
    "\n",
    "posEncoder = PositionalEncoder(embedding_dim)"
   ]
  },
  {
   "cell_type": "code",
   "execution_count": 9,
   "id": "7e10b3df",
   "metadata": {
    "ExecuteTime": {
     "end_time": "2022-03-30T14:23:11.397021Z",
     "start_time": "2022-03-30T14:23:11.393555Z"
    }
   },
   "outputs": [
    {
     "data": {
      "text/plain": [
       "(torch.Size([34, 8, 512]), torch.Size([80, 1, 512]), torch.Size([34, 8, 512]))"
      ]
     },
     "execution_count": 9,
     "metadata": {},
     "output_type": "execute_result"
    }
   ],
   "source": [
    "input_after_posEncoding = posEncoder(input_after_embedding) \n",
    "input_after_embedding.shape, posEncoder.pe.shape, input_after_posEncoding.shape"
   ]
  },
  {
   "cell_type": "markdown",
   "id": "bff9d72c",
   "metadata": {},
   "source": [
    "<img title=\"a title\" alt=\"Alt text\" src=\"https://miro.medium.com/max/380/1*2vyKzFlzIHfSmOU_lnQE4A.png\">"
   ]
  },
  {
   "cell_type": "raw",
   "id": "6a76be90",
   "metadata": {},
   "source": [
    "<div> <img style=\"height:400px\" src=\"\" alt=\"Red dot\" /> </div>"
   ]
  },
  {
   "cell_type": "markdown",
   "id": "c8d1dc06",
   "metadata": {},
   "source": [
    "4.  Multi-Head Attention "
   ]
  },
  {
   "cell_type": "markdown",
   "id": "b9a2c3af",
   "metadata": {},
   "source": [
    "<div> <img style=\"height:400px\" src=\"data:image/png;base64,iVBORw0KGgoAAAANSUhEUgAAAaIAAAKBCAYAAAAV269qAAAABGdBTUEAALGPC/xhBQAAACBjSFJN%0AAAB6JgAAgIQAAPoAAACA6AAAdTAAAOpgAAA6mAAAF3CculE8AAAABmJLR0QA/wD/AP+gvaeTAAAA%0ACXBIWXMAAC4jAAAuIwF4pT92AAAAB3RJTUUH4gQCBAkO+aJA8AAAgABJREFUeNrsnXWAHsX5xz+z%0A+/q5J3dxdyEhhEACBAlOcGspXjcKLaXtr15a2kJbiktxdycJQRJCQkLc3f1cX9md3x/z7t17770n%0AMd67y3za5fKuzu7Mzndn5pnnMdFoOjY/BHzAlmQnRKPRHBxGshOg0RwCucBVwHmASHZiNBqNRnP0%0AcTFQCywFuic7MRqNRqM5uvACLwASCAM3JDtBGo1Gozm6OAbYgRIiCbwDpCY7URqNRqM5OhDAHwCb%0ABiEqASYlO2EajUajOTooBBbRIELO8m+0AY5Go9FovgauAoI0FaK1QL9kJ06j0RwY+utR09EIAJcA%0AngTb+gCnJzuBGo1Go+ncTAD20bQ15CwfAZnJTqRGo2k7ukWk6UgYwPmoiazNcSxwXLITqtFoNJrO%0ASS9gBc23hpzlYcCV7MRqNBqNpvNxExBBiY3zV8b8dtZtBoYmO7EajaZt6K45TUchFWWkYKEmrzpe%0AFRy2AH8DlqHc/Zyd7ARrNBqNpnMxGfgEuBnIBr5L4xbRCqAnMAC4G3gNyEt2ojUajUbTORDAEKBv%0AzLof0FiIVqLGkADcwFggP9kJ12g0raMHdDUdAUdo2koYWJDsRGs0mrahx4g0Go1Gk1S0EGk0Go0m%0AqWgh0mg0Gk1S0UKk0Wg0mqSihUij0Wg0SUULkUaj0WiSihYijUaj0SQVLUQajUajSSpaiDQajUaT%0AVLQQaTQajSapaCHSaDQaTVLRQqTRaDSapKKFSKPRaDRJRQuRpqNixf12orRqNJoOhg4DoWmOANAP%0AGAb0ALzJTlAc4+J+5wG3AqXJTlgCKoANwBJgO01FVKPRaDQx+ICpwKvATqCOxgHo9HJwSxWwBvg3%0AMAYV7E+j0Wg0cfQCHgLKSX7F3ZmXTcAPUa1OjUaj0UQZCMwg+ZX00bLUAn8H0pKd8RpNstHdAxqA%0AXOBh4ML4DWlpaXQtLKRrYaGqPjUHhGVZbN26hT279xAM1sVvDgG/Ae5GG1pojmK0sYLGAG4Czotd%0AGQikcM5553DJZZcxaPAgAim6F+lgkFJSWlLKl/O+5MXnnmfO559j27az2QP8FPgS+CTZadVokoVu%0AEWkGA28DfZ0Vefn53P6rO7jokotITU1FSomUujl0sAghEEKwc+dO7rrzLl549lksq5Hh3IvAdaju%0AOo3mqMNMdgI0SUUA3wAuj/4bj8fDj37yY264+UY8Hg+2bWsROkQcIU9PT2fs2LGsW7uODevXx+6S%0AD0xHWSlqNEcdekLr0Y0bmEhMORg+YgRXXHUlpmlqATrM2LZNXn4e1994A5mZmbGb8oCxyU6fRpMs%0AtBAd3aQT0yUnhGDipEnkF+THjmNoDiO2bTNy1Ej69usXu1qgJg7rrnLNUYkWoqObFNQEVgAMw6Rn%0A714Yhi4WRwopJekZ6fEtIlBm3FqINEclusY5unHmtAAgBAhdF349NH3Muh9Uc9SihUhTj64JNRpN%0AMtBCpNFoNJqkooVIc8gYhoHL7TrgsSXTNHG59JxqjeZoRwuR5pAQQrDgywX87c9/ZfmyFQjRtjEm%0AKSUfvv8Bjz78KJWVVW0+TqPRdD60EGkOCSEEC+bP5+9//Rsrlq9oc6tISskH73/Aow89QmVlpRYi%0AjeYoRguR5pAxDAPDMA5YTFICKWRmZmJoEdJojmp0B70mKQghuOqb3+D8C6eSmZWpvThoNEcxWog0%0ASUEIwZBhgzGEQSQSqRcip1Xl/HZaWwhAqvWt+b8TQjS00KLH2bbdorcIIQTCEBjCqJ/jI21Zf714%0ADMNAGAZWJNI4najQD1pYNZq2o4VIkxSklKxcvoqqqiqGDhuC3++vD5kQiUTIyc3BsixWr1rN7M9m%0AUVFRQXpGOmPGjmXo0KGkpqUmFAghBCXFJSxbuowlixdTW1tLl65dGXvssQwY2B+3291EJAzDoKqy%0AilWrVrFg/nzKy8oRQjB02DBGjBpBt27dmlzn449msn37di657FI8Hg/r1q1jwZcLqKyo4JLLLiUr%0AO0uLkUbTRrQQaZKClJLnnn6GrxZ8xaNPPEYgEMCyLP7xt7+zefNm/u/3v+P5Z55l2ocfUlVVhW1b%0ARMKq9XH6lCnc/qtfUtStqEll/8nMT/jPPf9i7Zq1gKxvEXl9Pi6YOpXv/fD75OXn1YuYEIJVK1dx%0A913/YO7cuVFP2dHWkxRk52Tz81/+gnPPP6/RGNjMGTOZN3cuk087jbffeJMnHv8f1VVV9OjZkyln%0AnUl2TrYWIo2mjWgh0iSNuro6qqqq6itsp0W0Y/t2Hr7/QTasX8+tP/85x4w9Bo/Hw66du3jiscd5%0A7ZVX8Pv9/OEvf8Lr8yi9MQw+njGTn/3kp2RkZPDr3/4f48aPw+f3sXvXbl5/9XWef/Y59u/fzx/+%0A8sd6X2/btm3jV7/4JVu3buXWn/+c4088ntSUFILBEEuWLOWh++7nN7/8NXn5+Uw4YUK9gBmmgWma%0AvPT8izz/7LOce/55nH3OOXTr0Y2c7BztNFajOQC0EGmShgoY13idaZps3bKFnJxc7rrnHwwaPKhe%0AqLp170bvPr3Zt38/H77/AdffdAODhw5G2pL9+/Zx33/uJTU1lXvv/y8jRo1sOK5bN0aMHEGPHj34%0A2513cuxx47jm2muQEt57+z2WLV3GP/99DxdceEGjVkzf/n3Jyc7mhmuv49OPP+X4CcfXbzOEwfbt%0A2/nw/fe5/Vd3cMGFF+ByuXT8Jo3mINDm25p2hRCqpXTJZZcwaPAgLMuqNzSwLIuc3BxOPuUU9u3b%0Ay6aNmxAIhGHw+azPWfjVQr793e8wYtTIJse5XC4uu/JyxowZy2svv0J5WTmRSJhlS5cyaPAgjp9w%0APHa0S65+sSz69e9HQUEBq1etbNTKEYZgz+7dnHDiiZw/9XwMw9BGChrNQaJbRJp2hW3bdO/Rg/ET%0Ajk9YqRuGQZeuXQAIBoPqGMti/pfzKepWxOTTTsV0mQij6dyk3LxcTjl1Mg8/8CA7d+5k4KCB3PSd%0Am5ESMjIzQNJoPpRpmlRUVFJTU0NNTQ1SyoZxIglp6elMPv1U3G53fOhvjUZzAGgh0rQrVEjtDFJT%0AU5ttXXi9HqAhkkJdXR3Lli6hqrKSRx56GJ/PS6JDDUOwbOkydu/ezbatWxkybCijjhmFaZiEQiFK%0AS0upKK9g9+7dVFdVs2rlShbMX8Ce3Xvo179RIDts26ZLly50795dt4I0mkNEC5Gm3XEgjhaEENTV%0A1lFbU8v+/ft56fkXWtxftagKiEQskJJQMMTcOXN5/933WLd2HSUlxZimSf8BA/AHAow77jhWrViJ%0ATGB84HK5MF0uLUQazSGihUjToZGA6TIBybDhw7n3gfsIpASgGXFQBhKCjIxMgsEgTz7+JPfdey9D%0Ahw3j0isuY8iQIWTnZpOelo4/4KekpJQXnnuu+VhNssFEXKPRHBxaiDQdGynx+/107VrI9u3bycjM%0ApKAgv9lWSnV1NRUVFbjcLlatXMW9//43p0yezO///Eeys7PqDRKc8SBlgJDsm9RoOjfaak7T4XG7%0A3YwYNYptW7exZtUqgMbWb/XWczYP3v8g37rqm2zdso01q9ewf98+zp96Pjk52UQikfp9HSEq3l9M%0AeVmZ9g6u0RxBtBBpDhuGUKbURiuLMASCw1exG4bBhBMmIJE89cRTlJWVNQlHYZomGzds4JUXXqKw%0AqIiibkWEw2Esy6a0tCyh25/a2lpeeuEF9u7dc1DexTUaTdvQXXOaw0ZJqfKKYLdiyux2u8nMyjps%0A17Usi9FjRnPB1Km88Nxz5Bfk86Of/oSCgnxM0yQcDrN+3Qb+/Ic/UVFZwTXXfovU1BT69+9PRmYG%0ALz73PKNGj6Jvv764XC5CoRA7d+zkqSeeZM2q1fTo2ZOK8nJKSkrJysrCMLQgaTSHEy1EmkPG6c76%0A65/+xL/v/merA/eDBg/m3gfuQ0qbSMRqtLtlNV2X6HqWZWHHtGJ8Ph8/+8VtVFVV8cyTT7No4SLG%0AHTcOv99HSUkpn8+aTVlpGT+77VZOnHQikUiEEaNGcNkVl/PU/57g+muuZeJJk0hPT6N4fwlLFi8h%0AGKzjz3+9kw8/+JBHH3qI79x4M7//0x8YPmI4lm0pr+FoWwWN5lDRQqQ5JKSUjD32WG79xW1Rh6Gt%0AH5NfUEBKSgpnnDmFwUOHkpaWhpQSwzA4b+p5FBeXkJISSHisbdsMGDiAn//yFwweMriRcUFhYVf+%0A8rc7mThpEh9Nn85bb7xJsK6OzKwsxo4bx9SLpnLixBNxRU2uvV4vt/7iNgYOHMS0Dz7knbfeJhIO%0A071HTyacMIFLLr+UIcOG0q1Hd/Lyc6mqrMQfUF7CJ586md59ekfTnuxc0Gg6NrqP4eimBzANGAhg%0Aulz88557uPqaqw/IU4BhGBjmAQw3SrCsCIZhIoQgEo3pA2osJ35dPEIITNPEsu0m83sc8+ya6hrK%0Ay8uxbQu320NmVhZer6fJfalxH0F1dRUV5RVIaeMPBMhIz8B0mdi2XX89aIg15Ix3tZTO5rBtm29e%0AeTUfTZ8Ru/pJ4HpAe0vVHHXoFpHmkGkt6FxzJBK7tgiglLJZAVCtMok/4FfziWLWJTq3MlKQpKSk%0AkJqa2mj/2NZW/PUO9p41Gk1TtBBpOiWOmByp/TUazeFDm29rNBqNJqloIdJoNBpNUtFCpKlHW65o%0ANJpkoIXo6EYQoz9SosdJkof+DtActWghOrqpBULOD9u22LVrlxajI4gQguqqaiorq+I3VaHnxWqO%0AUrQQHd2UA1ucH1JKZn32Gfv37U8Y4VRz6BiGwcoVK9iwbn38pjVoIdIcpWghOroJAZ8QUwEuXLCA%0At998CyTayedhxjAMykrLePzRxyku3h+7qRT4Ktnp02iShZ5HdHQjgRnADqAbQDAY5L///g/5+QVM%0AOXsKbrdbT9w8DBiGQUlJKf/9939475134jfPBpYkO40aTbLQn7waN/BH4DZiWsgFBQVcdsUVTL3o%0AQnr06onH7dal5SCQUlJTXcOSxUt45smnmPbhh4TD4dhdSoBrgHeTnVaNJlnoqkUD0B14Apgcu1II%0AQUFBAQMHDSIrOxtdXA4MAUQsi507drB2zWoqKyvjd4kAdwG/J8ZoRKPRaI5WjgUWoLrr9HLklwjw%0APyA32Rmv0Wg07YmhwOtAHcmvqDvzshf4M5CT7AzXaDSa9kg2cAPKmq6M5FfanWUJAzuBZ4HTUGNz%0AGo0G3emvaZ4cYDQwDBW3KCXZCYrDBnoDZwDFwPtADe2vTMto+rYA84FVqBanRqOJ0t5eWk37xUx2%0AAuIQwG+BX6Mszy4FPk12opqh7VEGNRqNRtNh6AospKHr6170BG2NRqPRfI1cBQRpEKK1QL9kJ0qj%0A0Wg0RwcB4A2amkN/P9kJ02g0Gs3RwfHAPppaps0EMpOdOI1Go9F0bgzg7yQ2ka4ApiQ7gRqNRqPp%0A3PQCVtL8fJ1H0c58NRqNRnMEuRE1ObQ5IdqC8hCh0Wg6CNrcVdORSAcuoeUWTzfgrGQnVKPRaDSd%0Ak1Npm9uhL4C8ZCdWo9G0Dd0i0nQUTOBCIAPlMscZJ3LYj5rgGka5Jjoh2QnWaDQaTediMEp8PgTO%0ABH5G41bQCuA44AfR/Z4BfMlOtEaj0Wg6BwIVtO/bNIRO+D5NhahndNtglFB1T3bCNRqNRtN58Mb9%0A/gGNhWglyrTbwYU249ZoOgT6RdV0FIIHuH8k2QnWaDRtQxsraDQajSapaCHSaDQaTVLRQqTRaDSa%0ApKKFSKPRaDRJRQuRRqPRaJKKFiKNRqPRJBUtRBqNRqNJKlqINBqNRpNUtBBpNBqNJqloIdJoNBpN%0AUtFCpNFoNJqkooVIo9FoNElFC5FGo9FokooWIo1Go9EkFS1EGo1Go0kqWog0Go1Gk1S0EGk0Go0m%0AqWgh0mg0Gk1S0UKk6ajIBL/lwZxIo9EkF1eyE6D52kkD/IAbEMlOzCGQFffbDRQCVrITdgjYQBCo%0AAWqTnRiN5uuiI1dEmrYTAI4DTgdGA0VAJh07/1Oj9+AQBoqBSLITdghEgH3AJuAL4ENgDUqgNBqN%0ApkMigOOB54ESGrqv9NL+FwvYAPwO6JrsgqTRaDQHgwlcDWwk+ZWqXg5NkD4ERia7QGk0R4qO3DWj%0AaR4DuAr4B1CQaAePx4thGOjx/faCIBKJEImEm9thLnAzsCzZKdVoDjdaiDon41Hdcb1iV2ZkpDHx%0AxGM4ZnQ/+vTpgdvj0jrUXhCCqspKVq7cxLwvV7Nw0UpCoVD8Xm8C16O6WTWaToMWos5HKvAEcHHD%0AKsH440bwqzuu4aSJw0hLC2jD/XaKHbHZvbuMl16Zxd//+TQ7d+6J3RwCfgI8kOx0ajSHEy1EnY9T%0AgVeBDGfFuGOH89jDtzNseA+kbSOlbga1ZwxDYNvw0iuz+fFP72Hv3v2xm+cAFwD7D+7sGk37w0x2%0AAjSHFQO4CTjNWZGXl8O/7/4JJ5wwGNvqyFNsjh6kBCFg8KAelJbWMOeLpcT0oWYBn6BMvDWaToHu%0AoOlc+FDjQ/VMGD+ckyYNQ9pahDoSUoLLbXDlFZMpKmpkb5IKjEl2+jSaw4kWos5FJtDF+WEYJhNO%0AGEUgxYPujet4SNumV68C+vYpjN/UB/3uajoRujB3LrzEdLcahiA3JzPZadIcJFJCSsBDWqo3flMK%0AenxX04nQQtS5iGv36LqqoyMEOhs1nR4tRJ0a3R+n0WjaP9r7tuaAEUIgDKE+10X0c11KkBJpS20e%0ArtFoDggtRJo2IwQIw6CsrJo1a3ayctVmNm3aCkBhYRdGjxrAwIFFZGYEkPLoFSQhBEKAbR+d96/R%0AHChaiDRtQghBKBThvQ/m8cCDb7B4yVpcLhe2pdzQCEMVpWFD+3HTjedx7tnH4vd7jkoxKimtJBQM%0Ak5ubgWnq3m+NpjW0EGlaRQhBWVkN/7j7FR5+9A26dSvgtp9dxaRJoyjsko4E9uypYtbsZTz7/Ifc%0AdPNfuOnGC/n1HVeTkeE/6sTorr+/wpfzV/D0E7+mW1Em9lF2/xrNgaKFSNMqwWCEe/79Ovf8+zku%0Av2wK//frb9K7V56y5opWsj16FHDs2L6cf97x/Pz2h7j3vhfJykrn57degmkeXWZfJaWV7NpdQsSy%0Ao88o2SnSaNo3ut9A0yKGYTBtxiL+e/+LnHXWidz115vo3TsP27axLRvblmqxbGzbpl+/Av72l5sZ%0AMqQfDzz0KkuXbY6Gm2iKEGquk7OIA9SrgzlWHMRxTdMpWtlfNHvPGo2mKfpt0TSLEFBWXsODD72B%0A1+vl1p9eTl5eGrbVfORq27Lp178LN1x7Ljt27GP6jIUJz2uYBqGQza5dJWzdtpddu0oIBi0M00hY%0A0RumgeEyo6JgYFmSXbtjjg3ZGK2MxximQTgi2bW7tPE1jcTXrE9n2GZ39Jht2/ZSUVGLEAaGIRrv%0A6zIxXC4lVoDbZYLLhWFql44aTUvorjlNswjDYMmSjXwxdxkXXTiZY47pg2xBhBqQXHDB8VTXfJtB%0AA7thWXZ9y0MZPVh8OH0+r7z6KXPnLqWiopK09DTGHTucCy84kTNOP4b0dF+91ZmUkldfnc2+/aVc%0AecVprFu7g6eemc6H0z6nvLyS9Ix0xh83gisvn8zpp41qJBDONcNhixnTvuKVVz9jzpzFlJVVkJae%0AxrFjhzH1ghM5+8yxpKR468ezhIBQyGL6R1/xyqufMHfuMsrKyhFCMHz4QE45eTTfumYKhV0zkRKK%0AS6p45rnpFO8vZf785ezdV8xd/3iGjAw/ffoU8o2rzmiSLo1Go9BCpGkWacMXc1dRUVHFpImj8Hrd%0AbfLgLW1Jt6JsfvGLK8GW2LYSLyEE5eW13PPv13jgoVfJzkrn9NOOIyc3QGVFHZ/NXsGN357N5Zed%0Azh9/fy15uWlIKbFteOW12axYuQm3O5V//edZ8vNyuOD8ifh8LrZuK+H9D+YwbfoX3P2Pn3DFZRNx%0ABmaEEFRW1vGfe9/gv/e/Qlq6n9NOHUdebgrV1UE+n7OKm759J9dfex6/++23SE/zIaUkGLS49753%0A+Oc9z9CjR1fOOnM8aelegnURFi7ayJ//8gRfLVrPvfd8n66FWZRX1PHSS5+wceMWKiprCYfDPPfC%0ANExTMOnEkVx95eloFwkaTWK0EGmaJRKx2LxlL5mZ6QwZ3I0DGXWXUiIjjUUrYtk89Mh7/P2fz3DF%0A5Wfwy19cSd8+XTDcJjJis31HMXff8yoPPPQyKQEvf/nz9Xg9qlvL5TIpLa3giSff45pvnM113zqD%0A3Lw0MAShujDTpp3Mt7/3N+7+1wucNGk4hYWZSFti2ZLH/jeNO+96kosunMyv7/gG/fp2xfSYYNns%0A2FnKr3/zGA898jrDhvbl+utPxxCCTz5dwt//+TRnnzWBP//hBgoLsxAuA2xJaWk19/73Df585+NM%0APnkM3/vOWXQvyuKVl35LJBLhl796gi/nr+TpJ35Ft6JMPB63NuPWaFpAvx2aZolEImzYuJm8/Fzy%0A8rI4FBfehmGwYsU27n/wVSYcP5K//OkG+vfvCkjscAQpbbp3y+G3v/kGF049haeeeZ9589YiooP+%0AQgh27NjJkCHd+cH3ziM3NwXbsrDDEdwuwdlnjeXyy6awcuUGVq/eUj+Gs2rVdu7970uMGTOEv/7l%0AJgYOLEQIdU3btikqyuLXv7qGnj278tj/3qKkpBrblrz97hx8Pg+3/ewKirpnIaWtjrEssrICXHnF%0AZLp168r8BSuxLBuXy6CwazbduxWQmurH7XZRWJhLtx755OVlJjsrNZp2jRYiTbPYtk1JcQketwuX%0A69AG3KWUTJ+xkD179nPTjefSpUtmE6MH27bJzArw3e9cCMDrb8zGikRNoJFkZKTzjatOwx/wNPJa%0AIKUyKhg2tCfBYJA9e8vVegTTP1rEnr3FfPfmqRQVZTe9pmXTq2cuP/rBFYwZM4K6ujBWxKJLQQ5X%0AX3k23Ypy6sfFYj0a+f0+vB43O3bswJZ2NP0SKe16vbZtCdrlkUbTKrprTtMshmGQnZPNtu0lRCIH%0AHlhPCGU9ZktJMBjms1kL6dOnB+OPG6wGoBIgbZthQ3rQu1dX5s1fQWlZDZmZfmxbUlTUhV49uyQ+%0AVkB2lh8hRL0QRMIR5sxZTLduXRk/vvlrCgE3XHcakYiNx2NiGILbfnYxQgi8XhMMAwEEa8OEwxaV%0AVVVMm76Inbv20q1bpp4npNEcIlqINM3icrno26cXCxeuZd++Unr1yqWtta6Ukr37ypBSkpebSXV1%0AiC1bdpKfl0lWZmqzrQQpIS3dx7Bh/Zm/YBU1NSGyMgMAuN0uzOZaZjGtFed3ZWWQTZt2kJuT1uI1%0A1b0auN1GvYj5fG5qaoIsXLSNhYvWsn79ZnburMAw3WzYuBm326PHfTSaw4QWIk2zuFwmvXrmU1ZW%0AwcpV2zn22AFtOk4IKCmt5RvX/Bmv18dT/7sDKzr51eM2cblame8jBD6fF1vKOMehkgNpfkQiNpYl%0AcbmMVq/pOCqVUiKEYNWqHdx513PMnbuMnj2L6NOngD598hg6dADdis4iLS2FK676nXZsqtEcBrQQ%0AaZpFGHD8+MGkp6fy2azFXHH5RDwuo1UpEIbB5s17WLpsEyefNJq0NC/BYJjUVB8VlXXU1ITw+900%0AJyqhUIRt23bhcZm43Qc5NiUhJcVNerqfquogNTUhUlI8zV6zsrKWiooq8vIyKS2t4ae33c+G9Vv4%0Ay5++y+RTRpCRmYLL4wLbBiHYuaNMW2NrNIcJ3begaRZp24wc2Yfxxw3nvfc/Z+HCjYg2dEfZluS9%0A9+dRVlbBmVOOx+N14fd7OOaYYWzavIPNW/aoeEYJMAzBrl1lrFq9mS5dsupDShwMzjV37NjHlq0t%0AXdPgiadncu7UX7Nh4x6+WriOTz+dz60/u4pLL5tIdnYqhiBqNWeDbRMKRQiHIgfslkij0TRFC5Gm%0AWaSEzIwAN914PnV1Qf5xz4vs21fZoisdwzRYuGgjTzz5DqNGDeSM049BSonLZXLypJFUVFTx2uuz%0AsCIyYSUuEXzw4Xx27tzH2WedQEqK56Ctxg3T4OSTRlJVVc2LL39CJGw3uaYz4XXatHm4TBd5uVns%0A3FVCOByie7ccIIHVmzCY9+Uqtu/YHXUPlPj6WqQ0mrahhUjTIra0OfvMMfzw+5fz/vuz+fntj7Bp%0A0z4Mw1D+3xxnoFEfcUuWbOHnv3yI8opqfvbTKykqzKqP2nrKySM5adJYHn/ibd77YAEQew4DwzD4%0A9NMV/P3uZxg0qBfnnXsc8hBM0qQtmXTiMCafcixPPvUOb70zD4louKZpYEt46dXZzPp8ERdfdDK5%0ABelkZgQAg1mfryYcshrtbxgGixZu5LHH30OJFAjR2Fed2+2iqqqWiooa7WtOo2kD+g3pXGQC3wRy%0AQHU5nXfuJEaP7n1Ic1lcLpPRo/ohpcnzL07j/Q+/pLKyFrfLg21HKK+oZu3a3Tzx9HR+/ZtH2L59%0AL3f84lq+cfUpuFwNFXRqqpe+fboz8+OFvPbGp1TXhMhITyMcCbNjRzHPv/gZv/ndw1iWzT/u+gHj%0AxvaLRnqF19+cw969pXzjytNJS/M1aSUJ02T1qi28+PJMLrzgFEaM6IW0bQIBD/369eDTz5bw6msf%0AU1kZJCMjnUg4xMaN+7jv/jf5x93PMmH8KH51x9WkpflIT0vl08+W8NHM+UQsg5ysNILBIBs27OWl%0AV2fzuz88zoknjMTjcbNixUby8gsoKsohJeBFGAarVu3g9TdmsHnzbtas3sSWLbsZPqxvq167m+OF%0Al2aydt222FVLgTfQhuOaToI2VtC0ipSSzMwA//frqxg7dgAPPPgGf//nc9z9rxeRdhgAW6pWwTHH%0ADOa7357KmWeMxu02GwmgbUuOO24A/3vsl9z5t2f4939e5N7/voRhSMDAtgWjRw3gtluvYvLJwxs5%0AIM3JTqNLl2xM00jcVSclfr+X7t3yCQS8OHW0bUvGjunL44/ezl/vepb/3v8K9z/4KoaQ2FJg25Kz%0AzzqB3/7mWxQVqkm23bplc+efv8Pv/vA//nn3s/z7P8/hMgWm6SGQ4ueSi07mtlsvY/qMxfzmtw/y%0Alzsfo0/vHCZOGom0bC695ATWb9jOjI++4KuvVjBpovY1p9G0hH4zOhe9gGlAf1DzgB564Ndcf93k%0AFkM3tBUhlEVcWVk1a9bsZNnyjWzduh2A3Nxsjhs3jMGDikhPDzTyMBCPYRhUVNSwZOkW5s1bSkVl%0AFWlpqYwZM5SRI3qRk51a7yjVoaS0kkjYIicno9lAe3V1IYqLy8nKTifg9za5ZmVlLUuXbWHuvKXK%0Aa3d6GuPHj2DUyF6kpngbmWILIdi1u4wFC9axeMkqIpEIPXoUcezYwQweVITbbRKOWOzbW0Y4EiE/%0ALxOfz1N/bDAYoaSkgogVwef1kJubcVDPXErJ1It/xTvvzold/QxwLXDgs4w1mnaIFqLORS+OoBA5%0ACCGUBVqszxspQcr68aADPkcrx8d6aWj+nEQ9K8iEInhQ1zQEOEHupGzkTRyoD+0Qf00nLQ2P5uB6%0A0bQQaY4GdNec5oCRUiKtQxueONBzSNm62UJrFf5BXdOS0FIgQLt5DxHax5xG0za01ZxGo9FokooW%0AIo1Go9EkFS1EGo1Go0kqWog6F6LJTz29v8Ojc1DT2dFC1LkIA/Uj61LaVFZWJztNmkMgGLSorYvE%0Arw6jJ7NqOhFaiDoXZUCx88OyLL6ct4y6Ou2csyNiGAbbthezZeu++E0bifng0Gg6OlqIOhe1wJLY%0AFZ98tohFizYiDJ3VHQ0p4Z1357Jp09bY1SFgebLTptEcTnTt1LmwgBlAjbNi587d/POel9izu7xF%0Ar9ma9oMQYJgms2av4L/3vxwfpn0tsCjZadRoDid6Qmvn4xPgc+B0Z8Wbb83E5/Pwi1uvYMiQ7phu%0Ag4OOraA5sghBbXWID6bN57e/f5TNm7fHbrWB54CtB3dyjaZ9okcOOifnAk8Q9cINKlTBgP69uOCC%0ASYw7diipqf5kp1ETh5Swa9c+Znw0n2nT57F/f3H8LnOBy9FCpOlkaCHqnHiA24BfA774jYFAAJdL%0ARwBpj9TVBQmFQok2bQZuAGYmO40ajUbTVtKA3wElKFNfvXTcZRVwPvrDUaPRdEA8wGXAlyhrq2RX%0AqHo5sKUCeB4YneyCpNEcSfQX1tFBd2BKdBkNpKMsJjuDxYJThjvLvUSA3cAc4F3gU6Aq2QnTaI4k%0AWoiOLvwoA4Y8OofFpAROA7YBaziw8uwF+gKrOfDJoWnRa1UcgXuqBfaiJibreEMajUbTzkkB3gN+%0AdhDH9gZ+CeQexLFDgVHJvnmNprOgZzhqOjLjgROBS1CtvLYigLHAYA5cUPyors4iVMtIo9EcIlqI%0ANB0VE7gAJQYjgAkHcGw2aqzMDRwLBA7g2ILoNVOi/9ZoNIeIFiJNR6UvcFb03wFUq8jbxmOHoFo0%0AFqqLrk8bj3MB3VAiaET/7Un2g9BoOjpaiDQdlSk0FpBTUQLTGl5UK8iFMnZIAY5DiUtrZKG6AB3z%0A6hxU60qj0RwCWog0HZFM4GIal98uwHltOLY3MIAGc2+JMj5orZtNoFpRsa0uN2q8SFufajSHgBYi%0ATUfkRGBM3DqB8j7QtYXjRPS4VBoLUS4wspVrpjRz7gLUvCyNRnOQaCHSdDRcwIUoMYlnOHByC8fm%0AoQQnvgVjoqzoWrKCc4wUYifOOl17LYmfRqNpBS1Emo7GYNQk1kR4UF12zbkWH44SlPgJrDbQC+jf%0AzHFulGFCovclUZedRqM5ALQQaToa56DGZZpjIsqcOx4/DUYKifBFtycyWsiJLoncCEkajBg0Gs1B%0AoIVI05HIA6bSsnFAPnBRgn36oqzsmvNJ5xgtdItb77R4WjLTdsy69fuk0RwE+sXRdCROJHFrBxoL%0AzFk0FhQDGIcazxE0FSnndxZNPV2noizyILEAOuvygYxkPyCNpiOihUjTUfACV6C62FaiAsTFis9O%0A4BVgH6plc3rMti6o8SEb2IiK0RQrKtuBHaj3YQyNBaUQZaQQip47ErNNAvuBIGpSbVGyH5JG0xHR%0AYTo1HYVjgGuBl4BbUcJwdsz27cDNwEeoLrzewAcokZiI6pr7AHgZNY+oC0pIBLAAeAYlMn1Q3q+3%0AocRvCMoj9hJUeIYiGo8zLYzu60OZce+isVhpNJpW6AyhADRHDz8DZgFhGrd4QAlKCJgOfAWchOpW%0Aq4ku/0W1hkhwnEQJyAvAIpS3BAMlRFtRraU6lMFCfPechRKoElTryYcSLo1G00a0EGk6Cgtoe/C7%0AEuB1GkRjFg2xfRL1Ajj7WahuPzN6rUraHnMoCGxCd3drNAeMFiJNR+FgIrA6xxxogLlDCUh3oEH2%0ANJqjHv31pulMHIrPtwM5VsT81X7mNJpDpCO1iEQrvzVHDzYtm1K39IHVnPl2a6IiE+wnads1NZqv%0AC9nK73ZJexcikeCvSLBdc3TRnGiYNMQKag4z5ngj5m9rFqQy5twGDaEg2nJNjebrIN4PovOhJGnn%0AgtRehSheeGIrDS1GGoumwiFQ5dlNy6LgiI4jJo6wuFu5ph3dJ1Z0ZBuvqdEcaRKJkESVWxm3tDva%0AoxDFi0/sEi9ImqMTm6ZlV6AEwUPrLaJYMXEErLVIqzK6jyM8zgvtQZl56/KoaQ/EC5CN+nBLJErt%0AhvYmRPECZNK44ogVpPhuO83RQ3NC5EXN42mtReSioUXltIZ8rVxTRs/voaH15KzzocuhJrnExtdy%0ARMcRISP6V9DYIrTdiFF7EqJYEXLEx0VDpeGsF7RtcFnTeTmUFlFs15xz3IG0iNw0FiLnt+6a0ySb%0AWDGKFaJIdHFEyNkWe0xSaS9CFC9CjgC5Ub7FUqJ/Y4Uo9ljN0YVN06ioLpTj0TCtC1E6qjw51ncZ%0AtB7cTqL8yQVp6OoAFbbcKZcaTbJwWkJBlGePMI1bREZ0HShRihWtpNNehAiaClE6KohZLqrrQ/vF%0A0zg4MYBicaPExOm6bQ5HiAI0CFE2TcM/JEIA1XHrslBipNG0B2yUGJUBpSjXVLFDGg5Oq8mxqksq%0A7UGI4ltDToXSmwa3/Ul/UJoOQVu6bJvb/nVNhtVojiQmqt4MoD6w9tDY23y8MUO7qF/bgxBBQ+Xg%0AAnqgPCU7lklJf0gajUbTgXDqTD+qpW+iPMrHjh05S7sQo/YgRLGtoUIaixAApmmSnpaBy93aeLLm%0AaEAgqKgso66uwcm1YRhkpGfhdnuQLb1TEqprKrFtx4hIla9AIDXZt6XRHBKRSJiKijIsq94wzplw%0A3RUlOntRdX7suFG78I2YbCGK7dJIR8WCqRchIQT9+g3i7CkXc8zo40lPzULoXpCjHo/Xy9//dQcf%0Af/JB/bqsrGx+ccufGTxwdOyL2ISIFebZl+6jvKIEIQQS6FbYk4vOvT7Zt6XRHDQSSVV1OQsXf8F7%0AH7zK2nUrkbL+g8yFGm+vRnmTd6ySna8x3SKioUXUDRU/pv6BTJp4Ot+96ef07N4fAKk76TSAz+vF%0A5/M3WmcaJlnZuRQUFBGJNB+XLhIJkZKSSihcp4RISlJT0ygoKNTlS9Oh6SKK6NdnCOPHncwDj/yV%0Az2bNwLZtaJjvloMSo+bmYybtDWgPQgRqYC0/dsXQISP53s2306Nbv2g3ikajsGXT3gQJSCmxbRsp%0A7RaPlVLGfi0iJc4Lq9F0WJwi3aNbP3743V9TXl7KosXzY3fJQAlSiHYkQpBcIYq1cMpCiRGA8Hi8%0AXHbJtXTv1hvLCif7GWnaFcIRmiZ9tBIbiS2ktEQLx4pYpJQCaOEYjebrpF4bpPPPAx2OsG2Loq69%0AuGjqNaxavTx2LNWD6nWqTHDBpPJ1ClEiT9pOEzGdmLGhwq7dGDxwJJFwKOHXr+boxowYtpR23Ask%0AhW1ZRiQSEpYVaXZCq2WFhdMqAqKtI1tErLD2jKBpBwgJAvWZpH4LIVA/hGyrKNm2ZOTwcfTq2YfV%0Aa1Y4qw0a/CK2CwFy+DqESDSzOCLkQrWGnPDMFHXrgcfrpaa2WreFNE2wbMuQUjYRjnA4bNbW1bgs%0Aq/nWTSQSNqRtG1LaAqnebtu2jNq6Wj1hWtMuEEJgCEMahiGFMDAM9W9DGEhhIERbBEmSmpJGly5F%0AsUIE7dQLyJEUonjRiXVcGvtvx+Gkl6gQSWlTXV1JOBRq2RRXc1TicXukbVtNfM3VBWs8lZVlXstu%0AXogsK2LYluWStm1KlBBZEctVWVXmTfZ9aTSq9RMVHsOQpuGyXaZLmi6X7TJdtmm6pCEMEAa0QZCE%0A6BgN/SMlRI4AxTovjXdiGrstgJp8JQHC4TDlFaW43R5tKqdpgsvtti3LahQ/SEpp1NZW+8rKS3y2%0AbTXfNWdbIhKJuCzLNoVASIkIR0Ke8ooSv/7m0SQVIRACKYQhTcOUhmnabtNtu1xuy+322G63x/K4%0AvbbL5bJN020LhEAYrYhRxyjUR0KI4n3GOd6JPTTEc4kVIxdqAK3eHjcSCVNZVY7L5dY6pGmCy+Wy%0AbduKD2QnaupqfOWVZSm2bTf7Ztq2JcKRsCcSCbuEEDYgwuGwp7yiPIBGkwSihbXBOEEIJUSGYbtc%0Absvj9lgejy/i9foiEU844vX4LI9H4nK5Ve3Yqhi1fw63EMX7jHOChjkxW5yWT2ykSxfKJ1KGc5Jw%0AKERp6X5Ms71Yl2vaE6Zpykgk0mgikZTSrKwsT3e7PFbUEi4h0rZFJBL2WLZliGjXXCgU9JWW7sto%0A9cIazZFDTeI3DNvtclsul9syDMM2DdN2uz0Rj6cu4gv7QxFf2LBtK6yGLITlcrmlQAqE6NCf7Iez%0Apo8dD3Liu/hQFnG9UK578oE0lBA5lYWJmmiVQTQzSsuKWbV6ES6XS7eINE0wDEFFRWnP2HWhUNC3%0AceOq4XtSttfKlguNkFL6fV5/EOVYQdTV1WatWr1obLLvS3M0o8qsYZgRt9sT9PsDFZkZOSVpaZmV%0Abrc3HAoHrUgkZFqRiCltW0jVkacqXbfbBoTA6LC15eFucjgi5MQRGgBMAPqhWkMGTTstDZQI1Tv7%0ACofD1NbW4HLpFpGmKUIIGY6EG0VUtW3brKurTTMMI/Yjp5njkS6Xy4nNgpS2WVdXo1tEmnaAREoo%0ALy/pun//nrq0tIx9BflF2zMyssstyzJsW7X2hRAYhmEbhiGFYUjTFFJNPeqYXXSHq6aPHxdKAU4E%0ATkVNVo11PR5P4hjqHfN5ar4mROI1Muq252C+DDvs16SmMxHtMAYikbC/tHR/j+rqyuwuBd035OcX%0A7YYYETKjFnWmSxqGYQuhW0TQYCXnAyYBZ0X/fcAzUi0rgm1Z2CJRA0pztCOEwG6iNcq9j3J4qsuM%0ApqOihChqdi0BQqG61B27Ng+S2KJrlx47DcOwTdO03G6P5fF4LbfLY7tMl63mu3bMsaLD3SIygGHA%0A6SgRqn8o6ekZDB92DD269cHvT0UgonOEJOFwiIgVrl+XnpZBj+69MU09x1DTFMMwMI3prF69sn5d%0Aamo6E8afRlZGjp57pumQSCmprqlgz94d7Nm7g3A4XO9RwYpEvLv3bO/r8wVqcnO6FIdCQXcwVBf2%0AhoIRr9sbsdxeYZhSivrwQh2LwyFEsRNXM1HdcWlEW0KGYXDs2AlcedlNDB18DCmBVEzDBYKomxVJ%0ATW0ldUHHH5LE7faS4s/oMJOxNF8vpmmyc9f2RuvS0pQQFeR10w5MNR0UiWVFqKmtZsOmFcz9ciZ7%0A9+2KihEyHAql7Nmzo6cyYPBEwuGQKxIJmRErYti2JaSUSNERZejwtogEqjXUm5juuAnjT+bWn/yR%0ALgXdo56RJRHLcdMv639bVoPrfsOwsG27o7YyNUcYIWjSNac8b1tYltWi922Npj0jhEFqSjqjhk0g%0AL7cr7374Art3b68Xo+rqipzysuKsgC+lLhKJGJFIRCgRsh0Hvh2y0jycTQ4/MBJlMQdA9+69uOn6%0AWyjI70bEiigX/LH/k1JIJEhZ353i/G5sw6AXvSS2aWmKlMlPn1700lo5bakES2xpU9S1NxMnnInX%0A22AgalmWp6y8JDdiWaZt24ZtW4Zt20JN4paA7IgNooNqEYm4fzvWchlAD2e9EIKJE06ld68BhCOh%0AxGeSEgnClraQdlSUUDFjbNuKds0dfIZqOicqekPTVo9tW/Vfh8lOo+ZopsGCs35N/b/bXjSllPTu%0AOYge3fuydt1yDEO1G2prq9IjkZBLSiliFjXUIQ/oEu2GAxGiljxom0AeymzbAKTP52P4sDExlkzN%0APm0jHA4bYStiCKLzV4UgHAkTm5EajYMtbWFbTcVGdVWEDR06RJNcRNRtnHCmndaHchBCRAWq9bpN%0ASonP66dbUW/Wb2gwzAmHw75IJGyqfaAzGOe0RYgSiY7zN9ZfXA7KUs4FSJfLQyCQSnVNFbKZwWMJ%0ASCmNYLDWDIeDBkJJke2yMA23FiJNQkzDlJFIuFHhkFISDNWJmrpqoyUXPxrNkUbEtIgMwwnjYOKE%0AchCGgSGMNgtSZmYuLpeLSESNo0spjUgkHB0CkZ2i06g1IUrkwDTRXxfKlY/j2FSCpKa2moqKsuaD%0A20kAaYTCde5wOFyfFpfLjW130Dam5ohjmiahUKiRbb9t26K6usrlcfvtg5vPqtEcJgQIhHREyDRM%0AaZou6XK5pMvllqbpkqYSJoTRisNSCUYzH+SdqZS3JESxgevcNHZe6kUJjuNZ24XyoOCPbpPSllRW%0AllNaVkzzFYNEueEPeqxIxE20b87lchMKOl1znelxaw4HhmFSF6xtIkSVlRVuQ7iktprTJA0R9f8m%0AHCFSIuR2uW2X2217PF7pUSEdpMt0SQMTwzA7vPfsQ6U5IXJaQo4A+VDjP/7o4ohRrBBl0iBQSCTV%0ANVVUVJYh7eaFCBARK+KxrIjbmeNqmi4i4TC6RaRJhGEYBEPBRhaf0rZFVXWlKYTh0i0iTbJoCOuN%0AE+AOl2lKl9tjezxe2+fx2RGvz/J6Ldvr9douVV0e9WKUSIgcVz2OCAVQIpQGFABFQCHKSakTV8iI%0Abusa/U0kEmHDhlWUlOylDd6QPRJZb/ZtCAOXy6MyVNcpmjiEIdi7Z0ejMBB1wTpj3frlaV6v39Jl%0ARpMUnHhCCDxer5WelhlJTc2IuN0e22W6pMftsUM+v+WPhIVlW5aUEp8PW+BBIBCGIY/Wj+8m4ZZp%0AGBPyoFo/aUB/4DSUJ+2+qBaRGXeciF0XCgWZPuMdhNHmBysS/lOjiUMAkThLzOLifa7X3ng2T5cd%0ATXvAMAyZkZ5pde/eq27I4FFV3bv1qfX7AlY4EhZWdBIqKN0RQtiONd3RaqDVnBA5raFM4GzgemAg%0AjcWnRZQVUzDZ96c5SrBtm7q6uqPzLda0R0RNTbWxa/cO98qVS1IGDBhWc8Lxk0vz8wqDTgRhIQwM%0AYaIMF0wphIFpiqOyVRQrRLGtGjdqgup1wE0oQdJoNBrNAVJVXWUsXDQ3tbhkr/u0U84t7tVzQLUQ%0AwjRMA5fLZUcXYRgmhjTk0dgqim8ROVZyPuAK4Huo8aF6hBCkpqTicnvQNm0ajUbTgED1BtXW1VBX%0AV9do25YtG73TPnor9/xzrrALu/aoratzS4/ba3o8HtsT8UiXy21JwxBCHH2tovgWkWOyPQ74LnEi%0A1K/vQE495RxGDB9LelpWstOu0Wg07QohwLIsduzcwqezpzFnzsdUVlXUb9+2bbPnk8/ez7rg3KvC%0ALpfbDobqDG/IZ4S9EdtjW8KWLinouJFWD5ZEXXNpwDUoCzhAmcueeMKpfPv6W+nda6D2AafRaDQt%0AMLD/CI4/7lTmTfqYBx/5B5u3bKjftn796sD6jasCo0YcFwmHwyISiQjLigjbtkVH9hd3KDhCFHvb%0Aw4GTYnc6duwEbvnR76OxXiyktNp8AY1Gozka8Xp8nHTi2RiGyZ133U5pWQkAwVBQLF+xMG3QwBFV%0Afl9AWFZEWJYlbNuGIx/KwQbaXRjj2EmBTotoApDtrExPz+DKy26qFyGNRqPRtI7jEXv8uMmccfr5%0Ajaay7Ni5zVteXuKxpVTRB6L7RsPjHKkk2ahQPaeihl3ajQuS+HhEfmAAMS2kwYNHMGTQaB1sTKPR%0AaA4QKSUet4dJJ07B7wvUrw8Ga43ikn1ux4uZRKowoPUadETEyAbGAP8F/gMcdyQvdiDEC5EHZbZd%0AT1HXHgT8KUdSpTUajabTIm1JUdeedOlSWL8uGAyK/fv3RkM5SBENRfC1JAfloPoC4H+oOaJRR9XJ%0AwxGiZv2Rm4Z51M721Wg0mkNFIvF4vKSlpjWskxIrOUMdseFjewJ3At8m6iM0WRzOUOEajUajSYj8%0Amho8rWLQuNGRAfwfqoWUtBaHFiKNRqM5OhDATmBP3Pps4FZipux83WghahYVXdE0TVwuFy6XC9N0%0AqWBW7airMhmOEg/0mmp/o4Wl/TzPQ78X537a9z11tOeuOSyYwEzgB8DSuG0jUBbTSaEtocKPOoQw%0ACIXr2LFzM6vXLGP7jq0AZGfnMHDAUIq69iI7K6/ePDNZhCMhKirKSAmk4fP5D/2EbUBKm5LSEkzD%0AID09q02VWU1tNVWVFc1ud3s8pKWm43arbmrbPjIWmk5aDzbPpLQpLSuNxspqHtPlIj09A4/bm/Qy%0AkohQKEh5RSmpqemNLLm+bg41PzQHRRj4HLgbuI8G7zk+lGn3qyTBcEELURxCCDZvXcOLrzzGlwtm%0AEw6HsSxb+T8yDaSUFOQXct45l3PG5AvwJ8mi0DAMNm1ew9/uvoOrr7iZ006+4IhV4DFPh5raav5w%0A50/Jysrml7fehcfto6VyaxgGn81+nwce+Qe2ZSecBpCVncOggcPo02sgE8afQveivhiGcdifa0Vl%0AGZFImIz0bAzjwDoDBIKauhruuvuXrFq9FMtqfqA5JTWN4cNGM+G4Uxg/bnK7sjo1DZOVqxfxp7/e%0Axs033sKZp138NZSbxFRVVxKsqyUjIwvT1FXR14Tjym0hqouuT8y2jOh2LUTJRAiD9RtXcNc9d1Ba%0AWsz5517BsWNOJDszH8MwqKquYPnKr3j3/Zf5171/YPuOTVz/zZ8kSYwE4UiI/fv3UFdXw9fRFeQ4%0AdCwp2YcQEqRsU6mtqa1h377dnDTpDPr2HtzoWUkpKS3bx9ZtG5k1ewZvvP0cZ0+5iIunfovUlIzD%0A9lyllDzzwv1s2LiG3/zybjLTcw7s3EK1iIpL9mLZFlNOn4qvmdZEeUUxXy6YzceffsA5Z17MTdfd%0ASlrq4buXQ0JAMBRkz96d1NbWJC0ZhmHwzvvP88lnH/LbX91D14Ie7eP5HB1I1LhQetz6OpJkxq2F%0AKIpAUFtXxVPP3cfu3Tv41S/+znHHnoyg4cu8IL+Qvr0Hc+yYifzrv7/nldeepltRLy445+rkpTsJ%0A4xHOOAm0rdQKoSqe0yefx5TTLm7soUNCKByktraG9ZtW8sprT/L4k/+lpLSYm6+/lZRA2mGroCor%0Ayygu2XfILYC8vAKu/eYPyMrIVbHt4whHwuzcuYX/PfMf3njrefr0HsjUc79x2J7/oSKEQBgGyR4i%0AqqquUMJuRUjSh/jRikB5V4j1XB0BNpCkTNDGClGEIdi1eytLls7nxAmncewxE0ES9a2nupRs28a2%0ALQq79OSm624hIyOTD6a/TnlFabNjJY0Ht9v65ouDPO5wXT8+DdG+/EN8xpZtEYlEGi9WBMMwSU1N%0A55iRE/j5LXdy1pQLeeOt5/lwxmuH996EwDgMta+UELFU2pvcTySCQNCje1+uv+bHdO1SxPvTXqOi%0AsqGMNDX2EM0agBxKOThcZehAaVxumr+uQHQIw45OhoWKuH0ZjQOd7gPmJytRukUURSDYt38PoVCQ%0AgQOG4nK5mx0HsG2Lnt37MWH8Scz7cjYlJXvJzMhu9OXueCivqq6gproaBKSlpuP3pwCiGZdJylIv%0AFA5SUV6qri8E6ekZ+H2BAxr4diq2umAtlRXl2LaNz+8nLTUdwzCbbRU4x4VCdZRXlGNbFoFAgJSU%0AdIy2h30/YKSUWJZFRnoW113zI1auWsLb777IxBPOIC+nsNHzcirVmpoqqqoqAQikpJCakoYQRty9%0ACUzTBCSGMEAIXKYLl8uNbVstjvUcCpZl0SW/G4MGjWD5ioWUlReTkZ5NJBKmvKKUgD8Vvz8QfdZB%0AKirK8Pn8BAKpjfKhpqZKhRGQ4A8ESE1Nx2hyj/F5qMpedU0l1VVVGIZBWno6Pm8g+uyaliFlDWpE%0An4ds5rzqWdqWjZ2g/BqGgWVblJWVEA6FMEyT9PQMvB5fo7Jrmk5UUqM+f1wu1xHNDw2gMjYAXIty%0A5RbLTGBVshKmhSgO27apqChrdfKZabq46vLvcNaUS8nPL4wTIcHOXZt5f9prLF46j02b1mMYBgMG%0ADGHMMRM49aRzyc8ralK5BkN1fDFvJrPnzGDJsq+oranGME2GDRnF2DEncMapU0lNSW9VjIQwqKwq%0AZdacacyZ+zErVy4lFApSWNidY8dO4PTJU+nVo3+T8yjhquGLeR/z2efTWLZ8IXW1tfTs2Zsxx0zg%0AjFOnkpmRzZHEtm0K8oqYfMrZPP7Ef1i5ahEnTyyqzw8hDPYX7+K9D19l0ZK5rFu3CgT06d2fY0Yf%0Az+STzqFHtz5Iqe6norJUtVrLSlm5ainFxXt58pn78PsCdOvWmzNOveCItRZM00VRYXcWLZlLMBjE%0AEAZ79+/iT3/9GZdc+C1OOvFMvvjyY2Z++g7Lli/ikou+yeUX3YRAUFK2jw+mv8bCxV+wevVypJT0%0A6NmbY0aNZ/JJ59C758Bm8l6wd992pn30JgsWzmH9+tV4vF4GDxrOxBNO56QTz1JCJRsf8+WCz9iy%0AdQNTTr8w4XiWIQx2793Bex+8wnHjJjFk0Kj6fYRQH1ZLln/JjJlvs3jpl5QU78fn9zNs6GhOGD+Z%0ACeNPJTUlnZraKqZ/9CZ79+5h0ZIvqKgo4/kXHyU9LYucnHzOPetSXC73ES1jRzECuDC6xBb6YuAp%0AoDZZCdNCFMWxhksJpDF95jscP34yA/oOj3bLyYSVdrfCPnQv6oNtN97+1eLPefDRu9i2bTPjjp3I%0A8CFjQQi279zIs88/xKefTePnt/yJPr0GI6UdHZ+q5rmXHuK1N56hX99BnDLpTDxuH8FQLavWLOGB%0Ah//Glq3rufn620gJpDV7H0II9hfv4r6H7mTO3I8ZMngEp596Pi6Xm337d/L+B68xa/YMfvyD/2PM%0AqBMaVSaVVWU8/Pg/mP7RW/TpPZBTJp2Fx+OjqrqcOXM/ZvacmXz3ptuOeDePYRgMHTwKj8fLug2r%0AOOnEs+vTuGrNIh589C5WrlrK2GOO57xzLscwTHbu3sLrbz7L9I/e4offvYPjjj0FEFTXVPLRJ++w%0AY/tWqmuqsKwI7097DUMYjB1zImecesERuw/LirBj5zbcLg9erxcZXVdcspeq6nJefv1xXnj5cXr2%0A6MvJk85iYL/hCCFYv3ElDz56F4sXf8moUeM456xLcZkudu/bwXsfvMr0j97muzf/nJNOOJPY+sQw%0ADFauWcS/7v0923dsZewxx3P+uVcCkt17tvHYE/9i6bIFjDlmQpM8/PKrT/l01jROmDCZtNSMJvci%0ADMGevTt59Il7SEtPY+jg0dGyIwiHQ7z74Ys8/dyDAIwfdxKZGbmEwyHWrFvKXXf/mlNP+YLvf/uX%0A2LbNZ59PY/Xq5dTW1RAMBpk+821Mw6Rf38GcdcZFWoiODBIYC1yFahXFrn8G+CyZidNCFMWWNkWF%0AvTnrzAt55rmH+eNffsa5Z13K8OFjKcgrIj09E7fLXS9KarEbtZyEMNiwaSX33Ps7BII//N9/GDVi%0AvOoSAWqDNXzy2Xvcc+8fePLZ//KLW/5KwJ8KQjBn7ke88tpTXHDelVx9+XdIT8uMdqFZlFeU8OSz%0A9/LGW89z3LGTOGH8Gc3eRzgc5LmXHmLO3I+54dofc/aUS0hPy4q2uIKsXbeM+x76C/+69/f86Xf3%0A06tHf2zbxrIivP7207z7/itceMHVfOPK75KdmYdhGESsCHv2bOfh//2TZ55/kKrqSnKy845cXtiS%0Awq49yMrKZu26VVhWBNN0s2v3Fv71399TXLKfX91+F+OPPYWAP6W+C3LZivn8+74/8s9//ZY//i6X%0AwQNGkpdTyF9+9yCRSIQHH/0r6zeu4f9+eTcZ6Tl43J4j2BpS4rh69VJycwvIzGiw0jMNk6XLF7Bl%0A6wZuuv4WTjrxTNJSMxDCYO++Hfzn/j+yZetGbrvlT5w44Yxol6PKv9VrFvOf+//Ev+79A1kZOYwa%0AMR7bthFCsG//Lh54+G/s2bOLW3/6B04Yfxp+bwAJhEJ1LF46lwcf+welZfubpNcwzGgXZstjOi6X%0Aq5HpuxDw6efv8+Aj/+CY0eO56bpb6Nmjf/27Ul5RytPP38/Lrz5B7979uWTqddxx2z+wLIvnX36Q%0AT2dN4//uuIfCgh6YLhcej/eIlaujGBvohxKhzLhtX6A8cdcd4DkPK9pYIQa3y83lF9/Ijdf/mMrK%0Acu576K/8+Gff4JZfXMPd//kNr77xJKvXLqGsvAQhRJO5KOFwkFffeJLi4r18/zu3M/7YU/C4vVjR%0AgW2P28tpp5zPeedcyqzZM1i9dimGYRAOBfl09od06VLEZRddR3paFrZtE4mEsW2bzIwczjz9IlJT%0A01i1ZinN9eEbhsGqNUuYNuNtzj/3ci6+QJlAW5YyEjANk2FDxvC9m2+nsqqC96e9im3bGIbBlm3r%0AefPtF5h44mlcf81PyM7Mi6YhAhK6dunBD7/za7xeH3v27GwUW+Xwo5xEul0eamurCIWDSGnz3ocv%0As2HjGm6+4RZOmXgOPq+//t7cpocxoybyo+/+mpraGl5/82mCoTpcpouc7HwK8rvi9wdwu93k5Xah%0AIL+QzMyD62YUAjXOZLrqvW7ELhLJ1m0bePypf7Nr9w7OOuMi0tOy6vPNsi3mL/icqeddzTlTLiM1%0AJb3eEGb6zDdZvmIR133zB5xx6oUE/Ckx+edixLBx/Oj7vwHgldefoKa2Ckc8Pp71HqvWLOOmG37K%0AKRPPweP2ErEiWFYEl+lm3NiT+M6Nt7F6zTIikfBB3Xvj52Cwd/9OnnvxEQq7duMH37mDvr0GIxBE%0AIhEsyyI9LZOrL/82gweN4O13XqSsbD852XkU5BeSmpKGaZrk5uRTUFBIdlau9vZwmBHCsIF84JtA%0A97jNm4DfRP8m9cHrFlEMUkrS07K46rLvMumEM1m8ZB7LVy1k1aqlTJvxFm8HX8TvT6F7996cPHEK%0Ak06cQo9ufZFSIoTBrj1bmTd/FiccP5ljRp2AbdtN5syYposzTr2A2rpqhKHWRaww3Yp6MXTIaNLS%0AMhuZNzsvphrYNti1a2ez6belzfyFs/F6vJxz5qV4PF41GTfm5ZZSMmjgKMYfN4mFi7+gorKUzMxc%0Avlo0h9LSYs48/SLSUjOaDBrbtk12Vj5nT7mYBV/N+RrzRD2D0rJ9fPb5dIYMGskJ409r0l0qkUjb%0AYtSI8Uw++UxmfT6Dbds30K/P0Pp8kKi5T3bUCjJ+XC/xuyib7Ld//16eeOY+fN7E3iyceUTFJfuY%0Aev6VnHryeXHP0iI/v5CJE6bU54kznvXprA/p3WsAJ086u35bbFosy2LooGOYcvoFvPPey2zctJrh%0AQ4+lsqqcWbOn072oFyccf1qTYyUSy7IZOXwc48ZO5O13Xz7kvBFCsHzlV2zdupEffu8Oirr2auJR%0A2rZtMtKzueySa1mybD7hSCiarobnL6Vs0r2tOXRM0yXr6mrTgCuBYXGbS4E/o7wsGCQ5SJ4Wojik%0AVNZVvXr0p3fPAZxz5mWUV5Syc/dWVq1awtoNK1m48Aseefweps14k5tv/BkTjjsN0zBYv2E1FRVl%0AHDfupPqv9Xhs26ZPr8H86Lu/RSCwbRuv18913/wxhjBwudz1Vk+hUJCIFaGqqoIv5n1CRUVZszbU%0AQkCoLsjyFYsoKCjEMFzs2r094f7CEORkFzD784/YX7yHjPQstm7bQFFRD/r2GYS0E19ESkn/fkPJ%0Azsr92mbjO3OQNm9Zz65d2zl7ysX1LYhEuN0eRo44jrfeeYn1G1fTr8+wVq9hWRHKykuxE+RXWlp6%0Ao4mrQhiUlZXy/oevKiu8BKSkpjFi+JgmnhUazLcNRo8c18gowBAGO3ZuYcvWjVx68bfISM9utmI2%0ATZNRw8fx4sv/Y+36FQwfOo6KylL2F+9h/LiTyEjLauZYicftY8Twsbz7/iuHnDdS2ixZOp/09ExG%0ADh/Xwn6SicdP4YTjTsMwXI2ehebIIIQhq6oq3Nu3b76Apj7kgsC9wCu0k8lbWohiiPV95VR0pukm%0AJzuf3JwCRg4bRygUZNee7Xz82bs8/+Kj/Oe+P5GTlc+wIWPYuWsr4XCE/LyuLVrdCSFwmQ2xqAQC%0Aj9tLTW0VGzativq320J5RQkut4tNm9bj9fkwTLPF9NfWVbN372527NjCd390WYttbTVQXEdJ6T56%0Adu/P1m2bSU/PJOBPTThJUyFJSfk6/Nopk+ZwJITfn4rb7WXvvl3U1NTQpaCoxUpMSkmPbr3Jysqm%0AvKKE1t4zwzDYvnMrv/vzT9ize1eTfPrh9+5gymkX1Vfstm3Rs2cffverf5Gelp0wmFlrvuaEEORk%0Aq/G3ekEVsG//HiorK6L3aCBlYlNmKSVFRT3Jzc2nrKIEgLKyUkpK9pOX1zV6bHMm2JCZkVM/IflQ%0A8igcrmP79i34fSlkZGS32KIxDBPDcLWaH5pDR1kxWsZ9D/3llF27d5xJ43reBl4AHkNNYm0XXwRa%0AiKLYtkVpWQkul4v0tMyYyk7FEWmYA+GmR7c+fOPy7xHwp/DfB+5k2ow3GDxoFJYViYpM649VnV6o%0A8wpYu345Tz13Hxs2rqFnj94U5HWjsGtPBgwYwtRzv4FE8otf3dTCyy6wbEtNuC3szsmTzmqxshEI%0ATJeLrgXdsawIlZWVpKQEWv5SlUTnf7QsiIeKYQh27tpKaWkJZ54+GJfpani2rtbjd7ndnui8lNZb%0AbVJKUlMyOH3yBVTGOWYVQI/ufZs8c7dLjTNlZuQ22/KQshXnrQmes2Wre3S7PK16PXC53LjdbmzL%0ARggIBoPU1tZhmma0IpItHOviUOsfIdT9WbalvNS3WiZEq+nSHAYEuN1u+diTd4+Z9fn0S8PhcPxX%0A46co44SGwcV2gBYi1BdEeUUpv/y/b9Ojey9u/cmf6yeQNkX1Z5umyYTxk3nm+YfZvnMr4XCQ1NRM%0AQFJVU9liDluWRVl5CV6vl/TUTHbu2cLd9/4fdXVBbvnR7xkyaBQBfwqm4cKOdmNs27GhlbuQeN0+%0A3G4v+fkFXP+tH+P1+GnesEFVWOFwiHA4RI/uPdm1Z3vLg9gCgsE6QuHgEc0P27ZZsWoxoVCQfn0H%0AI4RBIKAsx6qqylttbZaU7qeiogKvt/WWm5SSrMxcrrrs2wkrfyvqqLXROBskHGc6VFL8aRiGQWVV%0AeSvnFZSVlVBWVorPpyaLZmZmkZOTQ21tdatpqq6panZCdUsEQ7WNxnXcbg8pgTR27d5OXbA2apDR%0A/LGVFeWkRSe4ao4MHo/Xfuvd5/q9+vrTV1dWVsZnyAbgYWA37cxQrV0lJpm4XC5CoTrWrltBVVU5%0AopWXUkqJy+Wun7UvJfTvO4hAIMC69Suxmxn7M4TBzt2buf3/bmLaR69jukwWLvqCNWtWctN1P+W4%0AsSep7rGoGxnHxVA4HIr65GouQeDz+enfbyD7i/dQVlZcb22VaJn75cc8+ex/KSndh8vlpmvXbuzc%0AuY39+3c325ISQqg5MFUVR6yP3zAM9uzbwcyP36NvnwEMGTwa27bp2aMP2dm5LF+5CMtu/jlIKVm/%0AYSXBYB0FeYWJ3eYkOMZqxl1P4gr78KO623pQUNCV5SsWEQ6Hmt1XCNi4eQ3V1VUU5KmuyvS0DNLT%0As1izZjnhFj4UbNtm564tTbsLod6VVXOCVFy6p1ErzzRdDBs2msrKMrbv2NxsuTEMk7lfzuRnd1zL%0A+g0rj3iL+mjF7XLLefM/KXjsiX9/Y9/+vfEWcvtQ84W20Y5aQg5aiFCVQEogjdGjxrF12yYWLfmi%0AVfNkwzDYuGk1FRWlFBX2xOP20qN7X7oV9WLmx++yd+/OxKEGhGD5yoVs37GZwkLlcXh/yV6klORk%0AFzTrxmfJsi8pLy9rNl0S1SU1aOBItmzZyFeLP0/okkcIQXVNBU8/fz+fznoPwzAwDJPBA0dSU1PD%0A/EWzkc2IqG3bzJoznZKS4sMwxtA0XaZpUl5Ryv+e+g9btm7kvHMuJy+nK5Zl0bVLd/r3G8wXcz9h%0A67b1CSszIQxKSvfx6awP6dNnAAP6DW3cPdaOe4Vs2yYvtytDBo1kwVefs2HTqoTdXUIYVFSW8vGn%0A79GtqAdDBo/CtmzS07MZ2H8oK1cvYUszz8cwDIpL9/LZrOlNLAFTU9OpqCynuHhvE398Qgjq6mr5%0AcsHsJt2NI4aOAQTTP3qTUKiuifArU+4Q8xZ8RiQcIje34GsT96MJ03TJXXu2pTzy+D8v27V7R7yF%0ATjXwIrCCpqHCD1sSgC5AzsGcXwtRFJfLzeSTzyE9PYOnn3uQJcu/RAjqfWI5ziON6O/1G1fy1LMP%0A4HZ7mHzS2QhhkJmRw7lnX8aWrRt58dXHqKmtwjRNDGHUR3vdun09r7/5LP37DmbIwFEgiZpLR1i1%0AZqGy2jOcaynHkctWzGf6zLfqX3JDGIkNjSUcf9zJFBQU8tSzD7JqzWJ1faMh7bZtM33mm6xctZQp%0Ap19IRno2tm0xcvg4hg87hldff5oly+bV32dsOj6fO51PPvuAgoIuHEytbhpm03k3pvIxVllVzleL%0AZnPX3b/k/Q9fZ+r5VzLltIucOyPgT+W8sy+nsqqcZ194iPKK4vpnK4Qao6itq+L5lx9mxcolnHXG%0AheTmdGmocFXfOTW11dTUVse0ZtsPXo+Pc866lIgV4ennH2B/6Z5G92gYJqFQLa+8/gQLvprLGadd%0AQJeC7tjSxu1yc8ZpUwmFQjz9/IOUlu2LjhdFn49pUlNbxfMvPRwNipcW08Up6NatN1VVlXy5YFb9%0AuE9s3n8xfybLVywkNTW1/jhpS/r1HcpJk6Yw85P3mfnpO0hpNz7WEMz76lNmzZ7BxBNPJz+3a32e%0AuFxugsE6qqorohGQ21d+dBSEYVBTW+X+139/f97KVcsnxH3IhoG3gNkc2U+xXJQV3p3AAc9KdnLe%0ACZYUAKaiZuECMHTwSMaPO5l22Jo7rEgpycvpQmpaGrPnfMScuTPZtXsbwlBjOsFgHZVV5WzZuo73%0Ap73KY0/8i23bN3P1ld9m8qRz6p1Udu/Wm6rqct5572W2bNtAelp6/Vfs3Pmf8NCjd1FaVsz3v/NL%0A+vQahJSQkpLCF19+wqLF8/B6PaSkpFFXV8uOXZuZ9tHrPP3cA5w0cQqVleXs3LmNgi5dycvtQmnp%0AfmZ8/A5jjzmeAf2UO6L0tEzS09P55LMPWPDV56SmpeLzBqitq2HX7q28+c6zPPvCwxw3biJXXfZt%0AfF4/Ukr8/hRyc/L4bNY0vpj3CYGAH78vhbpgLXv2bufDGa/x2JP/ZuIJp+H3+wiFQpx2yvm4zJbd%0AsQghWLl6CZ9/MRPLttiwcQ0LFn7OgoVzWLBwDvMXfs7MT9/h1Tee4uXXnqS6porLLv4W37jyu438%0A6kkpKezSA8sO8+77r7J2/XJSU9MwTRe1NdWs27iCp5+/n/c+eJUpZ0zlqsu+3WgswhBq0u5HH7/H%0A7r072LhpLXv27qJv74Ft6mYUQhAKB3l/2mvYtsWZZ1x0wNFNnbHID2e8weBBIxg+ZEyTeWYF+UWY%0AboP3P3ydlasWEQik4HJ7qK2tZtPmNTz30sO8/uZzTJp4Ot+6+ocE/Cn1x+bndaW2rpr3PniVLdvW%0Ak5mZpeJoVVWwftNKnnjmXr5cMJtLL76GdetXMGLYGAYPVD7jUlPTWbpsPvPmz8J0G6QE0giHQ5SU%0A7uPjz97h5dee5PRTz2X37h0MGji83sWP2+WhZ8++rFm7jGkz3qSispT09EysiMX+kt28+8HL/O/J%0A/9CzR29uvPaW+nEkIQR79u1k+oy3683Wt2zdQL++gzpd153jw3HGx2+zZ2+DZWbfPgNr+vcdXOvx%0AeG2fz297PV7b7XJLwzClM69NCMG+4p2sWbfUaY0KwzAjublddqSmZtT4fP6w3+e3Hn787hNnfz7z%0AwnA45Iu5rnS73R/btv0KEELV8VVAGcpiLoKyorM5dJHKAH4MVACvRc/dZrSxQgym4eLcMy+nS0ER%0Ab7/3IjNmvsPMT96rd+0vAdNUc3wG9B/Cjdf9lOPHTcYV4/on4E/lhm/dQkF+Ia++/jQLF82t784Q%0AAroUFHHrT/4Y4+dN0r2oD9//9u08+ex9PPjoPzDEPRjCwO1xk5aWztlTLmHqed8gIyOLJ59+gEce%0Au4fuv+mDx+MlN7cgOs+loRyddrLyLffiK4/xn/v+RPQyCEMV7JNPOpNrrvp+o7kqtm0zZvSJ/OaO%0Af/LUs/fx4CN/R9qqgvP6vKSmpjH1vKu44NyreOzJe6hwl4MQbSq9AX+AvLwuLF++mGXLFjbZnpmZ%0AzaBBwzhxwmktRmj1eLxcddm3ycsp4LmXHuXPf7sN21LGHIZpEAgEuPqKm7l46rdIS81q0gV0yqRz%0A2LlrG3O//IxlyxYemK85qbrFsrNysSKRZucQtXYO03SRk5NPIJA4mKLL5ebiC64lOyuPZ557kLvu%0AvgPblgjUPXq9Pi6+8JtcdtH1ZGXmNbpHl8vNN6/6HtnZubz25jP87k8/xbZUC8Xj9VBU2JOf/fj3%0AFHXtyfQZb0c9was8zs0u4Ls3385Dj/6dJ566jyeeuh+X6cLv95OSksYVl93AiGFj+PyLj3F7GiwX%0AbWnTrbA3v/jZnTz34sO88/4rvPP+K6o4RoMJjh6lXP907dKj0YfFuDGTuPLyG5g1ewZvrn9O+5o7%0AQATgMl3y3Q9eHjFr9oyLQ6Fgoy+j7t16LsrKznlpyZKvavl6WhIHLWhO4gxU6ygH+B9wprPDpRdd%0Aw09+8Luv6T7aB4ZhUFtXw+4929m5awtr160iHFbWZN269aB/38EUdulJICUNbNlk3o0QaqLqzt1b%0AWLV6KZu3bMAwDAYPGs7A/sPJyc5PMLcE9u3fzeq1S1m7bhXStunVqy+DBo6gsGtPDGEQjoQpK9uP%0AbUuys/IA5csrJdB0bo8QUFy6j3UbVrB69XLC4TDZWTkMHzaGXj364/H4EvbVOzP8N2xazYoVi6mt%0Aq6VP734MHjSKLgXdMDAoryxF2jbp6Vltak3U1tVQFWcaHYvb4yYtNR23W7XoWw5xIJBIdu/Zzpp1%0Ay5X3baBP734MHDCcwi49MAwzYSXvWAlWVJRhWRYej5eMjOYtveKR0qasvBSkJCPjwMONg5o8W15e%0Ait8fqBeCROkE2LtvJ2vXr2D1mqj37R69GTRgON0Ke2Garmbv0ZY2u/dsY83a5azfsAaf18fQoSPp%0A12cIGenZhMMhyspLCQRSGrXqlMXhPlatWcKq1cuQUtKnd38GDxpJYZce1AVr2bRlDbk5BeRmd2l0%0AXcMwCAbr2LxtHcuWL6SkZD8Bf4Dhw8fQr/dgUgJpTUJHCCGIWBEqKkqJhCO43G4yM7I73WRXIQRl%0A5fu5/Tc3szTmQ+z0087fd9YZFxWnpqRHMjKywmmp6WG/L2C7XG7bCZFhCIMVaxbw1rvPKHdbIFwu%0Ad92ggSO/LCrqvWfduhUFL7z0v6v379/bLfaaXboUbvj+d35x36ezpm2Z8dG7TkEVKIu5TSjfcnWo%0ArjunZXQoraJClOPUJcA3OEBP3lqImnswoiFolyFE/e03dnraymRJYdS3QkD1qdstmPwKIeqPca6l%0AXJ/EhouIRkaVdv0xzr6J78GoT7+aD2UjE4hny8c1TkdL12zufC2XHxkdd2j7e6DGIESjtDjPt5Uj%0A6+dwxbvvafu9tP3eD+UcTh7ElofYydZtfj4S7HonvQ3e1hOlobUy6LRUE5Y3RLS8q+iv9eWtlXel%0AoXx0Tjc/R0KIBg8ePS8cjkSef+GxS3ft2t4oJkh6esa+b139vfuvuPSmpb/+w/eMjz/5oD4pfL1C%0A5EdFgTVQXYMlNNNlp7vmmiH25TlYGx9b2ioe4gFc05JWixeMb8W09OKqe7AOOP2tHXeglYXTBXk4%0AkdLm4GKoHbjoHcq9H8o5pLSxlFu2w/58mktDa2WwJRFU/v4OPMFHonx0ZoRA1tZW+6dNe/vE3bt3%0ANBIhr9dXdcbp57/wjSu/t7ympspIwnOVgA84G+XtexzgBvajDCaeAOYRlzAtRBqNRtNxkLZtm59+%0ANu2E9RvWjIz9oPB4PKFJE09785Yf/GGWy3Tbbrcn3vBDoL4SrOgS++/DhRf4OapVtBwVcE8Co4Fv%0AAZOBm1AeHurRQqTRaDQdiI2bNhStXbu6VyQSaVR/d+lSuH7Y0NEb35/+Sh8pJeFImF27tsXuIoBs%0AVEyiIKq7LIISopaapXuArW1ImoUSnH6o8BKvoazoANKAm4E/AT8A5gM1zoFaiDQajabdIxBCyN27%0Ad2atX7+2RzgcblJ379y5o+/9D/79JyDrB2TD4SZDMpKGFpCM+9scjwB30LY+1wLg38CTceetRNkf%0ATAXGR/fb5GzUQqTRaDTtHCGELC0rTV2zdk3PYDDYyPOv2+2pNQ2ztsEAqUXDMhvVCmqrCIEyaGgL%0ABrAZeLmZ85YBy4DhqAmwWog0Go2mIyCEkDU11d7Vq1f2rKqqbGTzn5KSWnLeOZc+PWb0CesMw7QN%0Aw7CVn0w1AfvZFx5gydKvYg/ZixKLUHQJ0zCptTmqaFtrSABrUH7tEmGjLOecfevRQqTRaDTtFCEE%0AwVDQtWr1ih4lJcWZsdu8Xm/tSZNOf/uyS65bnJ6aVef3+S3T5ZECQxqGwf7i3YRCjRzgCmAHarwn%0AXogOF3WtnC/hNi1EGo1G0w6JupUSn372YeGuXTtzY7e53e7IsWMnfHL+uVcssC2bSCRshCNuW0pR%0A71twwaLP2bS5UfgYiZrfEztnqGESVxLRTk81Go2m3aF6rj6Y8Ur++x++XmhZVn1dLYSQvXr1Wzzl%0AjAtnu92eSKM5YUJNOt6xazOvvfEUdXW1sScMAuU0dMUdDh9zhwXdItK0GRUywojG7zmcUw/aN0KI%0AqNsgu01eDTSaQ8UwDTn3y4+znnjqvu4VFeWNJgPl5ubtO/WUs+akpWXUIRHCMBDRd9MQBlu3b+CB%0AR/4aPzYkUZNKK2kw2XaEKOlipIVI0yaEECxZ/iXz539Ojx69mXzSOa16SVZRYGlWtFrb/nXfn2GY%0ASNtu5CZIuWcpZtqMNxk0cBgjho3rlG5oNEkgGk7eCUhoSxtbWiDcrF67NPW+h/7ac+eu7Y0s5Hw+%0Af02vXn02GaZRU1KyX4RDIcLhMLU1NVhWmCXL5vPeB6+xdt3K2HIqUHN2dqDGhZxJrO2mIGsh0rSJ%0AumANL7z0CJ98No2+fQYwYvhYCvK6NRvkTEqbT2Z9QEVFOaefekGTsOVSSj6d9R5lFaWcceoFeD2N%0APYh/nQgh2F+8h+kfvcmokePqQyM428rKi3n+5Ye58IKrGTFsXFLSqOl8RKwwdcFqDFPgcpsgbCwr%0ATOXuLd4HH/lbz/XrV8d7xQ2FQ6Ety5cvqV69eqVwYoapeFUCy7bqHfrGIFAGCRuBUhp7VWgXrSHQ%0AY0SaNmAYBpu3rmP12uUMHTKC3Xt2smDhbFpykiyl5OPP3uPNd58jGKptsq8Sqvd4853nCAbrSKbD%0AZSGUhdEzLzzAytWLm3h/NgyTjIwsvF7fQV5Bo2mKlLLeGa1qGUmqairMZ154qPtXC+dmxu0eAbZa%0AtlVWW1srKisrKC8vpbS0mOKSfewv3ktpaXFzIrQOFSI8zJEVobZEf3Vi3zU5UKNpEdu2+Gz2NLwe%0AL9++6Vby87vw8afvU1tb3aLLfjMalVY0UzYNw0wYDjsZqFDlLkRcaAcpJbk5Bfz8lj8z6YQpultO%0Ac0QQAmlZEePNt5/vOvPjD3Ojnraj24QN7ELNz0lUAEUzf8tR/t420bhL7kgYKVjATtQ4VEvnLge2%0AR9NTj+6a07SI0201+/MZjB49npHDxjNh/Cm898GrbNi0imFDjkVKK+4YAyGkCooUjTKpwleorz4h%0ADIShAtohqA8d4GyPv36iUBbNGQ3EhjdoW1gNEQ2XYDS6nhANIQwC/lSGDxmHbdvYtpXwmo2PczyY%0AtxzyIzadTtiG5tKp6cwIKYTBnHkf57z3/mtdQ6Fg/deQYRj07t133/btW3cGg0GbxqbWMm6xUa2e%0AKlS4hx3Rf8sEy+FmP3BJ9PrBFvZ7GHguun89Wog0LSKEYPGyeezbv4cTjz8Nvy/ACcefyjvvvcwX%0AX37MkEHHNNrfsiKUlZcSDoeoq60lHA6xb/9uamvr8Hq8pKSkUl5eSjgSorauhnA4zL59u6mrDapA%0AdemZja5dXlHK+o0rWblyCXXBOgoKujJ86Bi6d+uDKy44XCQSpry8lJSUVAKBVMrKi1m6fAGr1yxH%0AAH37DmDQwJF0yW+IIVZdXUltbQ0lJfuwbZvKijL27N2BlJKMdNUdV1Nbxeata8nKzKVLfvdG92sY%0ABrW1NWzeupaly76ivKKMQCCFYUNH0bf3YNJSM5qIZiQSobyihIA/hZSUNMorSli+ciErVy5FIund%0Aqx9DBo2ka5fuqE4L3QrrpIRcprvK6/WFVq9Zmv7a688WVlVVNuoiGDli7J7Jp5y17P4H/+5U7o7h%0AwSYahKYKNZE0iLKKq0C1OGJF50Bc+hwMFkr8WqOCBkeo9Wgh0rRIbV01M2a+Ta+efRk6eDRWxKJ/%0A3yEMHDCM2XM+4oJzryYvpxApbYQw2LVnG7/784/ZvXsXNdWVWLbFD356NYYQnHjC6Xzjqpv53R9/%0AzO7dO6muqcSyLH54y9UYwuD48adwx2131V97/sLPeOq5B9iyZX192HJhCHxeH6efeh6XX3Jjfbhz%0AZxzrL3fdxpWX30h2Vj5PP3c/23dsIVgXjAYktMnKzOGG637MKROV1d+7017kqacfJGJFqKqq4Kln%0AH+KlV57EMEx+/5t/c+yYiewv3sNdd/+Ks6ZcxOUX3dTIkGHr9g089ex9zJn7SX0QOmEIxCvQr+9g%0ArrzsRsaOnlh/T84cjz/eeQtTz7+K7t368NSz/2XL1o0E64L11lPp6Zlc980fcPrkqa1aJ2o6LBG3%0A2127Y+dW7wsv/6/H7t07vbEbB/QfXPrj7/9mcWnZ/lIpZWy3WxWqq24rqlKvRImT4yUhXmza/ZeM%0AFiJNsxiGweYt61i1eilXXnYjmRk52LZNakoGJxw/mfse+hvLVizg1JMuqA82l5qazumTL6CioozZ%0Ac6ZTUVnOaZPPx+fx0bvXAFIDant5RRmzv5hORXkZp00+D5/XT8+e/QBVwX/51af89R+/JCMjix98%0A9w6GDDoGj9tDceleZsx8izffeYGy8hK+/+1fkRJIAwThSIj9xXtZsXoRGzeuo3/fIXznxl+Qk51P%0AOBxi+aqvePTxf/Gf+/5Efm5XRgwbx4C+w5h6/tXsL97DjJlvMXLEWAYPHAlAXm7XevPaqqpKwuFQ%0Ao2ezYdMq/vbPX7J3324uufCbTDpxCmmpmQRDdSxd/iUvvvw4f7nrF9z6kz9ywvjTogImsCJhikv2%0AsmbdUj76+G16dO/LDdf+lLycrkQiYVatXcyjj/+L/z54J3m5XRh7zEQ9f6kTIoSQFRVlvjfffq7v%0Atm2b02O35eUV1N58w8+WDhl0TOmsOR+IAwiQ3W4s4Q4ELUSaZrFti88+n4ZhmBw7ZmKjbWOPOYHs%0ArBw++fQDThh/Oh63DyklWRm5XHXZt7Fti737drB9xxau++YPyUjLwopW6ldedjNS2uwr3snWrRu5%0A9pofkpmejW2p1kBZeTHPvvAQqanp/Ob2f9Kvz5DomAsU5BcyoO9QunbpxiOP38PwoWM4e8plAPVG%0AEZ99Np0rLr2ei6deh9vljY7DQPduvfF5ffzxztv4ZNYHDBsyltEjj+fYMZNYtWYxX8ybyaQTT+OS%0Aqddh2zaWZTUJj+78u7qmSrW4tm/h9tvuZOKEKQghkNGhsR7d+tKv72D+8OdbeOR/d9Ovz2AK8ouc%0AEyCEYNbsj7j4wm9y5SU34/H469PZrag3AX8qv/vTT5j56XuMHnl8/RiWpv3hjPG1NCaYiHAo6J4x%0A860ea9asyI5dn5KSGr7yshuXTzjutN22bTUnQYnGfDqcADno0q1JiBCC/SV7mTV7OqNGHEuP7n3r%0Av8pt26ZbYS+OGXUci5bMY8vW9Y0G2i0rgmVF1IuJ+h2xIti2Vb89EgkjoyarViRCJBLBsi2EECxc%0A/AUrVy3hqstvol+fIViWVd8ysW0b03Rx5ukXM3TISD6c8QbVNZX15t+WFSE/rytTTrsYl+mJXtOO%0AGhrYjBh2LF27dmPN2hUEQ7XYtq2ubUVUWqK/I5FIi4YGq9cs5vMvZnLWmRdFWzs0SqNtWwzqP4rr%0Arvkh23dsYdacDxudw7IssrJyOfuMS3G7fXHptBg65Bi6d+/F2nUrqa2roXWrWE0yEMKgtq6aOfNm%0AUFq2H8Noe5W6YtWSvAVfzc2LNbn2+fz21POvWHfx1G9thgbDlwQSY9MOXfUcLFqINAkRQrBk6Tz2%0AF+/llJPOxucNRK3C1OLzBZh4whlUV1czZ+5Hh82s2bYtlq/8isLC7hw3dhKGYeJyuRotpmmSlZHD%0AccdOYsfOrewv3lPfYjAMg+PGTSIzI6eJ1ZmUkkAgjRR/GpFICMuyOJA+j9jzfLX4C1wuNydPOgvT%0AdJOoHpDSZszoCRQV9mDOFx9TW1fdYF8rBOOOPZGc7ILE6fSlkBpIJxwJYVmRpM6z0iTGMAyqqst5%0A8tn/8vs//5R/3/97tm3f2MgKs4GmGVhaWuwJh0OxPuSYeOKpW7955ffXuF0eW0qJAEpK9mFZjQLc%0AWSjjhPg5QR2yWw5015ymGWprq5nx8dtkZ+dRkF/E7t3bG4mNEIL8vEJysnP5fO5MLjj3arIycw9Z%0AkILBOlatWkZlZSUvvPwYLpcn4X5CCNatX8GePbvYvXs7fXoNiq43yMnOi3aTNU2LabgwDFO58Tmo%0Ayl0QDgdZvnwR+fld6VbYswXvEpL0tCz69h7AmnUrqKquICWQXp/+nOw8DMNIOP6jZs27dDuonSKE%0AYO++nTzxzH94571XCIfDTJv+Ntu2bWLq+VczftzJ5GTl43Z7Gk0HaIkRw4/Zc+03f7giNTU9pPY1%0ACEWCLFm2gHC4UWy6GqAaNck11m9ch0ULkaYJjgXaihWLKSsv5ZafX5tw4qqUkrLyEvbt38vyVQs5%0A6YQzD8lvXNTtPcFQHcXF+3j3/Vda2d8gN6cAy45zm9Vi8+HQhFIICIWD1NZV4/P68Xr9LYqvaboo%0ALOzO6rXLiETCccKiZabjIpk1Zxrvvv9qI5FYtXo5Gzb+lr59BjJ40AgyM3IRCMrK97N9x9ZmzzZs%0A6Kh93/v27UuLuvassW1bmIYpTdNg5eplLFw8N3ZXgTKTrqZxPKEO2xoCLUSaBFi2xazPp2HZFhdP%0AvYbUlHRkgjIuEFTXVPLeh68ye850jj/2FEzz4IuUlES9XEsGDxrOr3/xDzweX/Ovl1BilJaWjm19%0AfR+EylmrgWVZqnuvmdYXgERGXfErA4UOW1No4hCcPPEsNm9Zx1vvvEQo1GBRGQqFWLV6GatWL2v1%0ALIZhMHTIyP3Xf+vHK3p061tl27YwTZc0DJOdu7bwyP/uZteuHbGHBIH1qFZRiIYWUYcuWlqINI1Q%0AnhR28+msaQweNJLvffsX+H2pNOdZpK6uml17tjF37qdsuWg9/foMOQRTY4nX6yc/rwvFpftIT88k%0AIz0nYSUvhOo+rKquPKAB4kNFSonX46WosAcrVy+msrKMtJSMhEINEAzWsnbdStxuDz5v4GtLp+bI%0AIqUkO6uA79xwO4Vde/LaG0+32OJJRCCQYh07dsKec866bGNRUa9qQJimSSQSYsWqhfzvyf8wf8Hn%0AsYcYqLlD62iYwBorRB1WjLQQaRqhjBS+ZPfenVx68bV4PX4ikXCz+3s8PiadeDpfzPuErxZ9Tr8+%0AQw7p+m6Xm8GDRvDSq/9j85Z1jBqRk1DYpJS8+NpjfD7nI/7vjnvo2b3/4bn/Nuxjmi5GjRrHzE/e%0AY8ny+RQV9lJVQRyGYbJ952a2btvIsWNOJC01Q/uq60RIaRMIpHL5xTcyauRxvP7m03w+ZyYlZcVt%0AkoSiwu57e/bos3nzlrXBvXt34PcHKC8rY92GlSxY+AX79u2J3V2gJq/OAopRQhRGCVGHt5rTQqRp%0ARG2t8qSQk53HmNETWt1fShg9YjyFXbvz6expnHn6xaSnZUW3CmXSjMQQBnacLzkhRH3sH2e7EIJR%0AI47j+Zce4813nqdf3yGkBNIaiZFpmGzeto73P3yNgf2Hkpfb5bD5ZVMm5K0MLkfvuWvXbrz97osc%0Ae8yJ5OZ0beSHTgiDumA1r7/5DNXVVZx6yrm4XO6vOTc1RxqnPA8eMJLePxrAhed/gy8XfMa69SvZ%0AuGkd5RVlIKMWdlUV1AXr6o/dtHl9cOu2TdFCJhACgsFgoo8VgQrxPQNYEf13kAZv2h26NQRaiDQx%0AOEYKy1cu4pSTz6KwS49Wu9mktCnIL+L48Sfz1tsvsGbdMsaNORkhBKlp6ezcuY2ly+YzaMAoPG4P%0A6VFfckIYpKamsXPnNpYs+5LBA0fjdnvISM9kyKBRnHrKObz7/itkZ+Vy9RXfISszD8MQRKwIW3ds%0A5KFH76K2toYLzrsKnzfAoTU0VJegy+Vi0eJ5HDf2ZLwePxnpmfh8TbvTbGnTrbA3l19yHfc9+Fce%0AeORvXPuNH1JU2AuXy4Vt25SW7eO1N5/ig2mvM+WMqYwacRy2LevnW2k6F7Zt4/X4GDxwFIMGjKQu%0AWEtVVQWVVWWAGjf6+z13sHJVw7hRJBIRsV62EyCiSxkwDZiDEqEwjVtDHR4tRJp6IlaEjz97j8rK%0ACk4YPxmX6Y5apLWMaboZf+zJvPHmc3z08TuMHnE8breHY0Yez8effMAf/3IrHo+XE44/ldtv/Sug%0ARG/0qAnM/Ph9/njnbXg93npfcx6Pj+uv+TG1tdW89uYzrFy9mKGDj8Hj9lJZVc5Xi+ZQWVXBjdf9%0AhJHDlFdsx8jBsiLIVsTTstXkWucbUtqSvNwujBp5HJ9+No2Fi+bhdnnqfc1J1ETZWFEWQnDm6ZdQ%0AXV3Fi6/8j2UrFnLcsZNIj7r4Wb7yKzZuWstpp57Hjd+6JSqW6oJtTadtW0TaQfRaTdtQ3j9UHvu8%0AfnxeP3m5XRDCoLRsHy53whaxSLA4nm5rUYYJM4E1NBgnxJtsd+jWEIDjTdG5+QAwFejn7DB08EjG%0AjzsZbWra+VGesvcwZvQEJhw3GbfH2+ZjMzOyyMrMoSC/iD69BuByuSkq7MXIEWPpkl9E376DGTp4%0ANH16D6g/pqiwp9peUETfPoMZOmQ0fXoPBCAlkM7okeMpKurO/uK9zJs/ixUrF1NSup+RI8Zy3TU/%0AZOIJUzCMxt9SqakZDB86ltycgmbTahomA/oPY0D/ofUORT0eL8OHjqFv34F07dKdQQOHM3L4ONLT%0A1LiO35fCsCHHNLjpQY1nDR08moH9h1IXrGHx4nksWTqfnbu20rfPAK687EYumXot6VHHrLEEAqkM%0AHzqG/LyuCdMohOqu7N9vCIMGDD8ka0RN8lD5LqmLOg/es3dX7OZ9NJhiO160K1AGCYtRraDp0d9O%0AKyg+zHeHFyFoHEjJBHKB/wFnOjtcetE1/OQHv0ML0dGBaZqosR3rAAfWRfRY2WgukRPKGKFaHvEt%0ArJa2O3F+6oI1VFZUYNs2LrebjPRMXC5Pk9hAKraQWe9qp+V7pMmcJ3W8UT9nSvmak/XnbS4OkmEo%0AS6fyijIi4TCmyyQ9LQOPx9foKzk+nS3FVWopnZqOhQo3v5/bf3MzS5ctjN30GvAOUIKKz1NOgyg5%0A3rQdOoUHheaI/8zqVDenOXAOvtKT8W5IANV3brfQjd3SdqcS93r8eHMD9ddRgeOshPsnSkNb71Ed%0Af+DntW0LwzDJzsrFiVvm+J5r/joHn05Np6EWKKVBiEpRQpRokmqnagHFEytEnVJpNR0fp3ujvdNR%0A0qlpNzhRVe24f9s0nhDQ6QuVbhFpNBrNEUckGt2QNIz5xDow7fDzgg4UZ0p6bMzzRg9Af+NpNBrN%0AoaDm01lNTbVtGizgYoXoqCPWN4qMPpS62B3Ky0uIhEMJnV5qNBqNpmWEEBSX7GX7jm2xq22UUUKY%0ABrPsDu+89GCJd9JVjbJbr2f5ykVs37lZC5FGo9EcFJLFS+dRXV0Zu7IG2IHykBDrJaFTTFA9UOKF%0AKALMRz0kAHbv3smb7zxHMFSnxUij0WgOANMw2bh5NW+9+yJxXhR2oz76a2nwG9cp3PUcDPFWcwLl%0ARmIpMB6UJdB7H7xGfl5XLp76LQK+VOUfTLb/pxXvdF/quVCdEp3PRwcdJZ/V97qaA7dl+3ruf/iv%0AbNiwpnHSlfPS7aheqDpU91yHD+dwsIgEvwXwLeBeIMXZ4PP5mXzyWZxz1qX06TUQvy9A+45fnEAp%0ARaJb1nRsZMyf6LeUzudOSNz7LJr8o91g2zbl5SUsW7mA5198lNVrlsdPal4P/BJYifKkUEVDq+io%0ANFgQzaxLB/4B3BC/T1paBr169qFr1271M7/bIw357vxDNPy3/ZVdzUHSNJ9BhexD53NnoZEGxb3P%0A7S6PBcG6WjZtXs+u3dupq6uL36EcuBN4G6hEt4iA5oVIAr2AfwHn0XQsSaPRaDQHRjnwH+AFVEuo%0ABmWo4IjQUWmoAA1OT+MRqIc2C3ADAwFfshOr0Wg0HZQNwD+Bl1B1qyNCsUYKRy0t9a3FRgRcBviB%0AbMCLbiFpNBpNa9ShPGe/hOqOm0nDeFCIxD7ljkpa62GN3Z4BDAJGA31QoiTacI6v+36M6JIf/VsV%0A/WvREEwqgsr4HtHjtkf36Qvk0WBBWAHsjO6fiWodbomeJ7bwuIEClBWis64SZZrp+I2K9SmlOTSc%0AcmeiDGryUOGTBepZR2jsMj8LlT+bURVADqqV75wrAmxD9dd7oufbhsrD+EoiF0iloYyEUIHLYn2E%0A6crl8OC8zyYqTwQNU0ti32enRdErum539Hc/VL7b0WOrUO96BFUmDNT7HGs2LVEf211oXLdVoAQk%0ANp8dbzTxhIC9qFbQ4ug1gzQuH50qntCh0lYRid/PRL2wxkGc60jipMsPfD/67zej6QyiKpZKVGGO%0AAN1QHm8rUYXvamAcDQV3A+orpjq6zg9sQhXoWGFJByag4jk5hXkzsIuGmdPO7GnHmaFTkWkOHAOV%0Atx7gZOAy4CEaujqcfK6OrstBfSzsiR4/CriRhudfC7yPEp8gkBbddz+NhcVAfYj1pCH/ylBBy5x8%0APuonJx4mnA8ND+pj41aUGEyjIXR27PssUe/z/uhvA/gmahqK8z5vAT6k4f31o97xOhoLSxYwkYbp%0ALXZ0v/2od9jJ51gRjH2fHZGM/VCPdaGmHUzH0dZoW41NVdQDrYtbl2wEDS2SLsAZ0XWzUQXPQhVO%0AG1VIalHx350KJkxD4bJj1tXRuNAnsnBxR491ri+j+9XFnDf23LoAHjxOPoOqpE5CidFnwHIa8lPS%0A8Ow305CnTiUWoaHsOq6talHitTP6b+fjIbb8O/nvVDzBmPPFzpLvNGGck4SBeq8AegOnosZW5qGE%0ARgXOUu+hIwxOHG6Tho9Pp1XstHwTvc/xXWReGlow0FDf1dE0n1sb35Fx/9bvfgIONOxjfEwMQft5%0AsE7BNFCtk0HRtI1GeYtwCqYnZl9oaNm4SPzFYtPUPXt8lMRYr7k0c0zs7/byzDoiTitcoLpWT0a1%0ASE9CffE6QlGDytPYL1KnQorNA6cMJ3LDH/vF61w79stWkLiMxC6ag8P5aDBRrZM+qLwdjppwT/S3%0A8z47OHlj0rSLNP4djv93/PscW9+1lM9tFSJNMxxq/OH28pBjxwzSgbNQXzUAJwJrUa2iIKqCqkEV%0A4tjWXHP3kqhAxi4iwT6Jjo0/XnPgxOazCyU+faLbjgE+RnWv+VFWnp7ofvFfvPF5Am3LZ2iad7KZ%0A83TqQGZHGEeEDFQ32RRUPqaiPjI3RfcL0DCu5/Q4QMvvWHPvY3PvanP7yTZcS9NGOov1W6yRwlCi%0A7omiDEP16ftoqKC8qGa/04Q/lOtqvj5iB6+zUSHtna/hrigxcvLZyWsnn9uSVzo/2wexHxujgTEx%0A20YBRTTOZ+d9dgRM52MHozMIUWzl5ENVTnkx27NQBdlHUzFyum50wW3/xLeGxqAqKQcDGIvK70T5%0A7FRSmvZN7PvsR73PmTHb81BiFPs+O0Lk5LOmg9EZMi224HZDDWqKuO0jUF/QjkWdn4ZuG+drWVdS%0A7R8DlWcBVPdretz2XigT/Nh8jm396nxu/8S+z31QY4CxOJaLmai8dQRJf3B0YDq6EMV+JZvACaiK%0AKJ4i1LwRNw2F93B1z2m+HpzKyUBVUBMT7ONDtYocAdL53LGIFSE3MImGuX6x9EC9524ahCj2w1KL%0AUQejM7yYzthQFnAuDUYKsbhRX1Ep0X97ovs5hVd/KbdvnPxxTHpPAbo3s+9AlPm+i6b5rCuo9k2s%0AEOUCZ5PY+4sPNR7o9Gx4adry1XQgOroQiZhlOOpruDn6AYU0zENxvp70F1T7J9YYJQfVLdece6oc%0AlMGK040Xm9d6MLt94+SzQI0DjWhh34Eorwmx77PzsaHf5w5GZxEiN3A6qlXUHGkosRIxx8aaiYIu%0AvO0ZJ29Go4Smpf1GoVq/jtm1ga6g2jux76UP9bGR1sL+2ahyEDsfLDaPdT53IDq6EEGDaw/Hk0Jz%0ACGAkqoJyZlwnDLWlabd4UN01qa3s1yu6xHqz0LR/nMnGvVDdr63tOwbVPXdUx/LpDHQWIZqEGsC2%0AUT7CwjHbbZRrEIkyWhhAYxfs2tNBx8BCda86FVQZDW6mQOVhGapS8qK6aR2XLtrVfsdBoixfu6Hy%0AbB+NPyTCqPcZ1PzAPqj32XHHpD86OiAdXYgch6NTUQL0L+BulC8phxDwMvAGymniCTR48Y0tvLqS%0Aav+cgTLbfQO4HeVi38HxK/g4ykHlKNQYguP4VOdz+8dGzRM6F+Uh4y7gvzR4TAD13j6HinBaBxyP%0AEizHN2C8ux5NB+BQXfwkGxvVwlkD/Anlg2pygv12Ax+gHGOOR1nkbKJpBaULb/tEogQoHfgBMB01%0ARvCjuP2qgRnAF6hWck9UPK14B5U6n9sfTr70AxYBPwdWAecn2HcHKp8/QXXPZaNCLehWUQelowsR%0AqMJ6Bw1OLpvrggkDC4HPUV53wzR4SdaVU/tGovL3b6huGTdKlBL5fbNRX9MP0JDHsV60j2Q+6zJ0%0AaAiUCH2F+nhw07g15CBReToX+BQooSGvnfe/o/f2HFV0BiEqo2FSq+NJN55Yy5qq6DGxXndbQ8T9%0Adf4de17RzPr48zTnPFPTMrXRxQlyaLWyfwgVLM/xoH0gX8mxeSma2Zbod3PlQNN2Kmn8PjeXb86z%0AraAhzMvBxICKz7OW1sdvj/2r8/oQ6GhC1FqlAK0XiOYKTnMmnyLBYtCyCMWvi1+aS/vXhWzld7Jp%0Aaz7LNhzfXD63lD+xpv2ilWNbOkcyzYhlG9cli9byuC2t1+Y+7BI9+0T5Gv/vRO90fPra2/vc3t/l%0ANtFRhCjRF2pzlUGiJrmRYIl3+WLGbCPmXGbMX8fhZmyI31gXQ05hjp+/4myPDRuRLBK5uo9NU7LS%0AJg7gr/NMm2txxuezGbdPvN+52DyMX5xnEn/u2DwWzVwvtnL7OmkuzEV8yJKvm7bmMbQ87ys+j53n%0A7kRidfIzPq9iy07s4hznPJfYdz7RNWOPi3/eXyeJQpAkO48PivYuRK19aSb6Skl0T07hccUtscHL%0AYl3AxBe6RMfFVjKumH2dQhBbQZk0DjucLBKJUGtxeo40zX1pGrT8sREb9C72XI4XBRcNHpmd/Ird%0AJ9EHR3xex+ezEXP+2I+Q+ErOOX+y8rq1ODrJiIvVXKszdhtxf+PFwCE+r9zRJfbDytknUd644o6F%0Ahq5eSWNPHA6JPjhiowF/3bTHPD5o2rMQJfq6jZ85nUiMElVQjhNFx/+Yh4a5Rs7XULz3XhFznDvm%0AOCfKpzMoKqLrnfM754xtBcVH+Ex24YgVoNi/8REnj3Q6E1VMsa54mhMjx+dconx2Khcnvxzfg1bM%0A/u64czsC40GNKTl/nXy24/ZzQsLHt3Zju3aSHaG1tUjDdty+R5JELUcjbp2zn4OzPVEdleh9dvLL%0AeZ9jeymg+ffZjjnOeQ6Ob8JYkYo9l5Mmg+SaiieKEB3/HncIQWqvQtRc90psczvRF5UjConuM7bw%0A+VCFyylIznHOl5DzJexCVWSR6BKiIQxxrHWeI0ROwbVjzuWkzzlvsisn529swU0UNvlIdzu01I0W%0An8+JWkReEguRh8YiFKZBUJxzxIaXFnHHRaLHOWUgNp9jPzqc346oJcrrZFdQicKfNxce+0ilNb5n%0AIDZ/TZr/4HDWxb/Pzsdm/MeG8z7HtogcJ6jEXC+2XIRJHFbccaDqjjvWjEtfMqd9NJfHsfkbb7zR%0AbsWoPQpRbOUU280SW4gTFd7mWkSCxl/KsQs0ZFS8h2bnXLHHOS0iaPgKpplzOiIZ+zfZXybxlU58%0AwY1tBcQ+m8Od5ngRSpTPrQlRohZRbIslNs+cysYh3hN3ovLhmA1xIqweAABwNUlEQVTHC1FsPsd2%0AzcV+FDmVQ7Jo6YMjEnPvTr4fqbFL5zrxXWmxQpQoj2OPbamHI3bxxNxDfOsaEtcDTosoXlTi3+dE%0AH7/tpTUU2+KJFaDYd9lKcFy7or0JUXzl5Cw+lI+4FBq60Jz9Y48VqJnZ8evTo+sdt/EpKFNgx8WP%0AU8FkRbc5hTMdNTu/FjWPpTnXQE5XX03MdVNR3r6haaFJFhJVQIM0zESPFaL4SuFIfC0nEiGniyUF%0A5ejSCfGdaBDbObaAhorCIYCarOzkc4AGDxp2zHkKotdyzudClQ8LNVu/OvrXmRxpx+zrpiGfnXvp%0ASvvqm3da7/HeBpwuplgXWLEfJYeT2O7tlt7l2JZkLE5ZzEmwPhOVX068qbTovTpzxZwykh29jtMt%0Am4HK+xoav8/xrUMvDa6hnGeUToMItYf3WUbT57zLzhwqm8YfG85zbdcurtqTEMW2apwvKC+Qjyo8%0A6bQcssE5NpumlnNp0fVOAC0/DRVNbKsmI7rNqbTSUBVbXXSpJXHBJbot1veZEyHUob0UAqdiDaEm%0Ah5ZE0+4IUWx6na+sw/21HPvF6kZVNl1RHwIeWvaSHfvBES9Efhry2R397VRQsRWtI1bO+czocTaN%0A8zmRWyCJmrsSK5IFCfZJJk4rKIyaY1NCw1wb50s5Pq2H86MjkYWaH/Uu56M+0lqLA+Ycnxm3j0HD%0A++zEmgrQ2JGxc94MVFlw3udUVLmpjVliHabG3nt1TDqIHhvvbDfZ+ey8y0HU3MgSVPmNtf510hl7%0Af8lOdxPakxBBYxFKQ0VhzKNhcNihpQcpW1ifKEMSNXFbOk62sm9b0phMnGccQFUOmcBe1OTP+Pt1%0ACvrhEqJ4wwQ/ytNyNxqMCtr6sjT3NdpaXsW29gSt529L12lLOpOFM47mQ33EFaMciDrPP5Exw+G6%0Al3jrsizUu5xF4y7t1p5fW7a1lM9tKR/QcfPZeZdTUO9zJsqdWRmN8zjWeKG1ieBJob0IUXx3TTow%0ABPXVk+xujs6K80x9KCFwowpxbMGNHcQ9nGLkiNAgVEso2XOrOjPOmEcBqvWwkwYT5dixo1gz5EPJ%0Ai/i5WbnAYFRrQr/LRwbnmaagIhcbqA+P2DyO/aiMPaZd0F6ECBrEKICKvuiIUD1p6el06dKFrl0L%0AEaJxi15Gd926ZQtbt2zBtlVPjBCC/Px8MjKzcLlceDwePB43Lpcb02XWn8e2bEpLSwiFwvW1oss0%0A8QcCGIaBaRiYLhPDMDEMAUIgmu1VaH8IAeXl5Wzfto2ysnLC4VDsZmfMJUyD231nPOFg3KY0mwwa%0AxmT60jCGVo/f7yc7J4cePXri8XqavC4SiZSSyooKVq5YQSjUcB8ZGZkUFBTgcrlwezx4PB7cbhem%0A6UIYoj4BlRWVVFVVxTwbgc/vx+12q7w2TUzTwDCMjpXPAkLBIFu3bqW4uJi62tq4rWSj8tMRo/h8%0APlwfBLEflANpEKF6MrOyyM/Pp0vXrgmfr5Rq900bN7J9+7b634Zh0qVLF9LS05u+z6bKL3UlSfH+%0AYkLhcINFSvR9Ng0DwzTr81kIAwQdKp/37d3Lnj17KC0pxbbrGznOR0cRKj9LaPC/GfsutysRgvYn%0ARCbQA/UVVf+w0tLSmHrRRZw39QIGDhxAIBBo0rNsWTZSSh576BHuu/deaqMvoWm6OO74CYwYOZKU%0A1FTy8vPp2rWAnJxs0tLScLldIKG2tpaZMz6muLik/m1MSUmhd+9e+Pw+/AE/aamppKSm4PF4MV0G%0ARrQAdxQi4Qh79+5l3hfzeP7ZZ1m8aFH9C06DGFWjxhGas1w72EIc+6S6or7c6nG5XJxy6qlcevll%0AjBw1ksysLCX4cdi2TSQc4asFX/GTH/yIkhLVoyiEYPCQIUw+7TRSUlPJzcuja5cCcvNySEtPx+Nu%0AGE5atHAxy5cur78Z0zTp0aM72Tk5+P0+UtNSSElJwevz4TLNqCAlO/fahm3blJWWsWTxEl564UU+%0AmTmTSKSR39Ac1CD9fppaKB6OD47YuVp9iHNOm5eXz0WXXMy5F5xHj549CPibvstIiFgW0rb5+1/v%0A4qknnsCyVGXr9/s46ZRT6Nd/AOkZ6RR0KaCgIJ+c7GwCqQFM00TaEsuy+PD96RTv348QAgn4A376%0A9u2D3x8gJcVPaloagYAfj8eDYZoJy1t7JRgMsnvXHj775BOef/Y51q1dG7vZA3RB5XPsHKjYd7ld%0AiVF7ESKnBKSj1Lz+QeXk5nLHr3/FpVdcht/vR0oZW3nWY1kWUkq8Ph+xJVsIcLvdeLxevD4lKCkp%0AKaSlpcm09DTc0QrK5XLh8/nwer2q4EbP5Q8E8Pt9BFICpKalkpqaitfrjbaOOp6D35zcHAYPGcyk%0Akyfxp9//kXfffjv2eXpRHwHVJJ48fDgKrw8VnqF+3M/t8XDdDTdwy20/Iycnu9k8BlXRhsNhAoFA%0AfSvHweVyqXz2evH5fQRSUkhNTSU9PQ2Px6NazVIQCASi5UR9eZumic/vJyUlgD/gJzU1ldS0VHw+%0AHy6XK1pBdZxKKisriz59+zDppEn8865/8MTjjxMO1xvKmSgxKqepddWh5nNst1wOyjCh/lz9+vfn%0At3/4PZNPm6zyo4V8jkQiSFvi8cRNIxICj8eD1xd9n/0BUlNTSE1X76ZpmthSYkUs/H4fXp+v/n32%0AeX0EAgECgQApqSnqfU5Jwe3xNLSAOxD5BfmMGDmcEyaeyK9+8UsWzJ/vbJKobrpsGhwFJ3IA0G7E%0AqL0IETRYH/mIPiCfz8f3f/hDrvrm1RiGUf9VlAgpJdJuoQtaAtGCH12EbPw7uotsdFK1Xp1X7WcL%0AW0oMKZG2rZSuA+HcX99+ffndH3/P/n37mPvFF7G7OJZGIZoW3sNBVvQa9Q/6oosv5ue3/5z0jPQW%0A89hJv1pIkNVS/V82/HXKhdNVG+3ca5TPjfO34ZiG44wOlc3OvWXnZPPzO26noqKCl154wVkvUd3f%0AKSgLq/g5eYeKc76uNLjdITMzi1/c8UumnDUF27Zbf5elxJY2iXTq/9s77wDJimr/f6tu6u7JM5vZ%0AHNjAsmwg54wiICigYnpmnu89w08U8xMFEUUUETCLPCSYE0lQiZJZdtllWWB32Rwmhw43VNXvj7q3%0A+3ZPz+zM7sz2zHA+2O5M93S6p6rOqVMn5BVYsbyYkgqK63mplCwn5/BpquQ9VL9KcaSihP68y1cs%0Ax5Xf+iY+/tFLsXHDhrgc6qFd7T7KF/EdMVRaEcW1sw1tReUPTQ8/4gi885J3AoztdYGSUjIpFVNl%0ALnQ4+JhSikEpJpViUsrwOXogSikZlGKF56jCZ1RgSgFSKSbyz2MMnAMVGrzh2ZYq+X3ACCEwY+YM%0AvO8D/4FVq1Yhm8mnQFnQC1VUjn8oBm48LH8cYgvU5MmT8YEPfRA1tTWlLqSyhDJjSslehzehIcGU%0AAovkLZVkQkpmSBUdHrBQtqzoicifPxU9j0l9YQd7fYeC/ZWxlBL19XX48Mc+gscffQzbtm2NHjKg%0Az23a0Xs3FF2bwQ7s+POjCK78Bz719NNw+pmnIxBiQHMmkjOgyn7pUMZQSjEpFZNKIpRX4bll3yZm%0AWIbzX0pRCfEWLhxjMRlHl3LgCCGwbPkyvOvdl+Cab14dzSMFbVAmoV10I3Y3BBx4RVQuQTHS1A70%0A5GAAmGEYOO6EE1BdUwM35+7lZRWEkExJCSVlGSnqhUVKyYQQTAQB932fe57HlVISAPN9n+sFTg98%0APcD1QBXagmMiCJjv+ZwzLqU0OOdcVcLAYAyKMQbGOGNMD+RoJsV/3htSShx9zNGYMmUKNrz2WlxG%0ASZRfoAb08cr8HA9SqEPM2Fhy2GGYO28uctncgGaGlAK+H3Ahyiw0CqGcBRMiYEEQMN8PuO95jAE8%0Amn4iEDxSRkopMMa0rIVkQggEgWC+53ODG1wpCc64OtBbooKMGWM6YELlAy4GIWMhBBYsXIBDDl0c%0AV0SAXqT2x9BgZf6NR0Smovscx8Gpp50K0zThud7eX1kpBCIIFYwqY1jm52YoZ8F9z+e+5UkpDSil%0AmAgEE1LycD5rw0SqvJyDQOjx4fmcgSlhSMk5Ywd4PqvQ7atlHJvL4W3AyoJzjlNOOxU/uvEmtLa2%0A5u9GIS2iVG4jigOliMoN1tKQ7RQKZXaUbduYPn06Mum03g31d/kUIEIlIgJZWq2XKaW4EIIHQWB4%0Anm/kcq6RzeZMzjkM05SMMeRyOUMIwaWU0aEtDxUXhF6YWC7ncjBmCCEVN7jijKlKiZVzDsa54oyr%0AMPpHcW4ozjk4H9hAVkqhaVwTZsycWaqIrDJ/vrdv2p+M42V5kojlksyZOxe+78N13b2/g9KWchAE%0A3PO8XlWZlQKTQvJACMP3fMN1XTObzRmGYSjP92W0eIdGR14ZMcaYCASEEAj8gLuuyxlnXEhpGIbB%0A9OJwAIUbBsszzsEZV5xzZRgcBjf0uOP6PGOgi5XjOFi4aBHuv/fe+N37OvdZP7cob6gKhcRk1NbW%0AYeKkSejp6Ym5SPv//oEQTCkVzceix6RUXAph+EFgeJ5n5HI5I5PNmgBgmKZSSkEIwcP5nP98QgoW%0AhHL2PZ/nXNdQgPSDAJxzfkDnc5QQAQbOI5kyZRiG4txQ0ZlVJOO9GR5KKUyePBnTps8oVUR9Va4Y%0AUQy3IoovTvHaT7zM7ykUMqUBMGRzObQWhyf2iRSSKQCe75ul23khhOH7vuV5XpDNZu2enh7bMAzl%0AeT43TUOBMXiuZ3qeZwZBwEOziAW+z13X5QrgUklTSCE9z4dhGgbnXDFWie2tHpicMxWGGkvTNJVp%0AmtK2LWVZljQNUxmmoRhjTO/a+sY0TUyaNKn07sGc2pbKuJxso1tUcNJBqIiCIEBrWzv0xnTvSKmY%0AEIJlMlkbUEWfUynJfd+3TM8Lsrmc3dPTY5umKQM/4KZlhsqEqWw2ZwaBzxEuO0pJw/V9ns25XEhp%0ACCksz/NhmqbgBlODsUyHCsa0ocM5gxHK1zQNZVm2tCz9u160+F5lDACWWXaq78tOt6++XvHfq1HY%0AccGyLHi+j9bWAco5ZlgGQWCVPiiFMH3fMz3XtTOZrN3d0xMwxuC6HjcMrpQCU1Ix3/OMIPC53muE%0A89nzGGPMEFKagRDStT0YhmEwfoCNjfCSRnPZCI3iorlsWtIwzbhS6lPOSilwznXKwyhkOBVRacme%0AeGHLePHDaCBXQ1vLDqA9uV1dXWhpbhmQFSWVZEoBrusWbUUVACGE6bmuzRmX6XTasywrEEKyRCIj%0ADMOQYAyB75u5nGsGvp/vNeN5npHN5XgghOF5rpXLWsw0DYNxLhnnqhImRnRuoK1kQ5mWKS3TlLZt%0AS9uxRcJxhO040nFsaZpWZPIP2JUz2I8T/ttXP5/SBmTR+VMyvMbIZLJoaWkJA032Tmjtsp6enkSp%0AX1QIYXiuazPGRMZOO122HSgdmm+apimjXJF0Ou34np8f+1xww83leCaTMVyXI5ezYJqmwTkXjDN1%0AwPNLGAPLy5grwyyWseM40nEc4Ti2tKy8jPtcqIYgi7RcyZ7+5FwFrYg4EIaUd3SiahByjtzkvl+q%0AiMD8wDdd13UMwxTpnp5EaGwwx7EFN7iCAoNScHOu5Xu+yRiT0O5+I5fNchEEhuu5Vi6bY4ZpmJxz%0ACcYO+HwO/erK4EwZhlZAlmVqGdu2cBKOdBxH2rYtTdOUnHPW31zOh6KMQoZLEZUO3NIeIFEvkXgT%0AsRoUdkWAUkj3pNHW1j4gRaRkuCNyveL2AAoQQliu6yUYYyqbsQLDMKQQwshmLMENQzIdDGG4bs72%0APM9kjCmlFDMMw8hmMoZvmibjnBv6fxbjTFbodFOFJ+dgjCmDc2VYprQtS9i2JRKJRJBMJoNkMhkE%0AqaRIJhLSdmxpGIZ+7tB+5lIZx3vDxKsXxxcoE4VyJAoAcjkXba3tA45Y0oElgqXT6QRU8c5NCmm6%0AnuuAMZXNZgPTNKUUgmcdJzAMIwo7UOmedMLXBkcUiCBy2ZxhhnLmWtaScS735fB4KGXMOVemaUjL%0AsoRt2yKRcEQimQySyUSQSqVEMpEQtuNI0zTyCmmIiRuT0VwulXNfczmviLo6u5BMpgYs58il5vt+%0A0XxWSrHAD2zX9RzODWlmrIBzrgLfN0zLEvHdYS6Xs33fNxhjXCnFGOdmJpMxTdNUWsiGwTmXw2io%0A9Ue0Q4f2bhgy3AlJ27aDZDIRJJLJIJVKimQyKRKJBGzbyiujA/1hh5vhUETxBSq+OEV1r1IonAfF%0Ad0S10JE2NqAXnI6ODuzetWvvgzeMigOATCaTUkUHnIr5npfIZjIpEQSGlIoHvm9k0hnfNE3BOZMA%0Ag5SSZ9IZ23XdvKtJQZkdHR1JxrjNGBTnXAJMAVAH/lwz+qZ6h2NZtrAdOzAMQ5qGIS3bChwnEaRS%0AOb+62vOFFL6UMgCASBkNwwCOZBwtTlE15OiwOt5sMFqo6kNZAwDSPd3Ys3v3IBWR4p0dnbUKquic%0AyA98K5vJpoIgMJSSLAgCM5vJuqZlilB2AKB6urtTuVwur8Q457yrqyvheV4KDOBMW8hAFDBwYIQb%0AnhvkZWyaprQdx9duOC4tyxaO4wTJVNavrqryhRCelCI0gh1pmkMu41KPRty16qBgVMQNDg4d/RoF%0ApUBIgbbWVjCwfAWUvV0HqRRjAHNzbqroIaXgum4im0lXSSEMKSXzPc9ybMc3TENwxsNEDKh0Jl08%0An5UyOto7kpxzmzEmGWcK0HGRDAdoPsdkDACcc2XZdmDbdmBwLk3TlJZti0Qi4adSOd/3fV8I4WuX%0AZgq2bckwgGVMKaPh3BHFm1CloPMK5kHXNYsq50Z/y6AXsUnhZ1JCCKxftw7dnV0DPT9gAMP27dvH%0ACyHyC5RSiu/evXuKFLLKtMzAsR3PtCzPMAzBdHButKNlSsqEUioTRjcygKW2b926JFrAwoFaEvt7%0AYIhXcmSMS8u23Kqq6q6mceNaG5oauxOJhJ/LuYHnuWYQBFxIyZRUhcNOh6khHMClu93IyBgPYC50%0AIdMmFEffIfz7KYjlim3auBHVNTWDCoNXCiybzSZFECQL9yl0tLc1vr5x4zzTMn3HdnzLsjxuGIJz%0ALmJyBpQypZRR/RsGQO7atXMuAyuUP2GVk3O4I1KWZbmpVKqnobGxvbGpqSNVVeXmcjnhuq4R+IGO%0A8pRKx9QxBsYcCejFbYg+TlzO0Vyuhk46PziUZT2K+zMx6B3RhOhFctksXly1CjW1tQOWswodlHt2%0A7ZoUNyyDIDB37th+kJvL1ZqWGTiO45mm6XPeaz5DSZksmc+J7duK5nPl5zLn0nGcbHV1TVfT+HGt%0A9fX1PU4i4buua3qeGwZQCR3dmZczk1Egw1hhqBVROXfcOADHAlgGrYBKK2lHz7OhrSjtR1IK2UwW%0AmUx6QNayUtot4eZyRTsipRTcXM5Jp9Mpy7KEFNK2giBgnEcDt+hlotdCoTBkTf5DjiC5qx6Fjvb2%0Aibt37ZpRV1/XPHXatK2N48Z1iiDgUupcGM6YMkwjfrA9FC6IUivZgt7hLAdwJPTiFDWjKyUq658/%0AUXVdF5l0GoNBKSCXzSZKI6o8z7fS6XTSsixbChkEQeCHrldZElhSKmeGQn+iESNnpRQ6Ozom7tm9%0A26+qquqYMnXq1omTJ7doGYehyYzBMA1lmKYyDUNxbqkwJH1/3z4u52jHexCA4wAsRmGulpvLKegx%0AwQDtmkun0whdxAP87jqc0fXcKAw8uiYsm80l0um0sG1bSClt0zAD7Ubd63yOqvrrDzoS5KwUerq7%0AG9paWyfv3LE919DYuGfajBlb6xsausO5zHUggqFM01CmZSrD4IoNMrx7pDMciijKF7Gg68a9Fbrw%0AYZQ70tf2pncp9kEMlCiNBuUXwCgvI7KC+i1DX24wjzSihSYIfLu1pWVqT3d3w7QZM16bOm3arnAO%0Ah4efVngzlWEaYoh2RXFjYxyANwM4HIUW28Mi48J3D708ve9H3pUWybufEv8jXc6RjIUQZmdn5/hM%0AJlPb3dW1ZdacuZtV+Lhh6POjSM6GabCwVM3+fp9S9/oiAG+BntPRPNubnIu+S1RqZ2DfPf8hemWL%0AaTmHP0NHNYYh9qq/14p9tpEDK4TC+L6f3LN79/Se7u66GbNmvTZ5ypQWBYBzlg9ksCwduGAYxlAZ%0AHCOCoVREcfeLAe2CuxDaVTPowJ0wfydfQ26gH6FcYENYOQFCCEghIbkEi4Q4SuUYS3oDAOW6btXr%0AGzcuUEqx6TNm7DQ4l5ZlCcdxRCKREAnHkZZlyf3cFZVGydVBGxorwscGXTQzkvFgkaL3W0mpIKWA%0AFBxSSAgu8nIejfM1LmPGmAqCwNm5Y8dspRSbM2/eJs65siwzlLG+2bYV5qHst4zjAQrzoefyROxD%0A9eYgCPZhLuuPUG4+Syn1PDYkhBRggoVyHl55DBeMMcSNh3Q6Xb/htdcWAlg35aCDmk3DkPlAlURC%0AOI4jTdNSQ2RwjAiGekcUJTHWAjgH+kwoP5JM08SChQux4vDDMW58ky6/Hl7HIBDIZnP58yDOOWbN%0Amo2Gxoa9+pWjnbdSDGtWr8b69evy5WIMw8DCQw7BzFmzkEwmUFNTg6pUCnbCgWkYYJyPKl2kAGTS%0Aaby+Sbe7cF03r4yCIHC2bt48N5lMZSdPmdySy+WsbDYb5HJJI5lMCCfhMNM0h8pStgGcCu2Sy4uB%0AMYZp06fjyKOOwtRpU2Hm81d0La9MJlukeCZOnIhp06YN6I0LcgZaW1rx8svr8u0cGGOYNXs2Vhxx%0ABBKJBGpqqsMK2k5YuHR0ydn1PGzbug2vb9yE7u7uvIyllHzXzp0znUQiN3vOnK25nG1mszkzl3MN%0A1/W44ySkaeprvZ/WcpQXNAHAuSgoIQA6SfaQxYfisGVL0dTUgLgzwvN85HJu/nfbtjFv3jwkk8kB%0AvXG85uNTTzyFtWvX5BWS4yRw2LJlmHLQFKSSKdTUVCOZSsF2bIQBOaNGzkopdHZ2YdPGTdi+bRuC%0AIMgbHW4uV7V506Z5qVRVzjQtkcvmzGw2ZyZzbpBMesJxbKmUUYlov2FhqHdEkRV1OLQfOT9wx48f%0Ajw9/9KO46J0XY9LkSbqqLmN5JeO6Hlpb24r6CDU21CEx0MEbFietra3FbbfeikxYO80wDCxavBiH%0ALVuKmuoqNDY2oqGhDlU1NXBsG9zgo6cPSYgQAt3dPVizeg3u+dvd2L5tW36h8jwvtX3r1ukNjQ3d%0AjuMI13UN1/MMz/dZEAhmWYpxrvbHvxzJeTb02V/emrAsG+969yX44Ec+hNlz5iCZTIBznnfUSynR%0A3NwarwSN6qoU6urrBvzm0e52y5at+OXPf65b+YXMmj0bRx93LKqrq9DY0IDGxnpU19TASTh6kRpF%0AcpZSIpvNYdOGjbjnb/fgpbUvRZcZUghz544dM5rGjW9zEonAdV3TdV3D930ugoApKRmM/bKW4y72%0AEwHMQmwuT502Df/9yU/g7LecjfETxusK9rG5nE5n0N7ekX8xwzDQ1NSQr3Q/oO8fFjwNggC33Xpr%0A/n4n4WDJ0qWYN38eamtr0dTYgPr6OqSqq3XvKT7wc6iRgO/76OrqxrNPP4O/33s/WsK2FYwxlclk%0Aardu3TK1tq4u7Xpe4Lqu4Xke932fCSF0kVc2NtxzwxE1VwfgGOjzAwkATU1N+MoVX8OFF18I0zR1%0AT5lYgUulFIIgQBAERYooEAN320SKqBDOWiAscKprxkkBISRk+No6+230CbK2tgbHnXAsJkwcj1t/%0A+Sts3bI1r4y6ujrHtba01FdXV+d8PzAC3+dBEHChy6bsz9vGS/UcDS1rCehWDh/6yEdw2eWfRV1d%0Abd4VGpdfJPe47AcjY6CgiMq55vKPRfIW+TqB4YcfXXJOJhM45NBDMHHyJNz+f7/GyueeD6XAVC6b%0Ard69c+fExqbG7iDweeAH+iYEk2pIdkSA3gUtR2y7M23adFz7/etw8qkngzHW71yO3yeEGFSbhUgR%0A6fUgXhE/5poTei7rm9DtOkaZo4pzjoaGepxx1hmYOHEibv3lr9Da2hrJjnW0tU3o7OjYnqpKub7v%0Ax+ayhNIpZ6PsG/dxHYbodeJVFGZDh2orQLvj3vP+9+NtF74t38qhV/uFeAn2sLx7/Pqqgf7Xn0iK%0AxrLKKy79v8r8tz9Ei+68g+fhrRecj1SqkCwohDBbW1rG6QEbcF0kVERVq4ei3P0E6HODPCeffDI+%0A9f8+hZqa6rxBUV7GMfnmZT1wGcT/tt/rE/4dwpYQlZLzUMh43LgmnP+28zFh4sS87JRSrL29bZyb%0Ay1kiENz3fS5EUKhMvn9EBsd86DB8Bejuuf/9yU/gpFNOyiuXfudyXNYYpJy1f27vn7JEzqN1Liul%0AsGTpEpz55rNi7mwoz/OSLS3NjUIILgIRKaFQzmNCBwHYvx1RuSKXBnTTsxTC/ugTJ07E+W87H4Zh%0A9Gn5RhWTpRRMhpOISd36QQygzhxiPUZkmerbWvFowUmpmJRxq5pVbGfLUCiyGCXUDdZqV0pi0eJD%0AMHfePKx64YUoMoml0+maXC5nVdfU5KIWGbHq4gOP/iiWL1DoNdMQvg5zHAdvv/gi1DfU99nKIez9%0Akm+/ka+EHe5SB/x9Y7IrnYehnBFWYY/q0kEIoS9vJVo5gEV5SUVJk4ORs5QSU6dNxfIVy3Hv3ffo%0A5zMG13VT3d3dyfqGhrSUkocyLlIIA/jOpcWHFQq73rnQa4QEdIHaM998Zt7I6CUbbeAxKQXTlU5U%0AbC5LcGOAclb5HRHrez6raCzkq+obUYRGBebzUMxlADj8iMPx2COPYeuWLYW53NNT43ueIcLvKmVh%0APVNKjYnk1sEqotICl6VKKAmd1JjfaS1YtAjjJ4xHLpfr0xJXSjHP87nv+VG1XcUYQ1h4ckCrpgot%0ABCFEufYAkKGSEkKwQLeAUAC4YRgVCbcJq3tEyYg6LyBWNTss/b/3762ARDKB2XPnYNULL+jX1rXz%0AHM/zrDBIgEXXJ99Ubu8fL15XzEJB3gb0jiiflDp12jQsXLQQuVyuz3JM4Xvrcv2+nz9X8n0fnufv%0A7fMUXidUZH7g81J9GvWdEnk5B8z3ddsOIeUBV0QlMi6V84BlDGgXzsEL5uOB+/8eGXRKBsLyXDdf%0AiUSGvZQGWs8NveUMFKoj1KDQHwwAsHzFCtTU1CCXy/UtH6WY53rc9/2oujmkIeF53iD2DQpS6P5R%0AZYxXhtCoEVKyQAjm+z7zfZ/py1SBlh1A3p7VxVMZOOMAY/kKLAObywr1DfWYMXMGNr/+eniuCbiu%0AmxRC8HzvpTBZ/Y24IypXeTde0iNKbqyGtpTzVlRdfT08z4cQXeVfWW+nWeAHRiaT5UqFSYqMwbat%0AAVXezu+IALiux3ovUDJqH8A812XZnMXBoHzfV5XKUNaLExRjHIxz3cbBMGBwrnhYbTcKtd7bIDY4%0AR2NjQ/x7KCmlIYXg+Y6UGFCF+7hlHB8bURJydH9d7D5UV1dDKaCrq6vvyaGtXJ7JZAzfD3h0ts04%0Ag2kOJtFRQUqFXC4X9ZqJP8iEkBCBgOd5PJfLccaBwA90UEplFigVhedyw1BG0b+6zQPjA1NI9fV1%0ASKVS6OrqAmMMQgrD93Xx1qhR3AA2u+VqBEayjQ5k4hW083O5qqoK6f6Sj8O5nMu5RiaT5YBiSulg%0ABSdhw/IG0IsofB0ZfpfQaCl6UIZyjuZzLmtypQBL15A74DuifL8oxrRMi+Ws1xg+MMPDNM3e0YVh%0Ao0f9Y0zGY0cPDUgRlRY9jJJVo2KHZuznqPaUjXDw+p6P9vaO8KCyrx0RmAgCK51OW1Lq0v5RGGZu%0Ar03xwtcIXzuXyxq9gxVUqIQ8njWzBhiD7/vcNE3JWYX61GtXUdTKQZmGzo63LFNZlqVM01SGacKI%0AKaR+X46zft6p3wsHpYoMjWgHlISWoUBBcHGDI189QQiBjo5OnX3Yj5WmlOI93T1WEIj8uAtEUDbw%0AoJ+PC6Uk0j1po9Tyj/rQeJ6nstmcYoybfhDIcIE68NM2kjHj4AZXpmHANE1lahlLy7LCXlIGGNd/%0A1x+hMivzLuXyPov/oPhv8wZFVAswP19RmOs10GMg/1gu56KtrQP9vZdSYJ7nWZlMxoxsH93GgMXP%0APvaKUrq2ei7n9u47pZUQd3OuyhiGoaCY63nSMEy9AznQhHI2uO4LpquZWCVz2dB9h1j/BlF5Y2IM%0AaZw+2NvIKFddOSpsmUDvSstVKFhS4eDNoaW5JQzj7dNaZkIIM5vNWUoVFJHv+3Ace1AHGj09abPU%0A9ySFYL7n8dCtA8/zmS6VUZk4/OIK2gbCMjzKsizp2LayHVs6ji0dx4kG8oCUUV9v1R9SqciXHy/n%0AkkShW25UAic+DuoQc80FQYC2tjb4gV9WEUUvopTimUzWkkLm43izuRw81x3cVFMKHR2dpig5PwgL%0AYDIVNr3zA59bGUsahqH6UdTDQkkFbZhGXsYqbOfAHMdWjuNIy7aUaZiAgUG56+LXo/+HVVQUuLRa%0AQlRQtNTlHimiqJ2DBIBsNouW5hagzEwuyBgs8H0n57r5ics5RxAEA3az6w+tI8IzmYxRcjcCIZjn%0AukwpaUgpmet50jRNZVTOLacbGBpcmaYJ0zSkbYXz2NYyth1bWZalYGAfSm2xuIzGJP0potKCh1H/%0A86h6dqSQouraZnh/1J1RAYDneWhv79iLW0RBSmm6rhcpIsUYEAS+zjcaKIwhk8lwWVJrToR+5EB3%0AbWSe53FuGIpXpNeM/r94xrzBOUzLVLZlSdtxZDKZkMlEUgapQCQSSek4gGXtszLq+6qryN8sSwuY%0AKuiacKXngNEOuCb2dxBCoLOjE0EQ9LMmKigF5rquJaW0oue6ngt/oC6b/CsB3d09ppSiSM5SSoQ5%0AFoYQknm+rwzd1eHAGxz51s88ypxXpmlEMlaJREKkkkkZJAOWSCalk4C0YIIbQ/9ZVXh2hGKDMqqM%0AUa5bcql3QwHaqGxra9+LZIAgELbvefnMac45pBSDqzUHbYxmM1keN270fNZnf0JIJQLBcq7LDc7V%0AAe8Rlg9AYeD67E8Z3IBp6cZ2jpOQyURCJJNJlhQJmUgkpO04uhx9JcbkCKYvRRS3kG1oBVQV3pqg%0Aix9OR+E8yIj97Rzow2wFAM179uDZZ57eq5WnlDKUlPmujgCD7VgwBrGdZ2BobWmxxzWNk9VV1QpQ%0AME1L7dy50/F8n4enmYpxrs9nDlTp9z4+q23bsq6h3m9obAwSiYQ0DUM5jiNzuYTwUp4MdNKaACDA%0AdJdNbvAhUZ7h4gQhBJNCxqsrJ2M/T0KhuGXcMJkFHZQCAOjp7sbK55+H4zh7e1smpUxCFTqrGpY5%0AOGMjxM25vKa6BpMmTc4fInZ3d1svrV1bzcDCNup6caiknE3TVHX1DX5jY0OQSqWEYZrKtm2ZTCa4%0A53kiCAKRz5VJJKTFzPx5wlAQKaEwCCju1VDQ87QRWs7R3IuUkQNdRb0x/Fts37YNzz799EDe01JS%0A5gcDYwy244Abg3ODMzDs3LHDmThxkhBCMEAhmUrJrZu3JDo6Ok0GgBt5d1c+OvFAw8DgJBKisanR%0Ar6+vF7bjCNMwlJNwZC6Z5J7vCyGECF3JEo4Dk0GfD47tjc6A6U8RRRZy1EMoqqJ9FoDDoC1ms+Q5%0AQGHRAgCsX/8yNm54bYAfp3gLuq9zsdQ9dPdf/tIwEo0Pxriqqq4Ss2bPdpcuX94zf8GCTFV1deB6%0ALg98XwgpwxN9KM6Z5LGoq/1DR84JIbjveYYQItoJVUEbEguhw/DHo1DiH+gdtAIA2L17N35zx+2D%0A+ubxV9zXb1Mq50cffqj6sUcert7PizO0MKaSiYScNn2Gt/jQQ9OLlyxJ1zc2+J7rSt8LM+Tz9fA4%0AeNh0cYgWKRYmFnMRBHEl1AidIzQXOu+vGsU5hWXn8srnn8OLq1cN+Iv3/dvgiMu5o6OD//H3v28c%0AafOZc67qGxqC2XPm5JYuW56ec/C8TNJLCs/zZBAETIaKNNwdF+bySPsiFaKcIirdDSWgF6YPAzgD%0AsaZmA0EEAUQfuSUEWCaT5s179lgvrlqVWrxkSebU08/omD5jek5nTgNcV1hWpmnCMEwVliTa30WK%0ASSkR+AHP5XJmqIgaAJyEQsWEASOl7Dek9w0Oy2YyvK2tzXxp7Zrks888U3PaGWe0LzhkUUZICQUF%0AzpgOWjANZZoG49xQPJqF+0HoruS+5xtBEEStHOZAz+P5KDYy9kppxQSiCJZOp+3t27bZL6xcWb18%0AxYruk087rXPipEluFIzDDa6MMCjJMHSVdGUo2hWh7x1RfBt/GICvQdePI4aJbDbLn3nqqeqd23fY%0Ab7v44paDF8zPcMZgGqaybEvfLEuappEP+d0nVH6BYp7vc9/3zZ6engkAzocu51KhMMKxj+/7bP3L%0A6xJ7du+a8Jbzzms74uijuxhjMA0DlmUpy7a4bdnKNE0mOYPBjH0Ol9KRkAoiEMzzPCMIhAXgUAAX%0AQLviiGGiu6uLP/LQQ3W7d+2yz3/721unz5yZ5ZxDB6vY+fkcBdHQrqi8IopHR80D8L8oo4QSySRS%0AqRRdxH1FKWSz2Xxx1oht27bav7vrznGXvPd9e+bMnZvNZLOG49gy4SRYwnG4bduCGwZj2DdLSiFM%0A7A0ED3zfaGttq2lpbn4LysjYsixUV1eXCxkmBojneujuLs6ha29vN/7ypz812rYjVxxxRHfGMpXt%0AOIaTcGTCcaTl2MwwDLVfBS3DBNcgCHggBN+ze/dcAG9HrHNqRCpVhUQyQXN5X1EK6XS6yCuglMLL%0A69Yl//j73ze9893vbp4y5SDXzmSV4zgykXC443jSsizGFR9Qgt9Yp1QRxaNnqgF8DMAR8T+orqnB%0A6aefjrPPPQczZs4cVDIiUUBKiW1bt+Hv9/8d9919D9rb2/KP7di+3X7w/vsbJkyY4Fu2JXOuy13P%0A457vSycImGmZCmrfE/eiIAXP88zVq148JhBBkYxN08QRRx2Fc849B4csXoxkKoko8ZcWq8HR2tKG%0ARx95GH/6wx+xdcuW/P1dnZ3GA/fd1zB12lTPdmZIN+dy1/W45/s8EQRSWiY49r0yvDY4FIQUvHlP%0Ac11LS8ubUaKEGpuacOabzsIpp54atuywECZf0to4CKSU2PDaBtz9l7/iwQcfRDZmXL7y8svJh//5%0Ar/rz3/72Ztuxueu63HM95vsBE0LANA2mdJ2eSn+NitLfGdHR0D2F8kycNAmf/9IXcf7bzg+z6cd+%0AotVwsnTZUpx2xmk47fTT8M1vXImNGzbkH3tp7ZrU2jVrqo45/rjA8zzueR4P9OBlSiqm+L4NXl2/%0AS5dI2bpl24Tdu3afyMDy48CyLLz94ovx8f/+OCZNngzHtmFaZpR0OeoqWFcaxhhOPPkEvOnss/Ht%0Ab16NRx5+OD9vtm3baj/+yKO1F1w8yfU8j/mexwPfZ0EQMCUVG2g5jJJ3hIIK6yoKLoRk69auO0wI%0AsSD+VzNmzsSnL/sMTjn1FFTXVMOyLOhzSIOMjX1g6bKlOOOsM/C7u36H7193HXbu2AFAG30rn3u2%0AaumyZT2HLDm0xwuNjSiAQUmlyBne944oCd15sz56oLq6Bp//0hfxzkvema+iTew/juPgvPPPg2ma%0AuOxT/w8tLc0AAM/z2Mrnnq1eunx5TyqVFEEQsEAETAgZ1XPbjxLwigkh+aaNmxZ7njcxutcwDJz5%0ApjfhXe95NxoaG3SZfSnAJIvKmJAi2keOPOoIXHXN1bj0wx/FmhdfBKAXqbVr16RObDnFqq6uDvwg%0AYEEgWFhdOUpC3XdrTwFtra3VO3fuOgqxuV5f34APf/SjOOmUk2GYuhixYRh6XLF8yZpKX7JRR3V1%0ANd73gfcDULjiq/+bd7t3dXUZL6xcWTVv/vxMEAQsCAImApGPmNT2xhv7eveliydA74jynHbG6Tj/%0AgvN1hQTaCQ0ZUSHS0888Axdc+LYia3Tr1q1OS/MeU8l8vg9TSrL9LT2vlEImnbFbW1oXqVhOz7Tp%0AM3DOeechmUhgEIUziQEghMDB8w/Gf3zwA0Wlblqam83Nm153lK4UzoQUiLfq2Fc5K6XAOFM7duya%0AmMtmp8cfO/Hkk7B0+TLdDZnEPGQopcA5w4XvuAgnnnxy0f2vvfJKsru7y4gK8gop8tWzSQblFZFC%0AIYcEgA5MOPuct6C6htxxw4FSCo5j401nvxl19fX5+7u7unhzc4stdUJiWBpfAQos6r0yqPfRbxa2%0AKO5Mua5bdGZw2NKlGD9hgi44OQThw0RvTjrlZMyeMyf/exAErKW52RFShC0yVGglg+X78uwDSgFS%0ASNbR1j5OCBGV8kFtbS2OPProQpWDsV895oCilO4SffZb3lKUqN3V3WV0dnRaYQFmRNWz832zDsBH%0AK/l3RFGaxBbd6hHbyieTScyYMeNAXbA3JEopTJs2DfUxRQSAubmsEfY3YFoBFdXfHeybhCW8GLq6%0AuqqlrmSh85U4x5y5c8GiLppRYAK5aYYMKSUmTJyISZOLo6d7urtNGSUv563k/VNCgC7f1JNONyGm%0AaeobGjBhwsSYQckKyab72EOH6M3cg+fCjlUaEUHA0z09BhBWu0Ak4wOqhPr6veIM6JiMMaZL7Yy4%0Ajz92UEqVPSjONxjNd5/E/g3ecLfjuZ6jlDKB0PrgHIlkMhY2yfIV0Imhw7YtWFZxHqnKdxeN7tj/%0A94nOHqSUBmKFDUzThGmZ+VpuvNADK/9ckvr+U11dDSPWGj1sqc7yVuS+2xl90sfmNnrHkp7rI4tB%0AxGuM2O8wZlB93TuwPjP79HZKKaQz6aJeECwK4WWxRYrWpiGhb9f2MKxMZd43ensGlMiXdr7Di762%0AKvb/Q/3yUkkEfq/KF3ElFF9IRtSCToGDb3A8z0N3V3HCpaXbToQ5JZwi5g4Aw7UqMGhrvKOzs/h+%0AzotkzMngGNUwxtG8pxlbtmyO360ABNCKKLoNi1W7vwyrIuK6Edig8xKiZmHE8MIYx549u9Hd3ZOX%0AEWMMjuOEeUN6gepvceK6hUXY+HDgGOHYIIYXxjm6urqwZ/euovsd24ZhmODcKCihfjD2YS4zppvh%0ADbbqNrEPKIUnHv83Ojs64vcKANnw37giGnEM6wj5x98fwHe/fS22bN4y4AHs+z5+e9dvceftd8Lz%0APEquGyYY58hmM3hx1Sq4bg6Mafe1YRpIVaW0MRDbDZVTRowxPPv0M7jmqm9hzYtrBywrpRTuv/c+%0A/PwnP0NPTAkSQwtjDEEQYO2aF9He3h67nyNVlYJpGmH31P6rZvi+jzt+fTt+dOPN6OjoHJC8GGPo%0A7OzET3/0E/zj7/+gaNthxDAMbNywEbff9mv4vh/dzQDkAHRDK6Ko0/KIFMSwKSKlFB584EFc++3v%0AYPPmLQOymHVX1gC/ves3uPPXd8B1B9cwbWzDyv7Y912x+GsW/hwuNoZhoKuzA489+gg2btxQ9Kzq%0Aqiokk8mC24axPhMcGWN49pln8Z1vXYO1a9YOeFeklMJ999yHn/34p+jq7iZFhD4OmgcaQp8/4ymc%0A/RiGAd8P8MTjj2P1qhdiikAh4TioqanWOyLDyMu5XNQcYwye5+OO227Hj266GZ0dnQNq6cAYQ1dn%0AF35y84/xwN8fGKHLX6Xoey73mgu9PBKhk5wxMM5hGAa2btmK7117XT5ROkQBaAGQQUERjVjX3LD6%0ARgxuwBr0dh6oqamB5/jkrgby1bL1LfxZKp30KPUgjbqTCiHy11oIASF0C47A9+F7HlzXRS6bw/qX%0AX8aNP7gBq15YGUuc1BFVTeOaYNsWjGiB4v275gpnDYOTVlVVFerq67Xr7w2OgorJOHaTCoqpvIyV%0AUrraRYmcg1DGnu/D9TyguxtbtmzBb+/8De69+29FxTgZ42horEcikdQ7ogHUEGQIo+1Mc1B9hRhn%0AqKuvRyqVyvebf+MShcqpYnlH+URKAmDQuWSyqHJNJPO8nD0POddFT08aL65ejZ//5Gd48ol/x3ed%0ADEAawE4APoqV0IhkRDnplVKwbRv/86lPQimFRCLxht7SKwV4vodMJgPTNGHbFjhj8L0AtmPr8NDQ%0AD791y1aseuGF0MWmYBomtmzZjFQqBcuyYDs2TNPErp078dqrr6K7u7vovRiAxsYG1NXVDmg3tD8w%0AxnDJe9+D8y44H/UN9W9oGQNA4AfIZDKwbBu2ZYNzjiAI8md10M3U0NbahvXr12Pnjh15xbF582Y8%0A/dRTsEwTtmPDtm10dXZi/fr1aN7TjNK1x7Zt1DfU58/18kbEEOcQKaXQ2NiIK6++CvUN9fvVGG8s%0AoBTg5lyk02kYpgnLtKI0Cli2FXoT9E52w4YNWL1qVb6KjeM42LRpExzHgWVbsG0HpmFg06aN2LJ5%0AM9LpdPytGHSAwiYAHeHPcbfciJxsI0oRAdrfuWz5UgAoasIVTbx8N0vOwBnPV1wLa3P1u6iF3RHz%0AbgilACXztdsG9JxYP5+y7xUFWUQWTTTZw4rXg74eUkj4vg/P8+G6HnI5F5xzSCnzEW2maaKjsxO7%0Adu0seu62bVsH/D6MMdTW1sCyrLBUCR8WJRS916LFC8GZXnCj6xiXcfzaDeS69ycvOQAZF40nIG+p%0AlntetFMUQbGMAS33wSpWKSMZe3A9F7mcG9Z+U+BhbhnnHJlsDs3Ne4rkvHPnjkG9l2Fw2LYNM3zd%0A4QrdVkohlUrhmOOO6WXhM87zFT72RV55GUTdiqOxoWS/pakGO5dN08x/lvgY2be5rBAIUZCz6yKX%0AtcHBEQgRjj2tiFpb27C7JLhk8+bXB/ImkRJ6HcA2FJTQiA5UAEagIhJC4MXVa6CUwqJFC3XynVJo%0AbWkF4wxNTU3IZrNYs3oN/v3448jlchg/fjxWHHE4FixcAMdxeg2qaIHbtXMXVq9ajTUvrobvB5g5%0AayZWHH4EZs2eBcPoXUOPc472tnasXfsSnnv2GWQzWZimiaXLlmHxksWYOHFi0XOEEPjrn/8CKSXO%0Afet5kFLhlfXr8MzTT8MyTVxw4du0m2KIdgDxpWMfzll6PSGKVsxPvGEyY5VSeGnNOvT09OCQxYuQ%0ATCahlEJ7WzuCIEDTuCYIIfDyupfx2COPoqurC7V1tVhx+OE4ZPEhqK6uLrtQMcbQ1tqGF1e/iFUv%0ArEQ2m8OkyZNxxBFHYN78eXklWyrjnu4erFu3Ds8+80x4BsJwyOLFWLJ0CaZOndrrff75j39i+7Zt%0AuPDii2DbNl599VU8+/Qz6O7qxoUXX4SGxoZ9knGvEPkSr2h0/jNIGZeRc0HBD6exkclksPbFtahv%0AqMecuXPywRNtrW1IppKoq6tDR3sHnnv2WTz37HOQUmLmzJlYfvgKzJ4zG4ZhlJ3LUkps3LARLzy/%0AEq+++io4Z1iwcBGWr1iOKQdNyY+x+HMAPf/12HgBQghUVaWw4ogjsOiQRaivr8+PKcYYenp68Pvf%0A/g5z587D8Scej3Q6jbVr1uLZp5/BzFmzcOabzhx0pGjx94gd3SL6pfDYYF8u/DcDYCOALdAuuUj5%0AjGglBIwwRaQPRj3c8P3r4Xk+fnjzD1Hr1KK7uxufv+xzqK6txcf+81L86Mab8OS/n0Amm4GSEn4Q%0AwDRNXHTxxfjk//tU0UIQDf6//vmv+PFNN2Pb1m0oyIShprYGl7znPfjAhz/Qq7XFU088hWu//R2s%0AX/cypBQ6Uz1s+zt9xgx8+X+/guNPPCH/HCEE/vSHP0EIgaOPPRa/+OnP8Iff/h6u52LZ8uU4+9xz%0AkEqlBnNJyl6m6AdV+kvvv2F93CT0QC16FuP6AJQNczVgpRRu/7/b8Nyzz+Fnt/wcqVQKIhC49prv%0A4PXXX8dXr/gabr/t13jg/vvR09MDKUU+Ue+Ms87C57/0BRw09aBei9RD/3wI13/v+3h1/Sv6q4VW%0Ar5NI4K0XnI+P//d/YfyE8UULzrqX1uG7374WTz35ZN5Xr8vtMDQ2NeJzX/g8zjnvnCIF8M8H/4mn%0An3wSp55+Ov7yxz/jV7/8JdI9PZg+YwbOevOb0djUuC+KiOkTIVV4I1Us4z5esS8ZKwAeALfoj8Nd%0AAed8WKs+M8bQ1taGL3/hSzj+xBPwxa98CYbBsXP7Dlz6kY/h7HPOwVHHHIXvX3sdXn75ZbiuC6Wr%0AD6C6pgb/+d//hfe+/72wHTv/xRljSPekccsvbsHtt92Gzs7OqGwVGIDJU6bg0v/6ON56wVthmmZe%0ABr7v47577sP1130Pzc3NEEGgE0CFhAJwxJFH4sv/+xUcPP/g/C4t3ZPGL3/2C7zlnHNw0NSD8N1v%0AX4tHHn4YQghceNFFOP3MM7Afeiiq7sMiuTP9xn1ezpIbj/3rQ0fHNQPYDO2OK3XFjWglBIwwRQQA%0AUEAmk4HneYUU4HBH1Nrahuu/+z10dXfh61ddqd073MCmjZtw0w9vxM9/+lPU1dfjE5/+ZP7wXCmF%0A3//29/jaV76K+fPn4+rvXIPDli6BYZjY/Ppm3Hn7Hbjh+uvR1dWJz3zuMiQSulPl6lWrcfllnwVj%0ADP/7jSuwbMUyJBwH6XQWTz35JH5040344uVfwM9u+QXmL5ifX9wMw0AQBPjxTTfj/nvvw3v/4304%0A9fTTMHnKZNTW1gxygVIKYIFhmK5pmZ5tW56TcPxEIiEcx5Hc4CpyzdmOHX9idFi5C8Du8Oc09IB1%0Aw5+98BZ7EguDdIbfoZ/L5dDT01NUZbq9rQ3bt23HT276ETZseA2Xfe5zWH74cti2jR07duKWn/8C%0Af/jd75BMJvH1b14JJ6EXKcY5/vXgP/GZT30a9XX1+PLXvoojjzoSiWQCu3bswh//8AfccdvtaGlp%0Axdev+gbq6+sAAFu3bMWXLv8Ctm7Ziss+9zkcc/wxqK6qgut6WPXCKvz4ppvxlS98CeMnTMCxoYsJ%0AAIwwWuk3d9yFO379a5xz3rk4+y1vwdTpU9HU2LRXt1IZpGGYOcu0PNuyIxkHTsKRhmGoSHkkE2W7%0AqDYD2F5Gxpnw9+WlT8hHyKnhlbOSCj093XBzbj4qMAgC7Nm9B2vXrMUjDz+MSZMm4YabbsSMWTMg%0AAoHVq1bju9/+Dr79zasxaeIknHv+uZBK79Bd18MPvn89fvqjH+OMs87Eu9/7XsyZOwdCCLy09iXc%0A8vNf4Ktf/DI818M7LnlHuKvnePDvD+DLn/8CFi1ejC9+5cuYd/A8GKaBjvYO/P3+v+NnP/4Jvv7V%0AK/CDm29AY2Nj/vNbloWuri588xtXYcvmzbjs8s/hqKOPxoSJ4/epISjTczlnWZZvO7aX0HKWtm1J%0Azg0FBhiGWZpfxwB0AtgR/tsTyjYHnSPUBaAtlHV0ljFiKyj0xchTRIjUfvEkMUwDq15YhaZxTfju%0A968rsoinz5iOqdOm4kPv/wD++qc/45L3XJIvLLnhtQ24+YYbsWDhQlz/wx9g5qyZ+edNmz4NS5cv%0Aw/gJ43HrLb/CUcccjTPPOhO+7+M3d/4GbW1t+PHPf4rjjj+uaHGZv+Bg2LaNyy/7LJ5+8mksWFjo%0AOcY5x0tr1qKjvR3XXPsdnHDyCTqAQKp9c9cweJZlpROO4yZTqVxNdZVXU1sTOAlHGIYBzrgyTRNV%0AqWTpJeyG3qZvgx6s3dADONqyT+z9XgewegLr7WYyDANbNr+OpqYmfPu6a7Fg4YL8NZs6bSpmz56F%0AluYW3H/vffjgRz6EhYcshJIKLc3NuPEHN6C6uho/uPmHWHLYksLzpk7FkqVLMH36dFxz9bdw5JFH%0A4L3/8T4oBdzzt3vw4uoX8d3rv4e3XvDWIvnMmTcHTU1N+ND7P4CH//UQjjm20BWFcY5t27bh/nvv%0AxRe+9CWcd8F5+fOEfXS7BpZlZhzHziVTyVx1dZVXV1vjO8mENA1Tcc4V5xwttTX6LKGYzQDWh/Lt%0Ahl6Q3FDGZijvkkuv/zsQRYx7VWtgDNzgeOShh/COd70Tn7n8MtTUFAy0WbNnoaGhAR/54Ifw5z/+%0AEWe86QzYtg7geOqJJ/F/v7oVF7z9bfjq17+GhoaC52PmrJlYvmI5Lv/MZ3H9976Hw488HPMXzEdH%0ARwd++fNfYtLkKbjm2m9j1uxZ+bk8depULFy0ED3d3bjt1v/Dq+tfxTHHHVPkTXnon//CjJkzcMPN%0AN2L+gvlFUY2DvhacubZtpxMJx62qSrk1NdVedU11YDu2NLg2OAzDQCJWLBV619MM4DUArSjM5Wwo%0A59KaPqNKAcW/5OhAAVIKvOd978FBUw+CECJ/kBgEAabPmI6jjz0Gmze/no8q0vkq92L7ju34n09+%0AArNmzyp6XuQn/sCHPoiDDjpIu9FcHdmy7qWXcMSRR+Kwww4rek50O2TxIUilUnjllfVFH5Mxhu3b%0At+H8t12AE08+EUpqd94+nwsxpliZG2dcccYlY0xxzhUYK92KKxTyBwT0gI3KfQAjccvOGHK5HC58%0Ax4VYsHBBL1k1jWvCyaeegubmPXh90ya9nHKOxx99HM8/9zw+9vFLseSwJb2eZ5omLn7XO7BixeH4%0A/W9/h86OTgSBjxdXr8aChQtxzLHH9JKvFAJz5s3FhIkTsX7duiJDhHOG3bt24bjjj8e555+bbxS5%0AH2d/CiiSr2Rcy5dzLWN9QzkZyz5kPGLdMlJI1NTW4D3vfy+qq6t7yWvJ0sOwYOFCrFu3Dl2dXWCM%0AIZdz8Zs770JNtXbb1TfU93repMmTcOl/fRw9PT24/977ATDs2b0H27Zuxelnno5p06chCIKi5xiG%0AgaXLliObyWLL5s1FxpFSCrt378JHLv0Y5i+Yn3+//ZEzY1AMTMubF+Zyfl73nstRoIFA7/lcOpdH%0AbJ7Q3hiRO6JySCWxYNEiLFl6WFnXh2mamDhxIoSQ+UTYXC6HZ55+BocuWYKjjj4qX44mDgMLldix%0AePLf/0ZbWzsaGhpw+Rc/j+rqajgJbZ3ko22gLfeO9g64OReZTFHoJJRSmDRpMk446cRhS5wYaAED%0AFA/k+MHliAymVVJi2vTpOPqYY8pOds45Jk3WG7lcTh99yEDgmaefwUFTp+LU00+HYeqW5qWMGz8e%0AJ592Cn5684+xc8dOHLzgYHzk0o9CKaAudNWVyri7qxvZbAaZTDp/dgBoGdfU1uLUM06DZVkHsFtx%0AWbH1JeMRzdHHHovpM6b3mstKKVRVpdDY2IDt27bB931wztHa0oI1L76IU884XbvWuNErWIAzjkMP%0AW4L58+fjhZUrkctlMX7CBFz7veswddrUoqTdSJacc7S1tcLzXORy2V6KaMGiRVi2fNm+uFv3hgIK%0AXoG9BKH0NZdHrLExWEaNIoryEhJOouzjnHPYtpU/zotKjLz80kuwbBs/+P73wyic3s9lDFi75kVs%0A2bIFe3bvxuTJk/KKK5fLob2tHV1dndi1cze6e3qwZvVqPPHvJ5BO9/RylSglMWPmTIyfMP6Adjnt%0AYyBHllSppTQiB65SCrV1db2CRuI4odsi+rY5N4cXV69CT3cXfvajH8NJOGVlzDnDi6tfxK5du7Bl%0A6xYsXLwIS5cvhcENeJ6H9vZ2dHV2YdeuXUj36B3xs888i927dmPevLnFn1MqTJo0CdOmTTvAOVBl%0AO/PGZVwaHTUi5QwA48eP77OepGEYRa0yGGPYsWM7tmzejKZxTbjmm1f3OY9FILBjxw40Nzeju7sb%0ATU1NOOGkEwDos+fOjk50dHRgz549aG9rx+pVq/Cvf/xLy7FMC5YFCxYgVTV0ka77gUTfimjUM2oU%0AETD4Q/RMOgPX87Bz5078+v9u61dk3OCYOHECPE/vptLpNB7650N48O8PYMOGDejp7oJl2Zg3fz6q%0AUimceNJJWLP6xd4DVCFMUDtwRVullEj3pHvdjUIeQakyGpE7Igzgg5WG5eayOWQzWbS0tOCuO+7s%0A97nRjirwA0ApeK6HJ//9JO69+x68+sqraGtrhWEYmHfwwUilUjjyqKPw0tqXIMsYFKZpwohFZg37%0AdWEMHR0d6IjVjIOWq4fyymjEyjj6PoOhq6sbQRBg1coXsP7ll/uey0wrspkzZ8HzfDDG0NLSgnv+%0Adg/+/djjeH3TJrhuDtU1tZg1ezbq6+tw6mmnYd26l8q+nO3YB7QEVWnOVUipm33MKKCIUaWIBv3l%0AwgPkU08/HVdc+fXQAisvv6h2U2NDI7q7e/CD730fd9x2O4474Xh88MMfwsEHH4z6hnrU1NYglUrh%0A1Vdew49vurn8ge8Btp48z8PLL68vvTsT3qJzg2ihGjMoIC/TxYceihtuvhGpqlSf1z/Kjaqrq4fr%0AuvjVL27BjT/4IQ45dDEueufFWLRoERrHNaK2phbJVBJtbe248/bb+z/UjwKlDwBr16xFV6FlR1TU%0AsgfFMh7xxsa+EOWAfeTSj+H9H3h/P64yFiZ5G2hsasLOnTtxxVe+hiefeAJnn/MWfPrtn8Gs2TNR%0AW1uL6poaVFVV4d677+1bhgdwKjPG0N3dg61beiWixwMT4nIeM4xpRVRTW4MJEybAdV2MGzcOVdVV%0AfVqwXZ1dyGQzMC0TDz/0MG75+S/xgQ9/CJ/6zKdRVZXKD/zorEAIMSJap3OD45X1r+Dhf/0rfjeD%0ADunsho6aKj3AHhuLlFJIppKYPHkKtm3bjrr6ekycOKFPGafTaXR1dcG0TKxbuw43XP8DnHLaqbji%0Aym+gsbGht4wDcaBtirIwxtDa2oZ7/nZ3aT2xbmg5+yhEQ8YPsMcM48aNQ21tHXw/wKTJU/o8J1VK%0Aoa2tDVJKcMPA7+76Hf7x4IO46ltX4+0XXQjTNHpFvQkxMuwzzjlWrXwBLzy/svSh3dBGpYfec3lM%0AMHqi5gaJPvSswiGHLMbLL63D5s26YVRpdJRSCrlsDt+44uv4n0v/C60trVi9ajX8wMd555+HVFWy%0AKNImWqR27dqFbCZT0WZx3NCVH278wQ+x+fXX4w/50KHb0eCNCh+OqcELaEt5yWGHYeuWLVi/7mUA%0AvWWs3R0SP7rxR3j/Je/F1s1bsX79erQ0N+O889+KpqbGsjJubW1FZ0dHRauDM8YghcRv7/wNnnri%0AifhDCjqDvhPaWh6zMlZKYsKECZg5ayaeffpptLe15UvzxG8AsGfPHvznRy7FNVd9Cz3dPXjumWcw%0AYcKEsBICK4p8iwoJb9u6FUIeqICT8nDOsWvnLtz4gxvQ0tIc3c2gd0OvQ+9+44poZGjPofr+B+RN%0AmK7NVSiyWP421BPedhyccPKJaG5uxh2/vh25XK53pI1hYOXzK3HPX/+Gg+fPR2NTI4LAhwgC3Xul%0ARNFwztHe3o47f3070un0Xnu57C8sKsNSdP10xNCW17fgm1+/Cn/8/e9LLeXdAF5BIblx2F1zkWtz%0ArzLmQ5urxDnHsccfBwWFW2/5FTo6OnrJ2DAMbHxtA353112YctBBmDL1IPi+DyEk2tvay5b9yWaz%0A+M0dd2LPnt3DMjZ7f4/e88MwDLS3d+BHN92MH3zve8hms/nLDb0bWo1iS3nYqizna5EwDsYGIOch%0AvF5SKjQ0NuC4E47H8889j7v/enf4WeJlcfQcfPD+B/DMU09j6bJlcBwbgRDI5XLo7urp9fe6j88G%0APX/CslbDSZRgWypjQLtdv/LFL+Phhx4qegp0ntjr0PM4Lue4WEY9w+6aU0onHG7fth1yL2GuiURS%0AVwgYogGhpMQpp56CE08+Ebf+8hY0NjbhPz70H2hoaADjDJ7r4cXnVuKb37gSNbW1eMcl74TjOFi4%0AaBEA4Ne3/h9mzZ6JKVOmgHMOz/OwaeMm/PRHP0F3dzfGjRuHtrY2dHV2Ibn/pXvK0tnRie3btqGr%0AsxNdHZ1orq1BEAR4ed3LuPuvf8ULK1fG/eUMerA+AWAPeltRQ+6Wi16sva0d27dt26uMLctCfX3D%0AkCkjIQSWrViGt55/Pu68/XZMmDgRn/j0JzFx4oSwJ4+P1159DVd940p0dXfjff/xflRXV2HuvLmo%0Aq6vDXbffiaXLlmLO3DkwTROe52HH9h249ZZfYf3LL2P6jBno6uzKh/UPtt3FQEin09i+bTt6unvQ%0A2dmJluZmMMbw+qZNuO+ee/H4Y4/B94qKYCgAK6ErLJcaG8OyODEAQSCwe9eu0L3Vv01TU1s7pO/P%0AOceF77gI9959L779rW+hqroKbz77zaiqrgIAZLNZPPyvh/H9676H5YevwBlnnQHHcXDokkPxr3/8%0AA3fefjs++p8fQ319PRhjul7li2tx8w9vRFPTODiOg+Y9zchms0URe0OFlBJtra3YtnUrujp10El1%0ATTWymQxWPv887v7L3/Dqq6+UXvJOAP8G0I7CXB7xLR32hWFVRFJJZLNZfObTn4YTqxnVFyecdBKu%0AuOob+f4beZQOywxE0O9LSCkR+H6hbIxSaGxqxFev+Bq+/Pkv4frrrsNjjz6KpcuWwjRN7N61G488%0A/DA4Y/jKFV/DIYsPQRAEOOnkk3DWm9+Mv/75z9i0cSOOOuYoJBIJ7Nq1Gy88/wJqamvw9au+gZtu%0AuBH333svPvFf/4NvfPMbGD9hgu4bMkR5JUII/OsfD+KxRx/R7ZxDS1MEAXp60pDF7gQGPUifAPAc%0AtKUcd9kMy24ocotcfeWV+P51392rjBcsXIgbbr4RUsmi6urR9w0C0e9LRJWPZWwXk0gk8JnPXYae%0Anh7c9qtb8cLzz+OIo45EMplAW1s7Hn/0MXS0d+Azn70Mx594PIIgwGFLD8PF73oHbv3lLfjQ+z6A%0A4086AbW1NWhtacOqF3TX2qu+dTXuv+8+/OzHP8GlH/4orrjy6zh0yaEQUveGiYqF7e+K8NLaNdi4%0AYUO+ujPj2h2XTqcRBGUKIwDrADwMvSuKZBwMwUcpf80BSKWwbesWvPddl8Awjb2+0wc+/CFc9I6L%0AIQKRr8/IoJPMgyDYq8ES9d+J5rKUEgcffDCuuuab+PLnv4QvfPZz+Ntf/oqDD54HqRRe3/Q6Hn34%0AEcyYOQNf/PIXMWHiBADAhRdfhH/+45/44fU34Llnn8PiQxeDM4Ytm7dg5cqVWLZ8OT73xcuxa9dO%0A/OTmH6GlpRVf+dpXws8QQAxR/pDv+7jv3nvwzwcfCHdFutCp73no6ekpJ2MPwCOhrOMG5Zh0vw6b%0AImKM4bQzTkd9fV3eF7s3Zs+Zg1QqiQvfcRGCQMBxbN2jyLFxyXvfDdtxYFnlQ2aFEDjiqKNw2eWf%0AxdSpU/O7BCkl5i+Yj+//8Hr87S9/xUP/egi/vfMuBEGAiZMm4YyzzsSFF1+EZcuX5asx1NXX4RtX%0AX4XlK1bgnw8+iN//5ndQSmHuvHk459xzcOE7LsLMWTPx6cv+X1jeR8GybXBu4K1vuwC5XFYr3iEg%0Al8sVNTbr63JDL0aPA7gf2pKKzoZKM7CHDKUUDj/iCFx2+WcHLOOJEyeiqqoKZ73pLBxyyCH58i6c%0Ac5x7/nlobW1DVVX53aWUEgfPPxif+8LlWLhoYVFwwZSDpuCb11yNE048EQ8+8AD+8qc/w83lUN/Q%0AgMOPPBLnv+18HH/C8flimI7j4LLLP4v58xfg7/fdh7/95a8IfB/Tps/AsccdiwvfcREWLT4EU6dP%0Aw/jx49HT041USlcJP/W0UzFr9uzws+//dfR9P97iuT8ZKwBrAfwJuo5gqYyHPBhF9wiz8M5L3oVj%0Ajj1al6oawPOWr1iB2ro6fOTSj2LmrFm6yKiUaGhswMf/5+NYEHod+nrP885/K4448kjU1NYU3X/i%0ASSfiJ7/4Kf7yxz/j8ccew9NhsdrZc+fifR94Py5+1zsxe/as/BnQ7DmzccNNP8TvfvM7PPrww7jj%0Atl/DsiwcsngxPnrppXjr285HY2MDrrjy63j0kUcxbvw4MMZQVV2FD3z4g5g6bdqQuOz0WXQWuYJ7%0AtS84tBH5L2hjowfF57xj6mwoorTKPAdgAHg7gJ8CqAKAxqYm3PX73+KwPqoa9AU3eC9/fX8oqfJl%0ANwAU7YrK3dfr/UK/a7lyK1FPoJ6eHnR3dUMpCSeRQH29bhImSyJnosHX3dWN7p5uQAHV1dWoqa3J%0A9wMq14dmIJ+zrCAYw9at23DR+W/Dpo0b85cE+kB6O7TlG93iykVCnwk9DOApFIoflnZmjC6IEd6O%0AA3AHwppztm3jF7f+Cme9+axBfXbOObgxiKNGpS1Nzo18ZfS4jEvvK3edDMOAkKJXwnB0TpBJZ9DZ%0A2QkpBSzLRn1DAxzH7vW9WFiHP53uQVdnF5SSSKZSqKurK2qHEZdppDSj5nWDRUqJ977r3fjHAw/G%0A726BriXmorerLRoHHQCehLaSW1EI5S0XRcVCGVsAPg/gq9EbLT70UNz1+99i3Phxg8qBMozyFSv6%0A/J5hWSvDMCCVLOyKwuu5t55D/Y0FPccluru6wqZwClVV1agNmzqWvm60JnR2duoAI85RW1uLqirt%0A1os+ZzTno/eMjJbBzmXDMLDupXU4901n6wrhBRluQMGAiO9yIkEEALZCK6EXoAMV4nIeU0mscYbX%0ANSdkrwV+IJQT/EAGQ3+DO7q/uroaNTXayiq0X+79nGiS1tTWoLautvjvY7ut0vcbhnIvAoXw3OjA%0A0oUepDuht+4vhD+X1qMa9oE7kCZmZb/UPso4cu309ZgKQ7pT4a4quq/ca2sZ6+jK6urqor+P77ZK%0A329fv3N/XwtavlFF9MjdloUOz14PfSb0OgrnBKUJrMO6OAkhCmpxEJReu/7k1+v9+kAbCLo0U31D%0Aff51+2pkGBkUDQ0N+eravUO4e7/fvhga/RAlpcblHMk6A12c+EXoAJRWFM/jMRuWHzGm84jKMdjK%0AuftaaXeoPi509Nvj0BZxO3T13U7oYIQ26K17fDEqLfWi+njdMcsokzGgd7T/hJZvG7SMu1CQcTcK%0AVZbL1ZQb0/Lsi1EmZwXgJQBPQ8/fdhTywJrD3zPoXcB0zOUMlaOcIhrzX3qU0QKtjFpQWJiiUv/x%0AKKnS3c/ecsVJxiOHbmjX3G4UK59IxqVVlgciQ5LzyEJBy3c99FyOK5+oTNNg5/KYIa6ISAGNTErr%0ATJWWhN+XIpck65FFqYzjpf73RcZvmAVslFE6d2XJz6OiYO1wQDuikU80WOMFTEv9xoNhzB54jmL6%0AUkT7KyuSc4XoI9CuXF+h/ZnLY4Zy4U599DMZG+XJRjJ9XGGJQojuUOURKJRY2gqA5+01hJgYAsqc%0AU0TBCpGch1IJlX0zYnjR+XBFVzoerFAq5zc8pYooUkKRzxIAIIIAmXS6ojW3xjpR5V3XdeN3K+jI%0AqXi+yFDlEkT+aQCAFAI7d+yo9GUY0zDG0NPdg+7uXgmM8VyR0rD7fSVa+DoQGy/d3d3o7OikuTzM%0A7N69R7cbKRBAB6DEFdEbIhBhIPSVALIVsUWqpyeNJ/79xHB0KSRCGGN4/rnn0NLcEr/bh84hinJL%0AhqKwZfS85vAGQIevPvrII8ikM7RIDROcc7z22mvxPLGIbehdCWMoFigJHQSRrw+0c8cOPPfssyTj%0AYURKiaeffKrUqExDp1iU1ox7wyshoPyOCNCKaF10pxAB/vSHP+DVV17ts6sise9wzrF923b89s67%0A4HlFg3cXdNHDLHrXmtofFHRU1rPxO5956mk89uhjg0pCJgZGVN/sjttuR0tzc/yhNICXw3+j3W88%0AYXlfiebyBugxBED3rvrNnXdh967dJOdhwDAMvLT2Jfz5j38szU3aCm1wRHM5attBOyLo7OtSooZb%0AEwCcglBZtba2Ys/u3Vhx+OH5JDJi/4iyzFtb23Dtt67BvffcU3p+8A8AD0DnHfSg9wDe57eGVmgM%0AwDkAHADIZjN47dVXseSwwzB5ypRKX54xAWO6qrbv+7j9ttvxk5t/lO8CHLIWwG+gQ3p7oBeq+K5o%0Av94+fM35AA6P7ty+bRs8z8OKFSvyib/E/hHN5R3bd+DKK75R2rJDAPgDdGWMbhTP5cr2nxghsH7u%0AnwfgtwCWRHdyxnHSKSfj45/4byxbtgxV1VW6Ui07gG0qRz0MUAq+HyCbzWDNi2vw85/8FPf87e7S%0AemM7AXwRuoBpF/QAHspFigOoBfATABfFH1iwcBE+fdn/wwknnoC6+jrYtq1LJJGMB4UIBFzXw+bX%0AX8evb70Nd91xJ9rb2+J/kgXwHQB/hDY2ulHIKxkqRQQAxwC4E8C06AHLsnD2Oefg0v/6T8xfsACp%0AVBKmaVJM0qCI5rKPnu4ePP/c8/jh9T/Avx9/vHQ3tB661NIr0HN5KI3KMUF/iogBeC+A6wHUxR9s%0AaGjAshUrMHPWLNTX19EWf5AopdDV2YVtW7fh2WeeRnOxqwbQC9EPAfwfCgtU5LYZqmCFSPZHh+8z%0AJ/5gKlWFxUsOxfz589E0rkkvUsQgUEinM9izpxnPPfMMNr/+erlouT8DuAY60bEHvbtwDgUMOk3j%0AMgBfA1BUjXfixIlYtmIFps+YjtraGpAmGhxSSnR2dOLVV1/FqpUr47XlIroBfAta1vHd0FAZG2Me%0ABiAF4HJoLa7odkBuHoBbABwBYAaA8QCqoRcQjqFdKaJF6l3QO7BKf/c30u1RAGcAmAntBq+BdpEa%0AwyBjBmAcgB9DW+GV/u5vlFsa2pBfAr0bbYIuJG1hDHfH3hf6izxg0JbZSmhNvgR6shDDRye0EroJ%0AhT71pdaTGuL3VNCug00AFiCsxk0MGx6AuwFcDR2kEA9EiYf0DiVRy+mnwp8PAZCo9IUY4+wCcAP0%0AfG5DYS4PlWt9TLG3ELioz83z4a0GeqFKVvqDjzG6oDsxfgfA7dDVd7Po3fRsOAYvg178Xoa20gFg%0AMrSsyU8zdOSgKyv/EMCN0JW0o7D8A9F5k0Evhv+GjohtgN6JOZW+MGOMNugAo6sB/AV6bo/5xnb7%0Ay0AWmvjf1AFYAd3LZiG0UqpDYfs/UmDQW2EFHTZZ+l1MaJeXFf4Ng14QusLHovujwRKVay/deu8P%0A3dCRUq9CR9NE5d9LS/ocqBDP6NokoWV7CoDFAKYAaMTQuwX3FwWgHsAkABuhFXb8u0TuqCQKMo6S%0ACgHt6oxf1wBa+Q+ljKM2Dpuhg06egnaBlpZrOlCLU1x+4wAcBT2XDw5/rynzdyOBVHiNcujdQ82G%0AnssGCnLOQrvFrNj90bUtFySwP9ddQY+pZhQq5a8J75MoljWFa/fBYAZc/G85tK8zieE5u9gfFPSk%0AugVaeXwEejGImv6ZAGYDuCT8DtF3WwXthpwB7baIqkt40MqiFeUz3/d1UAUo9CKJV1cuLfN/IAdt%0A6SRPQi8CCYwsGUdcBuB9AD4G4DFo2UZN4eoBvB/AVOhryKHzOB6CXrgaUNyAbgu00RJZrkOR+S7C%0A18ug0MYhej2JyvWZicvRgD6DTEIv3CPNqASAT0DL7ncojMNoPi8B8A4U1818EtrVPCv8u2jHmYXe%0A+XeiuGzW/s6zqFdYFuXnMimgvTCYUKjoIkaunJ7wxmL3jwQEdM7E7PDnKdCN46zw+9rQPnKgUD0i%0AgHZXRDufHhSspj3QZyhR6PRQlWCJX6+4ZTZU1vi+EJexCr9zFiNPxgparsdBW/HHQC9SQGGBaoBW%0AoOnY86Lw2XHQhkXUZqETBSu2nCLaH0pzGyot4+gzRJ9NoND/aCTK+SAAp0IbCT+FHo+RjC0AJ6LQ%0AbC7Km3olfDxqlxLN2S3QRmW56gZDMZdL53Hpz0Qf7EtMbvwCl06ySg9gBb34nA9tySP8+R8oLCw2%0AdKhy9NkZdN21DmhXo0JB0bjQEyBSQkN9oKz28nslr2P070iTMaCv/4kAFoW/vwn6YPg16DEd7XoT%0A4d9yaFnuhFZCBrSLJipCuQMFJRQZG0O5G1V9/FxpRoOcT4CW8xQAh0KfcUVn2w3QUYfRYs9QMDCm%0Ao9jF3QNdLitSQkN99jpS5/KoYH+TQ0bixV8IbUFFnAmteF4Kv28jCu4aQA/eXdCLVhWKD46j5lUB%0AyldGfiMwEmWcAvB2FHJiZgM4HdraBbQs56HY2GiDluEEFPvsu6DlH6B4J/RGSzQcqXJ+G/TOZxyA%0A86DP2SImQxuPEgVZ74A+t7ahjY3ozHUXtKzjVezJZTZCGGux7BzA2dAH2BEHAXhL+BiH9hvXxR73%0AoRXOOBR2Qwp6EO9AQTENRWl+YmhYCm0pRxgALoQ2MiK33WQUW/p7oOVuoLgp2U7oHS8dKI88DkNB%0AzgzAuSgEIXHo0kWJ2OM56CCgRhTkG+Xz7ETBRUdyHmGMNUU0AcBbS76XAeACaOVkQ1vK0U6QoXCG%0AkETxAG2GPjuQsfup/Hjl4dCW8biS+4+AjgJj0DukeASYDy3nOhQbFR3QCooWp5EHh94NjY/dNxfA%0AaeHPNdCejih4gUHPVwt6npcaG2mQnEcsY00RnQodclzKEmjLqhbapxwRDd4UiqPUstC7odIeQDR4%0AK890aMu4lBrohasGOhw5GtuRsRFls0dKKDobyoJkPBKZBn32F8eGrotYD+2SOwjFsuqGjgCM74a6%0AoJPD42HUJOMRxlgqIJaE3vmUyxhPQVvRndCDOO6y8aF3TS4Ku55d0IO6r37yROU4HVrRlOM0AMdD%0AL1BxctBjPR7x2Aadx1XaspnkPDI4E9r1VspRAI6ENiyigKQoR0ygEK4d5fDshI6Opd3QCGYsKaLD%0AoCOp+uI0aMvICn+PQlejCKlokKZROLyOu+Ro8FaeauhdT1/jdjqA90DLMDI2ItdcaTTkDhQi5+Il%0AV0jGlSfa3VplHquH3hW9huIk1riiiW4d0K5X2vGOcMaKa86APhsa38/fjEexouLQAzSynuL+5B70%0AznonKs9RAI7t53EDWsZRojKHll20240WoxboMN/SxYvkPDJYAV0Vvi/OhXa3R0rIQLEbPTIwt6N3%0AIArJeQQyVhTRFOjIuP5yHxj0+VAKharT8d4vEtodF/mTS0O1afBWFgM6J6xuL3/XhELhVhOF0j3R%0AIlQuGpIs5ZGDicI5UF+Mgw5cAApzOY3iHL/I9Voark2MQMaKIjoTunK0glYk8RaYAjoCTkIP7snh%0A97aht+7RAhVAL1BRdA1ZTyOL2SgcXndAK5eISO7RWdD08F8H+lwwvhBFuWF0LjQymQk9n/sjqiUZ%0Atc3gKNR2i1yvUfJqqaFBsh6BjAVFVAttQbVCNxn7EorLumQAXAedke1BD+BqFEr5RIM3KlxIu6GR%0AydnQRsQfAPwngA0lj98R3jqgw/jHoRAVGck4A4qGHOmcBW10KOgdTXwX40EbEYDe+Y6HDk7KoHjX%0A2wq9IyotOEqMUMaCIpoHnVF/EYCvQC9QpXXcXABroSvj5qAXqQ4ULKbIn0zRNSOTGuhqGJ8A8B/Q%0AJZtEmb/bBd3KYhO00oqqMEfnQ7uh5T5URU2JoaURwMXQAQbXALgSxVXV2wH8Grr2o4JOTq9GQelI%0AaJlHu6FIzmRQjnDGQtTcBuh+8NEuqFS5MugBm0LBfVONQuiuhB7g8d0QLVAjCw/AN1GwhqtKHo+q%0AKXSHt/XQ50RRWZ+oSG98N0Su15HHIdAFS78IXUH77JLHo/Og56Hn8uzw9w4UjI0WFMpyxeVMjGDG%0AgiLq2MvjFrQ1nYH2Jyeg3TXdKLR52AatoMhdMzJxw1tfMGh3nA9tiCRR6AUUnf/tRqHWGMl4ZPIS%0AgE+iUBW/1Kh0oOWchZYng1Y8USuV+G5oqNq1EAeAseCa2xsGCt1Go/5JbSgURIz8yWQpj14Y9Flh%0A1CgtBW1oRGeAXSjshoaqjQcx9LSioITKEcmWQe+KoxqCkUwj1yvJeJTxRlBEQCHXoAp6gEadUHPo%0AvRuiEiCjkyh6qir8N25cRLlh8aKXJOPRR5SgHFVViIIXosKmO1B8NkS7oVHCG0kRpaAtqgwKkVTx%0ANg9kQY1+bGjXq4+CW64T2lJ+o7bxGGtEuyETeqcbpVuUtnmguTyKGAtnRKWUS2o1UNjSt6HQeTSy%0AoOJuOVqkRifRbshA4Qww2g2lQWcGYwEFbWxEpX+iXW83tCKKGt6RnEcZb4QdUbQbslBwywXQvuV4%0A73qKrhk9lDM2ot0QoHe5LvR5QTMKMiZLeXTByvyegjagXRTCtneh4HqlXe8oZCwqonKD1wn/zUIv%0AThloS5ki5cYONgr1A1uhreOoUkZpi3eS8eiEo7AbSkMrn6gsV7lIOWKU8EZQRHE6oAfwbhR2Q/HB%0AS4wOokPr0vsALd9u6F1RCwruGtoNjT5YP/e1QhuWUSBKZGzQbmgU8kZSRFGodhf0Vp5yDUYvezM2%0AulDoQ0ML1OilLzn70IZGB7SLnYyNUc4bRRExaMXTikLTu9LBS4x+4i0eIvccLVCjm3I73wz0+dAu%0AFFyvJOdRzFhURH3RAT1wd0GfDVGk3OilL2MjA+12jfrQxKOoSMajj752RG3Qcm6GNjBLzwCJUcYb%0ARRFFbQI2Q7ttSt1yxNigHVrGrdDGRpTcSAvU6KRUZlFL8B3Qcu5BQRGRsTGKGYuKqNxAdKGLKW6D%0AtpQjRUS7odFJOXlJ6Krbm6AXqGjXS1FUo5tSuWWgi9ruCn8mo3IMMBYTWkuJCiOuQiG/hLbyo5ty%0AMktDyzgKRIkrIpLx6KTcjmgLgBeho16jYrg0l0c5Y1ERlRuMa6B7FkVnBmRBjW7K7WK3QrcHiCoq%0AkLEx+lFlfn8BWtZRHzGay2OAsaiISgekC2AldLACQ6FvCS1QY4vIXaNAMh4rlMquB9qo7II+VqB2%0A72OEsaiISgdkVM7Hgx680UJFA3f0Uk52zdDuOIbijpwk57FDVLYpPpej+UyMYsaiIipHqfKhxWns%0AoaCtYxb7nRh7lPYLIzmPAd5Iiij+LzH2IBm/MSA5j0HGYvg2QRAEMYogRUQQBEFUFFJEBEEQREUh%0ARUQQBEFUFFJEBEEQREUhRUQQBEFUFFJEBEEQREUhRUQQBEFUFFJEBEEQREUhRUQQBEFUFFJEBEEQ%0AREUhRUQQBEFUFFJEBEEQREUhRUQQBEFUFFJEBEEQREUhRUQQBEFUFFJEBEEQREUhRUQQBEFUFFJE%0ABEEQREUhRUQQBEFUFFJEBEEQREUhRUQQBEFUFFJEBEEQREUhRUQQBEFUFFJEBEEQREUhRUQQBEFU%0AFFJEBEEQREUhRUQQBEFUFFJEBEEQREUhRUQQBEFUFFJEBEEQREUhRUQQBEFUFFJEBEEQREUhRUQQ%0ABEFUFFJEBEEQREUhRUQQBEFUFFJEBEEQREUhRUQQBEFUFFJEBEEQREUhRUQQBEFUFFJEBEEQREUh%0ARUQQBEFUFFJEBEEQREUhRUQQBEFUFFJEBEEQREUhRUQQBEFUFFJEBEEQREUhRUQQBEFUFFJEBEEQ%0AREUhRUQQBEFUFFJEBEEQREUhRUQQBEFUFFJEBEEQREUhRUQQBEFUFFJEBEEQREUhRUQQBEFUFFJE%0ABEEQREUhRUQQBEFUFFJEBEEQREUZi4qIlXwvo9IfiBgW+F5+J0Y/DMXzl2Q8RjEr/QGGgS4AzwKo%0ADX9Ph/cRYwcfwIsAPAAqvO2o9Icihpx2AE8DsMPfW6HnMzHGYJX+AMOABaAGBetJQSsiv9IfjBgy%0AOLShETek0gCylf5gxJBiQ8/laJ2S0HM5qPQHIwiCIAiCIAiCIAiCIAiCIAiCIAiCIAiCIAiCIAiC%0AIAiCIAiCIAiCIAiCIAhiFDFaKys0AKiCzqZv34fnmwDGQ2fotwBwK/2FiD6pg86u78LgSzWNA5CA%0Arq7RDF0SiBj5OACmA1gEYAG0DAGgDcBaAC8B2ANdaYEgKgID8BEAWwDcgUJNucFwIoB1AJ4EMLfS%0AX4jol8sBbAXwmUE8hwF4E3TNwc0ArgHQWOkvQuwVA8DxAG6BllsWhVqC0a0LwGoAV4LmLlFhlgLY%0ACW0hHT/I5xoAvg09qG9DwdoiRiZXQ8vq6wP8ew7g7dALWQDgJgATK/0liL1SA+DzALahsIN9AMB1%0AAP43vP0EwFMAMuHfPAfgXIxezw4xyklA74YUgKswuPLwE6EHsAvg4kp/EWKvfBNazlcM4G9NAB+A%0ArsSdhVZidZX+AsReqQJwLbTrNA3glwCORm9vhwntbr0AwEPQ42I7gAtByoioEJcAyEFbSBMG8by3%0AQltUKwFMqfSXIPbKQBWRDeAT0LvkTgBfAJCq9Icn9goH8DFoBdQK4L8xMLlNBfAr6HOiVwGsqPQX%0AId6YTAOwBnoAnzPA55gAboZe2K4BNdoaDQxEEVUD+DKAHujgk4+j0MOGGNksBPAKdJuWr0C3cRko%0AEwHcDT0+7oQeBwRxQDEBXA89CH+MgS08c6Ctpy4Ap1T6CxADYm+KqAHAd6BdcdsBvA9kYIwWGLRc%0AFYBHMDjPRsTJAHYD6ABweqW/EPHG5M0AugGsBzB7AH//IWg/9EOgKKrRQn+KaDy0ERIAeB367ICU%0A0OhhMvR5rQfgw/v4Gg500JGCPmci+Y9CRrvQngbwAoBZ0CHZ/ZGEDuk1obfz+5J/RIwcpkLviD8M%0A7dr5GIA/gXJLRhPzofOEtgF4eB9fwwVwDwAB4AQA9ZX+UsTgGe2KqA16EJoAzoZWNn1xMIDjAOwC%0A8HdoC4oYncwF8AMA74Q2RD4I4H6QTEcbh0AHJrwCnSu2r6yGds0dFN6IUcZoV0QKwH3QPuITAMzr%0A529PgT7cfBR64BOjk0MB/BTaDcegFzCS5+gkUhqvQQcr7Ctt0OOgDpQzNioZ7YoI0OdD/4Y+6Dwd%0A5fMJaqEj6ySAv0AfbBOjj6MA/BzaDfsIdL7QWwB8CvqsgBhdRDlePdg/l2qUf5TEvlVaISrMWFBE%0AGQB/hT6wPgflfcTLARwOrbQeqfQHJvaJ4wH8DDpf5BfQeWRfhz4j+ASAizA2xjNBvOEYKxP3IQAb%0AoZXNkpLHDABnQFtfD0Bb0cTo4xTow+0boUvBbIdOaPwJtBV8JfYesEKMLDrDf6uxf2uRDV2dIYvB%0AF8YlRgBjRRFtgw5AqAFwVsn3Gg8dLdcDHS0nKv1hiX0iDZ0v9GXoDHxAV9b4DvSOeAZ0kjIVwhw9%0AbA//nYvBJbKWMgE6wb0Tuio3QVSMKKfoOej8hIjzoN13D0EnPxKjiyiP6BfoOypyMXTJpijDvqnS%0AH5oYECdDGxgb0X+g0d54H7SB+Tx0LTpilDFWdkRAIadoEfShNqDDut8MXST1b9AhnsToZAv6DjJZ%0AA+BL0KH5FwL4f6DghdHAK9CVTqYCOGkAf2+gd7V8B8CZ0GvZ46D8wFHJWFJEbdCh3A50TpEJPcBP%0AA+UOjQX2Vl35fujqCzkA/wOdYzSWxvdYZBe0gWhB72r6C702ALwXuq3Hotj9x0KfAXdCR8SS652o%0AOEdB+4g3QJf8eQ90aOed6D/ZlRi5DKYNRAq6f42E3kFRPcGRz0LoXVFU9NTs4++S0G09stAJrBdA%0Au/P+BSp6SowwqlEI5f4U9OD0Aby70h+M2GcGo4gAYBJ0qR8F3SJkf84eiOGHA/gk9E62Bf23gagG%0A8FHoM6U90K54Ae3iO6LSX4Qg4nwUehe0GrrL4xpoFx0xOhmsIgJ06ZhV4fPuAh1gj3RqAHwXA2uM%0ANwXA96F3vQo6GvaDlf4CBFHKXOiSIVGP++ug/cvE6GSwrcIjzoY+gxAAvgVyzY50aqCbGe5A363C%0Afw69C8pAK6IW6J3Un6AjJwlixGBCW1dboSspnFzpD0TsF5dDy/Izg3yeAeBSaDfOSwDOrfQXIfaK%0AAV0z8hYAm6HPg1TJrRtant+APhO+FjqJdQ2Ai7F/+UhEhRirfd5rw5uE9iUHlf5AxD5TB20td2Hw%0AWfMWdEKzAe3CodDe0YEDYDp0dNwCFEK2O6EVzjoAO6HndwI6QvKr0LulD4HkTBAEQVSAFdBngwRB%0AEARBEARBEARBEARBEARBEARBEARBEARBEARBEARBEARBEARBEARBEARBEARBEARBEARBEARBEARB%0AEARBEARBEARBEARBEARBEARBEARBEARBEARBEARBEARBEARBEARBEARBEARBEARBEARBEARBEARB%0AEARBEARBEARBEARBEARBEARBEARBEARBEARBEARBEARBEARBEARBEARBEARBEARBEARBEARBEARB%0AEARBEARBEARBEARBEARBEARBEARBEARBEARBEARBEARBEARBEARBEARBEARBEARBEARBEARBEARB%0AEARBEARBEARBEARBEARBEARBEARBEARBEARBEARBEARBEARBEARBEARBEARBEARBEARBEARBEARB%0AEARBEARBEARBEARBEARBEARBEARBEARBEARBEARBEARBEARBEARBEARBEARBEARBEARBEARBEARB%0AEARBEARBEARBEARBEARBEARBEARBEARBEARBEARBEARBEARBEARBEARBEARBEARBEARBEARBEARB%0AEARBEARBEARBEARBEARBEARBEARBEARBEARBEARBEARBEARBEARBEARBEARBEARBEARBEARBEARB%0AEARBEARBEARBEARBEARBEARBEARBEARBEARBEARBEARBEARBEARB9Mv/Bz6brE8CEbLeAAAAJXRF%0AWHRkYXRlOmNyZWF0ZQAyMDE4LTA0LTAyVDAwOjAzOjMwLTA0OjAwkXGZ5AAAACV0RVh0ZGF0ZTpt%0Ab2RpZnkAMjAxOC0wNC0wMlQwMDowMzozMC0wNDowMOAsIVgAAAAZdEVYdFNvZnR3YXJlAEFkb2Jl%0AIEltYWdlUmVhZHlxyWU8AAAAAElFTkSuQmCC\" alt=\"Red dot\" /> </div>"
   ]
  },
  {
   "cell_type": "markdown",
   "id": "21d0fba7",
   "metadata": {},
   "source": [
    "$$                                                                         \n",
    "   \\mathrm{Attention}(Q, K, V) = \\mathrm{softmax}(\\frac{QK^T}{\\sqrt{d_k}})V               \n",
    "$$   "
   ]
  },
  {
   "cell_type": "markdown",
   "id": "bd7b154a",
   "metadata": {},
   "source": [
    "<div> <img style=\"height:250px\" src=\"data:image/png;base64,iVBORw0KGgoAAAANSUhEUgAAAHAAAADdCAYAAABjYvZ7AAAABGdBTUEAALGPC/xhBQAAACBjSFJN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%0ASUVORK5CYII=\" alt=\"Red dot\" /> </div>"
   ]
  },
  {
   "cell_type": "code",
   "execution_count": 10,
   "id": "3653ec51",
   "metadata": {
    "ExecuteTime": {
     "end_time": "2022-03-30T14:23:11.442356Z",
     "start_time": "2022-03-30T14:23:11.398683Z"
    }
   },
   "outputs": [],
   "source": [
    "h = 8\n",
    "N = 6 \n",
    "\n",
    "class MultiHeadAttention(nn.Module):\n",
    "    def __init__(self, h, embedding_dim, dropout_rate = 0.1):\n",
    "        super().__init__()\n",
    "        \n",
    "        self.h             = h\n",
    "        self.d_k           = embedding_dim // h\n",
    "        self.embedding_dim = embedding_dim\n",
    "        \n",
    "        self.Q_linear = nn.Linear (embedding_dim, embedding_dim)\n",
    "        self.V_linear = nn.Linear (embedding_dim, embedding_dim)\n",
    "        self.K_linear = nn.Linear (embedding_dim, embedding_dim)\n",
    "        self.dropout  = nn.Dropout(dropout_rate)\n",
    "        self.out      = nn.Linear (embedding_dim, embedding_dim)\n",
    "    \n",
    "    def forward(self, Q, K, V, mask=None): \n",
    "        batch_size = Q.size(0)\n",
    "        \n",
    "        # perform linear operation and split into h heads\n",
    "        # (batch_size, embedding_dim) -> (batch_size, h, -1, embedding_dim // h)\n",
    "        K = self.K_linear(K).reshape(batch_size, -1, self.h, self.d_k).transpose(1,2)\n",
    "        Q = self.Q_linear(Q).reshape(batch_size, -1, self.h, self.d_k).transpose(1,2)\n",
    "        V = self.V_linear(V).reshape(batch_size, -1, self.h, self.d_k).transpose(1,2) \n",
    "        \n",
    "        # calculate attention score\n",
    "        scores = torch.matmul(Q, K.transpose(-2, -1)) /  math.sqrt(self.d_k)\n",
    "        \n",
    "        if mask is not None:\n",
    "            mask   = mask.unsqueeze(1)\n",
    "            scores = scores.masked_fill(mask == 0, -1e9)\n",
    "            \n",
    "        pdb.set_trace()      \n",
    "        scores = nn.functional.softmax(scores, dim=-1) \n",
    "        scores = self.dropout(scores)\n",
    "        scores = torch.matmul(scores, V)  \n",
    "        \n",
    "        # concatenate heads and put through final linear layer\n",
    "        concat = scores.transpose(1,2).reshape(batch_size, -1, self.embedding_dim)  \n",
    "        output = self.out(concat)\n",
    "    \n",
    "        return output"
   ]
  },
  {
   "cell_type": "code",
   "execution_count": 12,
   "id": "6d37dcbf",
   "metadata": {
    "ExecuteTime": {
     "end_time": "2022-03-30T14:23:16.379931Z",
     "start_time": "2022-03-30T14:23:16.370831Z"
    }
   },
   "outputs": [],
   "source": [
    "mha = MultiHeadAttention(h, embedding_dim) "
   ]
  },
  {
   "cell_type": "code",
   "execution_count": 13,
   "id": "c194af8c",
   "metadata": {
    "ExecuteTime": {
     "end_time": "2022-03-30T14:23:38.190506Z",
     "start_time": "2022-03-30T14:23:16.572705Z"
    },
    "scrolled": true
   },
   "outputs": [
    {
     "name": "stdout",
     "output_type": "stream",
     "text": [
      "> \u001b[0;32m/tmp/ipykernel_406703/2144835108.py\u001b[0m(35)\u001b[0;36mforward\u001b[0;34m()\u001b[0m\n",
      "\u001b[0;32m     33 \u001b[0;31m\u001b[0;34m\u001b[0m\u001b[0m\n",
      "\u001b[0m\u001b[0;32m     34 \u001b[0;31m        \u001b[0mpdb\u001b[0m\u001b[0;34m.\u001b[0m\u001b[0mset_trace\u001b[0m\u001b[0;34m(\u001b[0m\u001b[0;34m)\u001b[0m\u001b[0;34m\u001b[0m\u001b[0;34m\u001b[0m\u001b[0m\n",
      "\u001b[0m\u001b[0;32m---> 35 \u001b[0;31m        \u001b[0mscores\u001b[0m \u001b[0;34m=\u001b[0m \u001b[0mnn\u001b[0m\u001b[0;34m.\u001b[0m\u001b[0mfunctional\u001b[0m\u001b[0;34m.\u001b[0m\u001b[0msoftmax\u001b[0m\u001b[0;34m(\u001b[0m\u001b[0mscores\u001b[0m\u001b[0;34m,\u001b[0m \u001b[0mdim\u001b[0m\u001b[0;34m=\u001b[0m\u001b[0;34m-\u001b[0m\u001b[0;36m1\u001b[0m\u001b[0;34m)\u001b[0m\u001b[0;34m\u001b[0m\u001b[0;34m\u001b[0m\u001b[0m\n",
      "\u001b[0m\u001b[0;32m     36 \u001b[0;31m        \u001b[0mscores\u001b[0m \u001b[0;34m=\u001b[0m \u001b[0mself\u001b[0m\u001b[0;34m.\u001b[0m\u001b[0mdropout\u001b[0m\u001b[0;34m(\u001b[0m\u001b[0mscores\u001b[0m\u001b[0;34m)\u001b[0m\u001b[0;34m\u001b[0m\u001b[0;34m\u001b[0m\u001b[0m\n",
      "\u001b[0m\u001b[0;32m     37 \u001b[0;31m        \u001b[0mscores\u001b[0m \u001b[0;34m=\u001b[0m \u001b[0mtorch\u001b[0m\u001b[0;34m.\u001b[0m\u001b[0mmatmul\u001b[0m\u001b[0;34m(\u001b[0m\u001b[0mscores\u001b[0m\u001b[0;34m,\u001b[0m \u001b[0mV\u001b[0m\u001b[0;34m)\u001b[0m\u001b[0;34m\u001b[0m\u001b[0;34m\u001b[0m\u001b[0m\n",
      "\u001b[0m\n",
      "ipdb> Q.shape\n",
      "torch.Size([34, 8, 8, 64])\n",
      "ipdb> K.shape\n",
      "torch.Size([34, 8, 8, 64])\n",
      "--KeyboardInterrupt--\n",
      "\n",
      "KeyboardInterrupt: Interrupted by user\n"
     ]
    }
   ],
   "source": [
    "_ = mha(input_after_embedding,input_after_embedding,input_after_embedding)"
   ]
  },
  {
   "cell_type": "markdown",
   "id": "f316cb22",
   "metadata": {},
   "source": [
    "5.  Residual Connection (Add) and Normalization\n",
    "6.  Feed Forward\n",
    "7.  Residual Connection (Add) and Normalization "
   ]
  },
  {
   "cell_type": "code",
   "execution_count": 20,
   "id": "2ae761d6",
   "metadata": {
    "ExecuteTime": {
     "end_time": "2022-03-30T13:25:27.989207Z",
     "start_time": "2022-03-30T13:25:27.986591Z"
    }
   },
   "outputs": [],
   "source": [
    "torch.save(torch.tensor([1]), 'test.pt')"
   ]
  },
  {
   "cell_type": "code",
   "execution_count": null,
   "id": "123f87e9",
   "metadata": {
    "code_folding": [
     0
    ]
   },
   "outputs": [],
   "source": [
    "class FeedForward(nn.Module):\n",
    "    def __init__(self, embedding_dim, feedforward_dim=2048, dropout_rate = 0.1):\n",
    "        super().__init__() \n",
    "        # We set feedforward_dim as a default to 2048\n",
    "        self.linear_1 = nn.Linear(embedding_dim, feedforward_dim)\n",
    "        self.dropout  = nn.Dropout(dropout_rate)\n",
    "        self.linear_2 = nn.Linear(feedforward_dim, embedding_dim)\n",
    "        \n",
    "    def forward(self, x):\n",
    "        x = self.linear_1(x)\n",
    "        x = F.relu(x)\n",
    "        x = self.dropout(x)\n",
    "        x = self.linear_2(x)\n",
    "        return x"
   ]
  },
  {
   "cell_type": "code",
   "execution_count": null,
   "id": "26170748",
   "metadata": {
    "code_folding": [
     1
    ]
   },
   "outputs": [],
   "source": [
    "# build an encoder layer with one multi-head attention layer and one # feed-forward layer\n",
    "class EncoderLayer(nn.Module):\n",
    "    def __init__(self, h, embedding_dim, dropout_rate = 0.1):\n",
    "        super().__init__()\n",
    "        self.norm_1    = nn.BatchNorm1d(embedding_dim, eps = 1e-6)\n",
    "        self.norm_2    = nn.BatchNorm1d(embedding_dim, eps = 1e-6)\n",
    "        self.attn      = MultiHeadAttention(h, embedding_dim)\n",
    "        self.ff        = FeedForward(embedding_dim)\n",
    "        self.dropout_1 = nn.Dropout(dropout_rate)\n",
    "        self.dropout_2 = nn.Dropout(dropout_rate)\n",
    "        \n",
    "    def forward1(self, x, mask):  \n",
    "        y = self.norm_1(x) \n",
    "        y = self.attn(y, y, y, mask)\n",
    "        x = x + self.dropout_1(y)\n",
    "        y = self.norm_2(x)\n",
    "        y = self.ff(y)\n",
    "        x = x + self.dropout_2(y)\n",
    "        \n",
    "        return x   \n",
    "    \n",
    "    def forward(self, x, mask):   \n",
    "        x = x + self.attn(x, x, x, mask)\n",
    "        x = self.norm_1(x)   \n",
    "        x = x + self.ff(x)\n",
    "        x = self.norm_2(x)\n",
    "        \n",
    "        return x   "
   ]
  },
  {
   "cell_type": "code",
   "execution_count": null,
   "id": "70bf89a8",
   "metadata": {
    "code_folding": [
     0,
     1
    ]
   },
   "outputs": [],
   "source": [
    "class Encoder(nn.Module):\n",
    "    def __init__(self, vocab_size_src, embedding_dim, N, h):\n",
    "        super().__init__()\n",
    "        self.N = N\n",
    "        self.embedder   = Embedder(vocab_size_src, embedding_dim)\n",
    "        self.posEncoder = PositionalEncoder(embedding_dim) \n",
    "        self.layers     = nn.ModuleList([ copy.deepcopy(EncoderLayer(embedding_dim, h)) for i in range(N) ])  \n",
    "        self.norm       = nn.BatchNorm1d(embedding_dim, eps = 1e-6)\n",
    "      \n",
    "    def forward1(self, x, mask):\n",
    "        x = self.embedder(x)\n",
    "        x = self.posEncoder(x)\n",
    "        for i in range(N):\n",
    "            x = self.layers[i](x, mask)\n",
    "        return self.norm(x) \n",
    "    \n",
    "    def forward(self, x, mask):\n",
    "        x = self.embedder(x)\n",
    "        x = self.posEncoder(x)\n",
    "        for i in range(N):\n",
    "            x = self.layers[i](x, mask)\n",
    "        return x"
   ]
  },
  {
   "cell_type": "code",
   "execution_count": null,
   "id": "05f2f9c9",
   "metadata": {},
   "outputs": [],
   "source": [
    "8.  Output Batch Generator\n",
    "9.  Output Embedding\n",
    "10. Positional Encoding Tensor Generation "
   ]
  },
  {
   "cell_type": "code",
   "execution_count": null,
   "id": "a4b1ce88",
   "metadata": {
    "ExecuteTime": {
     "end_time": "2022-03-30T10:02:11.374233Z",
     "start_time": "2022-03-30T10:02:10.984771Z"
    }
   },
   "outputs": [],
   "source": [
    "vocab_size_fr  = len(vocab_fr) \n",
    "output_embedder = Embedder(vocab_size_fr, embedding_dim)"
   ]
  },
  {
   "cell_type": "code",
   "execution_count": null,
   "id": "470d6e61",
   "metadata": {
    "ExecuteTime": {
     "end_time": "2022-03-30T10:03:24.665121Z",
     "start_time": "2022-03-30T10:03:24.659648Z"
    }
   },
   "outputs": [],
   "source": [
    "output_after_embedding = output_embedder(output_fr)\n",
    "\n",
    "if 1:\n",
    "    print(output_after_embedding.shape, output_after_embedding.shape, next(output_embedder.parameters()).shape)\n",
    "    # prove each token has a uniq embedding vector\n",
    "    # next(output_embedder.parameters()) is a mapping table between output_fr and output_after_embedding\n",
    "    print(torch.equal(next(output_embedder.parameters())[output_fr[23,4]], output_after_embedding[23,4]) )"
   ]
  },
  {
   "cell_type": "code",
   "execution_count": null,
   "id": "43d73b40",
   "metadata": {
    "ExecuteTime": {
     "end_time": "2022-03-30T12:35:03.437844Z",
     "start_time": "2022-03-30T12:35:03.430456Z"
    }
   },
   "outputs": [],
   "source": [
    "output_after_embedding = output_embedder(output_fr)\n",
    "\n",
    "if 1:\n",
    "    print(output_after_embedding.shape, output_after_embedding.shape, next(output_embedder.parameters()).shape)\n",
    "    # prove each token has a uniq embedding vector\n",
    "    # next(output_embedder.parameters()) is a mapping table between output_fr and output_after_embedding\n",
    "    print(torch.equal(next(output_embedder.parameters())[output_fr[23,4]], output_after_embedding[23,4]) )"
   ]
  },
  {
   "cell_type": "code",
   "execution_count": null,
   "id": "95e4d694",
   "metadata": {},
   "outputs": [],
   "source": [
    "11. Masked Multi-Head Attention\n",
    "12. Residual Connection (Add) and Normalization\n",
    "13. Multi-Head Attention\n",
    "14. Residual Connection (Add) and Normalization\n",
    "15. Feed Forward\n",
    "16. Residual Connection (Add) and Normalization \n",
    "17. Linear Connection\n",
    "18. Loss Calculation\n",
    "19. Training"
   ]
  },
  {
   "cell_type": "markdown",
   "id": "b2f2a7a4",
   "metadata": {
    "ExecuteTime": {
     "end_time": "2022-03-25T11:18:04.113301Z",
     "start_time": "2022-03-25T11:18:04.108388Z"
    }
   },
   "source": [
    "### Masking"
   ]
  },
  {
   "cell_type": "markdown",
   "id": "a56b1720",
   "metadata": {},
   "source": [
    "In the encoder and decoder: To zero attention outputs wherever there is just padding in the input sentences.\n",
    "In the decoder: To prevent the decoder ‘peaking’ ahead at the rest of the translated sentence when predicting the next word."
   ]
  },
  {
   "cell_type": "code",
   "execution_count": null,
   "id": "609b748a",
   "metadata": {
    "ExecuteTime": {
     "end_time": "2022-03-30T11:36:00.179823Z",
     "start_time": "2022-03-30T11:36:00.173711Z"
    }
   },
   "outputs": [],
   "source": [
    "input_en"
   ]
  },
  {
   "cell_type": "code",
   "execution_count": null,
   "id": "6c749a91",
   "metadata": {
    "ExecuteTime": {
     "end_time": "2022-03-30T11:37:23.118674Z",
     "start_time": "2022-03-30T11:37:23.107753Z"
    }
   },
   "outputs": [],
   "source": [
    "(input_en.T != vocab_en['<PAD>']).unsqueeze(1)"
   ]
  },
  {
   "cell_type": "code",
   "execution_count": 22,
   "id": "8d95c9c9",
   "metadata": {
    "ExecuteTime": {
     "end_time": "2022-03-30T13:29:08.737190Z",
     "start_time": "2022-03-30T13:29:08.244728Z"
    }
   },
   "outputs": [],
   "source": [
    "\n",
    "\n",
    "\n",
    "\n",
    "\n",
    "\n",
    "\n",
    "\n",
    "import matplotlib.pyplot as plt"
   ]
  },
  {
   "cell_type": "code",
   "execution_count": null,
   "id": "a2eebb1c",
   "metadata": {},
   "outputs": [],
   "source": [
    "class Batch:\n",
    "    \"Object for holding a batch of data with mask during training.\"\n",
    "    def __init__(self, src, trg=None, pad=0):\n",
    "        self.src = src\n",
    "        self.src_mask = (src != pad).unsqueeze(-2)\n",
    "        if trg is not None:\n",
    "            self.trg = trg[:, :-1]\n",
    "            self.trg_mask = self.make_std_mask(self.trg, pad)\n",
    "            self.trg_y = trg[:, 1:]\n",
    "            self.ntokens = (self.trg_y != pad).data.sum()\n",
    "    \n",
    "    @staticmethod\n",
    "    def make_std_mask(tgt, pad):\n",
    "        \"Create a mask to hide padding and future words.\"\n",
    "        tgt_mask = (tgt != pad).unsqueeze(-2)\n",
    "        tgt_mask = tgt_mask & Variable(\n",
    "            subsequent_mask(tgt.size(-1)).type_as(tgt_mask.data))\n",
    "        return tgt_mask"
   ]
  },
  {
   "cell_type": "code",
   "execution_count": 30,
   "id": "9845c7b2",
   "metadata": {
    "ExecuteTime": {
     "end_time": "2022-03-30T13:50:32.508266Z",
     "start_time": "2022-03-30T13:50:32.501362Z"
    }
   },
   "outputs": [
    {
     "data": {
      "text/plain": [
       "tensor([[  1,   1,   1,   1,   1,   1,   1,   1],\n",
       "        [  4,  28,  34,  51,  62,  85,  34, 127],\n",
       "        [  5,  29,  35,  52,  63,  30, 108, 128],\n",
       "        [  6,  30,  36,  53,  32,  86, 109, 129],\n",
       "        [  7,  31,  37,  54,  64,  87, 110, 130],\n",
       "        [  8,  32,  38,  55,  65,  88,  30,  69],\n",
       "        [  9,  33,  39,  56,  66,  89, 111,  48],\n",
       "        [ 10,  27,  24,  57,  32,  90,   9, 131],\n",
       "        [ 11,   2,  40,  58,  67,  69, 112,   9],\n",
       "        [ 12,   3,  41,  12,  68,  91,  69, 132],\n",
       "        [ 13,   3,  42,  59,  30,   9, 113, 133],\n",
       "        [ 14,   3,  43,  60,  69,  92,  32,  57],\n",
       "        [ 12,   3,  44,  61,  70,  93, 114, 134],\n",
       "        [ 15,   3,  45,  27,  30,  94, 115, 135],\n",
       "        [ 16,   3,  46,   2,  71,  95,  32,  69],\n",
       "        [ 17,   3,  47,   3,  72,  24, 116, 136],\n",
       "        [ 18,   3,  48,   3,  73,  96, 117, 137],\n",
       "        [ 10,   3,  49,   3,  32,  44,  22,  27],\n",
       "        [  7,   3,  50,   3,  74,  97,  92,   2],\n",
       "        [ 19,   3,  27,   3,  75,  32, 118,   3],\n",
       "        [ 20,   3,   2,   3,  67,  82,  32,   3],\n",
       "        [ 21,   3,   3,   3,  76,  98, 119,   3],\n",
       "        [ 22,   3,   3,   3,  32,  99,  67,   3],\n",
       "        [ 23,   3,   3,   3,  67, 100, 120,   3],\n",
       "        [ 24,   3,   3,   3,  77,  30,  55,   3],\n",
       "        [ 25,   3,   3,   3,  78,  55, 121,   3],\n",
       "        [ 26,   3,   3,   3,  79, 101,   9,   3],\n",
       "        [ 27,   3,   3,   3,  72,  32,  55,   3],\n",
       "        [  2,   3,   3,   3,  80, 102, 122,   3],\n",
       "        [  3,   3,   3,   3,  81,  82, 123,   3],\n",
       "        [  3,   3,   3,   3,  82, 103, 124,   3],\n",
       "        [  3,   3,   3,   3,  83, 104,   9,   3],\n",
       "        [  3,   3,   3,   3,  80, 105, 125,   3],\n",
       "        [  3,   3,   3,   3,  84,  21, 126,   3],\n",
       "        [  3,   3,   3,   3,  27, 106,  27,   3],\n",
       "        [  3,   3,   3,   3,   2, 107,   2,   3],\n",
       "        [  3,   3,   3,   3,   3,  27,   3,   3],\n",
       "        [  3,   3,   3,   3,   3,   2,   3,   3]])"
      ]
     },
     "execution_count": 30,
     "metadata": {},
     "output_type": "execute_result"
    }
   ],
   "source": [
    "output_fr"
   ]
  },
  {
   "cell_type": "code",
   "execution_count": 23,
   "id": "3b82ce55",
   "metadata": {
    "ExecuteTime": {
     "end_time": "2022-03-30T13:29:22.256066Z",
     "start_time": "2022-03-30T13:29:22.250844Z"
    }
   },
   "outputs": [],
   "source": [
    "\n",
    "nopeak_mask = lambda size: torch.triu(torch.ones(1, size, size, dtype=int), diagonal=1) == 0"
   ]
  },
  {
   "cell_type": "code",
   "execution_count": 25,
   "id": "cf82407e",
   "metadata": {
    "ExecuteTime": {
     "end_time": "2022-03-30T13:41:40.060693Z",
     "start_time": "2022-03-30T13:41:40.054970Z"
    }
   },
   "outputs": [
    {
     "data": {
      "text/plain": [
       "torch.Size([34, 8, 8, 8])"
      ]
     },
     "execution_count": 25,
     "metadata": {},
     "output_type": "execute_result"
    }
   ],
   "source": [
    "scores = torch.load('scores.pt')\n",
    "scores.shape"
   ]
  },
  {
   "cell_type": "code",
   "execution_count": 28,
   "id": "fdbe2a00",
   "metadata": {
    "ExecuteTime": {
     "end_time": "2022-03-30T13:43:26.241686Z",
     "start_time": "2022-03-30T13:43:26.236186Z"
    }
   },
   "outputs": [
    {
     "data": {
      "text/plain": [
       "torch.Size([8, 34, 34])"
      ]
     },
     "execution_count": 28,
     "metadata": {},
     "output_type": "execute_result"
    }
   ],
   "source": [
    "mask = (input_en.T != vocab_fr['<PAD>']).unsqueeze(1) & nopeak_mask(input_en.size(0)) \n",
    "mask.shape"
   ]
  },
  {
   "cell_type": "code",
   "execution_count": 29,
   "id": "054fe302",
   "metadata": {
    "ExecuteTime": {
     "end_time": "2022-03-30T13:43:36.718104Z",
     "start_time": "2022-03-30T13:43:36.700298Z"
    }
   },
   "outputs": [
    {
     "ename": "RuntimeError",
     "evalue": "The size of tensor a (34) must match the size of tensor b (8) at non-singleton dimension 3",
     "output_type": "error",
     "traceback": [
      "\u001b[0;31m---------------------------------------------------------------------------\u001b[0m",
      "\u001b[0;31mRuntimeError\u001b[0m                              Traceback (most recent call last)",
      "Input \u001b[0;32mIn [29]\u001b[0m, in \u001b[0;36m<cell line: 2>\u001b[0;34m()\u001b[0m\n\u001b[1;32m      1\u001b[0m mask   \u001b[38;5;241m=\u001b[39m mask\u001b[38;5;241m.\u001b[39munsqueeze(\u001b[38;5;241m1\u001b[39m)\n\u001b[0;32m----> 2\u001b[0m scores \u001b[38;5;241m=\u001b[39m \u001b[43mscores\u001b[49m\u001b[38;5;241;43m.\u001b[39;49m\u001b[43mmasked_fill\u001b[49m\u001b[43m(\u001b[49m\u001b[43mmask\u001b[49m\u001b[43m \u001b[49m\u001b[38;5;241;43m==\u001b[39;49m\u001b[43m \u001b[49m\u001b[38;5;241;43m0\u001b[39;49m\u001b[43m,\u001b[49m\u001b[43m \u001b[49m\u001b[38;5;241;43m-\u001b[39;49m\u001b[38;5;241;43m1e9\u001b[39;49m\u001b[43m)\u001b[49m\n",
      "\u001b[0;31mRuntimeError\u001b[0m: The size of tensor a (34) must match the size of tensor b (8) at non-singleton dimension 3"
     ]
    }
   ],
   "source": [
    "mask   = mask.unsqueeze(1)\n",
    "scores = scores.masked_fill(mask == 0, -1e9)            "
   ]
  },
  {
   "cell_type": "code",
   "execution_count": null,
   "id": "4e29355b",
   "metadata": {
    "ExecuteTime": {
     "end_time": "2022-03-27T10:14:05.051199Z",
     "start_time": "2022-03-27T10:14:05.048345Z"
    }
   },
   "outputs": [],
   "source": [
    "output_fr.shape\n",
    "\n",
    "size = output_fr.T.size(1)\n",
    "size\n",
    "\n",
    "plt.figure(figsize=(5,5))\n",
    "plt.imshow(nopeak_mask(10)[0]) \n",
    "\n",
    "(output_fr.T != vocab_fr['<PAD>']).unsqueeze(1).shape\n",
    "\n",
    "nopeak_mask(output_fr.size(0)).shape\n",
    "\n",
    "a = (output_fr.T != vocab_fr['<PAD>']).unsqueeze(1)[0]\n",
    "b = nopeak_mask(output_fr.size(0))[0]\n",
    "\n",
    "c = torch.tensor([a[0].tolist() for _ in range(38)])\n",
    "\n",
    "s.shape\n",
    "\n",
    "\n",
    "for s in a: \n",
    "    plt.figure(figsize=(5,5))\n",
    "    plt.imshow(s) \n",
    "\n",
    "output_fr.size(0)"
   ]
  },
  {
   "cell_type": "code",
   "execution_count": null,
   "id": "6a2516d3",
   "metadata": {},
   "outputs": [],
   "source": [
    "\n",
    "\n",
    "\n",
    "\n",
    "\n",
    "\n",
    "\n",
    "\n",
    "\n",
    "\n",
    "\n",
    "\n",
    "\n",
    "\n"
   ]
  },
  {
   "cell_type": "code",
   "execution_count": null,
   "id": "635cd575",
   "metadata": {
    "ExecuteTime": {
     "end_time": "2022-03-27T10:14:05.051199Z",
     "start_time": "2022-03-27T10:14:05.048345Z"
    }
   },
   "outputs": [],
   "source": [
    "output_after_embedding = output_after_embedding.transpose(0,1)\n",
    "#print(output_after_embedding[0])\n",
    "\n",
    "# creates mask with 0s wherever there is padding in the input\n",
    "output_mask = (output_fr.T != vocab_fr['<PAD>']).unsqueeze(1)\n",
    "print(output_mask.shape)\n",
    "#print(output_mask) \n",
    "\n",
    "output_fr.shape\n",
    "\n",
    "size = output_fr.T.size(1)\n",
    "size\n",
    "\n",
    "nopeak_mask = lambda size: torch.triu(torch.ones(1, size, size, dtype=int), diagonal=1) == 0\n",
    "import matplotlib.pyplot as plt\n",
    "plt.figure(figsize=(5,5))\n",
    "plt.imshow(nopeak_mask(10)[0]) \n",
    "\n",
    "(output_fr.T != vocab_fr['<PAD>']).unsqueeze(1).shape\n",
    "\n",
    "nopeak_mask(output_fr.size(0)).shape\n",
    "\n",
    "a = (output_fr.T != vocab_fr['<PAD>']).unsqueeze(1)[0]\n",
    "b = nopeak_mask(output_fr.size(0))[0]\n",
    "\n",
    "c = torch.tensor([a[0].tolist() for _ in range(38)])\n",
    "\n",
    "s.shape\n",
    "\n",
    "a = (output_fr.T != vocab_fr['<PAD>']).unsqueeze(1) & nopeak_mask(output_fr.size(0)) \n",
    "for s in a: \n",
    "    plt.figure(figsize=(5,5))\n",
    "    plt.imshow(s) \n",
    "\n",
    "output_fr.size(0)"
   ]
  },
  {
   "cell_type": "code",
   "execution_count": null,
   "id": "e1e1e885",
   "metadata": {
    "ExecuteTime": {
     "end_time": "2022-03-30T12:57:40.571837Z",
     "start_time": "2022-03-30T12:57:40.565427Z"
    }
   },
   "outputs": [],
   "source": [
    "# create mask as before\n",
    "target_seq = output_fr.T \n",
    "target_msk = (target_seq != vocab_fr['<PAD>']).unsqueeze(1)\n",
    "size = target_seq.size(1) # get seq_len for matrix  \n",
    "target_msk = target_msk & nopeak_mask(size)\n",
    "target_msk.shape"
   ]
  },
  {
   "cell_type": "markdown",
   "id": "55d2afed",
   "metadata": {},
   "source": [
    "### Encoder"
   ]
  },
  {
   "cell_type": "markdown",
   "id": "a9c2e423",
   "metadata": {},
   "source": [
    "### Multi-Headed Attention"
   ]
  },
  {
   "cell_type": "code",
   "execution_count": null,
   "id": "9de37cce",
   "metadata": {},
   "outputs": [],
   "source": [
    "# build a decoder layer with two multi-head attention layers and\n",
    "# one feed-forward layer\n",
    "class DecoderLayer(nn.Module):\n",
    "    def __init__(self, embedding_dim, h, dropout=0.1):\n",
    "        super().__init__()\n",
    "        self.norm_1 = nn.BatchNorm1d(embedding_dim, eps = 1e-6)\n",
    "        self.norm_2 = nn.BatchNorm1d(embedding_dim, eps = 1e-6)\n",
    "        self.norm_3 = nn.BatchNorm1d(embedding_dim, eps = 1e-6)\n",
    "        \n",
    "        self.dropout_1 = nn.Dropout(dropout)\n",
    "        self.dropout_2 = nn.Dropout(dropout)\n",
    "        self.dropout_3 = nn.Dropout(dropout)\n",
    "        \n",
    "        self.attn_1 = MultiHeadAttention(h, embedding_dim)\n",
    "        self.attn_2 = MultiHeadAttention(h, embedding_dim)\n",
    "        self.ff     = FeedForward(embedding_dim).cuda()\n",
    "        \n",
    "    def forward(self, x, e_outputs, src_mask, trg_mask):\n",
    "        x2 = self.norm_1(x)\n",
    "        x  = x + self.dropout_1(self.attn_1(x2, x2, x2, trg_mask))\n",
    "        x2 = self.norm_2(x)\n",
    "        x  = x + self.dropout_2(self.attn_2(x2, e_outputs, e_outputs, src_mask))\n",
    "        x2 = self.norm_3(x)\n",
    "        x  = x + self.dropout_3(self.ff(x2))\n",
    "        return x"
   ]
  },
  {
   "cell_type": "code",
   "execution_count": null,
   "id": "e7651ed7",
   "metadata": {},
   "outputs": [],
   "source": [
    "class Decoder(nn.Module):\n",
    "    def __init__(self, vocab_size, embedding_dim, N, h):\n",
    "        super().__init__()\n",
    "        self.N      = N\n",
    "        self.embed  = Embedder(vocab_size, embedding_dim)\n",
    "        self.pe     = PositionalEncoder(embedding_dim)\n",
    "        self.layers = nn.ModuleList([ copy.deepcopy(DecoderLayer(embedding_dim, h)) for i in range(N) ])  \n",
    "        self.norm   = nn.BatchNorm1d(embedding_dim, eps = 1e-6)\n",
    "        \n",
    "    def forward(self, trg, e_outputs, src_mask, trg_mask):\n",
    "        x = self.embed(trg)\n",
    "        x = self.pe(x)\n",
    "        for i in range(self.N):\n",
    "            x = self.layers[i](x, e_outputs, src_mask, trg_mask)\n",
    "        return self.norm(x)"
   ]
  },
  {
   "cell_type": "code",
   "execution_count": null,
   "id": "e0234fa9",
   "metadata": {},
   "outputs": [],
   "source": [
    "class Transformer(nn.Module):\n",
    "    def __init__(self, src_vocab, trg_vocab, embedding_dim, N, h):\n",
    "        super().__init__()\n",
    "        self.encoder = Encoder(src_vocab, embedding_dim, N, h)\n",
    "        self.decoder = Decoder(trg_vocab, embedding_dim, N, h)\n",
    "        self.out     = nn.Linear(embedding_dim, trg_vocab)\n",
    "        \n",
    "    def forward(self, src, trg, src_mask, trg_mask):\n",
    "        e_output = self.encoder(src, src_mask)\n",
    "        d_output = self.decoder(trg, e_output, src_mask, trg_mask)\n",
    "        output   = self.out(d_output)\n",
    "        # no softmax on the output bcuz loss function do\n",
    "        return output "
   ]
  },
  {
   "cell_type": "code",
   "execution_count": null,
   "id": "da7455ff",
   "metadata": {},
   "outputs": [],
   "source": [
    "\n",
    "model = Transformer(vocab_size_src, vocab_size_trg, embedding_dim, N, h)\n",
    "for p in model.parameters():\n",
    "    if p.dim() > 1:\n",
    "        nn.init.xavier_uniform_(p)"
   ]
  },
  {
   "cell_type": "code",
   "execution_count": null,
   "id": "94a063e1",
   "metadata": {
    "ExecuteTime": {
     "end_time": "2022-03-27T11:10:45.604587Z",
     "start_time": "2022-03-27T11:10:42.835379Z"
    }
   },
   "outputs": [],
   "source": [
    "tensor_input, tensor_output = next(iter(train_dl)) "
   ]
  },
  {
   "cell_type": "code",
   "execution_count": null,
   "id": "0eddcf85",
   "metadata": {
    "ExecuteTime": {
     "end_time": "2022-03-27T11:13:10.925573Z",
     "start_time": "2022-03-27T11:13:10.914046Z"
    }
   },
   "outputs": [],
   "source": [
    "tensor_input.T"
   ]
  },
  {
   "cell_type": "code",
   "execution_count": null,
   "id": "615a6677",
   "metadata": {},
   "outputs": [],
   "source": [
    "# this code is very important! It initialises the parameters with a\n",
    "# range of values that stops the signal fading or getting too big.\n",
    "# See this blog for a mathematical explanation.\n",
    "optim = torch.optim.Adam(model.parameters(), lr=0.0001, betas=(0.9, 0.98), eps=1e-9)\n",
    "\n",
    "def train_model(epochs=0, print_every=100): \n",
    "    model.train() \n",
    "    \n",
    "    ts  = time.time()\n",
    "    total_loss = 0    \n",
    "    for epoch in range(epochs): \n",
    "        for i, (batch_en, batch_fr) in enumerate(train_dl):\n",
    "            source_input  = batch_en.T\n",
    "            target_output = batch_fr.T\n",
    "            # the French sentence we input has all words except\n",
    "            # the last, as it is using each word to predict the next\n",
    "            target_input = target_output[:, :-1]\n",
    "            print(src, batch_trg, trg_input)\n",
    "            break\n",
    "            # the words we are trying to predict            \n",
    "            targets = trg[:, 1:].contiguous().view(-1)\n",
    "            \n",
    "            # create function to make masks using mask code above            \n",
    "            src_mask, trg_mask = create_masks(src, trg_input)\n",
    "            \n",
    "            # Draw DAG\n",
    "            preds = model(src, trg_input, src_mask, trg_mask)  \n",
    "            loss = nn.functional.cross_entropy(preds.view(-1, preds.size(-1)), results, ignore_index=target_pad)    \n",
    "                  \n",
    "            # SGD\n",
    "            optim.zero_grad() # we can zero grad anywhere other than between backward() and step()\n",
    "            loss.backward()\n",
    "            optim.step()\n",
    "            \n",
    "            total_loss += loss.data[0]\n",
    "            if i % print_every == 0:\n",
    "                loss_avg = total_loss / print_every\n",
    "                ts_now = datetime.datetime.now().strftime('%Y-%m-%dT%H:%M:%S') \n",
    "                print(f\"[{ts_now}][{(time.time()-ts)/60:.1f}m] epoch_{epoch + 1} iter_{i + 1} loss_{loss_avg} \")\n",
    "                total_loss = 0 \n",
    "                \n",
    "        break\n",
    "                \n",
    "train_model(epochs=3)"
   ]
  },
  {
   "cell_type": "code",
   "execution_count": null,
   "id": "ba6e4df7",
   "metadata": {},
   "outputs": [],
   "source": [
    "def translate(model, src, max_len = 80, custom_string=False): \n",
    "    model.eval()\n",
    "    if custom_sentence == True:\n",
    "        src = tokenize_en(src)\n",
    "        sentence=Variable(torch.LongTensor([[EN_TEXT.vocab.stoi[tok] for tok in sentence]])).cuda()\n",
    "        src_mask = (src != input_pad).unsqueeze(-2)\n",
    "        e_outputs = model.encoder(src, src_mask)\n",
    "    \n",
    "    outputs = torch.zeros(max_len).type_as(src.data)\n",
    "    outputs[0] = torch.LongTensor([FR_TEXT.vocab.stoi['<sos>']])\n",
    "    \n",
    "    \n",
    "    for i in range(1, max_len):    \n",
    "            \n",
    "        trg_mask = np.triu(np.ones((1, i, i), k=1).astype('uint8')\n",
    "        trg_mask= Variable(torch.from_numpy(trg_mask) == 0).cuda()\n",
    "        \n",
    "        out = model.out(model.decoder(outputs[:i].unsqueeze(0), e_outputs, src_mask, trg_mask))\n",
    "        out = nn.functional.softmax(out, dim=-1)\n",
    "        val, ix = out[:, -1].data.topk(1)\n",
    "        \n",
    "        outputs[i] = ix[0][0]\n",
    "        if ix[0][0] == FR_TEXT.vocab.stoi['<eos>']:\n",
    "            break\n",
    "                           \n",
    "    return ' '.join( [FR_TEXT.vocab.itos[ix] for ix in outputs[:i]] )"
   ]
  }
 ],
 "metadata": {
  "kernelspec": {
   "display_name": "Python 3 (ipykernel)",
   "language": "python",
   "name": "python3"
  },
  "language_info": {
   "codemirror_mode": {
    "name": "ipython",
    "version": 3
   },
   "file_extension": ".py",
   "mimetype": "text/x-python",
   "name": "python",
   "nbconvert_exporter": "python",
   "pygments_lexer": "ipython3",
   "version": "3.8.12"
  },
  "toc": {
   "base_numbering": 1,
   "nav_menu": {},
   "number_sections": true,
   "sideBar": true,
   "skip_h1_title": false,
   "title_cell": "Table of Contents",
   "title_sidebar": "Contents",
   "toc_cell": false,
   "toc_position": {},
   "toc_section_display": true,
   "toc_window_display": false
  }
 },
 "nbformat": 4,
 "nbformat_minor": 5
}
