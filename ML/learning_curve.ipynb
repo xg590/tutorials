{
 "cells": [
  {
   "cell_type": "markdown",
   "id": "591d67b3",
   "metadata": {
    "ExecuteTime": {
     "end_time": "2022-07-04T22:29:11.209438Z",
     "start_time": "2022-07-04T22:29:11.202818Z"
    }
   },
   "source": [
    "### Training process"
   ]
  },
  {
   "cell_type": "code",
   "execution_count": null,
   "id": "97dac192",
   "metadata": {},
   "outputs": [],
   "source": [
    "#pip install matplotlib"
   ]
  },
  {
   "cell_type": "code",
   "execution_count": 1,
   "id": "0edf0bb5",
   "metadata": {
    "ExecuteTime": {
     "end_time": "2023-01-26T20:34:28.588653Z",
     "start_time": "2023-01-26T20:34:25.533861Z"
    }
   },
   "outputs": [],
   "source": [
    "import matplotlib.pyplot as plt \n",
    "from matplotlib import font_manager, lines\n",
    "from IPython.core.display import HTML\n",
    "\n",
    "font_dirs = ['../3rd_Run/font/']\n",
    "font_files = font_manager.findSystemFonts(fontpaths=font_dirs)\n",
    "\n",
    "for font_file in font_files:\n",
    "    font_manager.fontManager.addfont(font_file)  \n",
    "    \n",
    "# set font\n",
    "plt.rcParams['font.family'] = \"Arial\" #  \"Times New Roman\"\n",
    "plt.rcParams['font.size'] = 14\n",
    "plt.rcParams['figure.constrained_layout.use'] = True"
   ]
  },
  {
   "cell_type": "code",
   "execution_count": 2,
   "id": "0a51a2ed",
   "metadata": {
    "ExecuteTime": {
     "end_time": "2023-01-26T20:34:29.633792Z",
     "start_time": "2023-01-26T20:34:28.590880Z"
    }
   },
   "outputs": [
    {
     "name": "stdout",
     "output_type": "stream",
     "text": [
      "Candidate: events.out.tfevents.1675393445.cm040.hpc.nyu.edu.2833992.0\n",
      "Candidate: events.out.tfevents.1675406706.gr011.hpc.nyu.edu.263086.0\n",
      "Candidate: events.out.tfevents.1675405671.cm040.hpc.nyu.edu.2854505.0\n",
      "Chosen: model/pretrain/runs/Feb03_01-44-59_gr011.hpc.nyu.edu/events.out.tfevents.1675406706.gr011.hpc.nyu.edu.263086.0\n"
     ]
    },
    {
     "data": {
      "text/html": [
       "<div>\n",
       "<style scoped>\n",
       "    .dataframe tbody tr th:only-of-type {\n",
       "        vertical-align: middle;\n",
       "    }\n",
       "\n",
       "    .dataframe tbody tr th {\n",
       "        vertical-align: top;\n",
       "    }\n",
       "\n",
       "    .dataframe thead th {\n",
       "        text-align: right;\n",
       "    }\n",
       "</style>\n",
       "<table border=\"1\" class=\"dataframe\">\n",
       "  <thead>\n",
       "    <tr style=\"text-align: right;\">\n",
       "      <th></th>\n",
       "      <th>train/loss</th>\n",
       "      <th>train/learning_rate</th>\n",
       "      <th>train/epoch</th>\n",
       "      <th>eval/loss</th>\n",
       "      <th>eval/accuracy</th>\n",
       "      <th>eval/f1</th>\n",
       "      <th>eval/roc_auc</th>\n",
       "      <th>flag</th>\n",
       "      <th>epoch</th>\n",
       "      <th>idx</th>\n",
       "    </tr>\n",
       "  </thead>\n",
       "  <tbody>\n",
       "    <tr>\n",
       "      <th>516000</th>\n",
       "      <td>0.0074</td>\n",
       "      <td>0.000211</td>\n",
       "      <td>578.479980</td>\n",
       "      <td>1.462288</td>\n",
       "      <td>0.830834</td>\n",
       "      <td>0.762542</td>\n",
       "      <td>0.891706</td>\n",
       "      <td>False</td>\n",
       "      <td>578</td>\n",
       "      <td>516000</td>\n",
       "    </tr>\n",
       "    <tr>\n",
       "      <th>516500</th>\n",
       "      <td>0.0064</td>\n",
       "      <td>0.000210</td>\n",
       "      <td>579.039978</td>\n",
       "      <td>1.451971</td>\n",
       "      <td>0.824807</td>\n",
       "      <td>0.761632</td>\n",
       "      <td>0.890434</td>\n",
       "      <td>True</td>\n",
       "      <td>579</td>\n",
       "      <td>516500</td>\n",
       "    </tr>\n",
       "    <tr>\n",
       "      <th>517500</th>\n",
       "      <td>0.0061</td>\n",
       "      <td>0.000210</td>\n",
       "      <td>580.159973</td>\n",
       "      <td>1.585162</td>\n",
       "      <td>0.831254</td>\n",
       "      <td>0.755979</td>\n",
       "      <td>0.888802</td>\n",
       "      <td>True</td>\n",
       "      <td>580</td>\n",
       "      <td>517500</td>\n",
       "    </tr>\n",
       "  </tbody>\n",
       "</table>\n",
       "</div>"
      ],
      "text/plain": [
       "        train/loss  train/learning_rate  train/epoch  eval/loss  \\\n",
       "516000      0.0074             0.000211   578.479980   1.462288   \n",
       "516500      0.0064             0.000210   579.039978   1.451971   \n",
       "517500      0.0061             0.000210   580.159973   1.585162   \n",
       "\n",
       "        eval/accuracy   eval/f1  eval/roc_auc   flag  epoch     idx  \n",
       "516000       0.830834  0.762542      0.891706  False    578  516000  \n",
       "516500       0.824807  0.761632      0.890434   True    579  516500  \n",
       "517500       0.831254  0.755979      0.888802   True    580  517500  "
      ]
     },
     "execution_count": 2,
     "metadata": {},
     "output_type": "execute_result"
    }
   ],
   "source": [
    "import os, datetime, pandas as pd, math\n",
    "from tensorboard.backend.event_processing.event_accumulator import EventAccumulator \n",
    "pd.set_option('display.max_rows', None)\n",
    "newest_run = None\n",
    "_timestamp = datetime.datetime.fromtimestamp(0)\n",
    "tfevents_filename = None\n",
    "for sub_dir in os.scandir('model/pretrain/runs/'):\n",
    "    for file in os.scandir(sub_dir):\n",
    "        if file.is_file():\n",
    "            fname = file.name\n",
    "            timestamp = datetime.datetime.fromtimestamp(int(fname.split('.')[3])) \n",
    "            print(f'Candidate: {fname}')\n",
    "            if timestamp > _timestamp: \n",
    "                _timestamp = timestamp \n",
    "                tfevents_filename = file.path\n",
    "\n",
    "print(f'Chosen: {tfevents_filename}')\n",
    "ev_accu = EventAccumulator(tfevents_filename).Reload()  \n",
    "df = pd.DataFrame({i: {ev.step: ev.value for ev in ev_accu.Scalars(i)} for i in ev_accu.Tags()['scalars'] })\n",
    "\n",
    "df['flag'] = df.apply( lambda x: math.isclose(x['train/epoch'], round(x['train/epoch'], 0), abs_tol = 0.2), axis=1)\n",
    "df = df[df['train/epoch'].notna()]\n",
    "df['epoch'] = df.apply( lambda x: int(round(x['train/epoch'], 0)) , axis=1)\n",
    "df['idx']   = df.index\n",
    "df = df.drop_duplicates('epoch', keep='last')\n",
    "df.tail(3)"
   ]
  },
  {
   "cell_type": "code",
   "execution_count": 3,
   "id": "65d476b4",
   "metadata": {
    "ExecuteTime": {
     "end_time": "2023-01-26T20:34:35.402817Z",
     "start_time": "2023-01-26T20:34:35.393147Z"
    }
   },
   "outputs": [
    {
     "data": {
      "text/html": [
       "<div>\n",
       "<style scoped>\n",
       "    .dataframe tbody tr th:only-of-type {\n",
       "        vertical-align: middle;\n",
       "    }\n",
       "\n",
       "    .dataframe tbody tr th {\n",
       "        vertical-align: top;\n",
       "    }\n",
       "\n",
       "    .dataframe thead th {\n",
       "        text-align: right;\n",
       "    }\n",
       "</style>\n",
       "<table border=\"1\" class=\"dataframe\">\n",
       "  <thead>\n",
       "    <tr style=\"text-align: right;\">\n",
       "      <th></th>\n",
       "      <th>Loss</th>\n",
       "      <th>Accuracy</th>\n",
       "      <th>F1-score</th>\n",
       "      <th>AUROC</th>\n",
       "      <th>idx</th>\n",
       "    </tr>\n",
       "    <tr>\n",
       "      <th>epoch</th>\n",
       "      <th></th>\n",
       "      <th></th>\n",
       "      <th></th>\n",
       "      <th></th>\n",
       "      <th></th>\n",
       "    </tr>\n",
       "  </thead>\n",
       "  <tbody>\n",
       "    <tr>\n",
       "      <th>578</th>\n",
       "      <td>0.0074</td>\n",
       "      <td>0.830834</td>\n",
       "      <td>0.762542</td>\n",
       "      <td>0.891706</td>\n",
       "      <td>516000</td>\n",
       "    </tr>\n",
       "    <tr>\n",
       "      <th>579</th>\n",
       "      <td>0.0064</td>\n",
       "      <td>0.824807</td>\n",
       "      <td>0.761632</td>\n",
       "      <td>0.890434</td>\n",
       "      <td>516500</td>\n",
       "    </tr>\n",
       "    <tr>\n",
       "      <th>580</th>\n",
       "      <td>0.0061</td>\n",
       "      <td>0.831254</td>\n",
       "      <td>0.755979</td>\n",
       "      <td>0.888802</td>\n",
       "      <td>517500</td>\n",
       "    </tr>\n",
       "  </tbody>\n",
       "</table>\n",
       "</div>"
      ],
      "text/plain": [
       "         Loss  Accuracy  F1-score     AUROC     idx\n",
       "epoch                                              \n",
       "578    0.0074  0.830834  0.762542  0.891706  516000\n",
       "579    0.0064  0.824807  0.761632  0.890434  516500\n",
       "580    0.0061  0.831254  0.755979  0.888802  517500"
      ]
     },
     "execution_count": 3,
     "metadata": {},
     "output_type": "execute_result"
    }
   ],
   "source": [
    "df = df.rename(columns={'train/loss':'Loss', 'eval/accuracy':'Accuracy', \n",
    "                        'eval/f1':'F1-score', 'eval/roc_auc':'AUROC'})\n",
    "df = df[['Loss', 'Accuracy', 'F1-score', 'AUROC','epoch','idx']]\n",
    "df = df.set_index('epoch')\n",
    "df.tail(3)"
   ]
  },
  {
   "cell_type": "code",
   "execution_count": 4,
   "id": "03c30077",
   "metadata": {
    "ExecuteTime": {
     "end_time": "2023-01-26T20:34:44.136375Z",
     "start_time": "2023-01-26T20:34:43.453610Z"
    }
   },
   "outputs": [
    {
     "data": {
      "image/png": "[encoded data removed]",
      "text/plain": [
       "<Figure size 864x180 with 4 Axes>"
      ]
     },
     "metadata": {
      "needs_background": "light"
     },
     "output_type": "display_data"
    }
   ],
   "source": [
    "#fig, axs = plt.subplots(2, 2, figsize=(6.2, 5), constrained_layout=True) # (6.2, 8) (6.2, 14)\n",
    "fig, axs = plt.subplots(1, 4, figsize=(12, 2.5), constrained_layout=True) # (6.2, 8) (6.2, 14)\n",
    "\n",
    "fig.set_constrained_layout_pads(w_pad=0.1, h_pad=0.1, hspace=0.0, wspace=0.1) \n",
    "xticks  = [0, 250, 500, 750, 1000] \n",
    "xytexts = [(0.15, 0.45), \n",
    "           (0.4, 0.55), \n",
    "           (0.65, 0.55), \n",
    "           (0.9, 0.35)]\n",
    "titles  = ['Loss (training)','Accuracy (validation)','F1-score (validation)','AUROC (validation)'] \n",
    "\n",
    "for ax, col, xytext, title in zip(axs.flat, df.to_dict('dict').items(), xytexts, titles):\n",
    "    x = list(col[1].keys()  )\n",
    "    y = list(col[1].values())\n",
    "    ax.plot(x, y, 'r', ls='-', ms=4)\n",
    "    ax.set_title(title, fontdict={'fontsize': 12, 'fontweight': 'medium'}) \n",
    "    ax.set_xlabel('epoch', fontdict={'fontsize': 12, 'fontweight': 'medium'}) \n",
    "    ax.set_xticks(xticks, ) #  xlabels\n",
    "    ax.annotate(f'{y[-1]:.4f}',\n",
    "                xy=(x[-1], y[-1]),  # theta, radius\n",
    "                xytext=xytext,    # fraction, fraction ax.get_position().y1\n",
    "                textcoords='figure fraction',\n",
    "                arrowprops=dict(facecolor='black', shrink=0.05),\n",
    "                horizontalalignment='left',\n",
    "                verticalalignment='bottom', fontsize=12\n",
    "                )\n",
    "    ax.tick_params(axis='both', which='major', labelsize=12) \n",
    "#fig.suptitle(\"Performance of the classifier on the validation set during the training\", size=12)"
   ]
  },
  {
   "cell_type": "code",
   "execution_count": 5,
   "id": "6c00c131",
   "metadata": {
    "ExecuteTime": {
     "end_time": "2023-01-26T20:34:44.136375Z",
     "start_time": "2023-01-26T20:34:43.453610Z"
    }
   },
   "outputs": [
    {
     "data": {
      "image/png": "[encoded data removed]",
      "text/plain": [
       "<Figure size 936x468 with 3 Axes>"
      ]
     },
     "metadata": {
      "needs_background": "light"
     },
     "output_type": "display_data"
    }
   ],
   "source": [
    "#fig, axs = plt.subplots(2, 2, figsize=(6.2, 5), constrained_layout=True) # (6.2, 8) (6.2, 14)\n",
    "fig, axs = plt.subplots(2, 1, figsize=(13, 6.5), constrained_layout=True) # (6.2, 8) (6.2, 14)\n",
    "\n",
    "fig.set_constrained_layout_pads(w_pad=0.1, h_pad=0.1, hspace=0.0, wspace=0.1)  \n",
    "xticks  = [i for i in range(0,max(df.index)+1,100)]\n",
    "xytexts = [(0.15, 0.45), \n",
    "           (0.4, 0.55), \n",
    "           (0.65, 0.55), \n",
    "           (0.9, 0.35)]\n",
    "titles  = ['Loss (training)','Accuracy (validation)','F1-score (validation)','AUROC (validation)'] \n",
    "\n",
    "tick_translate = lambda old: [df.loc[i, 'idx'] if i else 0 for i in old] \n",
    "\n",
    "for ax, col, xytext, title in zip(axs.flat, df.to_dict('dict').items(), xytexts, titles):\n",
    "    if title not in ['Loss (training)', 'Accuracy (validation)'] : continue #\n",
    "    x = list(col[1].keys()  )\n",
    "    y = list(col[1].values())\n",
    "    ax.plot(x, y, 'r', ls='-', ms=4)\n",
    "    ax.set_title(title, fontdict={'fontsize': 12, 'fontweight': 'medium'}) \n",
    "    ax.set_xlabel('epoch', fontdict={'fontsize': 12, 'fontweight': 'medium'}) \n",
    "    ax.set_xticks(xticks, ) #  xlabels\n",
    "    if title == 'Accuracy (validation)':\n",
    "        ax2 = ax.twiny() \n",
    "        peak_x, peak_y = df['Accuracy'].argmax(), df['Accuracy'].max()  \n",
    "        ax.add_line(lines.Line2D([df.index[0], df.index[-1]], [peak_y, peak_y]))\n",
    "         \n",
    "        ax2.set_xlim(ax.get_xlim())\n",
    "        minor_xticks = [i for i in range(0,max(df.index)+1,50)]\n",
    "        ax2.set_xticks(minor_xticks)\n",
    "        ax2.set_xticklabels(tick_translate(minor_xticks))\n",
    "        ax2.set_xlabel(r\"step\") \n",
    "        ax.scatter([peak_x], [peak_y], s=80, facecolors='none', edgecolors='b')  \n",
    "\n",
    "        ax.annotate(f'{peak_y:.4f}',\n",
    "                    xy=(peak_x, peak_y),  # theta, radius\n",
    "                    xytext=(-80,-80),      # fraction, fraction ax.get_position().y1\n",
    "                    textcoords='offset  points',\n",
    "                    arrowprops=dict(facecolor='black', shrink=0.05),\n",
    "                    horizontalalignment='left',\n",
    "                    verticalalignment='bottom',\n",
    "                    fontsize=12\n",
    "                    )\n",
    "\n",
    "    continue\n",
    "    ax.annotate(f'{y[-1]:.4f}',\n",
    "                xy=(x[-1], y[-1]),  # theta, radius\n",
    "                xytext=xytext,    # fraction, fraction ax.get_position().y1\n",
    "                textcoords='figure fraction',\n",
    "                arrowprops=dict(facecolor='black', shrink=0.05),\n",
    "                horizontalalignment='left',\n",
    "                verticalalignment='bottom', fontsize=12\n",
    "                )\n",
    "    ax.tick_params(axis='both', which='major', labelsize=12) \n",
    "#fig.suptitle(\"Performance of the classifier on the validation set during the training\", size=12)"
   ]
  },
  {
   "cell_type": "markdown",
   "id": "4c1c8f23",
   "metadata": {},
   "source": [
    "### Confusion Matrix"
   ]
  },
  {
   "cell_type": "code",
   "execution_count": null,
   "id": "fad2d8bb",
   "metadata": {
    "ExecuteTime": {
     "end_time": "2023-01-26T20:35:54.056062Z",
     "start_time": "2023-01-26T20:35:54.048527Z"
    }
   },
   "outputs": [],
   "source": [
    "import pandas as pd, numpy as np, math\n",
    "test_df = pd.read_csv('pred_1st.csv')\n",
    "test_df.head(3)"
   ]
  },
  {
   "cell_type": "code",
   "execution_count": null,
   "id": "2dbfd575",
   "metadata": {
    "ExecuteTime": {
     "end_time": "2023-01-26T20:35:55.391125Z",
     "start_time": "2023-01-26T20:35:54.753005Z"
    }
   },
   "outputs": [],
   "source": [
    "from sklearn.metrics import ConfusionMatrixDisplay   \n",
    "\n",
    "disp = ConfusionMatrixDisplay.from_predictions(\n",
    "                      test_df.to_dict('list')['target'], \n",
    "                      test_df.to_dict('list')['prediction'], \n",
    "                      labels=[1,0],\n",
    "                      cmap=plt.cm.Blues,\n",
    "                      display_labels=['Good','Bad'], \n",
    "                      values_format='',   \n",
    ") \n",
    "disp.figure_.set_figwidth(4)\n",
    "disp.figure_.set_figheight(3)\n",
    "#plt.title(\"Confusion Matrix\")  \n",
    "plt.savefig(\"confusionMatrix.png\", dpi=300)"
   ]
  },
  {
   "cell_type": "markdown",
   "id": "bbf671a7",
   "metadata": {},
   "source": [
    "### P and R"
   ]
  },
  {
   "cell_type": "code",
   "execution_count": null,
   "id": "d1db7ecd",
   "metadata": {
    "ExecuteTime": {
     "end_time": "2023-01-26T20:36:03.570889Z",
     "start_time": "2023-01-26T20:36:03.563668Z"
    }
   },
   "outputs": [],
   "source": [
    "TP = sum([ 1 if i==1 and j==1 else 0 for i, j in zip(test_df['target'], test_df['prediction'])]) \n",
    "FP = sum([ 1 if i==0 and j==1 else 0 for i, j in zip(test_df['target'], test_df['prediction'])]) \n",
    "FN = sum([ 1 if i==1 and j==0 else 0 for i, j in zip(test_df['target'], test_df['prediction'])]) \n",
    "TN = sum([ 1 if i==0 and j==0 else 0 for i, j in zip(test_df['target'], test_df['prediction'])])  \n",
    " \n",
    "Accuracy  = (TP + TN) / (TP + FP + FN + TN)\n",
    "Precision = TP / ( TP + FP )\n",
    "Recall    = TP / ( TP + FN )\n",
    "F1        = TP / (TP + 0.5*(FP+FN)) \n",
    "MCC       = (TP*TN-FP*FN)/math.sqrt((TP+FP)*(TP+FN)*(TN+FP)*(TN+FN)) \n",
    "\n",
    "S = FN + FP + TP + TN\n",
    "CEN =  (FN+FP)*math.log2(S*S-(TP-TN)*(TP-TN))/2/S-(FN*math.log2(FN)+FP*math.log2(FP))/S \n",
    "\n",
    "print(f'''{{ \n",
    "  \"Accuracy\":{Accuracy:.3f}, \n",
    "  \"CEN\":{CEN:.3f} \n",
    "  \"F1\":{F1:.3f} \n",
    "  \"MCC\":{MCC:.3f} \n",
    "  \"Precision\":{Precision:.3f} \n",
    "  \"Recall\":{Recall:.3f} \n",
    "}}\n",
    "''')  "
   ]
  },
  {
   "cell_type": "code",
   "execution_count": null,
   "id": "b00a4b68",
   "metadata": {
    "ExecuteTime": {
     "end_time": "2023-01-17T14:47:15.399905Z",
     "start_time": "2023-01-17T14:47:15.392863Z"
    }
   },
   "outputs": [],
   "source": [
    "TP = sum([ 1 if i==1 and j==1 else 0 for i, j in zip(test_df['target'], test_df['prediction'])]) \n",
    "FP = sum([ 1 if i==0 and j==1 else 0 for i, j in zip(test_df['target'], test_df['prediction'])]) \n",
    "FN = sum([ 1 if i==1 and j==0 else 0 for i, j in zip(test_df['target'], test_df['prediction'])]) \n",
    "TN = sum([ 1 if i==0 and j==0 else 0 for i, j in zip(test_df['target'], test_df['prediction'])])  \n",
    " \n",
    "Accuracy  = (TP + TN) / (TP + FP + FN + TN)\n",
    "Precision = TP / ( TP + FP )\n",
    "Recall    = TP / ( TP + FN )\n",
    "F1        = TP / (TP + 0.5*(FP+FN)) \n",
    "MCC       = (TP*TN-FP*FN)/math.sqrt((TP+FP)*(TP+FN)*(TN+FP)*(TN+FN)) \n",
    "\n",
    "S = FN + FP + TP + TN\n",
    "CEN =  (FN+FP)*math.log2(S*S-(TP-TN)*(TP-TN))/2/S-(FN*math.log2(FN)+FP*math.log2(FP))/S \n",
    "\n",
    "print(f'''{{ \n",
    "  \"Accuracy\":{Accuracy:.3f}, \n",
    "  \"CEN\":{CEN:.3f} \n",
    "  \"F1\":{F1:.3f} \n",
    "  \"MCC\":{MCC:.3f} \n",
    "  \"Precision\":{Precision:.3f} \n",
    "  \"Recall\":{Recall:.3f} \n",
    "}}\n",
    "''')  "
   ]
  },
  {
   "cell_type": "code",
   "execution_count": null,
   "id": "dbccf69b",
   "metadata": {},
   "outputs": [],
   "source": []
  }
 ],
 "metadata": {
  "kernelspec": {
   "display_name": "Python 3 (ipykernel)",
   "language": "python",
   "name": "python3"
  },
  "language_info": {
   "codemirror_mode": {
    "name": "ipython",
    "version": 3
   },
   "file_extension": ".py",
   "mimetype": "text/x-python",
   "name": "python",
   "nbconvert_exporter": "python",
   "pygments_lexer": "ipython3",
   "version": "3.8.13"
  }
 },
 "nbformat": 4,
 "nbformat_minor": 5
}
