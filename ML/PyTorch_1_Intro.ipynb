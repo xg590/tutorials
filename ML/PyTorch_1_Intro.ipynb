{
 "cells": [
  {
   "cell_type": "markdown",
   "metadata": {},
   "source": [
    "### Gradient Descent Method in PyTorch\n",
    "* In previous jupyter notebook ML_intro.ipynb, we carried out gradient descent method without the help of any machine learning library.\n",
    "* In this notebook, let the PyToch help us. \n",
    "* Again, we have a collection of dots and want to do a linear ($h(x)=mx+b$) regression "
   ]
  },
  {
   "cell_type": "code",
   "execution_count": 1,
   "metadata": {
    "ExecuteTime": {
     "end_time": "2022-03-23T22:21:55.561753Z",
     "start_time": "2022-03-23T22:21:54.666605Z"
    },
    "code_folding": []
   },
   "outputs": [
    {
     "data": {
      "image/png": "[encoded data removed]",
      "text/plain": [
       "<Figure size 576x432 with 1 Axes>"
      ]
     },
     "metadata": {
      "needs_background": "light"
     },
     "output_type": "display_data"
    }
   ],
   "source": [
    "%matplotlib inline  \n",
    "import numpy as np, torch, matplotlib.pyplot as plt, warnings\n",
    "warnings.filterwarnings('ignore')  \n",
    "\n",
    "np.random.seed(100)   \n",
    "X   = np.arange(-10, 50, 6)  \n",
    "Y   = X*0.15+np.random.randn(10)+10\n",
    "X = torch.Tensor(X).view(10, 1) \n",
    "Y = torch.Tensor(Y).view(10, 1)  \n",
    "\n",
    "fig = plt.figure(figsize = (8,6))\n",
    "ax  = fig.add_subplot(1,1,1)\n",
    "ax.scatter(X.view(1,-1)[0], Y.view(1,-1)[0])  \n",
    "_ = plt.title('A Collection of Dots')"
   ]
  },
  {
   "cell_type": "markdown",
   "metadata": {},
   "source": [
    "### Without the help of optimizer so we update the function of fitting line $h$ manually\n",
    "* Let us choose a loss function and use the gradient descent method to optimize it."
   ]
  },
  {
   "cell_type": "code",
   "execution_count": 2,
   "metadata": {
    "ExecuteTime": {
     "end_time": "2022-03-23T22:21:55.567673Z",
     "start_time": "2022-03-23T22:21:55.563180Z"
    }
   },
   "outputs": [
    {
     "name": "stdout",
     "output_type": "stream",
     "text": [
      "Initial weight tensor([[-0.2611]]) and bias tensor([-0.1751])\n",
      "Initial gradient None and None\n"
     ]
    }
   ],
   "source": [
    "h        = torch.nn.Linear(1, 1) # once the linear function h is defined  \n",
    "m        = h.weight              # its weight/slope m is randomly initialized\n",
    "b        = h.bias                # so is its bias/intercept \n",
    "lr       = 0.001                 # learning rate\n",
    "lossFunc = torch.nn.MSELoss()\n",
    "print(f'Initial weight {m.data} and bias {b.data}')\n",
    "print(f'Initial gradient {m.grad} and {b.grad}') # before doing the backpropagation, we see no gradient calculation"
   ]
  },
  {
   "cell_type": "markdown",
   "metadata": {},
   "source": [
    "* Let us dive into the first epoch so that we know what happend in each optimization step"
   ]
  },
  {
   "cell_type": "code",
   "execution_count": 3,
   "metadata": {
    "ExecuteTime": {
     "end_time": "2022-03-23T22:21:55.646959Z",
     "start_time": "2022-03-23T22:21:55.568712Z"
    }
   },
   "outputs": [
    {
     "name": "stdout",
     "output_type": "stream",
     "text": [
      "tensor([[-0.2611]]) tensor([-0.1751]) None None\n"
     ]
    }
   ],
   "source": [
    "loss = lossFunc(h(X), Y)              # define the loose function \n",
    "print(m.data, b.data, m.grad, b.grad) # before doing the backpropagation, we see no gradient calculation"
   ]
  },
  {
   "cell_type": "code",
   "execution_count": 4,
   "metadata": {
    "ExecuteTime": {
     "end_time": "2022-03-23T22:21:55.726602Z",
     "start_time": "2022-03-23T22:21:55.653348Z"
    }
   },
   "outputs": [
    {
     "name": "stdout",
     "output_type": "stream",
     "text": [
      "tensor([[-0.2611]]) tensor([-0.1751]) tensor([[-830.9535]]) tensor([-34.3687])\n"
     ]
    }
   ],
   "source": [
    "loss.backward()                       # do gradient calculation\n",
    "print(m.data, b.data, m.grad, b.grad) # now we get the gradient"
   ]
  },
  {
   "cell_type": "code",
   "execution_count": 5,
   "metadata": {
    "ExecuteTime": {
     "end_time": "2022-03-23T22:21:55.778855Z",
     "start_time": "2022-03-23T22:21:55.731205Z"
    }
   },
   "outputs": [
    {
     "name": "stdout",
     "output_type": "stream",
     "text": [
      "tensor([[0.5699]]) tensor([-0.1407]) tensor([[-830.9535]]) tensor([-34.3687])\n"
     ]
    }
   ],
   "source": [
    "m.data -= m.grad * lr                 # manually update weigh with gradient\n",
    "b.data -= b.grad * lr                 # manually update weigh with gradient\n",
    "print(m.data, b.data, m.grad, b.grad) # see the result of one downhill descent step"
   ]
  },
  {
   "cell_type": "code",
   "execution_count": 6,
   "metadata": {
    "ExecuteTime": {
     "end_time": "2022-03-23T22:21:55.845564Z",
     "start_time": "2022-03-23T22:21:55.783765Z"
    }
   },
   "outputs": [
    {
     "name": "stdout",
     "output_type": "stream",
     "text": [
      "tensor([[0.5699]]) tensor([-0.1407]) tensor([[0.]]) tensor([0.])\n"
     ]
    }
   ],
   "source": [
    "h.zero_grad()                         # before next backpropagation, we need clear the result of gradient calculation \n",
    "print(m.data, b.data, m.grad, b.grad) # see the result of one downhill descent step"
   ]
  },
  {
   "cell_type": "markdown",
   "metadata": {},
   "source": [
    "* Now repeat 30k time so we get the right $h(x)$"
   ]
  },
  {
   "cell_type": "code",
   "execution_count": 7,
   "metadata": {
    "ExecuteTime": {
     "end_time": "2022-03-23T22:22:01.322228Z",
     "start_time": "2022-03-23T22:21:55.850817Z"
    }
   },
   "outputs": [
    {
     "name": "stdout",
     "output_type": "stream",
     "text": [
      "Final weight tensor([[0.1542]]) and final bias tensor([9.9487])\n"
     ]
    }
   ],
   "source": [
    "for i in range(30000):\n",
    "    loss = lossFunc(h(X), Y)          # update the lost function since m and b changed  \n",
    "    loss.backward() \n",
    "    m.data -= m.grad * lr            \n",
    "    b.data -= b.grad * lr \n",
    "    h.zero_grad()                    \n",
    "\n",
    "print(f'Final weight {m.data} and final bias {b.data}')"
   ]
  },
  {
   "cell_type": "markdown",
   "metadata": {},
   "source": [
    "* Draw the right $h(x)$"
   ]
  },
  {
   "cell_type": "code",
   "execution_count": 8,
   "metadata": {
    "ExecuteTime": {
     "end_time": "2022-03-23T22:22:01.422565Z",
     "start_time": "2022-03-23T22:22:01.324363Z"
    }
   },
   "outputs": [
    {
     "data": {
      "image/png": "[encoded data removed]",
      "text/plain": [
       "<Figure size 576x432 with 1 Axes>"
      ]
     },
     "metadata": {
      "needs_background": "light"
     },
     "output_type": "display_data"
    }
   ],
   "source": [
    "fig = plt.figure(figsize = (8,6))\n",
    "ax  = fig.add_subplot(1,1,1)\n",
    "with torch.no_grad(): # turning off gradient calculation\n",
    "    ax.scatter(X.view(1,-1)[0], Y.view(1,-1)[0])  \n",
    "    \n",
    "    ax.plot(X.view(1,-1)[0], h(X).view(1,-1)[0], color='r') # right h(X)  \n",
    "    \n",
    "_ = plt.title('A Collection of Dots and the Fitting Line')"
   ]
  },
  {
   "cell_type": "markdown",
   "metadata": {},
   "source": [
    "### Use optimizer so life is easier\n",
    "* if we have more parameters to update, we would need more than these two lines.\n",
    "```\n",
    "m.data -= m.grad * lr   \n",
    "b.data -= b.grad * lr\n",
    "```\n",
    "* We can use a optimizer to skip manual updating\n",
    "```\n",
    "optimizer.step()\n",
    "```\n",
    "* Create a new fitting line $h$"
   ]
  },
  {
   "cell_type": "code",
   "execution_count": 9,
   "metadata": {
    "ExecuteTime": {
     "end_time": "2022-03-23T22:22:01.427682Z",
     "start_time": "2022-03-23T22:22:01.423668Z"
    }
   },
   "outputs": [
    {
     "name": "stdout",
     "output_type": "stream",
     "text": [
      "New Initial weight tensor([[-0.5301]]) and bias tensor([0.5543])\n",
      "New Initial gradient None and None\n"
     ]
    }
   ],
   "source": [
    "h        = torch.nn.Linear(1, 1) # once the linear function h is defined  \n",
    "m        = h.weight              # its weight/slope m is randomly initialized\n",
    "b        = h.bias                # so is its bias/intercept \n",
    "lr       = 0.001                 # learning rate\n",
    "lossFunc = torch.nn.MSELoss()\n",
    "print(f'New Initial weight {m.data} and bias {b.data}')\n",
    "print(f'New Initial gradient {m.grad} and {b.grad}') # before doing the backpropagation, we see no gradient calculation"
   ]
  },
  {
   "cell_type": "code",
   "execution_count": 10,
   "metadata": {
    "ExecuteTime": {
     "end_time": "2022-03-23T22:22:06.894030Z",
     "start_time": "2022-03-23T22:22:01.429081Z"
    }
   },
   "outputs": [
    {
     "name": "stdout",
     "output_type": "stream",
     "text": [
      "New initial weight and bias but same final weight tensor([[0.1542]]) and final bias tensor([9.9492])\n"
     ]
    }
   ],
   "source": [
    "import torch.optim as optim\n",
    " \n",
    "optimizer = optim.SGD(h.parameters(), lr=0.001, momentum=0.9)\n",
    "\n",
    "for i in range(30000):  \n",
    "    loss = lossFunc(h(X), Y) \n",
    "    loss.backward()\n",
    "    optimizer.step()            # No manual updating anymore        \n",
    "    optimizer.zero_grad() \n",
    "\n",
    "print(f'New initial weight and bias but same final weight {m.data} and final bias {b.data}')"
   ]
  }
 ],
 "metadata": {
  "kernelspec": {
   "display_name": "Python 3 (ipykernel)",
   "language": "python",
   "name": "python3"
  },
  "language_info": {
   "codemirror_mode": {
    "name": "ipython",
    "version": 3
   },
   "file_extension": ".py",
   "mimetype": "text/x-python",
   "name": "python",
   "nbconvert_exporter": "python",
   "pygments_lexer": "ipython3",
   "version": "3.8.12"
  }
 },
 "nbformat": 4,
 "nbformat_minor": 1
}
