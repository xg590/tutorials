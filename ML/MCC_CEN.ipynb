{
 "cells": [
  {
   "cell_type": "markdown",
   "id": "451a5c22",
   "metadata": {},
   "source": [
    "https://doi.org/10.1371/journal.pone.0250834 "
   ]
  },
  {
   "cell_type": "code",
   "execution_count": 1,
   "id": "fad2d8bb",
   "metadata": {
    "ExecuteTime": {
     "end_time": "2022-07-05T09:15:31.399704Z",
     "start_time": "2022-07-05T09:15:31.166002Z"
    }
   },
   "outputs": [],
   "source": [
    "import pandas as pd, math, numpy as np\n",
    "test_df = pd.read_csv('pred.csv') "
   ]
  },
  {
   "cell_type": "code",
   "execution_count": 2,
   "id": "d1db7ecd",
   "metadata": {
    "ExecuteTime": {
     "end_time": "2022-07-05T09:15:31.417827Z",
     "start_time": "2022-07-05T09:15:31.401596Z"
    }
   },
   "outputs": [
    {
     "name": "stdout",
     "output_type": "stream",
     "text": [
      "{ \n",
      "  \"Accuracy\":0.992, \n",
      "  \"Precision\":0.946 \n",
      "  \"Recall\":0.918 \n",
      "  \"F1\":0.932 \n",
      "  \"MCC\":0.928 \n",
      "  \"CEN\":0.052 \n",
      "}\n",
      "\n"
     ]
    }
   ],
   "source": [
    "TP = sum([ 1 if i==1 and j==1 else 0 for i, j in zip(test_df['target'], test_df['prediction_1'])]) \n",
    "FP = sum([ 1 if i==0 and j==1 else 0 for i, j in zip(test_df['target'], test_df['prediction_1'])]) \n",
    "FN = sum([ 1 if i==1 and j==0 else 0 for i, j in zip(test_df['target'], test_df['prediction_1'])]) \n",
    "TN = sum([ 1 if i==0 and j==0 else 0 for i, j in zip(test_df['target'], test_df['prediction_1'])])  \n",
    " \n",
    "Accuracy  = (TP + TN) / (TP + FP + FN + TN)\n",
    "Precision = TP / ( TP + FP )\n",
    "Recall    = TP / ( TP + FN )\n",
    "F1        = TP / (TP + 0.5*(FP+FN)) \n",
    "MCC       = (TP*TN-FP*FN)/math.sqrt((TP+FP)*(TP+FN)*(TN+FP)*(TN+FN)) \n",
    "\n",
    "S = FN + FP + TP + TN\n",
    "CEN =  (FN+FP)*math.log2(S*S-(TP-TN)*(TP-TN))/2/S-(FN*math.log2(FN)+FP*math.log2(FP))/S \n",
    "\n",
    "print(f'''{{ \n",
    "  \"Accuracy\":{Accuracy:.3f}, \n",
    "  \"Precision\":{Precision:.3f} \n",
    "  \"Recall\":{Recall:.3f} \n",
    "  \"F1\":{F1:.3f} \n",
    "  \"MCC\":{MCC:.3f} \n",
    "  \"CEN\":{CEN:.3f} \n",
    "}}\n",
    "''')  "
   ]
  },
  {
   "cell_type": "code",
   "execution_count": 3,
   "id": "50c1e039",
   "metadata": {
    "ExecuteTime": {
     "end_time": "2022-07-05T09:15:31.433848Z",
     "start_time": "2022-07-05T09:15:31.419398Z"
    }
   },
   "outputs": [
    {
     "data": {
      "text/plain": [
       "0.05177706327263046"
      ]
     },
     "execution_count": 3,
     "metadata": {},
     "output_type": "execute_result"
    }
   ],
   "source": [
    "def MCC(arr):\n",
    "    C12, C21, C11, C22 = arr[0][1], arr[1][0], arr[0][0], arr[1][1] \n",
    "    P2_12 = C12/(C21+C12+C22+C22)+1e-10\n",
    "    P1_21 = C21/(C11+C11+C12+C21)+1e-10\n",
    "    P1_12 = C12/(C11+C11+C12+C21)+1e-10\n",
    "    P2_21 = C21/(C21+C12+C22+C22)+1e-10 \n",
    "    \n",
    "    CEN1 = -1*(P1_12*math.log2(P1_12)+P1_21*math.log2(P1_21))\n",
    "    CEN2 = -1*(P2_21*math.log2(P2_21)+P2_12*math.log2(P2_12))\n",
    "    P1 = (C11+C11+C12+C21)/( 2*(C12+C11+C21+C22) )\n",
    "    P2 = (C21+C12+C22+C22)/( 2*(C12+C11+C21+C22) )\n",
    "    CEN = P1*CEN1+ P2*CEN2\n",
    "    return CEN\n",
    "\n",
    "MCC(np.array([\n",
    "     [TP, FN],\n",
    "     [FP, TN]\n",
    "])) "
   ]
  }
 ],
 "metadata": {
  "kernelspec": {
   "display_name": "Python 3 (ipykernel)",
   "language": "python",
   "name": "python3"
  },
  "language_info": {
   "codemirror_mode": {
    "name": "ipython",
    "version": 3
   },
   "file_extension": ".py",
   "mimetype": "text/x-python",
   "name": "python",
   "nbconvert_exporter": "python",
   "pygments_lexer": "ipython3",
   "version": "3.8.13"
  }
 },
 "nbformat": 4,
 "nbformat_minor": 5
}
