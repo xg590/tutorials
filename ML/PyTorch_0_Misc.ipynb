{
 "cells": [
  {
   "cell_type": "code",
   "execution_count": 1,
   "id": "3b9d7d2a",
   "metadata": {
    "ExecuteTime": {
     "end_time": "2022-03-30T14:39:28.828016Z",
     "start_time": "2022-03-30T14:39:28.444650Z"
    }
   },
   "outputs": [],
   "source": [
    "import torch"
   ]
  },
  {
   "cell_type": "markdown",
   "id": "fa5d3afa",
   "metadata": {},
   "source": [
    "### Unsqueeze: add a new dim to the tensor.  \n",
    "* For example, torch.unsqueeze(x, 0) can change the shape of a tensor from [3,4] to [1,3,4].\n",
    "* torch.unsqueeze(x, 1) can change the shape of a tensor from [2,3] to [2,1,3].\n",
    "* torch.unsqueeze(x, 2) can change the shape of a tensor from [2,3] to [2,3,1]."
   ]
  },
  {
   "cell_type": "code",
   "execution_count": 2,
   "id": "a02f8d7a",
   "metadata": {
    "ExecuteTime": {
     "end_time": "2022-03-30T14:39:28.836482Z",
     "start_time": "2022-03-30T14:39:28.829528Z"
    }
   },
   "outputs": [
    {
     "data": {
      "text/plain": [
       "(torch.Size([3, 4]),\n",
       " torch.Size([1, 3, 4]),\n",
       " torch.Size([3, 1, 4]),\n",
       " torch.Size([3, 4, 1]))"
      ]
     },
     "execution_count": 2,
     "metadata": {},
     "output_type": "execute_result"
    }
   ],
   "source": [
    "x = torch.tensor([[ 1,  2,  3,  4],\n",
    "                  [11, 12, 13, 14],\n",
    "                  [21, 22, 23, 24]])\n",
    "x.shape,  torch.unsqueeze(x, 0).shape,  torch.unsqueeze(x, 1).shape,  torch.unsqueeze(x, 2).shape"
   ]
  },
  {
   "cell_type": "markdown",
   "id": "e057647c",
   "metadata": {},
   "source": [
    "### Broadcasting: prove a1 == a2, and b1 == b2"
   ]
  },
  {
   "cell_type": "code",
   "execution_count": 3,
   "id": "23d76a16",
   "metadata": {
    "ExecuteTime": {
     "end_time": "2022-03-30T14:39:28.894353Z",
     "start_time": "2022-03-30T14:39:28.837544Z"
    }
   },
   "outputs": [
    {
     "name": "stdout",
     "output_type": "stream",
     "text": [
      "True\n"
     ]
    },
    {
     "data": {
      "text/plain": [
       "tensor([[[ 2,  4,  6],\n",
       "         [ 5,  7,  9],\n",
       "         [ 8, 10, 12]],\n",
       "\n",
       "        [[ 4,  6,  8],\n",
       "         [ 7,  9, 11],\n",
       "         [10, 12, 14]]])"
      ]
     },
     "execution_count": 3,
     "metadata": {},
     "output_type": "execute_result"
    }
   ],
   "source": [
    "a1 = torch.tensor(\n",
    "    [[[1, 2, 3]],\n",
    "     [[3, 4, 5]]]) \n",
    "a2 = torch.tensor(\n",
    "    [[[1, 2, 3],\n",
    "      [1, 2, 3],\n",
    "      [1, 2, 3]],\n",
    "     [[3, 4, 5],\n",
    "      [3, 4, 5],\n",
    "      [3, 4, 5]], \n",
    "    ])  \n",
    "b1 = torch.tensor(\n",
    "    [[[1, 2, 3],\n",
    "      [4, 5, 6],\n",
    "      [7, 8, 9]]]) \n",
    "b2 = torch.tensor(\n",
    "    [[[1, 2, 3],\n",
    "      [4, 5, 6],\n",
    "      [7, 8, 9]],\n",
    "     [[1, 2, 3],\n",
    "      [4, 5, 6],\n",
    "      [7, 8, 9]]])\n",
    "\n",
    "print(torch.equal(a1 + b1, a2 + b2))\n",
    "a1 + b1"
   ]
  },
  {
   "cell_type": "markdown",
   "id": "e717b5b1",
   "metadata": {},
   "source": [
    "### Construction of a custom Dataset "
   ]
  },
  {
   "cell_type": "code",
   "execution_count": 4,
   "id": "e72d7546",
   "metadata": {
    "ExecuteTime": {
     "end_time": "2022-03-30T14:39:28.955821Z",
     "start_time": "2022-03-30T14:39:28.895519Z"
    }
   },
   "outputs": [
    {
     "name": "stdout",
     "output_type": "stream",
     "text": [
      "[[('a', 'b', 'c', 'd'), ('0', '1', '2', '3')], [('e', 'f', 'g', 'h'), ('4', '5', '6', '7')], [('i', 'j'), ('8', '9')]]\n"
     ]
    }
   ],
   "source": [
    "from torch.utils.data import IterableDataset, DataLoader\n",
    "class MyIterableDataset(IterableDataset):  \n",
    "    def __iter__(self):  \n",
    "        return iter([(j,str(i)) for i,j in enumerate('abcdefghij')]) \n",
    "\n",
    "print(list(DataLoader(MyIterableDataset(), batch_size=4)))"
   ]
  },
  {
   "cell_type": "markdown",
   "id": "aaf72f23",
   "metadata": {},
   "source": [
    "### Reshape "
   ]
  },
  {
   "cell_type": "code",
   "execution_count": 5,
   "id": "8ae77ae0",
   "metadata": {
    "ExecuteTime": {
     "end_time": "2022-03-30T14:39:29.028869Z",
     "start_time": "2022-03-30T14:39:28.962647Z"
    }
   },
   "outputs": [
    {
     "name": "stdout",
     "output_type": "stream",
     "text": [
      "True True\n"
     ]
    },
    {
     "data": {
      "text/plain": [
       "tensor([[[ 1.,  4.],\n",
       "         [ 2.,  5.],\n",
       "         [ 3.,  6.]],\n",
       "\n",
       "        [[ 7.,  0.],\n",
       "         [ 8., 11.],\n",
       "         [ 9., 12.]]])"
      ]
     },
     "execution_count": 5,
     "metadata": {},
     "output_type": "execute_result"
    }
   ],
   "source": [
    "shape_2x4 = torch.tensor([\n",
    "    [1.,2.,3.,4.,5.,6.],\n",
    "    [7.,8.,9.,0.,11,12]])\n",
    "print(torch.equal(shape_2x4.view(2,2,3),shape_2x4.view(2,-1,3)), \n",
    "      torch.equal(shape_2x4.view(2,2,3),shape_2x4.view(2,2,-1)))\n",
    "shape_2x4.view(2,-1,3).transpose(1,2)"
   ]
  },
  {
   "cell_type": "code",
   "execution_count": 6,
   "id": "cb6ae1ba",
   "metadata": {
    "ExecuteTime": {
     "end_time": "2022-03-30T14:39:29.089680Z",
     "start_time": "2022-03-30T14:39:29.033598Z"
    }
   },
   "outputs": [
    {
     "data": {
      "text/plain": [
       "tensor([[ 1.,  2.,  3.,  4.,  5.,  6.],\n",
       "        [ 7.,  8.,  9.,  0., 11., 12.]])"
      ]
     },
     "execution_count": 6,
     "metadata": {},
     "output_type": "execute_result"
    }
   ],
   "source": [
    "shape_2x4"
   ]
  },
  {
   "cell_type": "markdown",
   "id": "921128b4",
   "metadata": {},
   "source": [
    "### Contiguity and Memory Continuity"
   ]
  },
  {
   "cell_type": "code",
   "execution_count": 7,
   "id": "07cd8333",
   "metadata": {
    "ExecuteTime": {
     "end_time": "2022-03-30T14:39:29.148097Z",
     "start_time": "2022-03-30T14:39:29.094299Z"
    }
   },
   "outputs": [
    {
     "data": {
      "text/plain": [
       "tensor([0, 1, 2, 3, 4, 5, 6, 7])"
      ]
     },
     "execution_count": 7,
     "metadata": {},
     "output_type": "execute_result"
    }
   ],
   "source": [
    "continous_memory = torch.arange(8)\n",
    "continous_memory"
   ]
  },
  {
   "cell_type": "code",
   "execution_count": 8,
   "id": "37c49fe6",
   "metadata": {
    "ExecuteTime": {
     "end_time": "2022-03-30T14:39:29.207156Z",
     "start_time": "2022-03-30T14:39:29.152310Z"
    }
   },
   "outputs": [
    {
     "data": {
      "text/plain": [
       "tensor([[0, 1, 2, 3],\n",
       "        [4, 5, 6, 7]])"
      ]
     },
     "execution_count": 8,
     "metadata": {},
     "output_type": "execute_result"
    }
   ],
   "source": [
    "still_continous_memory = continous_memory.reshape(2,4)\n",
    "still_continous_memory"
   ]
  },
  {
   "cell_type": "code",
   "execution_count": 9,
   "id": "2a32ce6a",
   "metadata": {
    "ExecuteTime": {
     "end_time": "2022-03-30T14:39:29.265255Z",
     "start_time": "2022-03-30T14:39:29.216057Z"
    }
   },
   "outputs": [
    {
     "data": {
      "text/plain": [
       "tensor([[0, 4],\n",
       "        [1, 5],\n",
       "        [2, 6],\n",
       "        [3, 7]])"
      ]
     },
     "execution_count": 9,
     "metadata": {},
     "output_type": "execute_result"
    }
   ],
   "source": [
    "no_continous_as_shown = still_continous_memory.T\n",
    "no_continous_as_shown"
   ]
  },
  {
   "cell_type": "markdown",
   "id": "d92ce641",
   "metadata": {},
   "source": [
    "* still_continous_memory and no_continous_as_shown are accessed in different manner. \n",
    "* But they share the same memory block "
   ]
  },
  {
   "cell_type": "code",
   "execution_count": 10,
   "id": "d04ae81b",
   "metadata": {
    "ExecuteTime": {
     "end_time": "2022-03-30T14:39:29.323252Z",
     "start_time": "2022-03-30T14:39:29.269884Z"
    }
   },
   "outputs": [
    {
     "data": {
      "text/plain": [
       "tensor(8)"
      ]
     },
     "execution_count": 10,
     "metadata": {},
     "output_type": "execute_result"
    }
   ],
   "source": [
    "no_continous_as_shown[0,1]=8 # Let's access 4 in no_continous_as_shown and change it to 8\n",
    "still_continous_memory[1,0]  # when we try to access 4 in still_continous_memory we get 8"
   ]
  },
  {
   "cell_type": "markdown",
   "id": "0ed297b3",
   "metadata": {},
   "source": [
    "* We can view all elements continuously, if they are stored continuously. "
   ]
  },
  {
   "cell_type": "code",
   "execution_count": 11,
   "id": "68c55f05",
   "metadata": {
    "ExecuteTime": {
     "end_time": "2022-03-30T14:39:29.384970Z",
     "start_time": "2022-03-30T14:39:29.327815Z"
    }
   },
   "outputs": [
    {
     "name": "stdout",
     "output_type": "stream",
     "text": [
      "tensor([0, 1, 2, 3, 8, 5, 6, 7])\n",
      "tensor([[0, 1, 2, 3],\n",
      "        [8, 5, 6, 7]])\n"
     ]
    },
    {
     "data": {
      "text/plain": [
       "tensor([[0, 1, 2, 3, 8, 5, 6, 7]])"
      ]
     },
     "execution_count": 11,
     "metadata": {},
     "output_type": "execute_result"
    }
   ],
   "source": [
    "print(continous_memory)\n",
    "print(still_continous_memory)\n",
    "still_continous_memory.view(1,8)"
   ]
  },
  {
   "cell_type": "markdown",
   "id": "43b203c2",
   "metadata": {},
   "source": [
    "* But it is not the same with no_continous_as_shown\n",
    "* We may expect get tensor([[0, 8, 1, 5], [2, 6, 3, 7]]) after we run no_continous_as_shown.view(2,4)"
   ]
  },
  {
   "cell_type": "code",
   "execution_count": 12,
   "id": "82a029ff",
   "metadata": {
    "ExecuteTime": {
     "end_time": "2022-03-30T14:39:29.466767Z",
     "start_time": "2022-03-30T14:39:29.390273Z"
    }
   },
   "outputs": [
    {
     "name": "stdout",
     "output_type": "stream",
     "text": [
      "tensor([[0, 8],\n",
      "        [1, 5],\n",
      "        [2, 6],\n",
      "        [3, 7]])\n",
      "expect: tensor([[0, 8, 1, 5],\n",
      "        [2, 6, 3, 7]])\n",
      "[[ Error ]] view size is not compatible with input tensor's size and stride (at least one dimension spans across two contiguous subspaces). Use .reshape(...) instead.\n"
     ]
    }
   ],
   "source": [
    "print(no_continous_as_shown)\n",
    "print('expect:', torch.tensor([[0, 8, 1, 5], [2, 6, 3, 7]]))\n",
    "try:\n",
    "    no_continous_as_shown.view(2,4)\n",
    "except RuntimeError as e:\n",
    "    print('[[ Error ]]', e)"
   ]
  },
  {
   "cell_type": "markdown",
   "id": "63d9f0b6",
   "metadata": {
    "ExecuteTime": {
     "end_time": "2022-03-30T10:46:08.462971Z",
     "start_time": "2022-03-30T10:46:08.455202Z"
    }
   },
   "source": [
    "* now we need tensor.contiguous()"
   ]
  },
  {
   "cell_type": "code",
   "execution_count": 13,
   "id": "fc9ecc3d",
   "metadata": {
    "ExecuteTime": {
     "end_time": "2022-03-30T14:39:29.527566Z",
     "start_time": "2022-03-30T14:39:29.469552Z"
    }
   },
   "outputs": [
    {
     "data": {
      "text/plain": [
       "tensor([[0, 8, 1, 5],\n",
       "        [2, 6, 3, 7]])"
      ]
     },
     "execution_count": 13,
     "metadata": {},
     "output_type": "execute_result"
    }
   ],
   "source": [
    "no_continous_as_shown.contiguous().view(2,4)"
   ]
  },
  {
   "cell_type": "markdown",
   "id": "fc50ac2d",
   "metadata": {},
   "source": [
    "* Reshaping is not like view, it create new tensor in memory."
   ]
  },
  {
   "cell_type": "code",
   "execution_count": 14,
   "id": "be7190d2",
   "metadata": {
    "ExecuteTime": {
     "end_time": "2022-03-30T14:39:29.653329Z",
     "start_time": "2022-03-30T14:39:29.534970Z"
    }
   },
   "outputs": [
    {
     "data": {
      "text/plain": [
       "tensor([[0, 8, 1, 5],\n",
       "        [2, 6, 3, 7]])"
      ]
     },
     "execution_count": 14,
     "metadata": {},
     "output_type": "execute_result"
    }
   ],
   "source": [
    "no_continous_as_shown.reshape(2,4)"
   ]
  },
  {
   "cell_type": "markdown",
   "id": "85e8b51a",
   "metadata": {},
   "source": [
    "### Softmax"
   ]
  },
  {
   "cell_type": "markdown",
   "id": "a5d83555",
   "metadata": {},
   "source": [
    "torch.nn.Softmax(dim=None) \n",
    "$$\n",
    "\\text{Softmax}(x_{i}) = \\frac{\\exp(x_i)}{\\sum_j \\exp(x_j)}\n",
    "$$ "
   ]
  },
  {
   "cell_type": "code",
   "execution_count": 15,
   "id": "df2f11ab",
   "metadata": {
    "ExecuteTime": {
     "end_time": "2022-03-30T14:39:29.711374Z",
     "start_time": "2022-03-30T14:39:29.657917Z"
    }
   },
   "outputs": [
    {
     "data": {
      "text/plain": [
       "tensor([[0.0048, 0.2641, 0.0131, 0.7179],\n",
       "        [0.0048, 0.2641, 0.0131, 0.7179]])"
      ]
     },
     "execution_count": 15,
     "metadata": {},
     "output_type": "execute_result"
    }
   ],
   "source": [
    "sm = torch.nn.Softmax(dim=-1)\n",
    "sm(torch.tensor([[0.,4, 1, 5], \n",
    "                 [2, 6, 3, 7]]))"
   ]
  },
  {
   "cell_type": "markdown",
   "id": "43646a16",
   "metadata": {},
   "source": [
    "$$\n",
    "0.0048 = \\frac{e^{0}}{e^{0}+e^{4}+e^{1}+e^{5}} = \\frac{e^{2}}{e^{2}+e^{6}+e^{3}+e^{7}}\n",
    "$$ "
   ]
  },
  {
   "cell_type": "markdown",
   "id": "af650716",
   "metadata": {},
   "source": [
    "### High dimension Matrix Multiplication"
   ]
  },
  {
   "cell_type": "markdown",
   "id": "7138a25b",
   "metadata": {},
   "source": [
    "* Calculate three multiplication separately"
   ]
  },
  {
   "cell_type": "code",
   "execution_count": 16,
   "id": "4279b704",
   "metadata": {
    "ExecuteTime": {
     "end_time": "2022-03-30T14:39:29.780240Z",
     "start_time": "2022-03-30T14:39:29.713425Z"
    }
   },
   "outputs": [
    {
     "name": "stdout",
     "output_type": "stream",
     "text": [
      "torch.Size([1, 4]) torch.Size([1, 4]) torch.Size([1, 1])\n",
      "tensor([[30.]])\n",
      "tensor([[10.]])\n",
      "tensor([[4.]])\n"
     ]
    }
   ],
   "source": [
    "a = torch.tensor([[1., 2., 3., 4.]])\n",
    "b = torch.tensor([[1., 2., 3., 4.]]) \n",
    "c = torch.matmul(a,b.transpose(-2, -1)) \n",
    "print(a.shape, b.shape, c.shape)\n",
    "print(c)\n",
    "a = torch.tensor([[4., 3., 2., 1.]])\n",
    "b = torch.tensor([[1., 1., 1., 1.]]) \n",
    "c = torch.matmul(a,b.transpose(-2, -1))  \n",
    "print(c)\n",
    "a = torch.tensor([[1., 1., 1., 1.]])\n",
    "b = torch.tensor([[1., 1., 1., 1.]]) \n",
    "c = torch.matmul(a,b.transpose(-2, -1))  \n",
    "print(c) "
   ]
  },
  {
   "cell_type": "markdown",
   "id": "301f666e",
   "metadata": {},
   "source": [
    "* All in once"
   ]
  },
  {
   "cell_type": "code",
   "execution_count": 17,
   "id": "e12fe0a6",
   "metadata": {
    "ExecuteTime": {
     "end_time": "2022-03-30T14:39:29.841795Z",
     "start_time": "2022-03-30T14:39:29.785148Z"
    }
   },
   "outputs": [
    {
     "name": "stdout",
     "output_type": "stream",
     "text": [
      "torch.Size([1, 3, 1, 4]) torch.Size([1, 3, 1, 4]) torch.Size([1, 3, 1, 1])\n"
     ]
    },
    {
     "data": {
      "text/plain": [
       "tensor([[[[30.]],\n",
       "\n",
       "         [[10.]],\n",
       "\n",
       "         [[ 4.]]]])"
      ]
     },
     "execution_count": 17,
     "metadata": {},
     "output_type": "execute_result"
    }
   ],
   "source": [
    "a = torch.tensor(\n",
    "    [[[[1., 2., 3., 4.]], \n",
    "      [[4., 3., 2., 1.]], \n",
    "      [[1., 1., 1., 1.]]]])\n",
    "b = torch.tensor(\n",
    "    [[[[1., 2., 3., 4.]], \n",
    "      [[1., 1., 1., 1.]], \n",
    "      [[1., 1., 1., 1.]]]]) \n",
    "c = torch.matmul(a,b.transpose(-2, -1)) \n",
    "print(a.shape, b.shape, c.shape)\n",
    "c"
   ]
  },
  {
   "cell_type": "markdown",
   "id": "79b46986",
   "metadata": {},
   "source": [
    "### Only want upper triangle"
   ]
  },
  {
   "cell_type": "code",
   "execution_count": 18,
   "id": "8e94c54c",
   "metadata": {
    "ExecuteTime": {
     "end_time": "2022-03-30T15:02:09.891315Z",
     "start_time": "2022-03-30T15:02:09.880366Z"
    }
   },
   "outputs": [
    {
     "data": {
      "text/plain": [
       "tensor([[1, 1, 1],\n",
       "        [1, 1, 1],\n",
       "        [1, 1, 1]])"
      ]
     },
     "execution_count": 18,
     "metadata": {},
     "output_type": "execute_result"
    }
   ],
   "source": [
    "torch.triu(torch.ones(3, 3, dtype=int), diagonal=-2)"
   ]
  },
  {
   "cell_type": "code",
   "execution_count": 19,
   "id": "14a7c0d6",
   "metadata": {
    "ExecuteTime": {
     "end_time": "2022-03-30T15:02:10.071824Z",
     "start_time": "2022-03-30T15:02:10.052203Z"
    }
   },
   "outputs": [
    {
     "data": {
      "text/plain": [
       "tensor([[1, 1, 1],\n",
       "        [1, 1, 1],\n",
       "        [0, 1, 1]])"
      ]
     },
     "execution_count": 19,
     "metadata": {},
     "output_type": "execute_result"
    }
   ],
   "source": [
    "torch.triu(torch.ones(3, 3, dtype=int), diagonal=-1)"
   ]
  },
  {
   "cell_type": "code",
   "execution_count": 20,
   "id": "1ee56fd1",
   "metadata": {
    "ExecuteTime": {
     "end_time": "2022-03-30T15:02:10.252057Z",
     "start_time": "2022-03-30T15:02:10.235786Z"
    }
   },
   "outputs": [
    {
     "data": {
      "text/plain": [
       "tensor([[1, 1, 1],\n",
       "        [0, 1, 1],\n",
       "        [0, 0, 1]])"
      ]
     },
     "execution_count": 20,
     "metadata": {},
     "output_type": "execute_result"
    }
   ],
   "source": [
    "torch.triu(torch.ones(3, 3, dtype=int), diagonal=0)"
   ]
  },
  {
   "cell_type": "code",
   "execution_count": 21,
   "id": "d1a9ee45",
   "metadata": {
    "ExecuteTime": {
     "end_time": "2022-03-30T15:02:10.436410Z",
     "start_time": "2022-03-30T15:02:10.418973Z"
    }
   },
   "outputs": [
    {
     "data": {
      "text/plain": [
       "tensor([[0, 1, 1],\n",
       "        [0, 0, 1],\n",
       "        [0, 0, 0]])"
      ]
     },
     "execution_count": 21,
     "metadata": {},
     "output_type": "execute_result"
    }
   ],
   "source": [
    "torch.triu(torch.ones(3, 3, dtype=int), diagonal=1)"
   ]
  },
  {
   "cell_type": "code",
   "execution_count": 22,
   "id": "a9936f4b",
   "metadata": {
    "ExecuteTime": {
     "end_time": "2022-03-30T15:02:13.492021Z",
     "start_time": "2022-03-30T15:02:13.480618Z"
    }
   },
   "outputs": [
    {
     "data": {
      "text/plain": [
       "tensor([[0, 0, 1],\n",
       "        [0, 0, 0],\n",
       "        [0, 0, 0]])"
      ]
     },
     "execution_count": 22,
     "metadata": {},
     "output_type": "execute_result"
    }
   ],
   "source": [
    "torch.triu(torch.ones(3, 3, dtype=int), diagonal=2)"
   ]
  },
  {
   "cell_type": "markdown",
   "id": "f75c4459",
   "metadata": {},
   "source": [
    "### Mask"
   ]
  },
  {
   "cell_type": "code",
   "execution_count": 24,
   "id": "2fe73df1",
   "metadata": {
    "ExecuteTime": {
     "end_time": "2022-03-30T15:08:26.882816Z",
     "start_time": "2022-03-30T15:08:26.873191Z"
    }
   },
   "outputs": [
    {
     "name": "stdout",
     "output_type": "stream",
     "text": [
      "tensor([[0, 1, 1],\n",
      "        [0, 0, 1],\n",
      "        [0, 0, 0]])\n"
     ]
    },
    {
     "data": {
      "text/plain": [
       "tensor([[11,  0,  0],\n",
       "        [11, 12,  0],\n",
       "        [11, 12, 13]])"
      ]
     },
     "execution_count": 24,
     "metadata": {},
     "output_type": "execute_result"
    }
   ],
   "source": [
    "mask = torch.triu(torch.ones(3, 3, dtype=int), diagonal=1)\n",
    "print(mask) \n",
    "a = torch.tensor(\n",
    "    [[11, 12, 13],\n",
    "     [11, 12, 13],\n",
    "     [11, 12, 13]])\n",
    "a.masked_fill(mask, 0)    "
   ]
  },
  {
   "cell_type": "code",
   "execution_count": null,
   "id": "6b81c4b6",
   "metadata": {},
   "outputs": [],
   "source": []
  }
 ],
 "metadata": {
  "kernelspec": {
   "display_name": "Python 3 (ipykernel)",
   "language": "python",
   "name": "python3"
  },
  "language_info": {
   "codemirror_mode": {
    "name": "ipython",
    "version": 3
   },
   "file_extension": ".py",
   "mimetype": "text/x-python",
   "name": "python",
   "nbconvert_exporter": "python",
   "pygments_lexer": "ipython3",
   "version": "3.8.12"
  },
  "toc": {
   "base_numbering": 1,
   "nav_menu": {},
   "number_sections": true,
   "sideBar": true,
   "skip_h1_title": false,
   "title_cell": "Table of Contents",
   "title_sidebar": "Contents",
   "toc_cell": false,
   "toc_position": {},
   "toc_section_display": true,
   "toc_window_display": false
  }
 },
 "nbformat": 4,
 "nbformat_minor": 5
}
