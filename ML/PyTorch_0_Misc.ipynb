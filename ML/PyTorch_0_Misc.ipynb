{
 "cells": [
  {
   "cell_type": "code",
   "execution_count": 1,
   "id": "3b9d7d2a",
   "metadata": {
    "ExecuteTime": {
     "end_time": "2022-03-28T21:45:14.449883Z",
     "start_time": "2022-03-28T21:45:14.041969Z"
    }
   },
   "outputs": [],
   "source": [
    "import torch"
   ]
  },
  {
   "cell_type": "markdown",
   "id": "fa5d3afa",
   "metadata": {},
   "source": [
    "### unsqueeze: add a new dim to the tensor.  \n",
    "* For example, torch.unsqueeze(x, 0) can change the shape of a tensor from [3,4] to [1,3,4].\n",
    "* torch.unsqueeze(x, 1) can change the shape of a tensor from [2,3] to [2,1,3].\n",
    "* torch.unsqueeze(x, 2) can change the shape of a tensor from [2,3] to [2,3,1]."
   ]
  },
  {
   "cell_type": "code",
   "execution_count": 2,
   "id": "a02f8d7a",
   "metadata": {
    "ExecuteTime": {
     "end_time": "2022-03-28T21:45:14.458261Z",
     "start_time": "2022-03-28T21:45:14.451358Z"
    }
   },
   "outputs": [
    {
     "data": {
      "text/plain": [
       "(torch.Size([3, 4]),\n",
       " torch.Size([1, 3, 4]),\n",
       " torch.Size([3, 1, 4]),\n",
       " torch.Size([3, 4, 1]))"
      ]
     },
     "execution_count": 2,
     "metadata": {},
     "output_type": "execute_result"
    }
   ],
   "source": [
    "x = torch.tensor([[ 1,  2,  3,  4],\n",
    "                  [11, 12, 13, 14],\n",
    "                  [21, 22, 23, 24]])\n",
    "x.shape,  torch.unsqueeze(x, 0).shape,  torch.unsqueeze(x, 1).shape,  torch.unsqueeze(x, 2).shape"
   ]
  },
  {
   "cell_type": "markdown",
   "id": "e057647c",
   "metadata": {},
   "source": [
    "### broadcasting: prove a1 == a2, and b1 == b2"
   ]
  },
  {
   "cell_type": "code",
   "execution_count": 3,
   "id": "23d76a16",
   "metadata": {
    "ExecuteTime": {
     "end_time": "2022-03-28T21:45:14.550010Z",
     "start_time": "2022-03-28T21:45:14.459568Z"
    }
   },
   "outputs": [
    {
     "name": "stdout",
     "output_type": "stream",
     "text": [
      "True\n"
     ]
    },
    {
     "data": {
      "text/plain": [
       "tensor([[[ 2,  4,  6],\n",
       "         [ 5,  7,  9],\n",
       "         [ 8, 10, 12]],\n",
       "\n",
       "        [[ 4,  6,  8],\n",
       "         [ 7,  9, 11],\n",
       "         [10, 12, 14]]])"
      ]
     },
     "execution_count": 3,
     "metadata": {},
     "output_type": "execute_result"
    }
   ],
   "source": [
    "a1 = torch.tensor(\n",
    "    [[[1, 2, 3]],\n",
    "     [[3, 4, 5]]]) \n",
    "a2 = torch.tensor(\n",
    "    [[[1, 2, 3],\n",
    "      [1, 2, 3],\n",
    "      [1, 2, 3]],\n",
    "     [[3, 4, 5],\n",
    "      [3, 4, 5],\n",
    "      [3, 4, 5]], \n",
    "    ])  \n",
    "b1 = torch.tensor(\n",
    "    [[[1, 2, 3],\n",
    "      [4, 5, 6],\n",
    "      [7, 8, 9]]]) \n",
    "b2 = torch.tensor(\n",
    "    [[[1, 2, 3],\n",
    "      [4, 5, 6],\n",
    "      [7, 8, 9]],\n",
    "     [[1, 2, 3],\n",
    "      [4, 5, 6],\n",
    "      [7, 8, 9]]])\n",
    "\n",
    "print(torch.equal(a1 + b1, a2 + b2))\n",
    "a1 + b1"
   ]
  },
  {
   "cell_type": "markdown",
   "id": "e717b5b1",
   "metadata": {},
   "source": [
    "### Construction of a custom Dataset "
   ]
  },
  {
   "cell_type": "code",
   "execution_count": 4,
   "id": "e72d7546",
   "metadata": {
    "ExecuteTime": {
     "end_time": "2022-03-28T21:45:14.694826Z",
     "start_time": "2022-03-28T21:45:14.551904Z"
    }
   },
   "outputs": [
    {
     "name": "stdout",
     "output_type": "stream",
     "text": [
      "[[('a', 'b', 'c', 'd'), ('0', '1', '2', '3')], [('e', 'f', 'g', 'h'), ('4', '5', '6', '7')], [('i', 'j'), ('8', '9')]]\n"
     ]
    }
   ],
   "source": [
    "from torch.utils.data import IterableDataset, DataLoader\n",
    "class MyIterableDataset(IterableDataset):  \n",
    "    def __iter__(self):  \n",
    "        return iter([(j,str(i)) for i,j in enumerate('abcdefghij')]) \n",
    "\n",
    "print(list(DataLoader(MyIterableDataset(), batch_size=4)))"
   ]
  }
 ],
 "metadata": {
  "kernelspec": {
   "display_name": "Python 3 (ipykernel)",
   "language": "python",
   "name": "python3"
  },
  "language_info": {
   "codemirror_mode": {
    "name": "ipython",
    "version": 3
   },
   "file_extension": ".py",
   "mimetype": "text/x-python",
   "name": "python",
   "nbconvert_exporter": "python",
   "pygments_lexer": "ipython3",
   "version": "3.8.12"
  },
  "toc": {
   "base_numbering": 1,
   "nav_menu": {},
   "number_sections": true,
   "sideBar": true,
   "skip_h1_title": false,
   "title_cell": "Table of Contents",
   "title_sidebar": "Contents",
   "toc_cell": false,
   "toc_position": {},
   "toc_section_display": true,
   "toc_window_display": false
  }
 },
 "nbformat": 4,
 "nbformat_minor": 5
}
