{
 "cells": [
  {
   "cell_type": "markdown",
   "metadata": {},
   "source": [
    "$$\n",
    "\\text{Log\\_Softmax}(x_{i}) = \\log\\left(\\frac{\\exp(x_i) }{ \\sum_j \\exp(x_j)} \\right) = x_{i} - \\log (\\sum_j\\exp(x_j))\n",
    "$$"
   ]
  },
  {
   "cell_type": "code",
   "execution_count": 1,
   "metadata": {},
   "outputs": [],
   "source": [
    "import torch, numpy as np, math\n",
    "def log_softmax(x):\n",
    "    LOG_SUM_EXP = [np.log(sum([np.exp(j) for j in row]))\n",
    "                                               for row in x]\n",
    "    return [[j-lse for j in row] for row, lse in zip(x, LOG_SUM_EXP)]\n",
    "\n",
    "def negative_log_likelihood(x, target):\n",
    "    lsm = log_softmax(x)\n",
    "    return -1 * np.mean([prob_dist[idx] for prob_dist, idx in zip(lsm, target)])"
   ]
  },
  {
   "cell_type": "code",
   "execution_count": 2,
   "metadata": {},
   "outputs": [
    {
     "name": "stdout",
     "output_type": "stream",
     "text": [
      "With PyTorch API: tensor(2.8550)\n",
      "With Numpy: 2.855026960372925\n"
     ]
    }
   ],
   "source": [
    "x = torch.Tensor([     # Each row is a probabilistic distribution.\n",
    "  [ +0.8, +0.3, -0.6], # Red +0.8, Blue +0.3, Green -0.6\n",
    "  [ -0.4, +0.1, -0.4], # Red -0.4, Blue +0.1, Green -0.4\n",
    "  [ +0.9, -1.3, +3.9]] # Red +0.9, Blue -1.3, Green +3.9\n",
    ")\n",
    "target = torch.LongTensor([2, 0, 1])\n",
    "\n",
    "print('With PyTorch API:', torch.nn.functional.cross_entropy(x, target))\n",
    "print('With Numpy:', negative_log_likelihood(x, target))"
   ]
  },
  {
   "cell_type": "markdown",
   "metadata": {},
   "source": [
    "The above but in pytorch."
   ]
  }
 ],
 "metadata": {
  "_draft": {
   "nbviewer_url": "https://gist.github.com/217dcc6ae9171d7a46ce42e215c1fee0"
  },
  "gist": {
   "data": {
    "description": "Cross entropy implementation in pytorch",
    "public": true
   },
   "id": "217dcc6ae9171d7a46ce42e215c1fee0"
  },
  "kernelspec": {
   "display_name": "Python 3 (ipykernel)",
   "language": "python",
   "name": "python3"
  },
  "language_info": {
   "codemirror_mode": {
    "name": "ipython",
    "version": 3
   },
   "file_extension": ".py",
   "mimetype": "text/x-python",
   "name": "python",
   "nbconvert_exporter": "python",
   "pygments_lexer": "ipython3",
   "version": "3.10.14"
  },
  "toc": {
   "base_numbering": 1,
   "nav_menu": {},
   "number_sections": true,
   "sideBar": true,
   "skip_h1_title": false,
   "title_cell": "Table of Contents",
   "title_sidebar": "Contents",
   "toc_cell": false,
   "toc_position": {},
   "toc_section_display": true,
   "toc_window_display": false
  }
 },
 "nbformat": 4,
 "nbformat_minor": 4
}
