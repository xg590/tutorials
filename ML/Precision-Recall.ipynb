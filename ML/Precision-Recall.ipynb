{
 "cells": [
  {
   "cell_type": "markdown",
   "id": "58aecc23",
   "metadata": {},
   "source": [
    "## Let's Draw a 2-class Precision-Recall curve without the help of sklearn\n",
    "* We better to write our own code to plot Precision-Recall curve, in order to learn the concept of Precision and Recall. \n",
    "1. First, we do a simulation and get a series of predicted values (discrete floats).\n",
    "2. Compare predicted values against a self-specified threshold so we know the True or False result.\n",
    "3. We can plot a curve along the varying threshold value. "
   ]
  },
  {
   "cell_type": "markdown",
   "id": "565fed88",
   "metadata": {},
   "source": [
    "### Prepare a dataset"
   ]
  },
  {
   "cell_type": "code",
   "execution_count": 1,
   "id": "f926d1fb",
   "metadata": {
    "ExecuteTime": {
     "end_time": "2022-03-14T05:03:23.299644Z",
     "start_time": "2022-03-14T05:03:23.019548Z"
    }
   },
   "outputs": [],
   "source": [
    "import numpy as np\n",
    "from sklearn.datasets import load_iris\n",
    "from sklearn.model_selection import train_test_split\n",
    "\n",
    "X, y = load_iris(return_X_y=True)\n",
    "\n",
    "# Add noisy features\n",
    "random_state = np.random.RandomState(0)\n",
    "n_samples, n_features = X.shape\n",
    "X = np.concatenate([X, random_state.randn(n_samples, 200 * n_features)], axis=1)\n",
    "\n",
    "# Limit to the two first classes, and split into training and test\n",
    "X_train, X_test, y_train, y_test = train_test_split(\n",
    "    X[y < 2], y[y < 2], test_size=0.5, random_state=random_state\n",
    ")"
   ]
  },
  {
   "cell_type": "markdown",
   "id": "28586abf",
   "metadata": {},
   "source": [
    "### Train a model "
   ]
  },
  {
   "cell_type": "code",
   "execution_count": 2,
   "id": "7fd02ec9",
   "metadata": {
    "ExecuteTime": {
     "end_time": "2022-03-14T05:03:23.324427Z",
     "start_time": "2022-03-14T05:03:23.301016Z"
    }
   },
   "outputs": [
    {
     "data": {
      "text/plain": [
       "Pipeline(steps=[('standardscaler', StandardScaler()),\n",
       "                ('linearsvc',\n",
       "                 LinearSVC(random_state=RandomState(MT19937) at 0x7F98596E3640))])"
      ]
     },
     "execution_count": 2,
     "metadata": {},
     "output_type": "execute_result"
    }
   ],
   "source": [
    "from sklearn.pipeline import make_pipeline\n",
    "from sklearn.preprocessing import StandardScaler\n",
    "from sklearn.svm import LinearSVC\n",
    "\n",
    "classifier = make_pipeline(StandardScaler(), LinearSVC(random_state=random_state))\n",
    "classifier.fit(X_train, y_train)"
   ]
  },
  {
   "cell_type": "markdown",
   "id": "4111b0c4",
   "metadata": {},
   "source": [
    "### Do a prediction on test data"
   ]
  },
  {
   "cell_type": "code",
   "execution_count": 3,
   "id": "2116cc0a",
   "metadata": {
    "ExecuteTime": {
     "end_time": "2022-03-14T05:03:23.365903Z",
     "start_time": "2022-03-14T05:03:23.325524Z"
    }
   },
   "outputs": [],
   "source": [
    "y_score = classifier.decision_function(X_test)"
   ]
  },
  {
   "cell_type": "markdown",
   "id": "a383a2d5",
   "metadata": {
    "ExecuteTime": {
     "end_time": "2022-03-14T04:49:46.838294Z",
     "start_time": "2022-03-14T04:49:46.283858Z"
    }
   },
   "source": [
    "### See what the predicted values on test data are and what the target values are"
   ]
  },
  {
   "cell_type": "code",
   "execution_count": 4,
   "id": "0ebbe99e",
   "metadata": {
    "ExecuteTime": {
     "end_time": "2022-03-14T05:03:23.430362Z",
     "start_time": "2022-03-14T05:03:23.370385Z"
    }
   },
   "outputs": [
    {
     "name": "stdout",
     "output_type": "stream",
     "text": [
      "Predicted values: [-0.21736253  0.28300038  0.13879677  0.25557895  0.32631246 -0.2198405\n",
      " -0.22550512 -0.32917314  0.1449939  -0.35314629 -0.11165123 -0.2114602\n",
      " -0.23500545  0.06758177  0.14505398 -0.23934034  0.10577297  0.02331338\n",
      " -0.09398889 -0.36296952  0.30076248 -0.25183848 -0.5935314   0.28837567\n",
      "  0.03077492 -0.129376    0.4713946   0.39266782 -0.63225961 -0.49417368\n",
      " -0.1533131   0.01370612 -0.49182613  0.26367214 -0.15586916  0.08190372\n",
      " -0.08637947 -0.25401514 -0.09055313 -0.43912955  0.0590284   0.04677897\n",
      " -0.04442745  0.46748089 -0.40801764  0.29314473  0.22743277 -0.06617729\n",
      " -0.00353831  0.00895841]\n",
      "Target values: [1 1 1 1 1 0 1 0 1 0 0 1 0 0 1 0 0 0 1 0 1 0 0 1 1 1 1 1 0 0 0 1 0 1 0 1 0\n",
      " 0 0 0 1 1 1 1 0 1 1 0 1 0]\n"
     ]
    }
   ],
   "source": [
    "print('Predicted values:', y_score)\n",
    "print('Target values:', y_test)"
   ]
  },
  {
   "cell_type": "markdown",
   "id": "6e5a833a",
   "metadata": {},
   "source": [
    "### OK, let's see what Precision rate and Recall rate are if the threshold is 0.1"
   ]
  },
  {
   "cell_type": "code",
   "execution_count": 5,
   "id": "38185841",
   "metadata": {
    "ExecuteTime": {
     "end_time": "2022-03-14T05:03:23.477457Z",
     "start_time": "2022-03-14T05:03:23.431452Z"
    }
   },
   "outputs": [
    {
     "name": "stdout",
     "output_type": "stream",
     "text": [
      "{ \"P\":0.933, \"R\":0.538 }\n"
     ]
    }
   ],
   "source": [
    "thres = 0.1\n",
    "predicted = [1 if i > thres else 0 for i in y_score]   \n",
    "Tp = [ 1 if i==1 and j==1 else 0 for i, j in zip(y_test, predicted)] \n",
    "Fp = [ 1 if i==0 and j==1 else 0 for i, j in zip(y_test, predicted)] \n",
    "Fn = [ 1 if i==1 and j==0 else 0 for i, j in zip(y_test, predicted)] \n",
    "#print(Tp)\n",
    "P = sum(Tp) / (sum(Tp) + sum(Fp))\n",
    "R = sum(Tp) / (sum(Tp) + sum(Fn))\n",
    "print(f'{{ \"P\":{P:.3f}, \"R\":{R:.3f} }}')"
   ]
  },
  {
   "cell_type": "markdown",
   "id": "db915ee7",
   "metadata": {},
   "source": [
    "### Let's vary the threshold between maximum and minimum y_score and plot the curve"
   ]
  },
  {
   "cell_type": "code",
   "execution_count": 6,
   "id": "6e3a87ae",
   "metadata": {
    "ExecuteTime": {
     "end_time": "2022-03-14T05:03:24.162476Z",
     "start_time": "2022-03-14T05:03:23.478618Z"
    }
   },
   "outputs": [
    {
     "data": {
      "text/plain": [
       "[<matplotlib.lines.Line2D at 0x7f985535e970>]"
      ]
     },
     "execution_count": 6,
     "metadata": {},
     "output_type": "execute_result"
    },
    {
     "data": {
      "image/png": "[encoded data removed]",
      "text/plain": [
       "<Figure size 432x288 with 1 Axes>"
      ]
     },
     "metadata": {
      "needs_background": "light"
     },
     "output_type": "display_data"
    }
   ],
   "source": [
    "import matplotlib.pyplot as plt\n",
    "x = []\n",
    "y = []\n",
    "pts = 1000 # We want 1000 point in the curve\n",
    "step = (max(y_score)-min(y_score))/pts\n",
    "mini = min(y_score)\n",
    "for i in range(pts):\n",
    "    thres = mini + step * i  \n",
    "    predicted = [1 if i > thres else 0 for i in y_score]  \n",
    "    #print(predicted)\n",
    "    #print(y_test)\n",
    "    Tp = [ 1 if i==1 and j==1 else 0 for i, j in zip(y_test, predicted)] \n",
    "    Fp = [ 1 if i==0 and j==1 else 0 for i, j in zip(y_test, predicted)] \n",
    "    Fn = [ 1 if i==1 and j==0 else 0 for i, j in zip(y_test, predicted)] \n",
    "    #print(Tp)\n",
    "    P = sum(Tp) / (sum(Tp) + sum(Fp))\n",
    "    R = sum(Tp) / (sum(Tp) + sum(Fn))\n",
    "    x.append(R)\n",
    "    y.append(P) \n",
    "plt.ylim(0.67, 1.03)\n",
    "plt.plot(x,y)"
   ]
  },
  {
   "cell_type": "markdown",
   "id": "77543c2b",
   "metadata": {},
   "source": [
    "### See what if we use stock function"
   ]
  },
  {
   "cell_type": "code",
   "execution_count": 7,
   "id": "9c242181",
   "metadata": {
    "ExecuteTime": {
     "end_time": "2022-03-14T05:03:24.254379Z",
     "start_time": "2022-03-14T05:03:24.164663Z"
    }
   },
   "outputs": [
    {
     "data": {
      "image/png": "[encoded data removed]",
      "text/plain": [
       "<Figure size 432x288 with 1 Axes>"
      ]
     },
     "metadata": {
      "needs_background": "light"
     },
     "output_type": "display_data"
    }
   ],
   "source": [
    "from sklearn.metrics import PrecisionRecallDisplay\n",
    "\n",
    "display = PrecisionRecallDisplay.from_estimator(\n",
    "    classifier, X_test, y_test, name=\"LinearSVC\"\n",
    ")\n",
    "_ = display.ax_.set_title(\"2-class Precision-Recall curve\")"
   ]
  },
  {
   "cell_type": "markdown",
   "id": "9b95c3ac",
   "metadata": {},
   "source": [
    " ### Precision-Recall Metric\n",
    " * 用于评价classifier\n",
    " * Precision 评估假阳性(假当真)跟真阳性的比率 P = Tp/(Tp+Fp)，Recall评估假阴性(真当假)跟真阳性的比率 R = Tp/(Tp+Fn).\n",
    " * 高Precision意味着低假阳性，但可能因为与之过高把针阳性的都被当阴性了，这就导致大量出现假阴性，换句话说，牺牲阳性结果，让假阳性变少，如果出现这种情况，则Recall变低。\n",
    " * 最好是高Precision的同时，被判为阴性的例子真的都是阴性，不出现假阴性。 "
   ]
  }
 ],
 "metadata": {
  "kernelspec": {
   "display_name": "Python 3 (ipykernel)",
   "language": "python",
   "name": "python3"
  },
  "language_info": {
   "codemirror_mode": {
    "name": "ipython",
    "version": 3
   },
   "file_extension": ".py",
   "mimetype": "text/x-python",
   "name": "python",
   "nbconvert_exporter": "python",
   "pygments_lexer": "ipython3",
   "version": "3.8.12"
  }
 },
 "nbformat": 4,
 "nbformat_minor": 5
}
