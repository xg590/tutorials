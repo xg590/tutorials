{
 "cells": [
  {
   "cell_type": "code",
   "execution_count": 1,
   "id": "79023d06",
   "metadata": {
    "ExecuteTime": {
     "end_time": "2022-03-31T07:48:51.845177Z",
     "start_time": "2022-03-31T07:48:51.463997Z"
    }
   },
   "outputs": [],
   "source": [
    "import torch\n",
    "a = torch.tensor([[0.,1.,2.,3.,4.],\n",
    "                  [0.,2.,4.,6.,8.]]) "
   ]
  },
  {
   "cell_type": "markdown",
   "id": "d9b1844d",
   "metadata": {},
   "source": [
    "### $L_p$  normalization\n",
    "* <span style=\"font-size:1.5em\">$ \\upsilon = \\frac{\\upsilon}{max(||\\upsilon||_p, \\epsilon)}$<span> "
   ]
  },
  {
   "cell_type": "code",
   "execution_count": 2,
   "id": "13379c41",
   "metadata": {
    "ExecuteTime": {
     "end_time": "2022-03-31T07:48:51.853669Z",
     "start_time": "2022-03-31T07:48:51.846482Z"
    }
   },
   "outputs": [
    {
     "data": {
      "text/plain": [
       "tensor([[0.0000, 0.3333, 0.3333, 0.3333, 0.3333],\n",
       "        [0.0000, 0.6667, 0.6667, 0.6667, 0.6667]])"
      ]
     },
     "execution_count": 2,
     "metadata": {},
     "output_type": "execute_result"
    }
   ],
   "source": [
    "torch.nn.functional.normalize(a, p=1.0, dim=0, eps=1e-12)"
   ]
  },
  {
   "cell_type": "code",
   "execution_count": 3,
   "id": "192db8a8",
   "metadata": {
    "ExecuteTime": {
     "end_time": "2022-03-31T07:48:51.917201Z",
     "start_time": "2022-03-31T07:48:51.854590Z"
    }
   },
   "outputs": [
    {
     "data": {
      "text/plain": [
       "tensor([[0.0000, 0.1826, 0.3651, 0.5477, 0.7303],\n",
       "        [0.0000, 0.1826, 0.3651, 0.5477, 0.7303]])"
      ]
     },
     "execution_count": 3,
     "metadata": {},
     "output_type": "execute_result"
    }
   ],
   "source": [
    "torch.nn.functional.normalize(a, p=2.0, dim=1, eps=1e-12)"
   ]
  },
  {
   "cell_type": "markdown",
   "id": "75a81d9b",
   "metadata": {},
   "source": [
    "### z-score normalization\n",
    "* mean $ \\mu = \\frac{1}{N} \\sum_{i=1}^N x_i $\n",
    "* standard deviation $ \\sigma = \\sqrt{\\frac{1}{N} \\sum_{i=1}^N(x_i-\\mu)^2}$"
   ]
  },
  {
   "cell_type": "code",
   "execution_count": 4,
   "id": "2b1bb1a5",
   "metadata": {
    "ExecuteTime": {
     "end_time": "2022-03-31T07:48:51.973330Z",
     "start_time": "2022-03-31T07:48:51.918545Z"
    }
   },
   "outputs": [
    {
     "data": {
      "text/plain": [
       "(tensor(3.), tensor(2.4495))"
      ]
     },
     "execution_count": 4,
     "metadata": {},
     "output_type": "execute_result"
    }
   ],
   "source": [
    "a.mean(), a.std(unbiased=False)"
   ]
  },
  {
   "cell_type": "markdown",
   "id": "5e7bc5f7",
   "metadata": {},
   "source": [
    "### Batch Normalization\n",
    "\n",
    "The technique consists of adding an operation in the model just before the activation function of each layer, simply zero-centering and normalizing the inputs, then scaling and shifting the result using two new parameters per layer (one for scaling, the other for shifting). In other words, this operation lets the model learn the optimal scale and mean of the inputs for each layer.<br>\n",
    "<span style=\"font-size:1.5em\">$y=\\frac{x-\\mu}{\\sqrt{\\sigma^2+\\epsilon}}*\\gamma+\\beta $</span>, where $\\gamma=weigh, \\beta=bias$"
   ]
  },
  {
   "cell_type": "code",
   "execution_count": 5,
   "id": "c5e158a8",
   "metadata": {
    "ExecuteTime": {
     "end_time": "2022-03-31T07:48:52.032514Z",
     "start_time": "2022-03-31T07:48:51.980281Z"
    }
   },
   "outputs": [
    {
     "data": {
      "text/plain": [
       "(Parameter containing:\n",
       " tensor([1., 1., 1., 1., 1.], requires_grad=True),\n",
       " Parameter containing:\n",
       " tensor([0., 0., 0., 0., 0.], requires_grad=True),\n",
       " 1e-05)"
      ]
     },
     "execution_count": 5,
     "metadata": {},
     "output_type": "execute_result"
    }
   ],
   "source": [
    "n = torch.nn.BatchNorm1d(5, affine=True) \n",
    "n.weight, n.bias, n.eps"
   ]
  },
  {
   "cell_type": "markdown",
   "id": "11a3546e",
   "metadata": {},
   "source": [
    "When affine = False, $\\gamma=1, \\beta=0$"
   ]
  },
  {
   "cell_type": "code",
   "execution_count": 6,
   "id": "b41542a9",
   "metadata": {
    "ExecuteTime": {
     "end_time": "2022-03-31T07:48:52.088658Z",
     "start_time": "2022-03-31T07:48:52.037484Z"
    }
   },
   "outputs": [
    {
     "data": {
      "text/plain": [
       "(None, None, 1e-05)"
      ]
     },
     "execution_count": 6,
     "metadata": {},
     "output_type": "execute_result"
    }
   ],
   "source": [
    "n = torch.nn.BatchNorm1d(5, affine=False)\n",
    "n.weight, n.bias, n.eps"
   ]
  },
  {
   "cell_type": "markdown",
   "id": "993e098d",
   "metadata": {},
   "source": [
    "Write myBatchNorm1d"
   ]
  },
  {
   "cell_type": "code",
   "execution_count": 7,
   "id": "f782c1f5",
   "metadata": {
    "ExecuteTime": {
     "end_time": "2022-03-31T07:48:52.145993Z",
     "start_time": "2022-03-31T07:48:52.093214Z"
    }
   },
   "outputs": [],
   "source": [
    "import copy\n",
    "def myBatchNorm1d(x, eps=1e-5, alt=False):\n",
    "    y = copy.deepcopy(x)\n",
    "    \n",
    "    if alt:  \n",
    "        for i in range(x.size(1)):  \n",
    "            y[:,i] = (y[:,i]-y[:,i].flatten().mean(dim=0)) / torch.sqrt(y[:,i].flatten().var(dim=0, unbiased=False)+eps)\n",
    "        return y\n",
    "    \n",
    "    if len(x.shape) == 2:\n",
    "        mean     = x.mean(dim=0)\n",
    "        variance = x.var(dim=0, unbiased=False) \n",
    "        \n",
    "    elif len(x.shape) == 3:  \n",
    "        y        = copy.deepcopy(x)  \n",
    "        size     = y.size(1)\n",
    "        mean     = []\n",
    "        variance = []\n",
    "        for i in range(size):\n",
    "            mean.    append(y[:,i].flatten().mean(dim=0                ))\n",
    "            variance.append(y[:,i].flatten().var (dim=0, unbiased=False)) \n",
    "        mean     = torch.tensor(mean).    view(1,size,1)\n",
    "        variance = torch.tensor(variance).view(1,size,1) \n",
    "        \n",
    "    return (x -  mean) / torch.sqrt(variance + eps)  "
   ]
  },
  {
   "cell_type": "code",
   "execution_count": 8,
   "id": "362aa01e",
   "metadata": {
    "ExecuteTime": {
     "end_time": "2022-03-31T07:48:52.231787Z",
     "start_time": "2022-03-31T07:48:52.150416Z"
    }
   },
   "outputs": [
    {
     "data": {
      "text/plain": [
       "tensor([[ 0.1442,  0.4105,  0.6274],\n",
       "        [ 0.8856, -0.9661, -1.6301],\n",
       "        [-1.7968, -0.9024,  0.3107],\n",
       "        [-0.1961,  1.7342,  1.2441],\n",
       "        [ 0.9631, -0.2762, -0.5520]])"
      ]
     },
     "execution_count": 8,
     "metadata": {},
     "output_type": "execute_result"
    }
   ],
   "source": [
    "x = torch.randn(5, 3)  \n",
    "torch.nn.BatchNorm1d(3, affine=False)(x)  "
   ]
  },
  {
   "cell_type": "code",
   "execution_count": 9,
   "id": "2e4810e2",
   "metadata": {
    "ExecuteTime": {
     "end_time": "2022-03-31T07:48:52.276147Z",
     "start_time": "2022-03-31T07:48:52.232774Z"
    },
    "scrolled": true
   },
   "outputs": [
    {
     "data": {
      "text/plain": [
       "tensor([[ 0.1442,  0.4105,  0.6274],\n",
       "        [ 0.8856, -0.9661, -1.6301],\n",
       "        [-1.7968, -0.9024,  0.3107],\n",
       "        [-0.1961,  1.7342,  1.2441],\n",
       "        [ 0.9631, -0.2762, -0.5520]])"
      ]
     },
     "execution_count": 9,
     "metadata": {},
     "output_type": "execute_result"
    }
   ],
   "source": [
    "myBatchNorm1d(x)"
   ]
  },
  {
   "cell_type": "code",
   "execution_count": 10,
   "id": "b6797da0",
   "metadata": {
    "ExecuteTime": {
     "end_time": "2022-03-31T07:48:52.342938Z",
     "start_time": "2022-03-31T07:48:52.277523Z"
    }
   },
   "outputs": [
    {
     "data": {
      "text/plain": [
       "tensor([[[-0.8772,  1.1360, -0.0671,  1.3436],\n",
       "         [ 1.2556, -1.5223, -0.1683, -1.3121],\n",
       "         [ 1.2650,  1.2685, -1.5419,  0.0619]],\n",
       "\n",
       "        [[-0.7943,  1.0723, -0.3127, -1.5005],\n",
       "         [ 1.3729, -0.1166,  0.6561, -0.1653],\n",
       "         [-0.5979, -0.5692, -0.8709,  0.9845]]])"
      ]
     },
     "execution_count": 10,
     "metadata": {},
     "output_type": "execute_result"
    }
   ],
   "source": [
    "x = torch.randn(2, 3, 4)    \n",
    "torch.nn.BatchNorm1d(3, affine=False)(x)  "
   ]
  },
  {
   "cell_type": "code",
   "execution_count": 11,
   "id": "5ac6c150",
   "metadata": {
    "ExecuteTime": {
     "end_time": "2022-03-31T07:48:52.385081Z",
     "start_time": "2022-03-31T07:48:52.356226Z"
    }
   },
   "outputs": [
    {
     "data": {
      "text/plain": [
       "tensor([[[-0.8772,  1.1360, -0.0671,  1.3436],\n",
       "         [ 1.2556, -1.5223, -0.1683, -1.3121],\n",
       "         [ 1.2650,  1.2685, -1.5419,  0.0619]],\n",
       "\n",
       "        [[-0.7943,  1.0723, -0.3127, -1.5005],\n",
       "         [ 1.3729, -0.1166,  0.6561, -0.1653],\n",
       "         [-0.5979, -0.5692, -0.8709,  0.9845]]])"
      ]
     },
     "execution_count": 11,
     "metadata": {},
     "output_type": "execute_result"
    }
   ],
   "source": [
    " myBatchNorm1d(x)"
   ]
  },
  {
   "cell_type": "code",
   "execution_count": 12,
   "id": "284342cc",
   "metadata": {
    "ExecuteTime": {
     "end_time": "2022-03-31T07:48:52.434331Z",
     "start_time": "2022-03-31T07:48:52.386413Z"
    }
   },
   "outputs": [
    {
     "data": {
      "text/plain": [
       "tensor([[[-0.8772,  1.1360, -0.0671,  1.3436],\n",
       "         [ 1.2556, -1.5223, -0.1683, -1.3121],\n",
       "         [ 1.2650,  1.2685, -1.5419,  0.0619]],\n",
       "\n",
       "        [[-0.7943,  1.0723, -0.3127, -1.5005],\n",
       "         [ 1.3729, -0.1166,  0.6561, -0.1653],\n",
       "         [-0.5979, -0.5692, -0.8709,  0.9845]]])"
      ]
     },
     "execution_count": 12,
     "metadata": {},
     "output_type": "execute_result"
    }
   ],
   "source": [
    " myBatchNorm1d(x, alt=True)"
   ]
  }
 ],
 "metadata": {
  "kernelspec": {
   "display_name": "Python 3 (ipykernel)",
   "language": "python",
   "name": "python3"
  },
  "language_info": {
   "codemirror_mode": {
    "name": "ipython",
    "version": 3
   },
   "file_extension": ".py",
   "mimetype": "text/x-python",
   "name": "python",
   "nbconvert_exporter": "python",
   "pygments_lexer": "ipython3",
   "version": "3.8.12"
  },
  "toc": {
   "base_numbering": 1,
   "nav_menu": {},
   "number_sections": true,
   "sideBar": true,
   "skip_h1_title": false,
   "title_cell": "Table of Contents",
   "title_sidebar": "Contents",
   "toc_cell": false,
   "toc_position": {},
   "toc_section_display": true,
   "toc_window_display": false
  }
 },
 "nbformat": 4,
 "nbformat_minor": 5
}
