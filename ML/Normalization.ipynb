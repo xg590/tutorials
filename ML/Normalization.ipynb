{
 "cells": [
  {
   "cell_type": "code",
   "execution_count": 1,
   "id": "79023d06",
   "metadata": {
    "ExecuteTime": {
     "end_time": "2022-03-27T09:57:10.017206Z",
     "start_time": "2022-03-27T09:57:09.636053Z"
    }
   },
   "outputs": [],
   "source": [
    "import torch\n",
    "a = torch.tensor([[0.,1.,2.,3.,4.],\n",
    "                  [0.,2.,4.,6.,8.]]) "
   ]
  },
  {
   "cell_type": "markdown",
   "id": "d9b1844d",
   "metadata": {},
   "source": [
    "### $L_p$  normalization\n",
    "* <span style=\"font-size:1.5em\">$ \\upsilon = \\frac{\\upsilon}{max(||\\upsilon||_p, \\epsilon)}$<span> "
   ]
  },
  {
   "cell_type": "code",
   "execution_count": 2,
   "id": "13379c41",
   "metadata": {
    "ExecuteTime": {
     "end_time": "2022-03-27T09:57:10.026538Z",
     "start_time": "2022-03-27T09:57:10.018564Z"
    }
   },
   "outputs": [
    {
     "data": {
      "text/plain": [
       "tensor([[0.0000, 0.3333, 0.3333, 0.3333, 0.3333],\n",
       "        [0.0000, 0.6667, 0.6667, 0.6667, 0.6667]])"
      ]
     },
     "execution_count": 2,
     "metadata": {},
     "output_type": "execute_result"
    }
   ],
   "source": [
    "torch.nn.functional.normalize(a, p=1.0, dim=0, eps=1e-12)"
   ]
  },
  {
   "cell_type": "code",
   "execution_count": 3,
   "id": "192db8a8",
   "metadata": {
    "ExecuteTime": {
     "end_time": "2022-03-27T09:57:10.079139Z",
     "start_time": "2022-03-27T09:57:10.027730Z"
    }
   },
   "outputs": [
    {
     "data": {
      "text/plain": [
       "tensor([[0.0000, 0.1826, 0.3651, 0.5477, 0.7303],\n",
       "        [0.0000, 0.1826, 0.3651, 0.5477, 0.7303]])"
      ]
     },
     "execution_count": 3,
     "metadata": {},
     "output_type": "execute_result"
    }
   ],
   "source": [
    "torch.nn.functional.normalize(a, p=2.0, dim=1, eps=1e-12)"
   ]
  },
  {
   "cell_type": "markdown",
   "id": "75a81d9b",
   "metadata": {},
   "source": [
    "### z-score normalization\n",
    "* mean $ \\mu = \\frac{1}{N} \\sum_{i=1}^N x_i $\n",
    "* standard deviation $ \\sigma = \\sqrt{\\frac{1}{N} \\sum_{i=1}^N(x_i-\\mu)^2}$"
   ]
  },
  {
   "cell_type": "code",
   "execution_count": 4,
   "id": "2b1bb1a5",
   "metadata": {
    "ExecuteTime": {
     "end_time": "2022-03-27T09:57:10.129293Z",
     "start_time": "2022-03-27T09:57:10.085017Z"
    }
   },
   "outputs": [
    {
     "data": {
      "text/plain": [
       "(tensor(3.), tensor(2.4495))"
      ]
     },
     "execution_count": 4,
     "metadata": {},
     "output_type": "execute_result"
    }
   ],
   "source": [
    "a.mean(), a.std(unbiased=False)"
   ]
  },
  {
   "cell_type": "markdown",
   "id": "5e7bc5f7",
   "metadata": {},
   "source": [
    "### Batch Normalization\n",
    "\n",
    "The technique consists of adding an operation in the model just before the activation function of each layer, simply zero-centering and normalizing the inputs, then scaling and shifting the result using two new parameters per layer (one for scaling, the other for shifting). In other words, this operation lets the model learn the optimal scale and mean of the inputs for each layer.<br>\n",
    "<span style=\"font-size:1.5em\">$y=\\frac{x-\\mu}{\\sqrt{\\sigma^2+\\epsilon}}*\\gamma+\\beta $</span>, where $\\gamma=weigh, \\beta=bias$"
   ]
  },
  {
   "cell_type": "code",
   "execution_count": 5,
   "id": "c5e158a8",
   "metadata": {
    "ExecuteTime": {
     "end_time": "2022-03-27T09:57:10.181103Z",
     "start_time": "2022-03-27T09:57:10.134054Z"
    }
   },
   "outputs": [
    {
     "data": {
      "text/plain": [
       "(Parameter containing:\n",
       " tensor([1., 1., 1., 1., 1.], requires_grad=True),\n",
       " Parameter containing:\n",
       " tensor([0., 0., 0., 0., 0.], requires_grad=True),\n",
       " 1e-05)"
      ]
     },
     "execution_count": 5,
     "metadata": {},
     "output_type": "execute_result"
    }
   ],
   "source": [
    "import torch\n",
    "import torch.nn as nn\n",
    "n = nn.BatchNorm1d(5, affine=True) \n",
    "n.weight, n.bias, n.eps"
   ]
  },
  {
   "cell_type": "markdown",
   "id": "11a3546e",
   "metadata": {},
   "source": [
    "When affine = False, $\\gamma=1, \\beta=0$"
   ]
  },
  {
   "cell_type": "code",
   "execution_count": 6,
   "id": "b41542a9",
   "metadata": {
    "ExecuteTime": {
     "end_time": "2022-03-27T09:57:10.237273Z",
     "start_time": "2022-03-27T09:57:10.185639Z"
    }
   },
   "outputs": [
    {
     "data": {
      "text/plain": [
       "(None, None, 1e-05)"
      ]
     },
     "execution_count": 6,
     "metadata": {},
     "output_type": "execute_result"
    }
   ],
   "source": [
    "n = nn.BatchNorm1d(5, affine=False)\n",
    "n.weight, n.bias, n.eps"
   ]
  }
 ],
 "metadata": {
  "kernelspec": {
   "display_name": "Python 3 (ipykernel)",
   "language": "python",
   "name": "python3"
  },
  "language_info": {
   "codemirror_mode": {
    "name": "ipython",
    "version": 3
   },
   "file_extension": ".py",
   "mimetype": "text/x-python",
   "name": "python",
   "nbconvert_exporter": "python",
   "pygments_lexer": "ipython3",
   "version": "3.8.12"
  }
 },
 "nbformat": 4,
 "nbformat_minor": 5
}
